{
 "cells": [
  {
   "cell_type": "markdown",
   "metadata": {
    "slideshow": {
     "slide_type": "slide"
    }
   },
   "source": [
    "(ch:recursivite)=\n",
    "# Récursivité\n",
    "\n",
    "Mis à jour : {sub-ref}`today`, lecture : {sub-ref}`wordcount-minutes`\n",
    "minutes minimum, PhL."
   ]
  },
  {
   "cell_type": "markdown",
   "metadata": {
    "slideshow": {
     "slide_type": "slide"
    }
   },
   "source": [
    "## Définitions et premiers exemples\n",
    "\n",
    "### Définition \n",
    "\n",
    "> Une construction est _récursive_ si elle se définit à partir d'elle même"
   ]
  },
  {
   "cell_type": "markdown",
   "metadata": {
    "slideshow": {
     "slide_type": "subslide"
    }
   },
   "source": [
    "  \n",
    "### Exemples de fonctions récursives\n",
    "\n",
    "* factorielle : $n ! = n \\times (n-1)!$\n",
    "* somme des $n$ premiers entiers : $s(n) = n + s(n-1)$\n",
    "* suite de Fibonaci : $f(n+1) = f(n) + f(n-1)$\n",
    "* suites récurrentes : $u_n = f(u_{n-1})$ ou $u_n = f(u_{n-1},u_{n-2},\\dots)$"
   ]
  },
  {
   "cell_type": "markdown",
   "metadata": {
    "slideshow": {
     "slide_type": "subslide"
    },
    "tags": []
   },
   "source": [
    "### Exemple de géométries récursives\n",
    "\n",
    "* segment et flocon de von Koch\n",
    "\n",
    "[segments]: fig/cinqsegmentsvk.jpg\n",
    "[flocons]: fig/cinqflocons.jpg\n",
    "\n",
    "![][segments]\n",
    "![][flocons]\n"
   ]
  },
  {
   "cell_type": "markdown",
   "metadata": {
    "slideshow": {
     "slide_type": "slide"
    }
   },
   "source": [
    "* triangle de Sierpinsky\n",
    "\n",
    "![sierpinsky](fig/sierpinsky.png)"
   ]
  },
  {
   "cell_type": "markdown",
   "metadata": {},
   "source": [
    "L'[annexe](ann:traceVK) présente comment tracer ces figures à l'aide du module [turtle](https://docs.python.org/fr/3/library/turtle.html)."
   ]
  },
  {
   "cell_type": "markdown",
   "metadata": {
    "slideshow": {
     "slide_type": "slide"
    }
   },
   "source": [
    "### Exemples de structures de données récursives\n",
    "\n",
    "* liste chaînée\n",
    "![liste](fig/listechainee.png)\n",
    "\n",
    "* arbre, arbre binaire\n",
    "![arbrebinaire](fig/arbrebinaire.jpg)"
   ]
  },
  {
   "cell_type": "markdown",
   "metadata": {
    "slideshow": {
     "slide_type": "subslide"
    }
   },
   "source": [
    "* application : arbre du code Morse (point, tiret)\n",
    "  ![codemorse](fig/morse-tree.png)  "
   ]
  },
  {
   "cell_type": "markdown",
   "metadata": {
    "slideshow": {
     "slide_type": "subslide"
    }
   },
   "source": [
    "  \n",
    "* application : représentation d'une expression\n",
    "  ![expression](fig/arbreexpression.jpg)   "
   ]
  },
  {
   "cell_type": "markdown",
   "metadata": {
    "slideshow": {
     "slide_type": "slide"
    }
   },
   "source": [
    "## Intérêts de la récursion\n",
    "\n",
    "### Avantage\n",
    "\n",
    "Une solution _algorithmique récursive_ est souvent plus simple, plus lisible, plus facile à prouver qu'une solution itérative\n",
    "\n",
    "  * exemple caractéristique : les tours de Hanoï (voir exercice de td)\n",
    "    ![](fig/hanoi1.jpg)"
   ]
  },
  {
   "cell_type": "markdown",
   "metadata": {
    "slideshow": {
     "slide_type": "fragment"
    }
   },
   "source": [
    " Animation de résolution :\n",
    " \n",
    " [Tower of Hanoi 4 par André Karwath (wikimediacommons)](https://upload.wikimedia.org/wikipedia/commons/6/60/Tower_of_Hanoi_4.gif)\n",
    "    "
   ]
  },
  {
   "cell_type": "markdown",
   "metadata": {
    "slideshow": {
     "slide_type": "subslide"
    }
   },
   "source": [
    "### Inconvénient\n",
    "\n",
    "L'_exécution_ de la solution récursive est plus compliquée\n",
    " * gestion d'une pile d'appels de fonctions : la pile d'exécution\n",
    "\n",
    "\n",
    "L'exécution de la solution récursive peut provoquer des débordements de la mémoire\n",
    "    "
   ]
  },
  {
   "cell_type": "markdown",
   "metadata": {
    "slideshow": {
     "slide_type": "slide"
    }
   },
   "source": [
    "### Paradigme **diviser pour régner**\n",
    "\n",
    ">  * On divise le problème en des _problèmes similaires_ de taille moindre, \n",
    ">  * et ce \"récursivement\" \n",
    ">  * jusqu'à obtenir un problème suffisamment simple ou de taille suffisamment petite pour le résoudre. "
   ]
  },
  {
   "cell_type": "markdown",
   "metadata": {
    "slideshow": {
     "slide_type": "slide"
    }
   },
   "source": [
    "1. Par \"récursivement\", on entend _répéter_ le découpage en des problèmes _similaires_ de taille de plus en plus réduite.\n",
    "2. Le \"problème suffisamment simple ou de taille suffisamment petite\" permet de _terminer_ ces découpages.\n",
    "    - Il fournit la première solution d'un problème similaire\n",
    "    - Cette solution est utilisée pour construire _successivement_ les problèmes issus des différentes étapes de découpage.\n",
    "3. Cette approche _diviser pour régner_ conduit à un algorithme récursif par construction !  \n",
    "    "
   ]
  },
  {
   "cell_type": "markdown",
   "metadata": {
    "slideshow": {
     "slide_type": "slide"
    }
   },
   "source": [
    "Exemples caractéristiques d'algorithmes _diviser pour régner_ dont on connaît déjà des versions itératives.\n",
    "\n",
    "- recherche dichotomique dans un ensemble trié\n",
    "- exponentiation (dite) rapide :  \n",
    "    - $x^{2p} = (x^p)^2$ et \n",
    "    - $x^{2p+1} = x \\times (x^p)^2$\n",
    "    \n",
    "Dans ces 2 exemples, chaque étape découpe en 2 moitiés (ou presque) le problème initial. "
   ]
  },
  {
   "cell_type": "markdown",
   "metadata": {
    "slideshow": {
     "slide_type": "slide"
    }
   },
   "source": [
    "## Fonctions numériques récursives\n",
    "\n",
    "Une définition, deux écritures équivalentes \n",
    "\n",
    "* **forme itérative**\n",
    "\n",
    "$n ! = 1 \\times 2 \\times \\dots \\times (n-1) \\times n$\n",
    "\n",
    "* **forme récursive**\n",
    "\n",
    "$n ! = n \\times (n-1) ! \\textbf{ avec }  0! = 1$\n",
    "\n",
    "Remarque : ces définitions ont un sens pour $n>0$. La valeur de $0!$ doit être définie de façon supplémentaire. "
   ]
  },
  {
   "cell_type": "markdown",
   "metadata": {},
   "source": [
    "```{warning} \n",
    "Bien différencier en quoi ces 2 écritures sont différentes.\n",
    "```"
   ]
  },
  {
   "cell_type": "markdown",
   "metadata": {
    "slideshow": {
     "slide_type": "slide"
    }
   },
   "source": [
    "### Factorielle : forme itérative"
   ]
  },
  {
   "cell_type": "code",
   "execution_count": 1,
   "metadata": {
    "slideshow": {
     "slide_type": "fragment"
    }
   },
   "outputs": [],
   "source": [
    "def f(n : int) -> int:\n",
    "    \"\"\"Calcul de factorielle n -- version itérative\n",
    "    entrée : n >= 0\n",
    "    sortie n!\n",
    "    \"\"\"\n",
    "    res = 1\n",
    "    for i in range(2,n+1):\n",
    "        res = res * i\n",
    "    return res"
   ]
  },
  {
   "cell_type": "code",
   "execution_count": 2,
   "metadata": {
    "slideshow": {
     "slide_type": "fragment"
    }
   },
   "outputs": [
    {
     "name": "stdout",
     "output_type": "stream",
     "text": [
      "3! = 6\n",
      "1! = 1\n"
     ]
    }
   ],
   "source": [
    "print(\"3! =\", f(3))\n",
    "print(\"1! =\", f(1))"
   ]
  },
  {
   "cell_type": "code",
   "execution_count": 3,
   "metadata": {
    "slideshow": {
     "slide_type": "fragment"
    }
   },
   "outputs": [
    {
     "name": "stdout",
     "output_type": "stream",
     "text": [
      "0! = 1\n",
      "-3! = 1\n"
     ]
    }
   ],
   "source": [
    "# bien que non défini a priori\n",
    "print(\"0! =\", f(0))\n",
    "# et même n'importe quoi !\n",
    "print(\"-3! =\", f(-3))"
   ]
  },
  {
   "cell_type": "markdown",
   "metadata": {
    "slideshow": {
     "slide_type": "fragment"
    }
   },
   "source": [
    "```{warning}\n",
    "ATTENTION : il faudrait **vérifier la validité du paramètre effectif**\n",
    "```"
   ]
  },
  {
   "cell_type": "markdown",
   "metadata": {
    "slideshow": {
     "slide_type": "subslide"
    }
   },
   "source": [
    "#### Exercice\n",
    "\n",
    "* pourquoi ?\n",
    "* comment ?"
   ]
  },
  {
   "cell_type": "markdown",
   "metadata": {
    "slideshow": {
     "slide_type": "subslide"
    }
   },
   "source": [
    "```{dropdown} \n",
    "Une pré-condition exprimée avec un `assert` permet de garantir que l'_appel_ de la fonction s'effectue selon les hypothèses de son écriture : ici $n >= 0$.\n",
    "\n",
    "````python\n",
    "def f(n : int) -> int:\n",
    "    \"\"\"Calcul de factorielle n -- version itérative\n",
    "    entrée : n \n",
    "    sortie n!\n",
    "    \"\"\"\n",
    "    assert n >= 0\n",
    "    res = 1\n",
    "    for i in range(2,n+1):\n",
    "        res = res * i\n",
    "    return res\n",
    "````\n",
    "```"
   ]
  },
  {
   "cell_type": "markdown",
   "metadata": {
    "slideshow": {
     "slide_type": "slide"
    }
   },
   "source": [
    "### Factorielle : forme récursive\n",
    "\n",
    "On applique la définition récursive :\n",
    "$n ! = n \\times (n-1) !$\n",
    "\n",
    "Oui, oui ! On a oublié de définir $0 !$.\n",
    "\n",
    "On l'écrit quand même ..."
   ]
  },
  {
   "cell_type": "markdown",
   "metadata": {
    "slideshow": {
     "slide_type": "subslide"
    }
   },
   "source": [
    "#### Premier essai (qui plante :)"
   ]
  },
  {
   "cell_type": "code",
   "execution_count": 4,
   "metadata": {
    "slideshow": {
     "slide_type": "fragment"
    }
   },
   "outputs": [],
   "source": [
    "def f(n : int) -> int:\n",
    "    \"\"\"Calcul de factorielle n -- version récursive\n",
    "    entrée : n >= 0\n",
    "    sortie n!\n",
    "    \"\"\"\n",
    "    return n * f(n-1) # récursion"
   ]
  },
  {
   "cell_type": "markdown",
   "metadata": {},
   "source": [
    "L'exécution suivante déclenche l'erreur suivante :\n",
    "\n",
    "```python\n",
    "RecursionError: maximum recursion depth exceeded\n",
    "```"
   ]
  },
  {
   "cell_type": "code",
   "execution_count": 5,
   "metadata": {
    "slideshow": {
     "slide_type": "fragment"
    }
   },
   "outputs": [],
   "source": [
    "#print(\"1! =\", f(1))"
   ]
  },
  {
   "cell_type": "markdown",
   "metadata": {
    "slideshow": {
     "slide_type": "subslide"
    }
   },
   "source": [
    "```{note}\n",
    "INFO: python limite à 1000 le nombre  d'appels récursifs \n",
    "\n",
    "Heureusement ... ce qui nous sauve ici ! \n",
    "```"
   ]
  },
  {
   "cell_type": "markdown",
   "metadata": {
    "slideshow": {
     "slide_type": "subslide"
    }
   },
   "source": [
    "#### Terminaison : pour arrêter les appels récursifs !!!!"
   ]
  },
  {
   "cell_type": "code",
   "execution_count": 6,
   "metadata": {
    "slideshow": {
     "slide_type": "fragment"
    }
   },
   "outputs": [],
   "source": [
    "def f(n : int) -> int:\n",
    "    \"\"\"Calcul de factorielle n -- version récursive\n",
    "    entrée : n >= 0 \n",
    "    sortie n!\n",
    "    \"\"\"\n",
    "    if n == 0:          # terminaison\n",
    "        return 1\n",
    "    else:\n",
    "        return n * f(n-1) # récursion"
   ]
  },
  {
   "cell_type": "code",
   "execution_count": 7,
   "metadata": {
    "slideshow": {
     "slide_type": "fragment"
    }
   },
   "outputs": [
    {
     "name": "stdout",
     "output_type": "stream",
     "text": [
      "3! = 6\n",
      "1! = 1\n",
      "0! = 1\n"
     ]
    }
   ],
   "source": [
    "print(\"3! =\", f(3))\n",
    "print(\"1! =\", f(1))\n",
    "print(\"0! =\", f(0))"
   ]
  },
  {
   "cell_type": "markdown",
   "metadata": {
    "slideshow": {
     "slide_type": "subslide"
    }
   },
   "source": [
    "**Analyse du code récursif**\n",
    "\n",
    "2 instructions `return` :\n",
    "\n",
    "1. la première retourne une valeur terminale\n",
    "    - la solution du problème \"suffisamment simple\" de la stratégie _diviser pour régner_ \n",
    "2. la seconde provoque un appel récursif (à elle-même) avant d'effectuer un quelconque calcul !  \n",
    "    - en effet l'opérande de droite dans la multiplication n'est pas encore connu ...\n",
    "    - cette écriture correspond au \"découpage en un problème similaire de taille moindre\" de la stratégie _diviser pour régner_\n",
    "    "
   ]
  },
  {
   "cell_type": "markdown",
   "metadata": {
    "slideshow": {
     "slide_type": "subslide"
    }
   },
   "source": [
    "Autre écriture avec 1 seul `return` :"
   ]
  },
  {
   "cell_type": "code",
   "execution_count": 8,
   "metadata": {
    "slideshow": {
     "slide_type": "subslide"
    }
   },
   "outputs": [],
   "source": [
    "def f(n : int) -> int:\n",
    "    \"\"\"Calcul de factorielle n -- version récursive avec un seul return\n",
    "    entrée : n \n",
    "    sortie n!\n",
    "    \"\"\"\n",
    "    if n == 1:          # terminaison\n",
    "        res = 1\n",
    "    else:\n",
    "        res = n * f(n-1) # récursion\n",
    "    return res"
   ]
  },
  {
   "cell_type": "code",
   "execution_count": 9,
   "metadata": {
    "slideshow": {
     "slide_type": "subslide"
    }
   },
   "outputs": [
    {
     "name": "stdout",
     "output_type": "stream",
     "text": [
      "3! = 6\n",
      "10! = 3628800\n"
     ]
    }
   ],
   "source": [
    "print(\"3! =\", f(3))\n",
    "print(\"10! =\", f(10))  "
   ]
  },
  {
   "cell_type": "markdown",
   "metadata": {},
   "source": [
    "Enfin l'écriture _équivalente_ suivante explicite la stratégie _diviser pour régner_.  "
   ]
  },
  {
   "cell_type": "code",
   "execution_count": 10,
   "metadata": {
    "slideshow": {
     "slide_type": "subslide"
    }
   },
   "outputs": [],
   "source": [
    "def f(n : int) -> int:\n",
    "    \"\"\"Calcul de factorielle n -- version diviser pour régenr explicite\n",
    "    entrée : n \n",
    "    sortie n!\n",
    "    \"\"\"\n",
    "    if n == 1:             # terminaison sur le problème suffisamment simple\n",
    "        res = 1\n",
    "    else:\n",
    "        app_rec = f(n-1)   # appel récursif sur un problème de taille moindre\n",
    "        res = n *  app_rec # construction de la solution du problème\n",
    "    return res"
   ]
  },
  {
   "cell_type": "code",
   "execution_count": 11,
   "metadata": {
    "slideshow": {
     "slide_type": "subslide"
    }
   },
   "outputs": [
    {
     "name": "stdout",
     "output_type": "stream",
     "text": [
      "3! = 6\n",
      "10! = 3628800\n"
     ]
    }
   ],
   "source": [
    "print(\"3! =\", f(3))\n",
    "print(\"10! =\", f(10))  "
   ]
  },
  {
   "cell_type": "markdown",
   "metadata": {
    "slideshow": {
     "slide_type": "slide"
    }
   },
   "source": [
    "#### Bien comprendre les appels récursifs !\n",
    "\n",
    "Deux solutions :\n",
    "\n",
    "1. Facile : utilisons [pythontutor](https://pythontutor.com/live.html#code=def%20f%28n%20%3A%20int%29%20-%3E%20int%3A%0A%20%20%20%20if%20n%20%3D%3D%200%3A%20%20%20%20%20%20%20%20%20%0A%20%20%20%20%20%20%20%20return%201%0A%20%20%20%20else%3A%0A%20%20%20%20%20%20%20%20return%20n%20*%20f%28n-1%29%20%0Ar%20%3D%20f%285%29&cumulative=false&curInstr=26&heapPrimitives=nevernest&mode=display&origin=opt-live.js&py=3&rawInputLstJSON=%5B%5D&textReferences=false) pour calculer $5 !$\n",
    "\n",
    "2. Plus lourd : on va, de **façon exceptionnelle**, mettre des affichages dans le corps de la fonctions récursive pour bien comprendre.\n",
    "Pour cela, on décortique bien la fonction."
   ]
  },
  {
   "cell_type": "code",
   "execution_count": 12,
   "metadata": {
    "slideshow": {
     "slide_type": "subslide"
    }
   },
   "outputs": [],
   "source": [
    "def f(n: int) -> int:\n",
    "    \"\"\"Calcul de factorielle n -- version récursive\n",
    "    entrée : n >= 0\n",
    "    sortie n!\n",
    "    \"\"\"\n",
    "    # pour voir les imbrications des appels\n",
    "    global nb\n",
    "    # on met a jour indent avant chaque return\n",
    "    \n",
    "    nb = nb + 1 # on ajoute .... à chaque appel\n",
    "    indent = nb * \"....\"\n",
    "    print(indent, \"entrée dans f(\", n, \")\")\n",
    "    \n",
    "    if n == 1:     \n",
    "        print(indent, \"terminaison : on renvoit 1 pour n = \", n)\n",
    "        nb = nb - 1 # on enleve .. avant un return\n",
    "        return 1\n",
    "    \n",
    "    else:\n",
    "        print(indent, n,\"* f(\", n-1,\") = ?\")\n",
    "    \n",
    "        print(indent, \"appel de f(\", n-1,\")\")\n",
    "        r = f(n-1)\n",
    "        print(indent, \"on a calculé f(\", n-1, \")\")\n",
    "\n",
    "        p = n * r\n",
    "        print(indent, \"on a fait le produit \", n,\"* f(\", n-1,\")\")\n",
    "        print(indent, \"Retour de la valeur\", p)\n",
    "\n",
    "        nb = nb - 1 # on enleve .. avant un return\n",
    "        return p # récursion"
   ]
  },
  {
   "cell_type": "code",
   "execution_count": 13,
   "metadata": {
    "slideshow": {
     "slide_type": "subslide"
    }
   },
   "outputs": [
    {
     "name": "stdout",
     "output_type": "stream",
     "text": [
      ".... entrée dans f( 4 )\n",
      ".... 4 * f( 3 ) = ?\n",
      ".... appel de f( 3 )\n",
      "........ entrée dans f( 3 )\n",
      "........ 3 * f( 2 ) = ?\n",
      "........ appel de f( 2 )\n",
      "............ entrée dans f( 2 )\n",
      "............ 2 * f( 1 ) = ?\n",
      "............ appel de f( 1 )\n",
      "................ entrée dans f( 1 )\n",
      "................ terminaison : on renvoit 1 pour n =  1\n",
      "............ on a calculé f( 1 )\n",
      "............ on a fait le produit  2 * f( 1 )\n",
      "............ Retour de la valeur 2\n",
      "........ on a calculé f( 2 )\n",
      "........ on a fait le produit  3 * f( 2 )\n",
      "........ Retour de la valeur 6\n",
      ".... on a calculé f( 3 )\n",
      ".... on a fait le produit  4 * f( 3 )\n",
      ".... Retour de la valeur 24\n",
      "0\n"
     ]
    }
   ],
   "source": [
    "nb = 0\n",
    "f(4)\n",
    "print(nb)"
   ]
  },
  {
   "cell_type": "markdown",
   "metadata": {
    "slideshow": {
     "slide_type": "fragment"
    }
   },
   "source": [
    "```{admonition} Conseil\n",
    "Bien regarder le moment où on effectue la **première** multiplication\n",
    "```"
   ]
  },
  {
   "cell_type": "markdown",
   "metadata": {
    "slideshow": {
     "slide_type": "subslide"
    }
   },
   "source": [
    "Exercice :\n",
    "\n",
    "* Combien de variables _locales_ `r` et `p` ont été utilisées ?\n"
   ]
  },
  {
   "cell_type": "markdown",
   "metadata": {
    "slideshow": {
     "slide_type": "fragment"
    }
   },
   "source": [
    "```{dropdown} Réponse :\n",
    "\n",
    "* Chaque appel à `f()` introduit une nouvelle paire `r` et `p`\n",
    "* Ces variables sont _locales_ à l'appel concerné :\n",
    "    - elles sont introduites et évaluées dans l'_environnement_ (le contexte) de l'appel concerné \n",
    "\n",
    "Ces notions seront approfondies plus loin.\n",
    "```"
   ]
  },
  {
   "cell_type": "markdown",
   "metadata": {
    "slideshow": {
     "slide_type": "slide"
    }
   },
   "source": [
    "## Exponentiation entière (dite) rapide\n",
    "\n",
    "\n",
    "Objectif : calculer $x^n$ où $x$ est un réel et $n$ un entier positif.\n",
    "\n",
    "### Une première récursion\n",
    "\n",
    "Elle est basée sur la relation récursive : $x^n = x \\times x^{n-1}$ et $x^0 = 1$, pour $n > 0$."
   ]
  },
  {
   "cell_type": "code",
   "execution_count": 14,
   "metadata": {
    "slideshow": {
     "slide_type": "fragment"
    }
   },
   "outputs": [],
   "source": [
    "def expo(x: float, n: int) -> float:\n",
    "    '''calcule x**n : version récursive naturelle \n",
    "    entrées : x (float), n (int) >= 0'''\n",
    "    if n == 0:\n",
    "        return 1\n",
    "    else:\n",
    "        return x * expo(x, n-1)"
   ]
  },
  {
   "cell_type": "code",
   "execution_count": 15,
   "metadata": {
    "slideshow": {
     "slide_type": "fragment"
    }
   },
   "outputs": [
    {
     "data": {
      "text/plain": [
       "1.0715086071862673e+301"
      ]
     },
     "execution_count": 15,
     "metadata": {},
     "output_type": "execute_result"
    }
   ],
   "source": [
    "expo(2.0 ,1000)"
   ]
  },
  {
   "cell_type": "markdown",
   "metadata": {
    "slideshow": {
     "slide_type": "subslide"
    }
   },
   "source": [
    "**Exercice :**\n",
    "\n",
    "* Ecrire une version itérative \n",
    "* Ecrire une autre version récursive avec 1 seul `return`\n",
    "* Ecrire une autre version récursive qui exhibe les étapes _diviser pour régner_"
   ]
  },
  {
   "cell_type": "markdown",
   "metadata": {
    "slideshow": {
     "slide_type": "slide"
    }
   },
   "source": [
    "### Une seconde récursion rapide, beaucoup plus rapide\n",
    "\n",
    "Autre écriture de $x^n$ avec des airs de dichotomie :) \n",
    "* $x^{2p} = (x^p)^2$ -- c'est simple et récursif, non ?\n",
    "* $x^{2p+1} = x \\times (x^p)^2$ --  c'est simple et aussi récursif, non ?"
   ]
  },
  {
   "cell_type": "code",
   "execution_count": 16,
   "metadata": {
    "code_folding": [],
    "slideshow": {
     "slide_type": "fragment"
    },
    "tags": []
   },
   "outputs": [],
   "source": [
    "def expo_rapide(x: float, n: int) -> float:\n",
    "    '''calcule x**n : version récursive rapide \n",
    "    entrées : x (float), n (int)'''\n",
    "    if n == 0:\n",
    "        return 1\n",
    "    else:\n",
    "        r =  expo_rapide(x, n//2) # appel recursif sur exposant moitié\n",
    "        \n",
    "        if (n % 2 == 0): # construction si n est pair\n",
    "            res = r * r        \n",
    "        else:            # construction si n est impair\n",
    "            res = x * r * r\n",
    "        \n",
    "        return res"
   ]
  },
  {
   "cell_type": "code",
   "execution_count": 17,
   "metadata": {
    "code_folding": [],
    "slideshow": {
     "slide_type": "fragment"
    }
   },
   "outputs": [
    {
     "data": {
      "text/plain": [
       "1.0715086071862673e+301"
      ]
     },
     "execution_count": 17,
     "metadata": {},
     "output_type": "execute_result"
    }
   ],
   "source": [
    "expo_rapide(2.0, 1000)  "
   ]
  },
  {
   "cell_type": "code",
   "execution_count": 18,
   "metadata": {
    "code_folding": [],
    "slideshow": {
     "slide_type": "fragment"
    }
   },
   "outputs": [],
   "source": [
    "def expo_rapide_aff(x: float, n: int, aff = False) -> float:\n",
    "    '''calcule x**n : version récursive rapide, version avec affichage\n",
    "    entrées : x (float), n (int)'''\n",
    "    if n == 0:\n",
    "        if aff:\n",
    "            print(\"terminaison\")\n",
    "        return 1\n",
    "    else:\n",
    "        if aff:\n",
    "            print(\"appel pour n =\", n)\n",
    "        r =  expo_rapide_aff(x, n//2, aff) # apple récursif\n",
    "        \n",
    "        if aff:\n",
    "            print(\"retour de n//2 :\", r )\n",
    "            \n",
    "        if (n % 2 == 0): # n est pair\n",
    "            res = r * r\n",
    "            if aff:\n",
    "                print(\"cas pair et res =\", res)\n",
    "        else:            # n est impair\n",
    "            res = x * r * r\n",
    "            if aff:\n",
    "                print(\"cas impair et res =\", res)\n",
    "        return res"
   ]
  },
  {
   "cell_type": "code",
   "execution_count": 19,
   "metadata": {
    "code_folding": [],
    "slideshow": {
     "slide_type": "fragment"
    }
   },
   "outputs": [
    {
     "name": "stdout",
     "output_type": "stream",
     "text": [
      "appel pour n = 5\n",
      "appel pour n = 2\n",
      "appel pour n = 1\n",
      "terminaison\n",
      "retour de n//2 : 1\n",
      "cas impair et res = 2.0\n",
      "retour de n//2 : 2.0\n",
      "cas pair et res = 4.0\n",
      "retour de n//2 : 4.0\n",
      "cas impair et res = 32.0\n"
     ]
    },
    {
     "data": {
      "text/plain": [
       "32.0"
      ]
     },
     "execution_count": 19,
     "metadata": {},
     "output_type": "execute_result"
    }
   ],
   "source": [
    "expo_rapide_aff(2.0, 5, True)  "
   ]
  },
  {
   "cell_type": "markdown",
   "metadata": {
    "slideshow": {
     "slide_type": "subslide"
    }
   },
   "source": [
    "**($\\star$) Exercice**\n",
    "\n",
    "Exhibons que `expo_rapide()`est effectivement plus rapide que `expo`  \n",
    "\n",
    "On en profite pour utiliser le module [`timeit`](https://docs.python.org/fr/3/library/timeit.html).\n",
    "Ce module complète (et utilise) le module _time_ déjà décrit dans le \n",
    "[chapitre Modules utiles](ch:modulesutiles) pour :\n",
    "* automatiquement répéter la partie de code à mesurer (si elle prend très peu de temps) --> option `-n`\n",
    "* ou automatiquement répéter les mesures et les analyser : garder la meilleure, regarder la moyenne ... --> option `r`\n",
    "\n",
    "`timeit` peut s'utiliser depuis la ligne de commandes ou depuis l'interpréteur python (ici jupyter) par sous la forme d'une \"fonction magique\" reconnaissable à sa syntaxe `%`.\n",
    "\n",
    "*Rmq.* Bien sûr, l'exécution de la cellule suivante n'est pas instantanée."
   ]
  },
  {
   "cell_type": "code",
   "execution_count": 20,
   "metadata": {
    "slideshow": {
     "slide_type": "fragment"
    }
   },
   "outputs": [
    {
     "name": "stdout",
     "output_type": "stream",
     "text": [
      "2.88 µs ± 102 ns per loop (mean ± std. dev. of 7 runs, 100000 loops each)\n",
      "1.09 µs ± 5.38 ns per loop (mean ± std. dev. of 7 runs, 1000000 loops each)\n",
      "\n",
      "2.78 µs ± 132 ns per loop (mean ± std. dev. of 7 runs, 100 loops each)\n",
      "1.12 µs ± 80.3 ns per loop (mean ± std. dev. of 7 runs, 100 loops each)\n",
      "\n",
      "2.82 µs ± 28.3 ns per loop (mean ± std. dev. of 5 runs, 100000 loops each)\n",
      "1.09 µs ± 3.67 ns per loop (mean ± std. dev. of 5 runs, 1000000 loops each)\n"
     ]
    }
   ],
   "source": [
    "# timeit plus fiable : répète plusieurs mesures\n",
    "%timeit expo(3,20)\n",
    "%timeit expo_rapide(3,20)\n",
    "print()\n",
    "\n",
    "%timeit -n 100 expo(3,20)\n",
    "%timeit -n 100 expo_rapide(3,20)\n",
    "print()\n",
    "\n",
    "\n",
    "%timeit -r 5 expo(3,20)\n",
    "%timeit -r 5 expo_rapide(3,20)"
   ]
  },
  {
   "cell_type": "markdown",
   "metadata": {
    "slideshow": {
     "slide_type": "slide"
    }
   },
   "source": [
    "## Fibonacci ou l'inefficacité de la récursion\n",
    "\n",
    "La suite de Fibonaci est définie par une récurrence _d'ordre 2_ :\n",
    "\n",
    "$$F(n+1) = F(n) + F(n-1).$$\n",
    "\n",
    "Ce qui nécessite de connaître 2 valeurs de départ :\n",
    "$$F(0) = F(1) = 1.$$"
   ]
  },
  {
   "cell_type": "markdown",
   "metadata": {
    "slideshow": {
     "slide_type": "subslide"
    }
   },
   "source": [
    "### Solution récursive\n",
    "\n",
    "L'expression est naturellement récursive donc ..."
   ]
  },
  {
   "cell_type": "code",
   "execution_count": 21,
   "metadata": {
    "slideshow": {
     "slide_type": "fragment"
    }
   },
   "outputs": [],
   "source": [
    "def fibo(n: int) -> int:\n",
    "    '''Fibonacci : solution récursive classique '''\n",
    "    if n == 0 or n == 1:\n",
    "        return 1\n",
    "    else:\n",
    "        return fibo(n-1) + fibo(n-2)"
   ]
  },
  {
   "cell_type": "code",
   "execution_count": 22,
   "metadata": {
    "slideshow": {
     "slide_type": "fragment"
    }
   },
   "outputs": [
    {
     "name": "stdout",
     "output_type": "stream",
     "text": [
      "0 : 1\n",
      "1 : 1\n",
      "2 : 2\n",
      "3 : 3\n",
      "4 : 5\n",
      "5 : 8\n",
      "6 : 13\n",
      "7 : 21\n",
      "8 : 34\n",
      "9 : 55\n"
     ]
    }
   ],
   "source": [
    "for i in range(10):\n",
    "    print(i,\":\", fibo(i))"
   ]
  },
  {
   "cell_type": "markdown",
   "metadata": {},
   "source": [
    "Observons que cette solution récursive est beaucoup plus lente que la solution itérative."
   ]
  },
  {
   "cell_type": "code",
   "execution_count": 23,
   "metadata": {},
   "outputs": [],
   "source": [
    "def fibo_iter(n: int) -> int:\n",
    "    '''Une version itérative de Fibonacci'''\n",
    "    f0 = 1\n",
    "    f1 = 1\n",
    "    for i in range(2, n+1):\n",
    "        f = f0 + f1\n",
    "        f0 = f1\n",
    "        f1 = f  \n",
    "    return f"
   ]
  },
  {
   "cell_type": "markdown",
   "metadata": {},
   "source": [
    "On s'assure de la correction des 2 traitements."
   ]
  },
  {
   "cell_type": "code",
   "execution_count": 24,
   "metadata": {},
   "outputs": [],
   "source": [
    "assert fibo(15) == fibo_iter(15) "
   ]
  },
  {
   "cell_type": "markdown",
   "metadata": {},
   "source": [
    "Et on compare les temps d'exécutions de ces 2 versions."
   ]
  },
  {
   "cell_type": "code",
   "execution_count": 25,
   "metadata": {},
   "outputs": [
    {
     "name": "stdout",
     "output_type": "stream",
     "text": [
      "249 µs ± 5.81 µs per loop (mean ± std. dev. of 5 runs, 1000 loops each)\n",
      "895 ns ± 12.4 ns per loop (mean ± std. dev. of 5 runs, 1000000 loops each)\n"
     ]
    }
   ],
   "source": [
    "%timeit -r 5 fibo(15)\n",
    "%timeit -r 5 fibo_iter(15)"
   ]
  },
  {
   "cell_type": "markdown",
   "metadata": {},
   "source": [
    "On observe ici un temps de calcul 3 à 5 fois supérieur avec la version récursive.\n",
    "Pourtant `n = 15` n'est pas une très grande valeur _a priori_;\n",
    "On vous laisse observer que ce comportement se dégrade de plus de plus significativement quand `n` augmente ..."
   ]
  },
  {
   "cell_type": "markdown",
   "metadata": {
    "slideshow": {
     "slide_type": "subslide"
    }
   },
   "source": [
    "Pour d'abord expliquer pourquoi cette solution récursive est inefficace en pratique, étudions maintenant plus en détail comment s'exécute un appel récursif."
   ]
  },
  {
   "cell_type": "markdown",
   "metadata": {
    "slideshow": {
     "slide_type": "slide"
    }
   },
   "source": [
    "## Appels récursifs : environnement,  pile d'exécution, pile et arbre des appels\n",
    "\n",
    "On s'intéresse à des notions liées _à la mise en oeuvre_ des appels de fonction dans le cadre récursif.  \n",
    "On en restera surtout aux principes, aux _abstractions algorithmiques_.  \n",
    "Les aspects plus détaillés de la mise en oeuvre (implantation du mécanisme d'appel de fonction) sont étudiés en deuxième année.  "
   ]
  },
  {
   "cell_type": "markdown",
   "metadata": {
    "slideshow": {
     "slide_type": "slide"
    }
   },
   "source": [
    "### Environnement\n",
    "\n",
    "Chaque appel récursif nécessite de construire **dynamiquement** un nouvel **environnement** avec les informations suivantes :\n",
    "\n",
    "* Où retourner le résultat de l'appel ? (une ou des adresses de retour)\n",
    "* Quelles valeurs ont les paramètres effectifs de l'appel ?\n",
    "* Où stocker les variables locales nécessaires au traitement de l'appel ?\n",
    "\n",
    "En pratique, on ne connaît pas le nombre de fois où une/des fonctions sont appelées.  \n",
    "Toutes ces informations sont donc  stockées dans une  _pile d'exécution_ ou _pile des appels_.  \n",
    "Une pile est une structure de donnée adaptée au stockage et à une certain type de traitements : empiler et dépiler."
   ]
  },
  {
   "cell_type": "markdown",
   "metadata": {
    "slideshow": {
     "slide_type": "slide"
    }
   },
   "source": [
    "### Pile d'exécution\n",
    "\n",
    "La **pile d'exécution** est la mémoire associée nécessaire au stockage des paramètres d'appel, des adresses de retour, des variables locales\n",
    "- gérée par le langage de programmation : une pile LIFO (_last in, first out_) de taille préfixée\n",
    "- mais risque de débordement mémoire si appels imbriqués trop nombreux -- sans libération de la place occupée.\n",
    "\n",
    "En python : 1000 appels au maximum ou trop volumineux\n",
    "\n",
    "Imaginons un paramètre tableau de grande taille réduit récursivement de 1 élément par 1 élément ...  \n",
    "- Exemple : sommer récursivement les n valeurs d'un tableau.\n",
    "\n",
    "Qui plus est si la récursion consiste en plusieurs appels  comme la suite de Fibonacci : $f(n+1) = f(n) + f(n-1)$.\n",
    "- C'est un exemple de _récursion multiple_."
   ]
  },
  {
   "cell_type": "markdown",
   "metadata": {
    "slideshow": {
     "slide_type": "fragment"
    }
   },
   "source": [
    "<DIV class=\"alert alert-danger\">\n",
    "\n",
    "En pratique : `stack overflow !` est le message classique quand ... ça ne va pas : \n",
    "\n",
    "</DIV>"
   ]
  },
  {
   "cell_type": "markdown",
   "metadata": {
    "slideshow": {
     "slide_type": "slide"
    }
   },
   "source": [
    "### Pile des appels\n",
    "\n",
    "La **pile des appels** est une _abstraction algorithmique_ qui représente la logique de la pile d'exécution **en se limitant à l'identifiant de chaque appel**.  \n",
    "On ne détaille pas l'environnement de chaque appel."
   ]
  },
  {
   "cell_type": "markdown",
   "metadata": {
    "slideshow": {
     "slide_type": "subslide"
    }
   },
   "source": [
    "### Arbre des appels récursifs\n",
    "\n",
    "L'**arbre des appels récursifs** est une autre _abstraction algorithmique_ de l'ensemble des appels d'un traitement récursif.  \n",
    "Le parcours des noeuds d'un arbre se représente aussi avec une pile ... d'où la connexion entre ces deux abstractions du traitement de la récursion.  "
   ]
  },
  {
   "cell_type": "markdown",
   "metadata": {
    "slideshow": {
     "slide_type": "slide"
    }
   },
   "source": [
    "### Illustration sur la factorielle récursive\n",
    "\n",
    "Calcul de `fact(4)` \n",
    "\n",
    "![factorielle(4)](./fig/fact4.jpg)"
   ]
  },
  {
   "cell_type": "markdown",
   "metadata": {
    "slideshow": {
     "slide_type": "slide"
    }
   },
   "source": [
    "**Rmq.** \n",
    "On a régulièrement besoin de dessiner des graphes. Il existe de nombreux outils à cet effet.\n",
    "Dans [cette annexe](ann:graphviz), nous  montrons comment utiliser depuis des petits codes python, le langage `dot`et le module `graphviz` -- tous les deux très classiques en la matière.\n",
    "**Ces aspects sont hors du programme de ce chapitre.**"
   ]
  },
  {
   "cell_type": "markdown",
   "metadata": {
    "slideshow": {
     "slide_type": "subslide"
    }
   },
   "source": [
    "#### arbre des appels\n",
    "\n",
    "La représentation suivante exhibe l'_arbre des appels_ récursif de `f`\n",
    "\n",
    "![](./fig/fact4_dot.jpg)"
   ]
  },
  {
   "cell_type": "markdown",
   "metadata": {
    "slideshow": {
     "slide_type": "subslide"
    }
   },
   "source": [
    "Ici, les calculs intermédiaires sont simples (1 multiplication) et on peut compléter cet arbre des appels en exhibant les opérandes de ces calculs. \n",
    "\n",
    "![](./fig/fact4_complet.jpg)"
   ]
  },
  {
   "cell_type": "markdown",
   "metadata": {
    "slideshow": {
     "slide_type": "slide"
    }
   },
   "source": [
    "#### pile des appels\n",
    "\n",
    "L'évolution de la pile des appels lors du calcule de $4!$ s'obtient en parcourant l'arbre des appels \"en profondeur d'abord\".  \n",
    "On note `fact( )` par `f( )`.  \n",
    "\n",
    "On représente **l'évolution de la pile des appels sur un axe _horizontal_ qui décrit le temps** (de la gauche vers la droite).  \n",
    "La pile est représentée à chacun de ces changements d'_état_ :  \n",
    "- la pile est  vide avant l'appel récursif principal  \n",
    "- chaque appel récursif _empile_ son contexte : on le note par l'appel lui-même \n",
    "    - exemple : `f(4)` est l'appel principal du calcul de $4!$ et dénote aussi l'environnement de cet appel  \n",
    "- chaque retour de valeur à l'appelant a pour effet de _dépiler_ l'environnement de l'appelé  \n",
    "Ainsi la pile redevient vide après le traitement complet de l'appel principal.\n",
    "\n",
    "Dans les affichages successifs, chaque colonne (verticale) représente l'état de la pile à un instant donné de l'exécution récursive -- comme une suite de photographies de cette pile.  La bas de la pile est le bas de la colonne.  "
   ]
  },
  {
   "cell_type": "markdown",
   "metadata": {
    "slideshow": {
     "slide_type": "slide"
    }
   },
   "source": [
    "**Construction de la pile des appels du calcul de $4!$ :**\n",
    "\n",
    "- avant l'appel principal :  la pile est vide  \n",
    "        . \n",
    "  "
   ]
  },
  {
   "cell_type": "markdown",
   "metadata": {
    "slideshow": {
     "slide_type": "fragment"
    }
   },
   "source": [
    "- l'appel principal : on empile f(4)  \n",
    "        . f(4)  "
   ]
  },
  {
   "cell_type": "markdown",
   "metadata": {
    "slideshow": {
     "slide_type": "fragment"
    }
   },
   "source": [
    "- dans f(4), l'appel de f(3) : on empile f(3)  \n",
    "               f(3) \n",
    "        . f(4) f(4)   "
   ]
  },
  {
   "cell_type": "markdown",
   "metadata": {
    "slideshow": {
     "slide_type": "fragment"
    }
   },
   "source": [
    "- dans f(3), l'appel de f(2) : on empile f(2)  \n",
    "                  f(2) \n",
    "             f(3) f(3) \n",
    "      . f(4) f(4) f(4)   "
   ]
  },
  {
   "cell_type": "markdown",
   "metadata": {
    "slideshow": {
     "slide_type": "fragment"
    }
   },
   "source": [
    "- dans f(2), l'appel de f(1) : on empile f(1) \n",
    "                       f(1)\n",
    "                  f(2) f(2) \n",
    "             f(3) f(3) f(3) \n",
    "      . f(4) f(4) f(4) f(4)   "
   ]
  },
  {
   "cell_type": "markdown",
   "metadata": {
    "slideshow": {
     "slide_type": "fragment"
    }
   },
   "source": [
    "- f(1) est terminal (cet appel renvoie une valeur (1)) : on dépile f(1)\n",
    "                       f(1)\n",
    "                  f(2) f(2) f(2)\n",
    "             f(3) f(3) f(3) f(3)\n",
    "      . f(4) f(4) f(4) f(4) f(4)  \n",
    "  "
   ]
  },
  {
   "cell_type": "markdown",
   "metadata": {
    "slideshow": {
     "slide_type": "fragment"
    }
   },
   "source": [
    "- f(2) est calculé et cet appel renvoie la valeur 1x2 : on dépile f(2)\n",
    "                       f(1)\n",
    "                  f(2) f(2) f(2)\n",
    "             f(3) f(3) f(3) f(3) f(3)\n",
    "      . f(4) f(4) f(4) f(4) f(4) f(4)  \n",
    "  "
   ]
  },
  {
   "cell_type": "markdown",
   "metadata": {
    "slideshow": {
     "slide_type": "fragment"
    }
   },
   "source": [
    "- f(3) est calculé et cet appel renvoit la valeur 1x2x3 : on dépile f(3)\n",
    "                       f(1)\n",
    "                  f(2) f(2) f(2)\n",
    "             f(3) f(3) f(3) f(3) f(3)\n",
    "      . f(4) f(4) f(4) f(4) f(4) f(4) f(4)  \n",
    "  "
   ]
  },
  {
   "cell_type": "markdown",
   "metadata": {
    "slideshow": {
     "slide_type": "fragment"
    }
   },
   "source": [
    "- f(4) est calculé et cet appel renvoie la valeur 1x2x3x4 : on dépile f(4)\n",
    "                       f(1)\n",
    "                  f(2) f(2) f(2)\n",
    "             f(3) f(3) f(3) f(3) f(3)\n",
    "      . f(4) f(4) f(4) f(4) f(4) f(4) f(4)  \n",
    "   "
   ]
  },
  {
   "cell_type": "markdown",
   "metadata": {
    "slideshow": {
     "slide_type": "fragment"
    }
   },
   "source": [
    "- la pile est vide et on a bien obtenu le résultat attendu (24)\n",
    "                       f(1)\n",
    "                  f(2) f(2) f(2)\n",
    "             f(3) f(3) f(3) f(3) f(3)\n",
    "      . f(4) f(4) f(4) f(4) f(4) f(4) f(4) .   "
   ]
  },
  {
   "cell_type": "markdown",
   "metadata": {
    "slideshow": {
     "slide_type": "slide"
    }
   },
   "source": [
    "####  environnements successifs pour factorielle(3) \n",
    "\n",
    "On peut le détailler un peu plus dans ce cas simple.\n",
    "\n",
    "appel = f(3)\n",
    "\n",
    "```python\n",
    "def f(n):\n",
    "    \"\"\"Calcul de factorielle n -- version récursive\n",
    "    entrée : n \n",
    "    sortie n!\n",
    "    \"\"\"\n",
    "    if n == 1:     \n",
    "        return 1   \n",
    "    else:\n",
    "        r = f(n-1)\n",
    "        p = n * r\n",
    "        return p # récursion\n",
    "\n",
    "```"
   ]
  },
  {
   "cell_type": "markdown",
   "metadata": {
    "slideshow": {
     "slide_type": "fragment"
    }
   },
   "source": [
    "L'environnement de chaque appel est décrit par une colonne du tableau suivant.\n",
    "\n",
    "   . |   0   |  1    |  2    |   3        \n",
    "-----|-------|-------|-------|--------  \n",
    "1    | r=f(3)| n=3   |       |          \n",
    "2    |       | r=f(2)| n=2   |          \n",
    "3    |       |       | r=f(1)| n=1      \n",
    "4    |       |       |       | return 1  \n",
    "5    |       |       | p=2\\*1 |  \n",
    "6    |       |       | return 2|   \n",
    "7    |       | p=3\\*2|       |  \n",
    "8    |       | return 6|     |  \n",
    "9    | r = 6 |       |       | \n",
    "  \n",
    "    "
   ]
  },
  {
   "cell_type": "markdown",
   "metadata": {
    "slideshow": {
     "slide_type": "slide"
    }
   },
   "source": [
    "### Illustration sur le calcul récursif de la suite de Fibonacci.\n",
    "\n",
    "On peut maintenant revenir sur les raisons de l'inefficacité du calcul récursif de la suite de Fibonacci.\n",
    "\n",
    "#### arbre des appels\n",
    "\n",
    "* Le calcul de `fibo(4)` correspond à un parcours \"en profondeur d'abord\" de l'**arbre des appels** suivant.\n",
    "\n",
    "![arbre appels fibo(4)](./fig/arbre-fibo4.jpg)"
   ]
  },
  {
   "cell_type": "markdown",
   "metadata": {
    "slideshow": {
     "slide_type": "subslide"
    }
   },
   "source": [
    "#### pile des appels récursifs\n",
    "\n",
    "On note `fibo()` par `f()`  \n",
    "Les appels récursifs sont empilés (avec leur environnement) dans une _pile d'appels_  \n",
    "Les appels avec terminaison permettent de dépiler l'appelant  \n",
    "L'appel principal est exécuté une fois la pile vidée\n",
    "\n",
    "\n",
    "                   f(1) f(0)\n",
    "              f(2) f(2) f(2) f(2)      f(1)                f(1) f(0)\n",
    "         f(3) f(3) f(3) f(3) f(3) f(3) f(3) f(3)      f(2) f(2) f(2) f(2)\n",
    "    f(4) f(4) f(4) f(4) f(4) f(4) f(4) f(4) f(4) f(4) f(4) f(4) f(4) f(4) f(4)\n"
   ]
  },
  {
   "cell_type": "markdown",
   "metadata": {
    "slideshow": {
     "slide_type": "slide"
    }
   },
   "source": [
    "### Retour sur l'inefficacité du calcul récursif de Fibonacci\n",
    "\n",
    "Exercice : comptons le nombre d'appels à `fibo()` dans l'évaluation de `fibo(4)`.\n",
    "\n",
    " fibo(4) | #appels \n",
    "---------|:-------:\n",
    " fibo(0) |  2\n",
    " fibo(1) |  3\n",
    " fibo(2) |  2\n",
    " fibo(3) |  1 \n",
    " _total_ |  _8_\n",
    " \n",
    " Ces évaluations intermédiaires répétées engendrent des _sur-coûts_ en mémoire et en calcul qui dégradent l'efficacité de l'évaluation récursive de `fibo( )`.  "
   ]
  },
  {
   "cell_type": "markdown",
   "metadata": {
    "slideshow": {
     "slide_type": "subslide"
    }
   },
   "source": [
    "\n",
    "#### environnements et pile d'exécution \n",
    "\n",
    "Profitons du python tutor pour visualiser l'enchaînement des appels et l'évolution de l'environnement :\n",
    "\n",
    "https://goo.gl/mHi50H"
   ]
  },
  {
   "cell_type": "markdown",
   "metadata": {
    "slideshow": {
     "slide_type": "slide"
    }
   },
   "source": [
    "### Solution itérative\n",
    "\n",
    "On a déjà montré une solution itérative de ce calcul.\n",
    "\n",
    "**($\\star$) Exercice.**\n",
    "\n",
    "Proposer une solution itérative encore plus efficace que celle présentée."
   ]
  },
  {
   "cell_type": "markdown",
   "metadata": {
    "slideshow": {
     "slide_type": "slide"
    }
   },
   "source": [
    "```{topdown} Indication\n",
    "\n",
    "Avancer dans l'itération en stockant toutes les valeurs déjà calculées.\n",
    "\n",
    "La solution itérative est plus efficace car elle évite de re-calculer les termes déjà calculés.  \n",
    "\n",
    "```\n"
   ]
  },
  {
   "cell_type": "markdown",
   "metadata": {
    "slideshow": {
     "slide_type": "subslide"
    }
   },
   "source": [
    "### Exercice\n",
    "\n",
    "Reprendre ça sous http://pythontutor.com/live.html#mode=edit"
   ]
  },
  {
   "cell_type": "markdown",
   "metadata": {
    "slideshow": {
     "slide_type": "slide"
    }
   },
   "source": [
    "## Les tours de Hanoï\n",
    "\n",
    "### Objectif\n",
    "\n",
    "Déplacer l'empilement de disques du piquet gauche au piquet droit en respectant les règles suivantes :  \n",
    "* déplacer un seul disque à la fois\n",
    "* un disque ne peut être posé que sur un disque de diamètre supérieur\n",
    "On doit utiliser le piquet du milieu.\n",
    "\n",
    "début -> fin \n",
    "![hanoi_debut](fig/hanoi1.jpg) ![hanoi_fin](fig/hanoi2.jpg)\n"
   ]
  },
  {
   "cell_type": "markdown",
   "metadata": {
    "slideshow": {
     "slide_type": "slide"
    }
   },
   "source": [
    "### Solution récursive\n",
    "\n",
    "#### Analyse\n",
    "* On  note les piquets A, B, C de la gauche vers la droite.  Départ = A, objectif = C\n",
    "* On note $n$ le nombre de disques à déplacer ; ici $n=4$\n",
    "* On veut donc **résoudre le problème des tours de Hoanoi de taille 4 en allant de A vers C grâce à l'utilisation de B**\n",
    "    - notons la résolution de ce problème `Hanoi(4, A, C, B)` \n",
    "    - plus généralement : **Hanoi(n, départ, arrivée, intermédiaire)**\n",
    "    "
   ]
  },
  {
   "cell_type": "markdown",
   "metadata": {
    "slideshow": {
     "slide_type": "subslide"
    }
   },
   "source": [
    "**Récursion**  \n",
    "Si on déplace _l'empilement complet avec les 3 disques supérieurs_ de A vers B en utilisant C (dur), ensuite on déplace le dernier (plus grand) disque de A vers C (facile), il ne reste qu'à déplacer l'empilement complet de 3 disques de B vers C en utilisant A (moins dur vu qu'on pu le faire à l'étape 1)\n",
    "* déplacer un empilement complet de 3 disques de A vers B (en utilisant C) = `Hanoi(3, A, B, C)`\n",
    "* déplacer le disque qui reste sur A vers C = `Hanoi(1, A, C, B)` ... oui: B ne sert à rien\n",
    "* déplacer un empilement complet de 3 disques de B vers C (en utilisant A) = `Hanoi(3, B, C, A)`\n",
    "\n",
    "\n",
    "<div class=\"alert alert-success\">\n",
    "    \n",
    "On tient la récursion ! 3 appels à `Hanoi` pour calculer `Hanoi` !!\n",
    "\n",
    "</div>"
   ]
  },
  {
   "cell_type": "markdown",
   "metadata": {
    "slideshow": {
     "slide_type": "subslide"
    }
   },
   "source": [
    "**Avec un graphique**\n",
    "\n",
    "* On part de là : avec un empilement de 4 disques sur A à déplacer vers C\n",
    "![hanoi_rec0](fig/resized/hanoi_rec0.png)"
   ]
  },
  {
   "cell_type": "markdown",
   "metadata": {
    "slideshow": {
     "slide_type": "subslide"
    }
   },
   "source": [
    "* On identifie un empilement de taille inférieure : 3 disques regroupés en rose\n",
    "![hanoi_rec1](fig/resized/hanoi_rec1.png)"
   ]
  },
  {
   "cell_type": "markdown",
   "metadata": {
    "slideshow": {
     "slide_type": "subslide"
    }
   },
   "source": [
    "* On suppose qu'on est capable de déplacer _correctement_ l'empilement rose de A vers B (en utilisant C)\n",
    "![hanoi_rec2](fig/resized/hanoi_rec2.png)"
   ]
  },
  {
   "cell_type": "markdown",
   "metadata": {
    "slideshow": {
     "slide_type": "subslide"
    }
   },
   "source": [
    "* On déplace le dernier disque restant sur A vers C : il est à sa bonne place\n",
    "![hanoi_rec3](fig/resized/hanoi_rec3.png)"
   ]
  },
  {
   "cell_type": "markdown",
   "metadata": {
    "slideshow": {
     "slide_type": "subslide"
    }
   },
   "source": [
    "* Comme deux étapes avant, on suppose qu'on est capable de déplacer _correctement_ l'empilement rose de B vers C (en utilisant A). L'empilement rose est bien placé maintenant\n",
    "![hanoi_rec4](fig/resized/hanoi_rec4.png)"
   ]
  },
  {
   "cell_type": "markdown",
   "metadata": {
    "slideshow": {
     "slide_type": "subslide"
    }
   },
   "source": [
    "* et le problème initial est bien résolu !\n",
    "![hanoi_rec5](fig/resized/hanoi_rec5.png)"
   ]
  },
  {
   "cell_type": "markdown",
   "metadata": {
    "slideshow": {
     "slide_type": "subslide"
    }
   },
   "source": [
    "**Terminaison pour la récursion**\n",
    "* on termine quand on sait résoudre le problème car il est suffisamment simple :\n",
    "    - on déplace **un disque** \n",
    "    - c'est `Hanoi(1, ...)`\n",
    "\n",
    "    \n",
    "_Remarque :_ pour une solution itérative, une terminaison naturelle serait \"quand tous les disques ont été déplacés\", i.e. quand le piquet de départ est vide\n",
    "\n",
    "**Déplacer $(n-1)$ disques : étape dure ?**  \n",
    "* NON : on \"retombe\" sur la résolution de Hanoi pour un nombre de disque diminué de 1 ...  \n",
    "* ce qui devrait à un moment ne plus laisser aucun disque à déplacer :)\n",
    "On formalisera plus tard cette analyse de la _terminaison_ de la solution récursive. "
   ]
  },
  {
   "cell_type": "markdown",
   "metadata": {
    "slideshow": {
     "slide_type": "subslide"
    }
   },
   "source": [
    "#### Codage \n",
    "\n",
    "Yapluka !\n",
    "\n",
    "On commence avec `hanoi0` pour exhiber un détail technique"
   ]
  },
  {
   "cell_type": "code",
   "execution_count": 26,
   "metadata": {
    "slideshow": {
     "slide_type": "fragment"
    }
   },
   "outputs": [],
   "source": [
    "def hanoi0(n: int, depart, arrivee, interm) -> None:\n",
    "    '''tours de hanoi :  déplacer n disques de \n",
    "    depart vers arrivee en utilisant interm \n",
    "    (et en respectant les règles de déplacement du pb des tours de Hanoi)\n",
    "    '''\n",
    "    if n > 0:\n",
    "        hanoi0(n-1, depart, interm, arrivee)\n",
    "        hanoi0(1, depart, arrivee, interm)\n",
    "        hanoi0(n-1, interm, arrivee, depart)                "
   ]
  },
  {
   "cell_type": "markdown",
   "metadata": {},
   "source": [
    "L'appel suivant déclenche une erreur."
   ]
  },
  {
   "cell_type": "markdown",
   "metadata": {},
   "source": [
    "```python\n",
    "''' resolution : appel '''\n",
    "hanoi0(4, A, C, B)\n",
    "```"
   ]
  },
  {
   "cell_type": "markdown",
   "metadata": {
    "slideshow": {
     "slide_type": "subslide"
    }
   },
   "source": [
    "En effet, les piquets `A, B, C` n'existent pas en tant qu'objet (variable) python.\n",
    "On remarque que l'en-tête de la fonction était silencieuse à ce sujet ...\n",
    "\n",
    "Pour rendre effectif un traitement, \n",
    "* les piquets sont les _caractères_ : `'A'`, `'B'`, `'C'`  \n",
    "* il suffit alors d'indiquer le déplacement `(Hanoi(1, ...)` par un `print`:\n",
    "    -  `hanoi(1, depart, arrivee, interm)` devient  `print(depart -> arrivee)`\n",
    "    - ce qui montre bien qu'interm est inutile quand le nb de disques égal 1\n",
    "    \n",
    "L'exécution de l'algo va donner tous les déplacements _d'1 disque_ à appliquer au pb pour le résoudre  "
   ]
  },
  {
   "cell_type": "code",
   "execution_count": 27,
   "metadata": {
    "slideshow": {
     "slide_type": "subslide"
    }
   },
   "outputs": [
    {
     "name": "stdout",
     "output_type": "stream",
     "text": [
      "A --> B\n",
      "A --> C\n",
      "B --> C\n",
      "A --> B\n",
      "C --> A\n",
      "C --> B\n",
      "A --> B\n",
      "A --> C\n",
      "B --> C\n",
      "B --> A\n",
      "C --> A\n",
      "B --> C\n",
      "A --> B\n",
      "A --> C\n",
      "B --> C\n"
     ]
    }
   ],
   "source": [
    "def hanoi(n: int, depart: str, arrivee: str, interm: str) -> None:\n",
    "    '''affiche les déplacements pour déplacer n disques de \n",
    "    depart vers arrivee en utilisant interm \n",
    "    (et en respectant les règles de déplacement du pb des tours de Hanoi)\n",
    "    '''\n",
    "    if n > 0:\n",
    "        hanoi(n-1, depart, interm, arrivee)\n",
    "        print(depart, '-->', arrivee)\n",
    "        hanoi(n-1, interm, arrivee, depart)        \n",
    "        \n",
    "'''appel'''\n",
    "hanoi(4, 'A', 'C', 'B')"
   ]
  },
  {
   "cell_type": "markdown",
   "metadata": {
    "slideshow": {
     "slide_type": "subslide"
    }
   },
   "source": [
    "<div class=\"alert alert-danger\">\n",
    "\n",
    "ATTENTION : il y a 0 `return` et 1 `print` ... et pourtant l'algorithme termine et (semble) donner les déplacements qui résolvent le pb ... C'est un biais pédagogique introduit par la _modélisation_ des piquets par des caractères (difficile de faire autre chose que des `print` sur des caractères). Vous reprendrez cette résolution lorsque vous saurez représenter les empilements de disques par ... des piles.\n",
    "\n",
    "</div>"
   ]
  },
  {
   "cell_type": "code",
   "execution_count": 28,
   "metadata": {
    "slideshow": {
     "slide_type": "subslide"
    }
   },
   "outputs": [
    {
     "name": "stdout",
     "output_type": "stream",
     "text": [
      "---------\n",
      "A --> B\n",
      "A --> C\n",
      "B --> C\n",
      "---------\n",
      "A --> C\n",
      "A --> B\n",
      "C --> B\n",
      "A --> C\n",
      "B --> A\n",
      "B --> C\n",
      "A --> C\n"
     ]
    }
   ],
   "source": [
    "''' appels simples pour se convaincre que ça marche et ...'''\n",
    "#hanoi(1, 'A', 'C', 'B')\n",
    "print(\"---------\")\n",
    "hanoi(2, 'A', 'C', 'B')\n",
    "print(\"---------\")\n",
    "hanoi(3, 'A', 'C', 'B')"
   ]
  },
  {
   "cell_type": "markdown",
   "metadata": {
    "slideshow": {
     "slide_type": "subslide"
    }
   },
   "source": [
    "**Exercice**  \n",
    "Exécuter \"à la main\" les déplacements de `hanoi(3)`et `hanoi(4)` en numérotant les disques (1,2,3,...) et les piquets (A,B,C)  \n",
    "et vérifier que les problèmes sont effectivement résolus !"
   ]
  },
  {
   "cell_type": "markdown",
   "metadata": {
    "slideshow": {
     "slide_type": "slide"
    }
   },
   "source": [
    "### Observation ... inquiétante\n",
    "\n",
    "\\# disques | \\# déplacements\n",
    ":----------:|:--------------:\n",
    "2 | 3\n",
    "3 | 7\n",
    "4 | 15\n",
    "\n",
    "Normal ?\n",
    "* $n=1$ : OK pour hanoi(1) = 1 seul déplacement\n",
    "* $n=2$ : 3 appels à hanoi(1) donc $3\\times1 = 3$ \n",
    "* $n=3$ : 2 hanoi(2) + 1 hanoi(1) = $2\\times 3 + 1 \\times 1 = 7$\n",
    "* $n=4$ : 2 hanoi(3) + 1 hanoi(1) = $2\\times 7 + 1 \\times 1 = 15$\n",
    "\n",
    "et ainsi de suite ... \n",
    "* ca augmente assez vite \n",
    "* on formalisera cette analyse de _complexité_ dans un prochain chapitre.\n",
    "\n",
    "**Exercices**\n",
    "* Coder un algo qui calcule le nombre de déplacements pour $n = 2, 3, \\dots, 12$ et pour plus ensuite \n",
    "* Modifier `hanoi()` pour compter le nombre de déplacements total \n",
    "\n",
    "\n"
   ]
  },
  {
   "cell_type": "code",
   "execution_count": 29,
   "metadata": {
    "scrolled": true,
    "slideshow": {
     "slide_type": "subslide"
    }
   },
   "outputs": [
    {
     "name": "stdout",
     "output_type": "stream",
     "text": [
      "2 disques  ->  3 déplacements\n",
      "3 disques  ->  7 déplacements\n",
      "4 disques  ->  15 déplacements\n",
      "5 disques  ->  31 déplacements\n",
      "6 disques  ->  63 déplacements\n",
      "7 disques  ->  127 déplacements\n",
      "8 disques  ->  255 déplacements\n",
      "9 disques  ->  511 déplacements\n",
      "10 disques  ->  1023 déplacements\n",
      "11 disques  ->  2047 déplacements\n",
      "12 disques  ->  4095 déplacements\n",
      "13 disques  ->  8191 déplacements\n",
      "Ca vous fait penser à quelque chose :) ?\n"
     ]
    }
   ],
   "source": [
    "a = 1\n",
    "for i in range(1, 13):\n",
    "    c = 2*a + 1\n",
    "    print(i+1, 'disques  -> ', c, 'déplacements')\n",
    "    a = c\n",
    "print(\"Ca vous fait penser à quelque chose :) ?\")"
   ]
  },
  {
   "cell_type": "markdown",
   "metadata": {
    "slideshow": {
     "slide_type": "slide"
    }
   },
   "source": [
    "## Compléments\n",
    "\n",
    "### Compléments \n",
    "\n",
    "Des ressources utiles :\n",
    "\n",
    "*  sur interstices.info : [hanoi_interstices](https://interstices.info/jcms/p_82121/les-tours-de-hanoi-un-probleme-classique-de-recursion)\n",
    "* un [mooc](https://programmation-recursive-2.appspot.com/coursehttps://programmation-recursive-2.appspot.com/course) sur la récursivité (UPMC)\n"
   ]
  },
  {
   "cell_type": "markdown",
   "metadata": {
    "slideshow": {
     "slide_type": "subslide"
    }
   },
   "source": [
    "### A venir\n",
    "\n",
    "1. Autres algorithmes récursifs importants\n",
    "    - recherche séquentielle et dichotomique : voir chapitre \"Rechercher\"    \n",
    "    - trier : tri fusion, tri rapide : voir chapitre \"Trier\"  \n",
    "2. Etablir la complexité d'algos récursifs\n",
    "    - La fonction de complexité est une suite récursive : la complexité de la résolution récursive d'un problème de taille n est fonction de la complexité de la résolution (récursive) du problème de taille réduite.\n",
    "    - exemple : $C(n) = 2 \\times C(n/2) + 1$ et $C(1) = 1$\n",
    "    - autre exemple : $C(n) = p \\times C(n/p) + f(p)$ et $C(1) = 1$\n",
    "    - ...\n",
    "    - est traité en dernière partie du chapitre \"Complexités\"  \n",
    "3. Prouver la terminaison et la correction de ces algos récursifs\n",
    "    - est traité dans le chapitre \"Prouver\"  \n",
    "4. Dé-récursifier : récursif -> itératif (quand on peut)\n",
    "    - voir les slides du cours de 2016 : http://perso.univ-perp.fr/langlois/images/pdf/ens/L1/s7-sl4.pdf "
   ]
  },
  {
   "cell_type": "markdown",
   "metadata": {
    "slideshow": {
     "slide_type": "slide"
    },
    "tags": []
   },
   "source": [
    "## Annexes\n",
    "\n",
    "(ann:traceVK)=\n",
    "### Pour tracer des segments de Von Koch avec turtle !\n",
    "\n",
    "Turtle utilise un affichage dans une fenêtre extérieure via tcl-tk.  \n",
    "Il est possible que cet affichage cohabite mal avec le notebook jupyter.  \n",
    "Il est préférable d'exécuter ces séquences de code python hors du notebook (idle, terminal, ...).  "
   ]
  },
  {
   "cell_type": "code",
   "execution_count": 30,
   "metadata": {
    "slideshow": {
     "slide_type": "subslide"
    }
   },
   "outputs": [],
   "source": [
    "import turtle as t\n",
    "#help(t)"
   ]
  },
  {
   "cell_type": "markdown",
   "metadata": {
    "slideshow": {
     "slide_type": "subslide"
    }
   },
   "source": [
    "```python\n",
    "\"\"\"Turtle : mouvements elementaires\"\"\"\n",
    "\n",
    "# init : taille ecran en pixels, clear ecran, reset des variablesm\n",
    "t.screensize(500,500)\n",
    "t.reset()\n",
    "t.hideturtle() # pour aller plus vite\n",
    "t.degrees() # angles en deg\n",
    "```"
   ]
  },
  {
   "cell_type": "markdown",
   "metadata": {
    "slideshow": {
     "slide_type": "subslide"
    }
   },
   "source": [
    "```python\n",
    "'''Utilise le module turtle \n",
    "Ouvre une fenêtre \n",
    "et trace 3 segments de VK\n",
    "'''\n",
    "\n",
    "def segment(d, n, color=\"black\"):\n",
    "    \"\"\"segment de von Koch\n",
    "    recursion sur n pour decouper le segment de longueur d et\n",
    "    tracer d (longueur du segment) pixels si n==0\"\"\"\n",
    "    t.pencolor(color)        \n",
    "\n",
    "    if n==0:\n",
    "        t.forward(d)\n",
    "    else:\n",
    "        dsur3 = d//3\n",
    "        segment(dsur3, n-1)\n",
    "        t.left(60)\n",
    "        segment(dsur3, n-1)\n",
    "        t.right(120)\n",
    "        segment(dsur3, n-1)\n",
    "        t.left(60)\n",
    "        segment(dsur3, n-1)\n",
    "\n",
    "# init        \n",
    "t.screensize(500,500)\n",
    "t.reset()\n",
    "t.hideturtle() # pour aller plus vite\n",
    "t.degrees() # angles en deg\n",
    "\n",
    "# taille\n",
    "d = 300\n",
    "#nbiter = input(\"nombre d'iterations = \")\n",
    "nbiter = 1\n",
    "h = 150 # espace vertical entre 2 traces\n",
    "\n",
    "# point de depart\n",
    "a = (-200, 400)\n",
    "\n",
    "# trace et changement point de depart\n",
    "for i in range(nbiter):\n",
    "    # deplacement au point de depart\n",
    "    t.up()\n",
    "    t.goto(a)\n",
    "    t.down()\n",
    "\n",
    "    # trace \n",
    "    segment(d, i)\n",
    "    \n",
    "    # maj point de depart\n",
    "    a = (a[0], a[1] - h)\n",
    "\n",
    "# pour attendre avant d'effacer la fenetre turtle\n",
    "v = input(\"OK ?\")\n",
    "t.reset()\n",
    "\n",
    "# pour que le trace reste a l ecran\n",
    "t. mainloop()\n",
    "```"
   ]
  },
  {
   "cell_type": "markdown",
   "metadata": {
    "slideshow": {
     "slide_type": "subslide"
    }
   },
   "source": [
    "```python\n",
    "'''trace (nbiter) flocons de VK'''\n",
    "def flocon(d, n, color=\"black\"):\n",
    "    ''' trace flocon de VK en utilisant segment'''\n",
    "    segment(d, n, color)\n",
    "    t.right(120)\n",
    "    segment(d, n, color)\n",
    "    t.right(120)\n",
    "    segment(d, n, color)\n",
    "    t.right(120)\n",
    "\n",
    "#nbiter = input(\"nombre d'iterations = \")\n",
    "nbiter = 3\n",
    "h = 150 # espace vertical entre 2 traces\n",
    "a = (-200, 200) # point de depart\n",
    "d = 84  # taille\n",
    "\n",
    "# trace et changement point de depart\n",
    "for i in range(nbiter):\n",
    "    # deplacement au point de depart\n",
    "    t.up()\n",
    "    t.goto(a)\n",
    "    t.down()\n",
    "\n",
    "    # trace \n",
    "    flocon(d, i)\n",
    "    \n",
    "    # maj point de depart\n",
    "    a = (a[0], a[1] - h)\n",
    "\n",
    "# pour attendre avant d'effacer la fenetre turtle\n",
    "v = input(\"OK ?\")\n",
    "t.reset()\n",
    " ```  "
   ]
  },
  {
   "cell_type": "markdown",
   "metadata": {},
   "source": [
    "(ann:graphviz)=\n",
    "### Pour tracer des graphes\n",
    "\n",
    "Un arbre est un graphe.\n",
    "Commençons avec une première construction simple de l'arbre des appels de `fact(4)`."
   ]
  },
  {
   "cell_type": "code",
   "execution_count": 31,
   "metadata": {
    "slideshow": {
     "slide_type": "notes"
    }
   },
   "outputs": [],
   "source": [
    "import graphviz as gvz\n",
    "import functools\n",
    "\n",
    "#help(gvz)"
   ]
  },
  {
   "cell_type": "code",
   "execution_count": 32,
   "metadata": {
    "slideshow": {
     "slide_type": "notes"
    }
   },
   "outputs": [],
   "source": [
    "''' arbre des appels du calcul de fact(4) : construction simple'''\n",
    "fact4 = gvz.Digraph(format='jpg')\n",
    "fact4.node('f4', label='fact(4)')\n",
    "fact4.node('f3', label='fact(3)')\n",
    "fact4.node('f2', label='fact(2)')\n",
    "fact4.node('f1', label='fact(1)', color='red')\n",
    "fact4.edge('f4', 'f3')\n",
    "fact4.edge('f3', 'f2')\n",
    "fact4.edge('f2', 'f1')\n",
    "\n",
    "file_out = fact4.render('fig/fact4_dot')"
   ]
  },
  {
   "cell_type": "code",
   "execution_count": 33,
   "metadata": {
    "slideshow": {
     "slide_type": "notes"
    }
   },
   "outputs": [
    {
     "name": "stdout",
     "output_type": "stream",
     "text": [
      "Affichage arbre construit avec le code précédent\n"
     ]
    },
    {
     "data": {
      "image/jpeg": "[encoded data removed]",
      "text/plain": [
       "<IPython.core.display.Image object>"
      ]
     },
     "metadata": {},
     "output_type": "display_data"
    }
   ],
   "source": [
    "'''Affichage arbre construit avec le code précédent'''\n",
    "from IPython.display import display, Image\n",
    "print(__doc__)\n",
    "display(Image('fig/fact4_dot.jpg'))"
   ]
  },
  {
   "cell_type": "markdown",
   "metadata": {},
   "source": [
    "Arbre des appels du calcul de fact(4) : construction plus complète"
   ]
  },
  {
   "cell_type": "code",
   "execution_count": 34,
   "metadata": {
    "slideshow": {
     "slide_type": "notes"
    }
   },
   "outputs": [],
   "source": [
    "''' arbre des appels du calcul de fact(4) : construction plus complète'''\n",
    "\n",
    "digraph = functools.partial(gvz.Digraph, format='jpg')\n",
    "\n",
    "def add_nodes(graph, nodes):\n",
    "    for n in nodes:\n",
    "        if isinstance(n, tuple):\n",
    "            graph.node(n[0], **n[1])\n",
    "        else:\n",
    "            graph.node(n)\n",
    "    return graph\n",
    "\n",
    "def add_edges(graph, edges):\n",
    "    for e in edges:\n",
    "        if isinstance(e[0], tuple):\n",
    "            graph.edge(*e[0], **e[1])\n",
    "        else:\n",
    "            graph.edge(*e)\n",
    "    return graph\n",
    "\n",
    "''' arbre complet de l'évaluation fact(4)'''\n",
    "fact4_complet = add_edges(\n",
    "    add_nodes(digraph(), [\n",
    "        ('4'), ('3'), ('2'),\n",
    "        ('f4', {'label': 'fact(4)'}),\n",
    "        ('f3', {'label': 'fact(3)'}),\n",
    "        ('f2', {'label': 'fact(2)'}),\n",
    "        ('f1', {'label': 'fact(1)', 'color':'red'}),\n",
    "    ]),\n",
    "    [\n",
    "        ('f4', '4'),\n",
    "        ('f3', '3'),\n",
    "        ('f2', '2'),\n",
    "        ('f4', 'f3'),\n",
    "        ('f3', 'f2'),\n",
    "        ('f2', 'f1')\n",
    "    ]\n",
    ").render('fig/fact4_complet')"
   ]
  },
  {
   "cell_type": "code",
   "execution_count": 35,
   "metadata": {
    "slideshow": {
     "slide_type": "notes"
    }
   },
   "outputs": [
    {
     "name": "stdout",
     "output_type": "stream",
     "text": [
      "Affichage arbre\n"
     ]
    },
    {
     "data": {
      "image/jpeg": "[encoded data removed]",
      "text/plain": [
       "<IPython.core.display.Image object>"
      ]
     },
     "metadata": {},
     "output_type": "display_data"
    }
   ],
   "source": [
    "'''Affichage arbre'''\n",
    "from IPython.display import display, Image\n",
    "print(__doc__)\n",
    "display(Image('fig/fact4_complet.jpg'))"
   ]
  },
  {
   "cell_type": "code",
   "execution_count": null,
   "metadata": {},
   "outputs": [],
   "source": []
  }
 ],
 "metadata": {
  "celltoolbar": "Diaporama",
  "kernelspec": {
   "display_name": "Python 3 (ipykernel)",
   "language": "python",
   "name": "python3"
  },
  "language_info": {
   "codemirror_mode": {
    "name": "ipython",
    "version": 3
   },
   "file_extension": ".py",
   "mimetype": "text/x-python",
   "name": "python",
   "nbconvert_exporter": "python",
   "pygments_lexer": "ipython3",
   "version": "3.9.6"
  },
  "latex_envs": {
   "LaTeX_envs_menu_present": true,
   "autoclose": false,
   "autocomplete": true,
   "bibliofile": "biblio.bib",
   "cite_by": "apalike",
   "current_citInitial": 1,
   "eqLabelWithNumbers": true,
   "eqNumInitial": 1,
   "hotkeys": {
    "equation": "Ctrl-E",
    "itemize": "Ctrl-I"
   },
   "labels_anchors": false,
   "latex_user_defs": false,
   "report_style_numbering": false,
   "user_envs_cfg": false
  },
  "toc": {
   "nav_menu": {
    "height": "503px",
    "width": "521px"
   },
   "number_sections": true,
   "sideBar": false,
   "skip_h1_title": false,
   "title_cell": "Table of Contents",
   "title_sidebar": "Contents",
   "toc_cell": true,
   "toc_position": {
    "height": "49.3125px",
    "left": "1215px",
    "right": "20px",
    "top": "47.458343505859375px",
    "width": "593px"
   },
   "toc_section_display": false,
   "toc_window_display": true
  }
 },
 "nbformat": 4,
 "nbformat_minor": 4
}
