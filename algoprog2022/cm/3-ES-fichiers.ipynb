{
 "cells": [
  {
   "cell_type": "markdown",
   "metadata": {
    "slideshow": {
     "slide_type": "slide"
    }
   },
   "source": [
    "(ch:ES-fichiers)=\n",
    "# Entrées-sorties simples avec des fichiers"
   ]
  },
  {
   "cell_type": "markdown",
   "metadata": {
    "slideshow": {
     "slide_type": "slide"
    }
   },
   "source": [
    "Mis à jour : {sub-ref}`today`, lecture : {sub-ref}`wordcount-minutes` minutes minimum, PhL."
   ]
  },
  {
   "cell_type": "markdown",
   "metadata": {
    "slideshow": {
     "slide_type": "slide"
    }
   },
   "source": [
    "Chapitre où on étudie comment effectuer des entrées-sorties (E/S) simples à l'aide de fichiers.\n",
    "\n",
    "Jusqu'à présent les entrées-sorties ont été générées à grands coups de `print()` et d'` input()` pour interagir avec l'écran ou le clavier.\n",
    "Les entrées-sorties ne sont pas limitées au couple écran-clavier.\n",
    "Bien au contraire, ces derniers ne sont que des cas particuliers d'une notion plus générale : celle de _fichier_. "
   ]
  },
  {
   "cell_type": "markdown",
   "metadata": {
    "slideshow": {
     "slide_type": "slide"
    }
   },
   "source": [
    "## Notions générales et vocabulaire important\n",
    "\n",
    "### Fichier, fichier texte et fichier binaire\n",
    "\n",
    "A la différence de la mémoire de l'ordinateur, le fichier (_file_ en anglais) permet de stocker de l'information et la retrouver si l'alimentation électrique de l'ordinateur est interrompue.  \n",
    "Par information, on entend des données de tout type (nombres, sons, images,...), des programmes, des bibliothèques de composants du logiciel, ...  \n",
    "\"Physiquement\", les [supports matériels de ces fichiers](https://fr.wikipedia.org/wiki/Mémoire_de_masse) sont variés et évoluent selon les technologies disponibles : cartes perforées, bandes magnétiques, disques optiques, mémoires flash ... "
   ]
  },
  {
   "cell_type": "markdown",
   "metadata": {
    "slideshow": {
     "slide_type": "slide"
    }
   },
   "source": [
    "En pratique, il faut distinguer les _fichiers_ dits **texte** (ou fichiers textuels) des _fichiers_ (dits) **binaires**. \n",
    "\n",
    "- Les fichiers texte  contiennent de l'information exploitable par l'humain \n",
    "- Les fichiers binaire contiennent de l'information uniquement exploitable par l'ordinateur\n",
    "\n",
    "Bien sûr, ces deux familles de fichiers sont au final une suite de bits stockés sur un support physique.   \n",
    "Dans ce chapitre, l'accent sera surtout mis sur les fichiers de texte utiles pour nos développements de taille modeste."
   ]
  },
  {
   "cell_type": "markdown",
   "metadata": {
    "slideshow": {
     "slide_type": "slide"
    }
   },
   "source": [
    "### Programmer avec des fichier : principes\n",
    "\n",
    "La plupart des langages de programmation distinguent les fichiers (dits) logiques des fichiers (dits) physiques.\n",
    "\n",
    "- Les __fichiers logiques__ sont des variables manipulées par le programme  \n",
    "    - Ce sont des variables d'un nouveau type : le type _fichier_\n",
    "- Les __fichiers physiques__ sont les supports effectifs du stockage de l'information (en mémoire, sur disque, sur clé, ...). \n",
    "    - Ils sont identifiés par le \"chemin\" système de leur localisation (le _path_)(`/home/mon_user_id/work/le_fichier.txt`)   \n",
    "    - Ils ne sont manipulés qu'une seule fois : lors de l'association fichier logique $\\to$ fichier physique"
   ]
  },
  {
   "cell_type": "markdown",
   "metadata": {
    "slideshow": {
     "slide_type": "subslide"
    }
   },
   "source": [
    "__Utiliser un fichier__ (en lecture, écriture ou lecture-écriture) consiste en les 4 étapes suivantes.\n",
    "1. __associer le fichier logique__ à __un fichier physique__\n",
    "2. __ouvrir__ le fichier logique  \n",
    "3. effectuer les __traitements__ désirés sur le fichier logique  \n",
    "4. __fermer__ le fichier logique  \n",
    "\n",
    "L'étape d'ouverture du fichier précise le __type des traitements__ qui seront effectués en distinguant :\n",
    "- la lecture : _read_\n",
    "- l'écriture : _write_\n",
    "- la lecture + l'écriture : _readwrite_  "
   ]
  },
  {
   "cell_type": "markdown",
   "metadata": {
    "slideshow": {
     "slide_type": "subslide"
    }
   },
   "source": [
    "__Organisation :__ \n",
    "\n",
    "- Un fichier est décomposé en **lignes** et se termine par un symbole de fin de fichier : _EOF (end of file)_     \n",
    "- Une ligne est une **suite de caractères** et se termine par un symbole de fin de ligne : _EOL (end of line)_  \n",
    "- Les traitements correspondent à un _accès séquentiel_ du fichier, en commençant à ligne 1.   "
   ]
  },
  {
   "cell_type": "markdown",
   "metadata": {},
   "source": [
    "**Remarque.**\n",
    "\n",
    "Le symbole de fin de ligne varie selon les systèmes d'exploitation [lien wikipedia](https://fr.wikipedia.org/wiki/Fin_de_ligne) ou, en mieux, la [version en anglais](https://en.wikipedia.org/wiki/Newline). \n",
    "Il en est de même pour le [symbole de fin de fichier](https://en.wikipedia.org/wiki/End-of-file).\n",
    "\n",
    "Dans ce qui suit, on identifiera le symbole de fin de ligne avec **le caractère spécial `\\n`**.\n"
   ]
  },
  {
   "cell_type": "markdown",
   "metadata": {
    "slideshow": {
     "slide_type": "subslide"
    }
   },
   "source": [
    ":::{dropdown} Aspect historique\n",
    "\n",
    "**Fichier à accès direct _vs._ à accès séquentiel.**\n",
    "\n",
    "On distingue :\n",
    "-  les fichiers qui permettent d'accéder _directement_ à une ligne (et l'enregistrement) quelconque de leur contenu,   \n",
    "- les fichiers qui nécessitent un parcours systématique et _séquentiel_ à partir de la dernière ligne accédée (et donc depuis le début du fichier lors de la première opération).\n",
    "\n",
    "Ces différents comportements sont essentiellement dues à des aspects matériels.\n",
    "Historiquement, les fichiers stockés sur des bandes magnétiques (!) étaient à accès séquentiel.\n",
    "\n",
    "La plupart des fichiers utilisables aujourd'hui sont à accès direct -- ce qui sera le cas dans ce qui suit.\n",
    "\n",
    ":::"
   ]
  },
  {
   "cell_type": "markdown",
   "metadata": {
    "slideshow": {
     "slide_type": "slide"
    }
   },
   "source": [
    "## Trois exemples simples pour savoir faire"
   ]
  },
  {
   "cell_type": "markdown",
   "metadata": {
    "slideshow": {
     "slide_type": "subslide"
    }
   },
   "source": [
    "<div class=\"alert alert-info\">\n",
    "\n",
    "Objectif 10 : On se limite à des manipulations simples (lecture ou écriture) de fichier de texte.\n",
    "    \n",
    "</div>"
   ]
  },
  {
   "cell_type": "markdown",
   "metadata": {
    "slideshow": {
     "slide_type": "slide"
    }
   },
   "source": [
    "Un premier objectif de ce chapitre est de faciliter les tests de vos développements en limitant la perte de temps liée à la saisie au clavier, perte de temps qui est d'autant plus élevée que le nombre de saisies est élevé (nombreuses valeurs ou nombreux essais).   \n",
    "\n",
    "La forme des fichiers dépend des valeurs stockées mais aussi des facilités de lecture-écriture du langage.\n",
    "Un fichier structuré de façon simple, voire simpliste, fera l'objet de procédures d'entrée-sortie faciles à écrire.  \n",
    "Inversement, les traitements d'un fichier structuré de façon plus complexe seront vite plus techniques à écrire.\n",
    "En contre-partie, le fichier simple sera souvent moins commode à manipuler via l'éditeur de texte qu'un fichier dont la structure reflète déjà celle de l'information qu'il contient.\n",
    "\n",
    "Face à ce compromis, nos premiers exemples visent des procédures d'entrées-sorties simples pour python. \n",
    "- Le premier manipule _uniquement_ des chaînes de caractères et se limite à des lectures\n",
    "- Le deuxième effectue des lectures et traitements sur des entiers et des flottants\n",
    "- Le troisième effectue des écritures d'entiers et de flottants"
   ]
  },
  {
   "cell_type": "markdown",
   "metadata": {},
   "source": [
    "### Premier exemple : lectures de `str` \n",
    "\n",
    "\n",
    "#### Objectif\n",
    "\n",
    "Je veux tester la fonction `nb_occ()` qui compte le nombre d'occurrences d'une lettre dans une chaîne de caractères. "
   ]
  },
  {
   "cell_type": "code",
   "execution_count": 1,
   "metadata": {},
   "outputs": [],
   "source": [
    "def nb_occ (char: str, texte: str) -> int:\n",
    "    '''calcule et retourne le nombre d'occurrences de char dans texte'''\n",
    "    nb = 0\n",
    "    for i in range(len(texte)):\n",
    "        if texte[i] == char:\n",
    "            nb = nb + 1\n",
    "    return nb"
   ]
  },
  {
   "cell_type": "markdown",
   "metadata": {},
   "source": [
    "#### Deux fichiers de test\n",
    "\n",
    "Je décide de compléter plusieurs fichiers texte composés de 2 lignes selon le modèle suivant :\n",
    "\n",
    "> le caractère cherché  \n",
    "> la chaîne de caractères à explorer\n",
    "\n",
    "Les fichiers `test_nb_occ0.txt` et `test_nb_occ1.txt` sont deux exemples de tels fichiers. "
   ]
  },
  {
   "cell_type": "code",
   "execution_count": 2,
   "metadata": {},
   "outputs": [
    {
     "name": "stdout",
     "output_type": "stream",
     "text": [
      "z\n",
      "anticonstitutionnellement\n"
     ]
    }
   ],
   "source": [
    "!cat tmp/test_nb_occ0.txt"
   ]
  },
  {
   "cell_type": "code",
   "execution_count": 3,
   "metadata": {},
   "outputs": [
    {
     "name": "stdout",
     "output_type": "stream",
     "text": [
      "n\n",
      "anticonstitutionnellement\n"
     ]
    }
   ],
   "source": [
    "!cat tmp/test_nb_occ1.txt"
   ]
  },
  {
   "cell_type": "markdown",
   "metadata": {},
   "source": [
    "#### Lecture ligne à ligne avec `.readline()` qui fournit une `str` par ligne \n",
    "\n",
    "La fonction-méthode python `.readline()` permet :\n",
    "- de parcourir séquentiellement le fichier ligne après ligne,\n",
    "- et chaque ligne lue est fournie comme une `str`."
   ]
  },
  {
   "cell_type": "markdown",
   "metadata": {},
   "source": [
    "Chaque ligne des fichiers de test contient une chaîne de caractères.\n",
    "Cette lecture avec `.readline()` est donc tout à fait adaptée."
   ]
  },
  {
   "cell_type": "markdown",
   "metadata": {},
   "source": [
    ":::{important} \n",
    "\n",
    "La fonction-méthode `.readline()` est une fonction particulière. \n",
    "Il s'agit en fait d'une _méthode_. \n",
    "Une méthode est une fonction dont l'appel est préfixé par l'identifiant d'une variable (un objet en fait) suivi d'un `.` \n",
    "On parlera donc de _fonction-méthode_.\n",
    "\n",
    "Exemple. `mon_fichier.readline()` pour indiquer que `readline()` s'applique au fichier (logique) de nom `mon_fichier`.\n",
    "\n",
    "On pourrait se demander pourquoi `mon_fichier` n'est pas un paramètre de l'appel de `readline()`, c-a-d. que `mon_fichier` pourrait apparaître entre `( )` lors de l'appel. Ce point sera clarifié ultérieurement. Ce n'est certainement pas la première fois que vous rencontrez cette **notation préfixée pointée**. Ce ne sera pas la dernière. Ce n'est pas le cas ici avec `.readline()` mais des paramètres autres que celui préfixé peuvent apparaître entre `( )` lors de l'appel. \n",
    ":::"
   ]
  },
  {
   "cell_type": "code",
   "execution_count": 4,
   "metadata": {
    "slideshow": {
     "slide_type": "subslide"
    },
    "tags": []
   },
   "outputs": [],
   "source": [
    "# association et ouverture du fichier -- noter le mode \"r\" pour read\n",
    "f = open(\"./tmp/test_nb_occ0.txt\", \"r\", encoding=\"utf8\")\n",
    "\n",
    "# lecture séquentielle par ligne. \n",
    "c = f.readline() # lecture du caractère \n",
    "m = f.readline() # lecture du mot\n",
    "\n",
    "# fermeture    \n",
    "f.close()"
   ]
  },
  {
   "cell_type": "markdown",
   "metadata": {},
   "source": [
    ":::{note}\n",
    "Notez le préfixe `f` devant `.readline()` où `f` est le nom du fichier logique défini à l'association/ouverture.\n",
    ":::"
   ]
  },
  {
   "cell_type": "markdown",
   "metadata": {},
   "source": [
    "Les 4 étapes association/ouverture/lecture/fermeture de ce fichier sont effectuées. \n",
    "\n",
    "Le traitement des entrées n'est pourtant **pas terminé**. "
   ]
  },
  {
   "cell_type": "markdown",
   "metadata": {},
   "source": [
    "#### Nettoyage des caractères spéciaux de fin de ligne\n",
    "\n",
    "Observons plus en détail ce qui a été _effectivement_ lu.  \n",
    "Un focus sur le caractère `c` lu à la première ligne du fichier suffit à comprendre."
   ]
  },
  {
   "cell_type": "code",
   "execution_count": 5,
   "metadata": {},
   "outputs": [
    {
     "name": "stdout",
     "output_type": "stream",
     "text": [
      "z\n",
      "\n",
      "<class 'str'>\n",
      "2\n"
     ]
    }
   ],
   "source": [
    "print(c)\n",
    "print(type(c))\n",
    "print(len(c))"
   ]
  },
  {
   "cell_type": "markdown",
   "metadata": {},
   "source": [
    "Surprise : `c` est un caractère de longueur 2 !?\n",
    "\n",
    "En effet, la première ligne du fichier est composé d'un caractère (ici `z`). Mais elle est aussi terminée par le caractère spécial d'EOL, ici `\\n`. Ce qui fait 2 caractères au total lus par `.readline()`.\n",
    "\n",
    "On peut le vérifier en convertissant `c` en `lst` :"
   ]
  },
  {
   "cell_type": "code",
   "execution_count": 6,
   "metadata": {},
   "outputs": [
    {
     "name": "stdout",
     "output_type": "stream",
     "text": [
      "['z', '\\n']\n"
     ]
    }
   ],
   "source": [
    "print(list(c))"
   ]
  },
  {
   "cell_type": "markdown",
   "metadata": {},
   "source": [
    "Il faut donc \"nettoyer\" chaque ligne lue de ce caractère spécial si le traitement à effectuer le nécessite.\n",
    "C'est très souvent le cas.\n",
    "\n",
    "Les tranches de `str` ou de `lst`  python (_slice_) rendent ce nettoyage facile : on rappelle que le dernier élément d'un tableau est d'indice -1."
   ]
  },
  {
   "cell_type": "code",
   "execution_count": 7,
   "metadata": {},
   "outputs": [
    {
     "name": "stdout",
     "output_type": "stream",
     "text": [
      "z\n"
     ]
    }
   ],
   "source": [
    "c = c[:-1] # tranche de tableau qui \"supprime\" la dernière valeur de c \n",
    "print(c)"
   ]
  },
  {
   "cell_type": "markdown",
   "metadata": {},
   "source": [
    "Et de même pour le mot lu en seconde ligne du fichier :"
   ]
  },
  {
   "cell_type": "code",
   "execution_count": 8,
   "metadata": {},
   "outputs": [
    {
     "name": "stdout",
     "output_type": "stream",
     "text": [
      "anticonstitutionnellement\n"
     ]
    }
   ],
   "source": [
    "if m[-1] == '\\n':\n",
    "    m = m[:-1]\n",
    "print(m)"
   ]
  },
  {
   "cell_type": "markdown",
   "metadata": {},
   "source": [
    "**Remarque.** \n",
    "On a ajouté un test de la présence du _EOL_ car la dernière ligne d'un fichier ne se termine pas nécessairement ainsi."
   ]
  },
  {
   "cell_type": "markdown",
   "metadata": {},
   "source": [
    "#### Traitement : le premier test de `nb_occ()`\n",
    "\n",
    "Passons enfin au traitement proprement dit, ici le test le la fonction `nb_occ()`."
   ]
  },
  {
   "cell_type": "code",
   "execution_count": 35,
   "metadata": {
    "tags": []
   },
   "outputs": [
    {
     "ename": "TypeError",
     "evalue": "object of type 'int' has no len()",
     "output_type": "error",
     "traceback": [
      "\u001b[0;31m---------------------------------------------------------------------------\u001b[0m",
      "\u001b[0;31mTypeError\u001b[0m                                 Traceback (most recent call last)",
      "Input \u001b[0;32mIn [35]\u001b[0m, in \u001b[0;36m<module>\u001b[0;34m\u001b[0m\n\u001b[0;32m----> 1\u001b[0m \u001b[38;5;28;01massert\u001b[39;00m \u001b[43mnb_occ\u001b[49m\u001b[43m(\u001b[49m\u001b[43mc\u001b[49m\u001b[43m,\u001b[49m\u001b[43m \u001b[49m\u001b[43mm\u001b[49m\u001b[43m)\u001b[49m \u001b[38;5;241m==\u001b[39m \u001b[38;5;241m0\u001b[39m\n",
      "Input \u001b[0;32mIn [1]\u001b[0m, in \u001b[0;36mnb_occ\u001b[0;34m(char, texte)\u001b[0m\n\u001b[1;32m      2\u001b[0m \u001b[38;5;124;03m'''calcule et retourne le nombre d'occurrences de char dans texte'''\u001b[39;00m\n\u001b[1;32m      3\u001b[0m nb \u001b[38;5;241m=\u001b[39m \u001b[38;5;241m0\u001b[39m\n\u001b[0;32m----> 4\u001b[0m \u001b[38;5;28;01mfor\u001b[39;00m i \u001b[38;5;129;01min\u001b[39;00m \u001b[38;5;28mrange\u001b[39m(\u001b[38;5;28;43mlen\u001b[39;49m\u001b[43m(\u001b[49m\u001b[43mtexte\u001b[49m\u001b[43m)\u001b[49m):\n\u001b[1;32m      5\u001b[0m     \u001b[38;5;28;01mif\u001b[39;00m texte[i] \u001b[38;5;241m==\u001b[39m char:\n\u001b[1;32m      6\u001b[0m         nb \u001b[38;5;241m=\u001b[39m nb \u001b[38;5;241m+\u001b[39m \u001b[38;5;241m1\u001b[39m\n",
      "\u001b[0;31mTypeError\u001b[0m: object of type 'int' has no len()"
     ]
    }
   ],
   "source": [
    "assert nb_occ(c, m) == 0"
   ]
  },
  {
   "cell_type": "markdown",
   "metadata": {},
   "source": [
    "On a donc lu le premier fichier de test de `nb_occ`. La fonction a passé avec succès le test défini par les paramètres lus dans ce fichier. L'exécution sans erreur de l'instruction `assert` permet de continuer.  "
   ]
  },
  {
   "cell_type": "markdown",
   "metadata": {},
   "source": [
    "#### Exploitation du second fichier\n",
    "\n",
    "On recommence lecture et test pour le second fichier de test où 5 occurrences de la lettre `n` sont attendus."
   ]
  },
  {
   "cell_type": "code",
   "execution_count": 36,
   "metadata": {},
   "outputs": [
    {
     "name": "stdout",
     "output_type": "stream",
     "text": [
      "n\n",
      "anticonstitutionnellement\n"
     ]
    }
   ],
   "source": [
    "!cat tmp/test_nb_occ1.txt"
   ]
  },
  {
   "cell_type": "markdown",
   "metadata": {},
   "source": [
    "On supprime directement le _EOL_ à chaque lecture à l'aide de la tranche `[:-1]`."
   ]
  },
  {
   "cell_type": "code",
   "execution_count": 10,
   "metadata": {
    "slideshow": {
     "slide_type": "subslide"
    },
    "tags": []
   },
   "outputs": [],
   "source": [
    "# association et ouverture du fichier -- noter le mode \"r\" pour read\n",
    "f = open(\"./tmp/test_nb_occ1.txt\", \"r\", encoding=\"utf8\")\n",
    "\n",
    "# lecture séquentielle par ligne\n",
    "c = f.readline()[:-1] # lecture du caractère \n",
    "m = f.readline()[:-1] # lecture du mot\n",
    "\n",
    "# fermeture    \n",
    "f.close()\n",
    "\n",
    "# affichage par curiosité\n",
    "#print(list(c), m, nb_occ(c, m))\n",
    "\n",
    "# test\n",
    "assert nb_occ(c, m) == 5"
   ]
  },
  {
   "cell_type": "markdown",
   "metadata": {},
   "source": [
    "Ce second test de `nb_occ()` est aussi validé."
   ]
  },
  {
   "cell_type": "markdown",
   "metadata": {},
   "source": [
    "**Extensions possibles.**\n",
    "\n",
    "Il vient naturellement à l'idée de rassembler dans un seul fichier plusieurs cas tests, voire même les résultats attendus de chacun de ces tests. Même dans ce cas simple, de telles extensions sont vite plus compliquées qu'il y parait. En effet, ajouter par exemple les résultats attendus revient à ajouter des valeurs entières (les nombres d'occurrences attendus) dans un traitement pour l'instant limité à de la manipulation de `str`.\n",
    "\n",
    "L'exemple suivant permet d'illustrer un cas similaire."
   ]
  },
  {
   "cell_type": "markdown",
   "metadata": {
    "slideshow": {
     "slide_type": "subslide"
    },
    "tags": []
   },
   "source": [
    "### Deuxième exemple : lecture `.readline()` avec conversion de type et effets dynamiques\n",
    "\n",
    "#### Objectif\n",
    "\n",
    "Je veux tester la fonction de produit scalaire suivante."
   ]
  },
  {
   "cell_type": "code",
   "execution_count": 11,
   "metadata": {
    "tags": []
   },
   "outputs": [],
   "source": [
    "def prod_scal(u : list[float], v : list[float], n : int) -> float:\n",
    "    '''calcule et retourne le produit scalaire u^t.v où u et v sont de taille n'''\n",
    "    assert len(u) == len(v) == n\n",
    "    res = 0.0\n",
    "    for i in range(n):\n",
    "        res = res + u[i]*v[i]\n",
    "    return res"
   ]
  },
  {
   "cell_type": "markdown",
   "metadata": {
    "slideshow": {
     "slide_type": "subslide"
    },
    "tags": []
   },
   "source": [
    "#### La forme d'un fichier de test\n",
    "\n",
    "Je décide de compléter un fichier texte selon le modèle suivant :\n",
    "\n",
    "> $n$  \n",
    "> $u$   \n",
    "> $v$   \n",
    "> $u^t v$ \n",
    "\n",
    "Ainsi :\n",
    "\n",
    "1. la première donne la taille $n$ des vecteurs,  \n",
    "2. les $n$ lignes suivantes donne les composantes de $u$,\n",
    "3. les $n$ lignes suivantes celles de $v$,\n",
    "3. enfin la dernière indique la valeur du produit scalaire (calculée \"à la main\").\n",
    "\n",
    "Ainsi, je vais pouvoir comparer le résultat de `prod_scal()` et celui attendu, et ce sur des vecteurs de tailles arbitraire. Chaque choix ($n$, $u$, $v$, $u^t v$) est un _cas test_ pour `prod_scal()`.\n",
    "\n",
    "`test_prod_scal.txt` est un exemple d'un premier cas test : 2 vecteurs de taille 4 de produit scalaire égal à 2."
   ]
  },
  {
   "cell_type": "code",
   "execution_count": 12,
   "metadata": {},
   "outputs": [
    {
     "name": "stdout",
     "output_type": "stream",
     "text": [
      "4\n",
      "1.\n",
      "1.\n",
      "1.\n",
      "1.\n",
      "1.\n",
      "1.\n",
      "-1.\n",
      "1.\n",
      "2.\n"
     ]
    }
   ],
   "source": [
    "!cat ./tmp/test_prod_scal.txt"
   ]
  },
  {
   "cell_type": "markdown",
   "metadata": {},
   "source": [
    "#### Conversions et effets dynamiques\n",
    "\n",
    "**Analyse préliminaire**\n",
    "\n",
    "1. Conversions `str` $\\to$ valeurs numériques\n",
    "    - Le fichier de texte contient _uniquement_ des caractères, des `str` en python.\n",
    "    - Pourtant, ces `str` correspondent à un `int` ou des `float`\n",
    "    - Ainsi, des conversions adaptées devront être effectuées pendant (ou après) la lecture :\n",
    "        - conversion en `int` pour la ligne 1\n",
    "        - conversions en `float` pour les autres\n",
    "\n",
    "2. Conséquences dynamiques \n",
    "    - La taille des vecteurs est connue _après_ avoir lu la valeur pour `n` (ligne 1) \n",
    "    - Les vecteurs devront être créés une fois `n` connu\n",
    "    - La lecture de la suite du fichier (composantes des 2 vecteurs, résultat attendu) dépend aussi de la valeur lue pour $n$\n",
    "    \n",
    "\n",
    "3. Rappel : la gestion des fins de ligne\n",
    "    - Chaque ligne du fichier se termine par un caractère spécial _EOL_, ici `\\n`\n",
    "    - Comme précédemment, ces caractères spéciaux seront lus aussi et un traitement adapté sera défini -- par exemple, les supprimer. "
   ]
  },
  {
   "cell_type": "markdown",
   "metadata": {},
   "source": [
    "On va profiter de cet exemple pour donner **une autre construction** python des 4 étapes association/ouverture/lecture/fermeture de ce fichier.\n",
    "\n",
    "- La lecture est toujours effectuée ligne après ligne avec `.readline()` \n",
    "- mais la construction avec la clause de contexte `with` permet de se dégager de l'ouverture et la fermeture au préalable obligatoires."
   ]
  },
  {
   "cell_type": "markdown",
   "metadata": {},
   "source": [
    "#### Lecture avec la clause `with` \n",
    "\n",
    "Cette lecture de la première ligne uniquement pour commencer en illustrant cette nouvelle construction très utile en pratique."
   ]
  },
  {
   "cell_type": "code",
   "execution_count": 13,
   "metadata": {
    "slideshow": {
     "slide_type": "subslide"
    },
    "tags": []
   },
   "outputs": [],
   "source": [
    "# association/ouverture/lecture/fermeture avec clause with\n",
    "with open(\"./tmp/test_prod_scal.txt\", \"r\", encoding=\"utf8\") as f:\n",
    "    # la taille n : lecture et nettoyage du EOL\n",
    "    n = f.readline()[:-1]"
   ]
  },
  {
   "cell_type": "code",
   "execution_count": 14,
   "metadata": {},
   "outputs": [
    {
     "name": "stdout",
     "output_type": "stream",
     "text": [
      "4 1 <class 'str'>\n"
     ]
    }
   ],
   "source": [
    "print(n, len(n), type(n))"
   ]
  },
  {
   "cell_type": "markdown",
   "metadata": {},
   "source": [
    "On retrouve la configuration de l'exemple précédent sans à avoir à utiliser les instructions `open()`et `.close()`.\n",
    "\n",
    "Occupons-nous maintenant du typage des valeurs lues.\n"
   ]
  },
  {
   "cell_type": "markdown",
   "metadata": {},
   "source": [
    "#### Lecture `.readline()` avec `with` et typage \n",
    "\n",
    "Le nettoyage de chaque ligne étant effectué après la lecture et avant l'affectation, le typage est aisé : d'abord un `int` puis des `float`."
   ]
  },
  {
   "cell_type": "code",
   "execution_count": 15,
   "metadata": {
    "slideshow": {
     "slide_type": "subslide"
    },
    "tags": []
   },
   "outputs": [],
   "source": [
    "# association/ouverture/fermeture avec clause with\n",
    "with open(\"./tmp/test_prod_scal.txt\", \"r\", encoding=\"utf8\") as f:\n",
    "    # la taille n : lecture\n",
    "    n = int(f.readline()[:-1])\n",
    "    \n",
    "    # premier vecteur : création et lecture\n",
    "    x = [0. for i in range(n)]\n",
    "    for j in range(n):\n",
    "        x[j] = float(f.readline()[:-1])\n",
    "    # second vecteur : création et lecture\n",
    "    y = [0. for i in range(n)]\n",
    "    for j in range(n):\n",
    "        y[j] = float(f.readline()[:-1])\n",
    "    # produit scalaire : resultat attendu \n",
    "    ps_exact = float(f.readline()[:-1])  "
   ]
  },
  {
   "cell_type": "markdown",
   "metadata": {},
   "source": [
    "**Remarque.** Ne pas oublier le nettoyage de _EOL_ lors de chaque `readline()`. \n",
    "\n",
    "Il ne reste plus qu'à tester."
   ]
  },
  {
   "cell_type": "markdown",
   "metadata": {},
   "source": [
    "#### Test unitaire de `prod_scal()`"
   ]
  },
  {
   "cell_type": "code",
   "execution_count": 16,
   "metadata": {},
   "outputs": [],
   "source": [
    "assert prod_scal(x, y, n) == ps_exact"
   ]
  },
  {
   "cell_type": "markdown",
   "metadata": {},
   "source": [
    "Le test ainsi validé nous rassure sur la correction de `prod_scal()`. \n",
    "\n",
    "Bien sûr, des extensions similaires à celles explicitées à l'exemple précédent sont tentantes. \n",
    "On vous invite à continuer en ce sens en exercice."
   ]
  },
  {
   "cell_type": "markdown",
   "metadata": {},
   "source": [
    "### Troisième exemple : écritures simples avec `.write()`\n",
    "\n",
    "\n",
    "On termine en montrant comment l'écriture simple _dans_ des fichiers textes s'obtient de façon très similaire avec la fonction méthode `.write()`.\n",
    "\n",
    "Toujours les 4 étapes mais :\n",
    "- l'ouverture du fichier s'effectue en mode `w` (_write_) ou `a` (_append_ : ajouter à la fin)\n",
    "- la fonction-méthode `.write()` permet l'écriture d'une `str` \n",
    "- la conversion vers des `str` sera donc un préalable\n",
    "- ainsi que la gestion des _EOL_, ici `\\n` pour effectuer les sauts de lignes souhaités dans le fichier\n",
    "    - en effet, `.write()` écrit la `str` à la suite de la dernière écriture effectuée."
   ]
  },
  {
   "cell_type": "markdown",
   "metadata": {},
   "source": [
    "#### Construction d'un cas test de `nb_occ()`"
   ]
  },
  {
   "cell_type": "code",
   "execution_count": 17,
   "metadata": {},
   "outputs": [],
   "source": [
    "# Préparation des données à stocker\n",
    "from random import randint\n",
    "\n",
    "# une taille de vecteurs au hasard\n",
    "n = randint(1, 10)\n",
    "\n",
    "# un choix de composantes tel que ps_exact == n\n",
    "x = [float(i) for i in range(1, n+1)]\n",
    "y = [1./float(i) for i in range(1, n+1)]"
   ]
  },
  {
   "cell_type": "code",
   "execution_count": 18,
   "metadata": {},
   "outputs": [
    {
     "name": "stdout",
     "output_type": "stream",
     "text": [
      "6 [1.0, 2.0, 3.0, 4.0, 5.0, 6.0] [1.0, 0.5, 0.3333333333333333, 0.25, 0.2, 0.16666666666666666] 6.0\n"
     ]
    }
   ],
   "source": [
    "## vérifications\n",
    "print(n, x, y, prod_scal(x, y, n))"
   ]
  },
  {
   "cell_type": "markdown",
   "metadata": {},
   "source": [
    "#### Enregistrement dans un fichier de test"
   ]
  },
  {
   "cell_type": "code",
   "execution_count": 19,
   "metadata": {},
   "outputs": [],
   "source": [
    "# association/ouverture/fermeture avec clause with\n",
    "with open(\"./tmp/test_prod_scal_write.txt\", \"w\", encoding=\"utf8\") as f:\n",
    "    f.write( str(n) + '\\n' )\n",
    "    for i in range(n):\n",
    "        f.write( str(x[i]) + '\\n' )\n",
    "    for i in range(n):\n",
    "        f.write( str(y[i]) + '\\n' )\n",
    "    f.write( str(float(n))  + '\\n' )  # ==ps_exact        "
   ]
  },
  {
   "cell_type": "markdown",
   "metadata": {},
   "source": [
    "On vérifie que le fichier `\n",
    "./tmp/test_prod_scal_write.txt` a bien été créé et son contenu."
   ]
  },
  {
   "cell_type": "code",
   "execution_count": 20,
   "metadata": {},
   "outputs": [
    {
     "name": "stdout",
     "output_type": "stream",
     "text": [
      "-rw-r--r--  1 langlois  staff  30  7 fév 11:46 tmp/test_prod_scal.txt\n",
      "-rw-r--r--  1 langlois  staff  91  7 fév 08:46 tmp/test_prod_scal2.txt\n",
      "-rw-r--r--  1 langlois  staff  92  7 fév 11:35 tmp/test_prod_scal3.txt\n",
      "-rw-r--r--  1 langlois  staff  86  7 fév 17:23 tmp/test_prod_scal_write.txt\n"
     ]
    }
   ],
   "source": [
    "!ls -l tmp/test_prod_scal*.txt"
   ]
  },
  {
   "cell_type": "code",
   "execution_count": 21,
   "metadata": {},
   "outputs": [
    {
     "name": "stdout",
     "output_type": "stream",
     "text": [
      "6\n",
      "1.0\n",
      "2.0\n",
      "3.0\n",
      "4.0\n",
      "5.0\n",
      "6.0\n",
      "1.0\n",
      "0.5\n",
      "0.3333333333333333\n",
      "0.25\n",
      "0.2\n",
      "0.16666666666666666\n",
      "6.0\n"
     ]
    }
   ],
   "source": [
    "!cat tmp/test_prod_scal_write.txt"
   ]
  },
  {
   "cell_type": "markdown",
   "metadata": {},
   "source": [
    "#### Exploitation du fichier de test\n",
    "\n",
    ":::{dropdown}\n",
    "\n",
    "Il suffit maintenant de lire ce fichier et d'effectuer le test."
   ]
  },
  {
   "cell_type": "code",
   "execution_count": 22,
   "metadata": {
    "slideshow": {
     "slide_type": "subslide"
    },
    "tags": []
   },
   "outputs": [],
   "source": [
    "# association/ouverture/fermeture avec clause with\n",
    "with open(\"./tmp/test_prod_scal_write.txt\", \"r\", encoding=\"utf8\") as f:\n",
    "    # la taille n : lecture\n",
    "    n = int(f.readline()[:-1])\n",
    "    \n",
    "    # premier vecteur : création et lecture\n",
    "    x = [0. for i in range(n)]\n",
    "    for j in range(n):\n",
    "        x[j] = float(f.readline()[:-1])\n",
    "    # second vecteur : création et lecture\n",
    "    y = [0. for i in range(n)]\n",
    "    for j in range(n):\n",
    "        y[j] = float(f.readline()[:-1])\n",
    "    # produit scalaire : resultat attendu \n",
    "    ps_exact = float(f.readline()[:-1])  \n",
    "    \n",
    "assert ps_exact == prod_scal(x, y, n)"
   ]
  },
  {
   "cell_type": "markdown",
   "metadata": {},
   "source": [
    "On est rassuré.\n",
    "\n",
    ":::"
   ]
  },
  {
   "cell_type": "markdown",
   "metadata": {},
   "source": [
    "### Synthèse et minimum à savoir-faire\n",
    "\n",
    "Pour ce qui concerne les entrées en se limitant à des fichiers où chaque valeur est stockée sur une ligne, on a vu :\n",
    "- les 4 étapes classiques association/ouverture/lecture/fermeture,\n",
    "- la construction simplifiée avec la clause `with`,\n",
    "- la lecture séquentielle ligne après ligne avec `.readline()`,\n",
    "- l'écriture simple avec `.write()`,\n",
    "- la gestion des caractères spéciaux _EOL_,\n",
    "- la conversion des lectures `str` vers des types adaptés aux traitements à effectuer,\n",
    "- et inversement pour les écritures.\n",
    "\n",
    "On a naturellement complété cette présentation par l'écriture de tests unitaires à l'aide d'instructions `assert`."
   ]
  },
  {
   "cell_type": "markdown",
   "metadata": {},
   "source": [
    "(sec:EScomplements)\n",
    "\n",
    "## ($\\star$) Compléments"
   ]
  },
  {
   "cell_type": "markdown",
   "metadata": {
    "slideshow": {
     "slide_type": "subslide"
    }
   },
   "source": [
    "<div class=\"alert alert-warning\">\n",
    "\n",
    "Objectif 20 \n",
    "    \n",
    "</div>"
   ]
  },
  {
   "cell_type": "markdown",
   "metadata": {
    "slideshow": {
     "slide_type": "subslide"
    }
   },
   "source": [
    "### Les fonctions et les méthodes\n",
    "\n",
    "* Ouverture et fermeture : `open()` et `close()`\n",
    "\n",
    "* Lecture complète  \n",
    "    - `.read()`: lit tout le fichier et retourne un `str`  \n",
    "    - `.readlines()`: lit tout le fichier et retourne une `lst` de `str`  \n",
    "    \n",
    "* Lecture partielle  \n",
    "    - `.readline()`: lit une ligne, caractère `\\n` compris si il est présent, et retourne un `str`\n",
    "    - `.read(oct)`: lit `oct` octets dans le fichier et retourne un `str`\n",
    "\n",
    "* Ecriture.\n",
    "    - `.write()`: écrit une `str` ou une valeur dans le fichier "
   ]
  },
  {
   "cell_type": "markdown",
   "metadata": {},
   "source": [
    "Les deux codes suivants effectuent les 4 étapes association/ouverture/lecture/fermeture de ce fichier.\n",
    "Ils diffèrent par la phase de lecture."
   ]
  },
  {
   "cell_type": "markdown",
   "metadata": {
    "tags": []
   },
   "source": [
    "### Lecture complète : `read()` fournit une `str` "
   ]
  },
  {
   "cell_type": "code",
   "execution_count": 23,
   "metadata": {
    "slideshow": {
     "slide_type": "subslide"
    },
    "tags": []
   },
   "outputs": [],
   "source": [
    "# association et ouverture du fichier -- noter le mode \"r\" pour read\n",
    "f = open(\"./tmp/test_prod_scal.txt\", \"r\", encoding=\"utf8\")\n",
    "\n",
    "# lecture complète\n",
    "s = f.read()    \n",
    "\n",
    "# fermeture    \n",
    "f. close()"
   ]
  },
  {
   "cell_type": "markdown",
   "metadata": {
    "tags": []
   },
   "source": [
    "### Lecture complète : `readlines()` fournit une `list` de  `str` "
   ]
  },
  {
   "cell_type": "code",
   "execution_count": 24,
   "metadata": {
    "slideshow": {
     "slide_type": "subslide"
    },
    "tags": []
   },
   "outputs": [],
   "source": [
    "# association et ouverture du fichier -- noter le mode \"r\" pour read\n",
    "f = open(\"./tmp/test_prod_scal.txt\", \"r\", encoding=\"utf8\")\n",
    "\n",
    "# lecture complète\n",
    "l = f.readlines()    \n",
    "\n",
    "# fermeture    \n",
    "f. close()"
   ]
  },
  {
   "cell_type": "markdown",
   "metadata": {
    "slideshow": {
     "slide_type": "subslide"
    }
   },
   "source": [
    "**Rmq.** Les fichiers _physiques_ doivent exister pour être ouverts, lus, modifiés, fermés.  "
   ]
  },
  {
   "cell_type": "markdown",
   "metadata": {
    "slideshow": {
     "slide_type": "fragment"
    }
   },
   "source": [
    "**Utilisation du fichier binaire de travail** \n",
    "\n",
    "- Dé-commenter les 3 lignes où apparait le fichier temporaire `f_tmp`\n",
    "- Revenir à l'état initial des fichiers\n",
    "- Relancer le traitement"
   ]
  },
  {
   "cell_type": "markdown",
   "metadata": {
    "slideshow": {
     "slide_type": "subslide"
    }
   },
   "source": [
    "**ATTENTION au `read()` !**  \n",
    "\n",
    "Comme le dit le manuel (7.2.1):  \n",
    "> it’s your problem if the file is twice as large as your machine’s memory."
   ]
  },
  {
   "cell_type": "markdown",
   "metadata": {
    "slideshow": {
     "slide_type": "subslide"
    }
   },
   "source": [
    "La suite de commandes suivantes pour revenir dans l'état initial.  "
   ]
  },
  {
   "cell_type": "code",
   "execution_count": 25,
   "metadata": {
    "slideshow": {
     "slide_type": "fragment"
    }
   },
   "outputs": [
    {
     "name": "stdout",
     "output_type": "stream",
     "text": [
      "total 144\n",
      "-rw-r--r--  1 langlois  staff   326 14 jan 09:59 affectation_composee.py\n",
      "-rw-r--r--  1 langlois  staff   203  6 fév 09:21 exemple.txt\n",
      "-rw-r--r--  1 langlois  staff    21 14 jan 09:59 fichier_entrees.txt\n",
      "-rw-r--r--@ 1 langlois  staff    21 14 jan 09:59 fichier_entrees.txt.~1~\n",
      "-rw-r--r--  1 langlois  staff    21 14 jan 09:59 fichier_entrees.txt.~2~\n",
      "-rw-r--r--  1 langlois  staff    11 14 jan 09:59 fichier_entrees2.txt\n",
      "-rw-r--r--  1 langlois  staff     0  7 fév 17:23 fichier_sortie.txt\n",
      "-rw-r--r--  1 langlois  staff     0  7 fév 17:23 fichier_travail\n",
      "-rw-r--r--  1 langlois  staff    81 28 jan 12:19 format1.txt\n",
      "-rw-r--r--  1 langlois  staff  1239 28 jan 12:18 plt-complexites.pdf\n",
      "-rw-r--r--  1 langlois  staff    28  7 fév 12:36 test_nb_occ0.txt\n",
      "-rw-r--r--  1 langlois  staff    28  7 fév 14:51 test_nb_occ1.txt\n",
      "-rw-r--r--  1 langlois  staff    28  7 fév 12:36 test_nb_occ1.txt.~1~\n",
      "-rw-r--r--  1 langlois  staff    30  7 fév 11:46 test_prod_scal.txt\n",
      "-rw-r--r--  1 langlois  staff    95  4 fév 13:58 test_prod_scal.txt.~1~\n",
      "-rw-r--r--  1 langlois  staff    91  7 fév 08:46 test_prod_scal.txt.~2~\n",
      "-rw-r--r--  1 langlois  staff    92  7 fév 11:16 test_prod_scal.txt.~3~\n",
      "-rw-r--r--  1 langlois  staff    91  7 fév 08:46 test_prod_scal2.txt\n",
      "-rw-r--r--  1 langlois  staff    92  7 fév 11:35 test_prod_scal3.txt\n",
      "-rw-r--r--  1 langlois  staff    86  7 fév 17:23 test_prod_scal_write.txt\n"
     ]
    }
   ],
   "source": [
    "!cat /dev/null > ./tmp/fichier_sortie.txt\n",
    "!cat /dev/null > ./tmp/fichier_travail\n",
    "!ls -l ./tmp/"
   ]
  },
  {
   "cell_type": "markdown",
   "metadata": {
    "slideshow": {
     "slide_type": "subslide"
    }
   },
   "source": [
    "#### Origine des problèmes classiques\n",
    "\n",
    "La gestion des caractères spéciaux, `\\n` entre autres.\n",
    "\n",
    "- `f.read()`peut (lire et) retourner le caractère `\\n` ou  la chaîne vide `''`, ce qui est différent :\n",
    "    - `\\n` = une ligne vide ... de caractères \"classiques\" : elle est réduite au caractère spécial qui désigne `newline`\n",
    "    - `''` = pas de ligne : on a atteint la fin du fichier (EOF)  \n",
    "Dans l'exemple suivant, remarquer que `f.read() == ''` permet de finir correctement la lecture du fichier.\n",
    "- `f.readline()` ou `f.readlines()` lit une ligne complète, caractère spécial (`\\n`) compris.\n",
    "    - il retourne donc _aussi_ ce `\\n` de \"passage à une nouvelle ligne\", \n",
    "    - sauf dans le cas de la dernière ligne -- si celle-ci n'en comporte pas ! "
   ]
  },
  {
   "cell_type": "markdown",
   "metadata": {
    "slideshow": {
     "slide_type": "subslide"
    }
   },
   "source": [
    "#### Bien contrôler ses `print()`\n",
    "\n",
    "Deux exemples pour :\n",
    "1. rappeler comment utiliser `sep` et `end` \n",
    "2. expliciter l'effet du caractère spécial `\\n` (nouvelle ligne) dans l'affichage d'une chaîne de caractères avec `print()`."
   ]
  },
  {
   "cell_type": "code",
   "execution_count": 26,
   "metadata": {
    "slideshow": {
     "slide_type": "fragment"
    }
   },
   "outputs": [
    {
     "name": "stdout",
     "output_type": "stream",
     "text": [
      "azertyuiop*azertyuiop*azertyuiop--@@\n",
      "azertyuiop\n",
      "*azertyuiop\n",
      "*azertyuiop\n",
      "--"
     ]
    }
   ],
   "source": [
    "#rappel : sep, end\n",
    "s = \"azertyuiop\"\n",
    "print(s, s, s, sep=\"*\", end=\"--\")\n",
    "print(\"@@\") # par defaut : end='\\n'\n",
    "\n",
    "s = \"azertyuiop\\n\"\n",
    "print(s, s, s, sep=\"*\", end=\"--\")\n"
   ]
  },
  {
   "cell_type": "code",
   "execution_count": 27,
   "metadata": {
    "slideshow": {
     "slide_type": "fragment"
    }
   },
   "outputs": [
    {
     "name": "stdout",
     "output_type": "stream",
     "text": [
      "azer\n",
      "tyuiop\n",
      "azer\n",
      "tyuiop\n",
      "azer\n",
      "tyuiop--"
     ]
    }
   ],
   "source": [
    "# s est _une_ chaine de caractères\n",
    "s = \"azer\\ntyuiop\"\n",
    "print(s)\n",
    "print(s, sep=\"*\")\n",
    "print(s, end=\"--\")"
   ]
  },
  {
   "cell_type": "markdown",
   "metadata": {
    "slideshow": {
     "slide_type": "subslide"
    }
   },
   "source": [
    "Nous reviendrons sur les caractères spéciaux dans le chapitre sur les chaînes de caratères. "
   ]
  },
  {
   "cell_type": "markdown",
   "metadata": {
    "slideshow": {
     "slide_type": "subslide"
    }
   },
   "source": [
    "#### Retour sur le `.read()`\n",
    "\n",
    "Rappel. Retourne la totalité du contenu comme une chaîne de caractères."
   ]
  },
  {
   "cell_type": "code",
   "execution_count": 28,
   "metadata": {
    "slideshow": {
     "slide_type": "fragment"
    }
   },
   "outputs": [
    {
     "name": "stdout",
     "output_type": "stream",
     "text": [
      "6\n",
      "99\n",
      "21\n",
      "33\n",
      "44\n",
      "33\n",
      "188\n",
      "\n",
      "6\n",
      "99\n",
      "21\n",
      "33\n",
      "44\n",
      "33\n",
      "188\n",
      "--remarquer len(st_f)= 21  !? Explication ?\n"
     ]
    }
   ],
   "source": [
    "# on associe et on ouvre \n",
    "f = open(\"./tmp/fichier_entrees.txt\", \"r\", encoding=\"utf8\") \n",
    "\n",
    "# le contenu du fichier est lu et stocké dans une chaîne \n",
    "st_f = f.read()\n",
    "\n",
    "# on regarde\n",
    "print(st_f)\n",
    "\n",
    "# on regarde mieux\n",
    "print(st_f, sep = \"*\", end=\"--\")\n",
    "\n",
    "print(\"remarquer len(st_f)=\", len(st_f), \" !? Explication ?\")\n",
    "\n",
    "# on ferme\n",
    "f.close()"
   ]
  },
  {
   "cell_type": "markdown",
   "metadata": {
    "slideshow": {
     "slide_type": "subslide"
    }
   },
   "source": [
    "**Explication** avec `readlines()` "
   ]
  },
  {
   "cell_type": "code",
   "execution_count": 29,
   "metadata": {
    "slideshow": {
     "slide_type": "fragment"
    }
   },
   "outputs": [
    {
     "name": "stdout",
     "output_type": "stream",
     "text": [
      "['6\\n', '99\\n', '21\\n', '33\\n', '44\\n', '33\\n', '188\\n']\n",
      "7\n",
      "21\n"
     ]
    }
   ],
   "source": [
    "# on associe et on ouvre \n",
    "f = open(\"./tmp/fichier_entrees.txt\", \"r\", encoding=\"utf8\") \n",
    "\n",
    "# le contenu du fichier est lu et stocké dans une liste de chaînes \n",
    "st_f = f.readlines()\n",
    "\n",
    "# on regarde\n",
    "print(st_f)\n",
    "print(len(st_f))\n",
    "#print(type(st_f), type(st_f[0]))\n",
    "#print(type(f))\n",
    "\n",
    "# on vérifie en comptant le nbre total de caractères \n",
    "nb = 0\n",
    "for i in range(len(st_f)):\n",
    "    nb = nb + len(st_f[i])\n",
    "print(nb)\n",
    "\n",
    "# on ferme\n",
    "f.close()"
   ]
  },
  {
   "cell_type": "markdown",
   "metadata": {
    "slideshow": {
     "slide_type": "subslide"
    }
   },
   "source": [
    "#### `read()` _vs._ `readline()` (sans s) "
   ]
  },
  {
   "cell_type": "code",
   "execution_count": 30,
   "metadata": {
    "slideshow": {
     "slide_type": "fragment"
    }
   },
   "outputs": [
    {
     "name": "stdout",
     "output_type": "stream",
     "text": [
      "6\n",
      "99\n",
      "21\n",
      "33\n",
      "44\n",
      "33\n",
      "188\n"
     ]
    }
   ],
   "source": [
    "!cat ./tmp/fichier_entrees.txt"
   ]
  },
  {
   "cell_type": "code",
   "execution_count": 31,
   "metadata": {
    "slideshow": {
     "slide_type": "fragment"
    }
   },
   "outputs": [
    {
     "name": "stdout",
     "output_type": "stream",
     "text": [
      "Pour bien noter la différence entre readline() et read() : \n",
      "--> bien identifier l('effet d)es sauts de ligne '\\n' du  readline():\n",
      "readline numero:*0*on a lu u:*6\n",
      "...readline numero:*1*on a lu u:*99\n",
      "---readline numero:*2*on a lu u:*21\n",
      "---readline numero:*3*on a lu u:*33\n",
      "---readline numero:*4*on a lu u:*44\n",
      "---readline numero:*5*on a lu u:*33\n",
      "---readline numero:*6*on a lu u:*188\n",
      "---readline numero:*7*on a lu u:*---@@@\n",
      "--> comprendre la dernière lecture effectuée par readline()\n",
      "\n",
      "--> des read() maintenant ... mais peu en fait : \n",
      "read numero: *0*on a lu v =*6\n",
      "99\n",
      "21\n",
      "33\n",
      "44\n",
      "33\n",
      "188\n",
      "---read numero:*1*on a lu v=*---Fini!\n",
      "dernière lecture de readline:  \n",
      "dernière lecture de read:  \n"
     ]
    }
   ],
   "source": [
    "print(\"Pour bien noter la différence entre readline() et read() : \")\n",
    "print(\"--> bien identifier l('effet d)es sauts de ligne '\\\\n' du  readline():\")\n",
    "\n",
    "with open(\"./tmp/fichier_entrees.txt\",\"r\", encoding=\"utf8\") as f:\n",
    "    i = 0\n",
    "    u = f.readline() # sans 's' à la fin : laisse le `\\n` de saut de ligne sauf ''\n",
    "    print(\"readline numero:\", i, \"on a lu u:\", u, sep=\"*\", end=\"...\")\n",
    "    while (u != ''): # arrêt si la dernière ligne est vide\n",
    "        i = i + 1\n",
    "        u = f.readline() \n",
    "        print(\"readline numero:\", i, \"on a lu u:\", u, sep=\"*\", end=\"---\")\n",
    "    print(\"@@@\")\n",
    "print(\"--> comprendre la dernière lecture effectuée par readline()\")\n",
    "\n",
    "print()    \n",
    "print(\"--> des read() maintenant ... mais peu en fait : \")  \n",
    "with open(\"./tmp/fichier_entrees.txt\",\"r\", encoding=\"utf8\") as f:\n",
    "    i = 0\n",
    "    v = f.read() # lit tout f comme une str\n",
    "    #print(\"@@@\",v[-1],\"@@@\") # pour le quizz\n",
    "    print(\"read numero: \", i, \"on a lu v =\", v, sep=\"*\", end=\"---\")\n",
    "    while (v != ''): # arrêt si la dernière ligne est vide ... attention ! \\n n'est pas une ligne vide :)\n",
    "        i = i + 1\n",
    "        v = f.read() # lit tout comme une str\n",
    "        #v = f.read(4) # lit 8 octets et ne rajoute rien à v  \n",
    "        print(\"read numero:\", i, \"on a lu v=\", v, sep=\"*\", end=\"---\")   \n",
    "    print(\"Fini!\")\n",
    "    \n",
    "    f.close()\n",
    "\n",
    "print(\"dernière lecture de readline: \", u)\n",
    "print(\"dernière lecture de read: \", v)\n",
    "\n"
   ]
  },
  {
   "cell_type": "markdown",
   "metadata": {
    "slideshow": {
     "slide_type": "subslide"
    }
   },
   "source": [
    "\n",
    "**Quizzz**  \n",
    "\n",
    "Quelle est la dernière ligne du fichier `./tmp/fichier_entrees.txt` ?\n",
    "1. 188\n",
    "2. 188\\n\n",
    "3. \\n\n",
    "4. '' (ligne vide) \n",
    "\n",
    "Réponse. Enlever le commentaire de l'instruction ad-hoc du code au dessus."
   ]
  },
  {
   "cell_type": "markdown",
   "metadata": {
    "slideshow": {
     "slide_type": "subslide"
    }
   },
   "source": [
    "En pratique, on retiendra :\n",
    "- que les sauts de lignes \"visibles\" sont aussi lues par `read`, `readlines`, ...  \n",
    "- que la dernière ligne d'un fichier peut être source de problème,\n",
    "- entre autres car les éditeurs de texte (et les systèmes d'exploitation) peuvent ajouter certains caractères non entérs par l'utilisateur lors de l'enregistrement et de la fermeture du fichier."
   ]
  },
  {
   "cell_type": "markdown",
   "metadata": {},
   "source": [
    "**Exemple**. On commence par écrire la création du fichier et son écriture. \n",
    "\n",
    "Par souci pédagogique, l'exemple suivant inclut la création de la valeur aux traitements nécessaires à son écriture (comme une `str`) dans le fichier (en général les valeurs à stocker existent avant ce traitement).  "
   ]
  },
  {
   "cell_type": "code",
   "execution_count": 32,
   "metadata": {
    "slideshow": {
     "slide_type": "subslide"
    }
   },
   "outputs": [],
   "source": [
    "import random\n",
    "# on créé et on écrit dans un fichier \n",
    "with open(\"./tmp/exemple.txt\", \"w\", encoding=\"utf8\") as f:\n",
    "    for i in range(20): # 20 dates\n",
    "        # génération des dates\n",
    "        m = random.randint(1, 12) # un mois au hasard\n",
    "        if m == 2:\n",
    "            nb_jours = 28\n",
    "        elif m % 2 == 1:\n",
    "            nb_jours = 31\n",
    "        else:\n",
    "            nb_jours = 30       \n",
    "        q = random.randint(1, nb_jours) # un quantieme au hasard\n",
    "        \n",
    "        # traitement pour stockage\n",
    "        s = str(q) + \".\" + str(m) + \".2021\" + \"\\n\" # represention \"formatee\" de la date en une chaine \n",
    "        \n",
    "        # stockage\n",
    "        f.write(s)\n",
    "    f. close()"
   ]
  },
  {
   "cell_type": "code",
   "execution_count": 33,
   "metadata": {
    "slideshow": {
     "slide_type": "subslide"
    }
   },
   "outputs": [
    {
     "name": "stdout",
     "output_type": "stream",
     "text": [
      "24.8.2021\n",
      "20.10.2021\n",
      "25.11.2021\n",
      "7.11.2021\n",
      "5.2.2021\n",
      "22.6.2021\n",
      "31.7.2021\n",
      "4.8.2021\n",
      "4.5.2021\n",
      "13.7.2021\n",
      "10.6.2021\n",
      "18.10.2021\n",
      "2.4.2021\n",
      "13.4.2021\n",
      "29.4.2021\n",
      "30.4.2021\n",
      "20.6.2021\n",
      "22.10.2021\n",
      "30.7.2021\n",
      "16.3.2021\n"
     ]
    }
   ],
   "source": [
    "!cat ./tmp/exemple.txt "
   ]
  },
  {
   "cell_type": "markdown",
   "metadata": {
    "slideshow": {
     "slide_type": "subslide"
    }
   },
   "source": [
    "On recopie le code de création-écriture et on \"inverse\" le traitement."
   ]
  },
  {
   "cell_type": "code",
   "execution_count": 34,
   "metadata": {
    "slideshow": {
     "slide_type": "subslide"
    }
   },
   "outputs": [
    {
     "name": "stdout",
     "output_type": "stream",
     "text": [
      "24.8.2021\n",
      "\n",
      "['24', '8', '2021\\n']\n",
      "20.10.2021\n",
      "\n",
      "['20', '10', '2021\\n']\n",
      "25.11.2021\n",
      "\n",
      "['25', '11', '2021\\n']\n",
      "7.11.2021\n",
      "\n",
      "['7', '11', '2021\\n']\n",
      "5.2.2021\n",
      "\n",
      "['5', '2', '2021\\n']\n",
      "22.6.2021\n",
      "\n",
      "['22', '6', '2021\\n']\n",
      "31.7.2021\n",
      "\n",
      "['31', '7', '2021\\n']\n",
      "4.8.2021\n",
      "\n",
      "['4', '8', '2021\\n']\n",
      "4.5.2021\n",
      "\n",
      "['4', '5', '2021\\n']\n",
      "13.7.2021\n",
      "\n",
      "['13', '7', '2021\\n']\n",
      "10.6.2021\n",
      "\n",
      "['10', '6', '2021\\n']\n",
      "18.10.2021\n",
      "\n",
      "['18', '10', '2021\\n']\n",
      "2.4.2021\n",
      "\n",
      "['2', '4', '2021\\n']\n",
      "13.4.2021\n",
      "\n",
      "['13', '4', '2021\\n']\n",
      "29.4.2021\n",
      "\n",
      "['29', '4', '2021\\n']\n",
      "30.4.2021\n",
      "\n",
      "['30', '4', '2021\\n']\n",
      "20.6.2021\n",
      "\n",
      "['20', '6', '2021\\n']\n",
      "22.10.2021\n",
      "\n",
      "['22', '10', '2021\\n']\n",
      "30.7.2021\n",
      "\n",
      "['30', '7', '2021\\n']\n",
      "16.3.2021\n",
      "\n",
      "['16', '3', '2021\\n']\n",
      "[[24, 8, 2021], [20, 10, 2021], [25, 11, 2021], [7, 11, 2021], [5, 2, 2021], [22, 6, 2021], [31, 7, 2021], [4, 8, 2021], [4, 5, 2021], [13, 7, 2021], [10, 6, 2021], [18, 10, 2021], [2, 4, 2021], [13, 4, 2021], [29, 4, 2021], [30, 4, 2021], [20, 6, 2021], [22, 10, 2021], [30, 7, 2021], [16, 3, 2021]]\n"
     ]
    }
   ],
   "source": [
    "# on va utiliser 20 dates\n",
    "dates = [[0 for j in range(3)] for i in range(20)] # les 20 dates\n",
    "\n",
    "# on lit le fichier d'entree -- noter le mode \"r\" maintenant \n",
    "with open(\"./tmp/exemple.txt\", \"r\", encoding=\"utf8\") as f:\n",
    "    for i in range(20):         # parcours ligne à ligne  \n",
    "        s = f.readline()        # lecture ligne\n",
    "        print(s)                # pour info\n",
    "        l = s.split(sep=\".\")    # transforme s en une liste l de ses champs identifés par 'sep'\n",
    "        print(l)                # pour info\n",
    "        dates[i][0] = int(l[0]) # conversion et stockage quantieme \n",
    "        dates[i][1] = int(l[1]) # idem mois\n",
    "        dates[i][2] = int(l[2]) # idem annee\n",
    "\n",
    "f. close()\n",
    "\n",
    "print(dates)"
   ]
  },
  {
   "cell_type": "markdown",
   "metadata": {
    "slideshow": {
     "slide_type": "subslide"
    }
   },
   "source": [
    "### Un dernier conseil\n",
    "\n",
    "- Le risque d'erreur lors de la mise au point du traitement d'ES sur fichiers est  important.  \n",
    "- Il n'est pas rare de perdre tout ou partie d'un fichier à lire.\n",
    "- On ne peut donc que conseiller :\n",
    "1. de **commencer par** effectuer une copie de sauvegarde des fichiers originaux avant tout développement de code d'ES\n",
    "2. de vérifier pas à pas la mise au point de ces traitement avec des `print()` bien choisis -- qui seront bien sûr commentés une fois le traitement validé."
   ]
  },
  {
   "cell_type": "markdown",
   "metadata": {
    "slideshow": {
     "slide_type": "slide"
    }
   },
   "source": [
    "## Synthèse "
   ]
  },
  {
   "cell_type": "markdown",
   "metadata": {
    "slideshow": {
     "slide_type": "subslide"
    }
   },
   "source": [
    "### Avoir les idées claires\n",
    "\n",
    "- Distinguer fichier logique _vs._ physique, texte _vs._ binaire, mode lecture _vs._ écriture (_vs._ lecture-écriture) \n",
    "- Connaître les étapes de manipulation d'un fichier : association/ouverture/lecture-écriture/fermeture\n",
    "- Distinguer valeur (numérique) et sa représentation textuelle \n"
   ]
  },
  {
   "cell_type": "markdown",
   "metadata": {
    "slideshow": {
     "slide_type": "fragment"
    }
   },
   "source": [
    "### Savoir-faire\n",
    "\n",
    "- Savoir écrire les lectures-écritures simples de fichier texte avec les instructions python adaptées  \n",
    "- Comprendre et gérer l'effet des caractères spéciaux \n"
   ]
  },
  {
   "cell_type": "markdown",
   "metadata": {
    "slideshow": {
     "slide_type": "slide"
    }
   },
   "source": [
    "### Ce qu'il restera à voir\n",
    "\n",
    "\n",
    "Le chapitre \"ES avancées\" complète celui-ci en présentant comment _formater_ les données lues ou écrites dans les fichiers.\n",
    "\n",
    "On peut se déplacer dans un fichier pour accéder à un enregistrement quelconque. Ce type de traitement nécessite de caractériser comment la position de ces enregistrements  est définie -- par le langage de programmation et en général en nombre d'octets depuis le début du fichier. Le lecteur intéressé se reportera à la documentation (de python) pour ces manipulations un peu techniques. \n",
    "\n",
    "Les traitements précédents permettent de créer et d'exploiter des fichiers, et ce indépendamment de leur stockage dans le _système de fichiers_ de l'environnement utiisé (Linux, w\\*\\*\\* ou m\\*\\*\\*).\n",
    "Il est utile de compléter ces traitements par de la _manipulation_ de fichiers de façon similaire à celle vue en cours de Système au semestre 1. Pour cela, python propose les modules suivants :  \n",
    "- `os` qui permet de se déplacer dans l'arborescence du système de fichiers  \n",
    "- `os.path`, sous-module du précédent, qui permet de lister des fichiers, des répertoires et certaines de leurs caractéristiques  \n",
    "- `shutil` qui permet de copier, déplacer et supprimer des fichiers ou des parties d'arborescence.  \n"
   ]
  }
 ],
 "metadata": {
  "celltoolbar": "Diaporama",
  "kernelspec": {
   "display_name": "Python 3 (ipykernel)",
   "language": "python",
   "name": "python3"
  },
  "language_info": {
   "codemirror_mode": {
    "name": "ipython",
    "version": 3
   },
   "file_extension": ".py",
   "mimetype": "text/x-python",
   "name": "python",
   "nbconvert_exporter": "python",
   "pygments_lexer": "ipython3",
   "version": "3.9.6"
  },
  "latex_envs": {
   "LaTeX_envs_menu_present": true,
   "autoclose": false,
   "autocomplete": true,
   "bibliofile": "biblio.bib",
   "cite_by": "apalike",
   "current_citInitial": 1,
   "eqLabelWithNumbers": true,
   "eqNumInitial": 1,
   "hotkeys": {
    "equation": "Ctrl-E",
    "itemize": "Ctrl-I"
   },
   "labels_anchors": false,
   "latex_user_defs": false,
   "report_style_numbering": true,
   "user_envs_cfg": false
  },
  "toc": {
   "nav_menu": {},
   "number_sections": true,
   "sideBar": true,
   "skip_h1_title": false,
   "title_cell": "Table of Contents",
   "title_sidebar": "Contents",
   "toc_cell": true,
   "toc_position": {},
   "toc_section_display": true,
   "toc_window_display": false
  },
  "toc-autonumbering": true,
  "toc-showmarkdowntxt": false,
  "toc-showtags": true
 },
 "nbformat": 4,
 "nbformat_minor": 4
}
