{
 "cells": [
  {
   "cell_type": "markdown",
   "metadata": {
    "slideshow": {
     "slide_type": "slide"
    }
   },
   "source": [
    "# Exceptions\n",
    "\n",
    "Programmation.\n",
    "\n",
    "Version 2020 (PhL)."
   ]
  },
  {
   "cell_type": "markdown",
   "metadata": {
    "toc": true
   },
   "source": [
    "<h1>Table des matieres<span class=\"tocSkip\"></span></h1>\n",
    "<div class=\"toc\"><ul class=\"toc-item\"><li><span><a href=\"#Principes\" data-toc-modified-id=\"Principes-1\"><span class=\"toc-item-num\">1&nbsp;&nbsp;</span>Principes</a></span></li><li><span><a href=\"#Les-exceptions-prédéfinies\" data-toc-modified-id=\"Les-exceptions-prédéfinies-2\"><span class=\"toc-item-num\">2&nbsp;&nbsp;</span>Les exceptions prédéfinies</a></span></li><li><span><a href=\"#Traitement-des-exceptions-en-python\" data-toc-modified-id=\"Traitement-des-exceptions-en-python-3\"><span class=\"toc-item-num\">3&nbsp;&nbsp;</span>Traitement des exceptions en python</a></span><ul class=\"toc-item\"><li><span><a href=\"#Premier-exemple-gentil\" data-toc-modified-id=\"Premier-exemple-gentil-3.1\"><span class=\"toc-item-num\">3.1&nbsp;&nbsp;</span>Premier exemple gentil</a></span></li><li><span><a href=\"#Remarques\" data-toc-modified-id=\"Remarques-3.2\"><span class=\"toc-item-num\">3.2&nbsp;&nbsp;</span>Remarques</a></span></li><li><span><a href=\"#Exemples\" data-toc-modified-id=\"Exemples-3.3\"><span class=\"toc-item-num\">3.3&nbsp;&nbsp;</span>Exemples</a></span></li></ul></li><li><span><a href=\"#Exceptions-définies-par-l'utilisateur\" data-toc-modified-id=\"Exceptions-définies-par-l'utilisateur-4\"><span class=\"toc-item-num\">4&nbsp;&nbsp;</span>Exceptions définies par l'utilisateur</a></span><ul class=\"toc-item\"><li><span><a href=\"#Levée-d'exception-prédéfinie\" data-toc-modified-id=\"Levée-d'exception-prédéfinie-4.1\"><span class=\"toc-item-num\">4.1&nbsp;&nbsp;</span>Levée d'exception prédéfinie</a></span></li><li><span><a href=\"#Définir-ses-propres-exceptions\" data-toc-modified-id=\"Définir-ses-propres-exceptions-4.2\"><span class=\"toc-item-num\">4.2&nbsp;&nbsp;</span>Définir ses propres exceptions</a></span></li></ul></li><li><span><a href=\"#Précondition\" data-toc-modified-id=\"Précondition-5\"><span class=\"toc-item-num\">5&nbsp;&nbsp;</span>Précondition</a></span></li><li><span><a href=\"#Synthèse\" data-toc-modified-id=\"Synthèse-6\"><span class=\"toc-item-num\">6&nbsp;&nbsp;</span>Synthèse</a></span></li></ul></div>"
   ]
  },
  {
   "cell_type": "markdown",
   "metadata": {
    "slideshow": {
     "slide_type": "slide"
    }
   },
   "source": [
    "## Principes\n",
    "\n",
    "Motivation : certains traitements ne peuvent pas s'effectuer correctement. Comme par exemple l'évaluation d'une racine carrée négative, une division par zéro, la lecture au delà de la fin d'un fichier, l'écriture au delà de la zone mémoire accessible, ... \n",
    "\n",
    "Ces situations _exceptionnelles_ sont prises en compte par le mécanisme des _exceptions_. \n",
    "\n",
    "3 étapes :\n",
    "1. `raise`: l'apparition de la situation exceptionnelle _lève_ une exception\n",
    "2. `except`: un _traitement de substitution_ (ou _traite exception_) défini pour gérer au mieux l'exception concernée est appliqué  \n",
    "3. suite à ce traitement : _reprise_ ou _abandon_ du traitement initial.  "
   ]
  },
  {
   "cell_type": "markdown",
   "metadata": {
    "slideshow": {
     "slide_type": "subslide"
    }
   },
   "source": [
    "En général, la levée d'une exception correspond à une situation _anormale_ du traitement. Ainsi le traitement normal est _interrompu_ et le _traite exception_ a pour objectif de \"limiter la casse\". \n",
    "Il est rare, mais pas impossible, qu'un _traite exception_ permette de reprendre l'exécution normale du traitement principal.  \n",
    "\n",
    "Il existe deux types d'exceptions.\n",
    "- les **exceptions prédéfinies** par le langage ou par des modules utilisés  \n",
    "- les exceptions définies par l'utilisateur  "
   ]
  },
  {
   "cell_type": "markdown",
   "metadata": {
    "slideshow": {
     "slide_type": "subslide"
    }
   },
   "source": [
    "<div class=\"alert alert-block alert-info\">\n",
    "Bien distinguer les _erreurs de syntaxe_ à l'interprétation/compilation des exceptions à _l'exécution_. \n",
    "</div>"
   ]
  },
  {
   "cell_type": "markdown",
   "metadata": {
    "slideshow": {
     "slide_type": "slide"
    }
   },
   "source": [
    "## Les exceptions prédéfinies\n",
    "\n",
    "En python (et dans d'autres langages), ces exceptions sont nombreuses.\n",
    "Voir par exemple : [doc python](https://docs.python.org/fr/3.5/library/exceptions.html)\n",
    "\n",
    "Elles sont organisées selon leur origine (système, calcul, mémoire, exécution, périphérique, ...) par groupe et/ou de façon hierarchisée : [hierarchie des exceptions python](https://docs.python.org/fr/3.5/library/exceptions.html#exception-hierarchy)"
   ]
  },
  {
   "cell_type": "markdown",
   "metadata": {
    "slideshow": {
     "slide_type": "subslide"
    }
   },
   "source": [
    "Parmi les exceptions les plus souvent rencontrées :\n",
    "\n",
    "``` python\n",
    "- ArithmeticError\n",
    "      |    +-- FloatingPointError\n",
    "      |    +-- OverflowError\n",
    "      |    +-- ZeroDivisionError\n",
    "- EOFError\n",
    "- NameError\n",
    "- OSError\n",
    "      |    +-- FileExistsError\n",
    "      |    +-- FileNotFoundError\n",
    "      |    +-- IsADirectoryError\n",
    "      |    +-- NotADirectoryError\n",
    "      |    +-- PermissionError\n",
    "- RuntimeError\n",
    "      |    +-- NotImplementedError\n",
    "      |    +-- RecursionError\n",
    "      |    +-- SyntaxError\n",
    "      |    +-- IndentationError\n",
    "      |         +-- TabError\n",
    "- TypeError\n",
    "- ValueError\n",
    "      |    +-- UnicodeError\n",
    "```"
   ]
  },
  {
   "cell_type": "markdown",
   "metadata": {
    "slideshow": {
     "slide_type": "subslide"
    }
   },
   "source": [
    "**Remarque** :\n",
    "- Expliquer pourquoi les exceptions `SyntaxError` ou `IndentationError` peuvent être levées à l'exécution ?"
   ]
  },
  {
   "cell_type": "markdown",
   "metadata": {
    "slideshow": {
     "slide_type": "slide"
    }
   },
   "source": [
    "## Traitement des exceptions en python\n",
    "\n",
    "La gestion des exceptions s'effectue avec la construction suivante qui __encadre les zones à risques__ : \n",
    "\n",
    "```python\n",
    "try :\n",
    "    # la partie du traitement principal susceptible de mal se passer\n",
    "except UneException:\n",
    "    # traitement prévu si l'exception `UneException` est levée\n",
    "except (UneAutre, EtEncoreUneAutre):\n",
    "    # traitement prévu si les exceptions `UneAutre` ou `EncoreUneAutre` sont levées\n",
    "except:\n",
    "    # traitement prévu si toute autre exception est levée\n",
    "else:\n",
    "    # traitement si aucune exception n'a été levée dans le bloc 'try' \n",
    "```"
   ]
  },
  {
   "cell_type": "markdown",
   "metadata": {
    "slideshow": {
     "slide_type": "subslide"
    }
   },
   "source": [
    "**Principe **\n",
    "- le bloc `try` est exécuté\n",
    "- si aucune exception est levée par cette exécution, les blocs `except` sont sautés et le traitement continue normalement après l'instruction `try` \n",
    "    - dans le bloc `else` si il existe  \n",
    "    - sinon à l'instruction suivante de même niveau que le `try`\n",
    "- si une instruction du bloc `try` lève une exception :\n",
    "    - le bloc `try` est _immédiatement_ abandonné : il n'est donc pas exécuté en entier\n",
    "    - on recherche si un traite exception correspondant à l'exception levée est défini\n",
    "        - si oui : on l'exécute et on continue après l'instruction `try` \n",
    "        - si non : l'exception est propagée au `try` de niveau englobant.  \n",
    "        "
   ]
  },
  {
   "cell_type": "markdown",
   "metadata": {
    "slideshow": {
     "slide_type": "slide"
    }
   },
   "source": [
    "### Premier exemple gentil"
   ]
  },
  {
   "cell_type": "code",
   "execution_count": 1,
   "metadata": {
    "slideshow": {
     "slide_type": "fragment"
    }
   },
   "outputs": [
    {
     "ename": "StdinNotImplementedError",
     "evalue": "raw_input was called, but this frontend does not support input requests.",
     "output_type": "error",
     "traceback": [
      "\u001b[0;31m---------------------------------------------------------------------------\u001b[0m",
      "\u001b[0;31mStdinNotImplementedError\u001b[0m                  Traceback (most recent call last)",
      "Input \u001b[0;32mIn [1]\u001b[0m, in \u001b[0;36m<module>\u001b[0;34m\u001b[0m\n\u001b[0;32m----> 1\u001b[0m x \u001b[38;5;241m=\u001b[39m \u001b[38;5;28mfloat\u001b[39m(\u001b[38;5;28;43minput\u001b[39;49m\u001b[43m(\u001b[49m\u001b[38;5;124;43m\"\u001b[39;49m\u001b[38;5;124;43mUn float stp :\u001b[39;49m\u001b[38;5;124;43m\"\u001b[39;49m\u001b[43m)\u001b[49m)\n\u001b[1;32m      2\u001b[0m \u001b[38;5;28mprint\u001b[39m(\u001b[38;5;124m\"\u001b[39m\u001b[38;5;124mSon inverse vaut\u001b[39m\u001b[38;5;124m\"\u001b[39m, \u001b[38;5;241m1.\u001b[39m\u001b[38;5;241m/\u001b[39mx)\n\u001b[1;32m      3\u001b[0m \u001b[38;5;28mprint\u001b[39m(\u001b[38;5;124m\"\u001b[39m\u001b[38;5;124met on vérifie : x * 1/x =\u001b[39m\u001b[38;5;124m\"\u001b[39m, x \u001b[38;5;241m*\u001b[39m \u001b[38;5;241m1\u001b[39m\u001b[38;5;241m/\u001b[39mx)\n",
      "File \u001b[0;32m~/.local/share/virtualenvs/ens-3Ap4QYHt/lib/python3.9/site-packages/ipykernel/kernelbase.py:1041\u001b[0m, in \u001b[0;36mKernel.raw_input\u001b[0;34m(self, prompt)\u001b[0m\n\u001b[1;32m   1034\u001b[0m \u001b[38;5;124;03m\"\"\"Forward raw_input to frontends\u001b[39;00m\n\u001b[1;32m   1035\u001b[0m \n\u001b[1;32m   1036\u001b[0m \u001b[38;5;124;03mRaises\u001b[39;00m\n\u001b[1;32m   1037\u001b[0m \u001b[38;5;124;03m------\u001b[39;00m\n\u001b[1;32m   1038\u001b[0m \u001b[38;5;124;03mStdinNotImplementedError if active frontend doesn't support stdin.\u001b[39;00m\n\u001b[1;32m   1039\u001b[0m \u001b[38;5;124;03m\"\"\"\u001b[39;00m\n\u001b[1;32m   1040\u001b[0m \u001b[38;5;28;01mif\u001b[39;00m \u001b[38;5;129;01mnot\u001b[39;00m \u001b[38;5;28mself\u001b[39m\u001b[38;5;241m.\u001b[39m_allow_stdin:\n\u001b[0;32m-> 1041\u001b[0m     \u001b[38;5;28;01mraise\u001b[39;00m StdinNotImplementedError(\n\u001b[1;32m   1042\u001b[0m         \u001b[38;5;124m\"\u001b[39m\u001b[38;5;124mraw_input was called, but this frontend does not support input requests.\u001b[39m\u001b[38;5;124m\"\u001b[39m\n\u001b[1;32m   1043\u001b[0m     )\n\u001b[1;32m   1044\u001b[0m \u001b[38;5;28;01mreturn\u001b[39;00m \u001b[38;5;28mself\u001b[39m\u001b[38;5;241m.\u001b[39m_input_request(\n\u001b[1;32m   1045\u001b[0m     \u001b[38;5;28mstr\u001b[39m(prompt),\n\u001b[1;32m   1046\u001b[0m     \u001b[38;5;28mself\u001b[39m\u001b[38;5;241m.\u001b[39m_parent_ident[\u001b[38;5;124m\"\u001b[39m\u001b[38;5;124mshell\u001b[39m\u001b[38;5;124m\"\u001b[39m],\n\u001b[1;32m   1047\u001b[0m     \u001b[38;5;28mself\u001b[39m\u001b[38;5;241m.\u001b[39mget_parent(\u001b[38;5;124m\"\u001b[39m\u001b[38;5;124mshell\u001b[39m\u001b[38;5;124m\"\u001b[39m),\n\u001b[1;32m   1048\u001b[0m     password\u001b[38;5;241m=\u001b[39m\u001b[38;5;28;01mFalse\u001b[39;00m,\n\u001b[1;32m   1049\u001b[0m )\n",
      "\u001b[0;31mStdinNotImplementedError\u001b[0m: raw_input was called, but this frontend does not support input requests."
     ]
    }
   ],
   "source": [
    "x = float(input(\"Un float stp :\"))\n",
    "print(\"Son inverse vaut\", 1./x)\n",
    "print(\"et on vérifie : x * 1/x =\", x * 1/x)"
   ]
  },
  {
   "cell_type": "markdown",
   "metadata": {
    "slideshow": {
     "slide_type": "fragment"
    }
   },
   "source": [
    "Le traitement précédent (qui mélange ES et traitements) comporte une situation exceptionnelle qui va lever l'exception arithmétique `ZeroDivisionError`"
   ]
  },
  {
   "cell_type": "code",
   "execution_count": 2,
   "metadata": {
    "slideshow": {
     "slide_type": "fragment"
    }
   },
   "outputs": [
    {
     "name": "stdout",
     "output_type": "stream",
     "text": [
      "Un float stp :0\n"
     ]
    },
    {
     "ename": "ZeroDivisionError",
     "evalue": "float division by zero",
     "output_type": "error",
     "traceback": [
      "\u001b[0;31m---------------------------------------------------------------------------\u001b[0m",
      "\u001b[0;31mZeroDivisionError\u001b[0m                         Traceback (most recent call last)",
      "\u001b[0;32m<ipython-input-2-56b7ed41bd3d>\u001b[0m in \u001b[0;36m<module>\u001b[0;34m\u001b[0m\n\u001b[1;32m      1\u001b[0m \u001b[0mx\u001b[0m \u001b[0;34m=\u001b[0m \u001b[0mfloat\u001b[0m\u001b[0;34m(\u001b[0m\u001b[0minput\u001b[0m\u001b[0;34m(\u001b[0m\u001b[0;34m\"Un float stp :\"\u001b[0m\u001b[0;34m)\u001b[0m\u001b[0;34m)\u001b[0m\u001b[0;34m\u001b[0m\u001b[0;34m\u001b[0m\u001b[0m\n\u001b[0;32m----> 2\u001b[0;31m \u001b[0mprint\u001b[0m\u001b[0;34m(\u001b[0m\u001b[0;34m\"Son inverse vaut\"\u001b[0m\u001b[0;34m,\u001b[0m  \u001b[0;36m1.\u001b[0m\u001b[0;34m/\u001b[0m\u001b[0mx\u001b[0m\u001b[0;34m)\u001b[0m\u001b[0;34m\u001b[0m\u001b[0;34m\u001b[0m\u001b[0m\n\u001b[0m",
      "\u001b[0;31mZeroDivisionError\u001b[0m: float division by zero"
     ]
    }
   ],
   "source": [
    "x = float(input(\"Un float stp :\"))\n",
    "print(\"Son inverse vaut\",  1./x)"
   ]
  },
  {
   "cell_type": "markdown",
   "metadata": {
    "slideshow": {
     "slide_type": "subslide"
    }
   },
   "source": [
    "On encadre la zone dangereuse avec un bloc `try - except`.  "
   ]
  },
  {
   "cell_type": "code",
   "execution_count": 3,
   "metadata": {
    "slideshow": {
     "slide_type": "fragment"
    }
   },
   "outputs": [
    {
     "name": "stdout",
     "output_type": "stream",
     "text": [
      "Un float stp :0\n",
      "Un float NON NUL stp :3\n",
      "Son inverse vaut 0.3333333333333333\n",
      "et on vérifie : x * 1/x = 1.0\n"
     ]
    }
   ],
   "source": [
    "try :\n",
    "    x = float(input(\"Un float stp :\"))\n",
    "    print(\"Son inverse vaut\", 1./x)\n",
    "except ZeroDivisionError :\n",
    "    x = float(input(\"Un float NON NUL stp :\"))\n",
    "    print(\"Son inverse vaut\", 1./x)\n",
    "except:\n",
    "    print(\"Désolé : on ne peut rien pour toi\")\n",
    "    raise\n",
    "print(\"et on vérifie : x * 1/x =\", x * 1/x)"
   ]
  },
  {
   "cell_type": "code",
   "execution_count": 5,
   "metadata": {
    "slideshow": {
     "slide_type": "fragment"
    }
   },
   "outputs": [
    {
     "name": "stdout",
     "output_type": "stream",
     "text": [
      "Un float stp :0\n",
      "Un float NON NUL stp :0\n"
     ]
    },
    {
     "ename": "ZeroDivisionError",
     "evalue": "float division by zero",
     "output_type": "error",
     "traceback": [
      "\u001b[0;31m---------------------------------------------------------------------------\u001b[0m",
      "\u001b[0;31mZeroDivisionError\u001b[0m                         Traceback (most recent call last)",
      "\u001b[0;32m<ipython-input-5-e242cfd3cb67>\u001b[0m in \u001b[0;36m<module>\u001b[0;34m\u001b[0m\n\u001b[1;32m      2\u001b[0m     \u001b[0mx\u001b[0m \u001b[0;34m=\u001b[0m \u001b[0mfloat\u001b[0m\u001b[0;34m(\u001b[0m\u001b[0minput\u001b[0m\u001b[0;34m(\u001b[0m\u001b[0;34m\"Un float stp :\"\u001b[0m\u001b[0;34m)\u001b[0m\u001b[0;34m)\u001b[0m\u001b[0;34m\u001b[0m\u001b[0;34m\u001b[0m\u001b[0m\n\u001b[0;32m----> 3\u001b[0;31m     \u001b[0mprint\u001b[0m\u001b[0;34m(\u001b[0m\u001b[0;34m\"Son inverse vaut\"\u001b[0m\u001b[0;34m,\u001b[0m \u001b[0;36m1.\u001b[0m\u001b[0;34m/\u001b[0m\u001b[0mx\u001b[0m\u001b[0;34m)\u001b[0m\u001b[0;34m\u001b[0m\u001b[0;34m\u001b[0m\u001b[0m\n\u001b[0m\u001b[1;32m      4\u001b[0m \u001b[0;32mexcept\u001b[0m \u001b[0mZeroDivisionError\u001b[0m \u001b[0;34m:\u001b[0m\u001b[0;34m\u001b[0m\u001b[0;34m\u001b[0m\u001b[0m\n",
      "\u001b[0;31mZeroDivisionError\u001b[0m: float division by zero",
      "\nDuring handling of the above exception, another exception occurred:\n",
      "\u001b[0;31mZeroDivisionError\u001b[0m                         Traceback (most recent call last)",
      "\u001b[0;32m<ipython-input-5-e242cfd3cb67>\u001b[0m in \u001b[0;36m<module>\u001b[0;34m\u001b[0m\n\u001b[1;32m      4\u001b[0m \u001b[0;32mexcept\u001b[0m \u001b[0mZeroDivisionError\u001b[0m \u001b[0;34m:\u001b[0m\u001b[0;34m\u001b[0m\u001b[0;34m\u001b[0m\u001b[0m\n\u001b[1;32m      5\u001b[0m     \u001b[0mx\u001b[0m \u001b[0;34m=\u001b[0m \u001b[0mfloat\u001b[0m\u001b[0;34m(\u001b[0m\u001b[0minput\u001b[0m\u001b[0;34m(\u001b[0m\u001b[0;34m\"Un float NON NUL stp :\"\u001b[0m\u001b[0;34m)\u001b[0m\u001b[0;34m)\u001b[0m\u001b[0;34m\u001b[0m\u001b[0;34m\u001b[0m\u001b[0m\n\u001b[0;32m----> 6\u001b[0;31m     \u001b[0mprint\u001b[0m\u001b[0;34m(\u001b[0m\u001b[0;34m\"Son inverse vaut\"\u001b[0m\u001b[0;34m,\u001b[0m \u001b[0;36m1.\u001b[0m\u001b[0;34m/\u001b[0m\u001b[0mx\u001b[0m\u001b[0;34m)\u001b[0m\u001b[0;34m\u001b[0m\u001b[0;34m\u001b[0m\u001b[0m\n\u001b[0m\u001b[1;32m      7\u001b[0m \u001b[0;32mexcept\u001b[0m \u001b[0;34m:\u001b[0m\u001b[0;34m\u001b[0m\u001b[0;34m\u001b[0m\u001b[0m\n\u001b[1;32m      8\u001b[0m     \u001b[0mprint\u001b[0m\u001b[0;34m(\u001b[0m\u001b[0;34m\"Désolé : on ne peut rien pour toi\"\u001b[0m\u001b[0;34m)\u001b[0m\u001b[0;34m\u001b[0m\u001b[0;34m\u001b[0m\u001b[0m\n",
      "\u001b[0;31mZeroDivisionError\u001b[0m: float division by zero"
     ]
    }
   ],
   "source": [
    "try :\n",
    "    x = float(input(\"Un float stp :\"))\n",
    "    print(\"Son inverse vaut\", 1./x)\n",
    "except ZeroDivisionError :\n",
    "    x = float(input(\"Un float NON NUL stp :\"))\n",
    "    print(\"Son inverse vaut\", 1./x)\n",
    "except :\n",
    "    print(\"Désolé : on ne peut rien pour toi\")\n",
    "    raise\n",
    "print(\"et on vérifie : x * 1/x =\", x * 1/x)"
   ]
  },
  {
   "cell_type": "code",
   "execution_count": 6,
   "metadata": {
    "slideshow": {
     "slide_type": "fragment"
    }
   },
   "outputs": [
    {
     "name": "stdout",
     "output_type": "stream",
     "text": [
      "Un float stp :a\n",
      "Désolé : on ne peut rien pour toi\n"
     ]
    },
    {
     "ename": "ValueError",
     "evalue": "could not convert string to float: 'a'",
     "output_type": "error",
     "traceback": [
      "\u001b[0;31m---------------------------------------------------------------------------\u001b[0m",
      "\u001b[0;31mValueError\u001b[0m                                Traceback (most recent call last)",
      "\u001b[0;32m<ipython-input-6-f06bde255fa7>\u001b[0m in \u001b[0;36m<module>\u001b[0;34m\u001b[0m\n\u001b[1;32m      1\u001b[0m \u001b[0;32mtry\u001b[0m \u001b[0;34m:\u001b[0m\u001b[0;34m\u001b[0m\u001b[0;34m\u001b[0m\u001b[0m\n\u001b[0;32m----> 2\u001b[0;31m     \u001b[0mx\u001b[0m \u001b[0;34m=\u001b[0m \u001b[0mfloat\u001b[0m\u001b[0;34m(\u001b[0m\u001b[0minput\u001b[0m\u001b[0;34m(\u001b[0m\u001b[0;34m\"Un float stp :\"\u001b[0m\u001b[0;34m)\u001b[0m\u001b[0;34m)\u001b[0m\u001b[0;34m\u001b[0m\u001b[0;34m\u001b[0m\u001b[0m\n\u001b[0m\u001b[1;32m      3\u001b[0m     \u001b[0mprint\u001b[0m\u001b[0;34m(\u001b[0m\u001b[0;34m\"Son inverse vaut\"\u001b[0m\u001b[0;34m,\u001b[0m \u001b[0;36m1.\u001b[0m\u001b[0;34m/\u001b[0m\u001b[0mx\u001b[0m\u001b[0;34m)\u001b[0m\u001b[0;34m\u001b[0m\u001b[0;34m\u001b[0m\u001b[0m\n\u001b[1;32m      4\u001b[0m \u001b[0;32mexcept\u001b[0m \u001b[0mZeroDivisionError\u001b[0m \u001b[0;34m:\u001b[0m\u001b[0;34m\u001b[0m\u001b[0;34m\u001b[0m\u001b[0m\n\u001b[1;32m      5\u001b[0m     \u001b[0mx\u001b[0m \u001b[0;34m=\u001b[0m \u001b[0mfloat\u001b[0m\u001b[0;34m(\u001b[0m\u001b[0minput\u001b[0m\u001b[0;34m(\u001b[0m\u001b[0;34m\"Un float NON NUL stp :\"\u001b[0m\u001b[0;34m)\u001b[0m\u001b[0;34m)\u001b[0m\u001b[0;34m\u001b[0m\u001b[0;34m\u001b[0m\u001b[0m\n",
      "\u001b[0;31mValueError\u001b[0m: could not convert string to float: 'a'"
     ]
    }
   ],
   "source": [
    "try :\n",
    "    x = float(input(\"Un float stp :\"))\n",
    "    print(\"Son inverse vaut\", 1./x)\n",
    "except ZeroDivisionError :\n",
    "    x = float(input(\"Un float NON NUL stp :\"))\n",
    "except :\n",
    "    print(\"Désolé : on ne peut rien pour toi\")\n",
    "    raise\n",
    "print(\"et on vérifie : x * 1/x =\", x * 1/x)"
   ]
  },
  {
   "cell_type": "markdown",
   "metadata": {
    "slideshow": {
     "slide_type": "subslide"
    }
   },
   "source": [
    "**Analyse**\n",
    "- Le traitement d'entrée au clavier est risqué  :\n",
    "- levée de l'exception `ZeroDivisionError` si l'utisateur entre `0` \n",
    "- dans ce cas, le traite-exception permet de récupérer _cette_ erreur en redemandant une autre entrée\n",
    "    - traitement sûr si la nouvelle entrée est correcte\n",
    "    - mais ...."
   ]
  },
  {
   "cell_type": "code",
   "execution_count": 7,
   "metadata": {
    "slideshow": {
     "slide_type": "subslide"
    }
   },
   "outputs": [
    {
     "name": "stdout",
     "output_type": "stream",
     "text": [
      "Un float stp :0\n",
      "Un float NON NUL stp :a\n"
     ]
    },
    {
     "ename": "ValueError",
     "evalue": "could not convert string to float: 'a'",
     "output_type": "error",
     "traceback": [
      "\u001b[0;31m---------------------------------------------------------------------------\u001b[0m",
      "\u001b[0;31mZeroDivisionError\u001b[0m                         Traceback (most recent call last)",
      "\u001b[0;32m<ipython-input-7-e242cfd3cb67>\u001b[0m in \u001b[0;36m<module>\u001b[0;34m\u001b[0m\n\u001b[1;32m      2\u001b[0m     \u001b[0mx\u001b[0m \u001b[0;34m=\u001b[0m \u001b[0mfloat\u001b[0m\u001b[0;34m(\u001b[0m\u001b[0minput\u001b[0m\u001b[0;34m(\u001b[0m\u001b[0;34m\"Un float stp :\"\u001b[0m\u001b[0;34m)\u001b[0m\u001b[0;34m)\u001b[0m\u001b[0;34m\u001b[0m\u001b[0;34m\u001b[0m\u001b[0m\n\u001b[0;32m----> 3\u001b[0;31m     \u001b[0mprint\u001b[0m\u001b[0;34m(\u001b[0m\u001b[0;34m\"Son inverse vaut\"\u001b[0m\u001b[0;34m,\u001b[0m \u001b[0;36m1.\u001b[0m\u001b[0;34m/\u001b[0m\u001b[0mx\u001b[0m\u001b[0;34m)\u001b[0m\u001b[0;34m\u001b[0m\u001b[0;34m\u001b[0m\u001b[0m\n\u001b[0m\u001b[1;32m      4\u001b[0m \u001b[0;32mexcept\u001b[0m \u001b[0mZeroDivisionError\u001b[0m \u001b[0;34m:\u001b[0m\u001b[0;34m\u001b[0m\u001b[0;34m\u001b[0m\u001b[0m\n",
      "\u001b[0;31mZeroDivisionError\u001b[0m: float division by zero",
      "\nDuring handling of the above exception, another exception occurred:\n",
      "\u001b[0;31mValueError\u001b[0m                                Traceback (most recent call last)",
      "\u001b[0;32m<ipython-input-7-e242cfd3cb67>\u001b[0m in \u001b[0;36m<module>\u001b[0;34m\u001b[0m\n\u001b[1;32m      3\u001b[0m     \u001b[0mprint\u001b[0m\u001b[0;34m(\u001b[0m\u001b[0;34m\"Son inverse vaut\"\u001b[0m\u001b[0;34m,\u001b[0m \u001b[0;36m1.\u001b[0m\u001b[0;34m/\u001b[0m\u001b[0mx\u001b[0m\u001b[0;34m)\u001b[0m\u001b[0;34m\u001b[0m\u001b[0;34m\u001b[0m\u001b[0m\n\u001b[1;32m      4\u001b[0m \u001b[0;32mexcept\u001b[0m \u001b[0mZeroDivisionError\u001b[0m \u001b[0;34m:\u001b[0m\u001b[0;34m\u001b[0m\u001b[0;34m\u001b[0m\u001b[0m\n\u001b[0;32m----> 5\u001b[0;31m     \u001b[0mx\u001b[0m \u001b[0;34m=\u001b[0m \u001b[0mfloat\u001b[0m\u001b[0;34m(\u001b[0m\u001b[0minput\u001b[0m\u001b[0;34m(\u001b[0m\u001b[0;34m\"Un float NON NUL stp :\"\u001b[0m\u001b[0;34m)\u001b[0m\u001b[0;34m)\u001b[0m\u001b[0;34m\u001b[0m\u001b[0;34m\u001b[0m\u001b[0m\n\u001b[0m\u001b[1;32m      6\u001b[0m     \u001b[0mprint\u001b[0m\u001b[0;34m(\u001b[0m\u001b[0;34m\"Son inverse vaut\"\u001b[0m\u001b[0;34m,\u001b[0m \u001b[0;36m1.\u001b[0m\u001b[0;34m/\u001b[0m\u001b[0mx\u001b[0m\u001b[0;34m)\u001b[0m\u001b[0;34m\u001b[0m\u001b[0;34m\u001b[0m\u001b[0m\n\u001b[1;32m      7\u001b[0m \u001b[0;32mexcept\u001b[0m \u001b[0;34m:\u001b[0m\u001b[0;34m\u001b[0m\u001b[0;34m\u001b[0m\u001b[0m\n",
      "\u001b[0;31mValueError\u001b[0m: could not convert string to float: 'a'"
     ]
    }
   ],
   "source": [
    "try :\n",
    "    x = float(input(\"Un float stp :\"))\n",
    "    print(\"Son inverse vaut\", 1./x)\n",
    "except ZeroDivisionError :\n",
    "    x = float(input(\"Un float NON NUL stp :\"))\n",
    "    print(\"Son inverse vaut\", 1./x)\n",
    "except :\n",
    "    print(\"Désolé : on ne peut rien pour toi\")\n",
    "    raise\n",
    "print(\"et on vérifie : x * 1/x =\", x * 1/x)"
   ]
  },
  {
   "cell_type": "markdown",
   "metadata": {
    "slideshow": {
     "slide_type": "fragment"
    }
   },
   "source": [
    "**Exercice**\n",
    "- Que faire ?"
   ]
  },
  {
   "cell_type": "markdown",
   "metadata": {
    "slideshow": {
     "slide_type": "slide"
    }
   },
   "source": [
    "### Remarques\n",
    "\n",
    "- __Un seul__ traite exception est exécuté lorsque le bloc `try` lève une exception  \n",
    "- Principe de **propagation ascendante d'une exception non traitée** : si aucun traite-exception est rencontré pour l'exception levée,\n",
    "    - cette exception est **propagée** au niveau supérieur, \n",
    "    - et ce jusqu'à rencontrer le traite-exception qui va, \n",
    "    - ou à défaut d'arrêter définitivement le traitement  \n",
    "- `raise` propage explicitement l'exception au niveau supérieur\n",
    "- __Interdire__ le \"`except` sans `raise`\" qui va absorber toutes les exceptions, même celles non prévues et donc significatives d'une anomalie profonde de l'exécution  "
   ]
  },
  {
   "cell_type": "markdown",
   "metadata": {
    "slideshow": {
     "slide_type": "subslide"
    }
   },
   "source": [
    "### Exemples\n",
    "\n",
    "Les ES sont des zones à risque.\n"
   ]
  },
  {
   "cell_type": "code",
   "execution_count": 8,
   "metadata": {
    "slideshow": {
     "slide_type": "fragment"
    }
   },
   "outputs": [
    {
     "name": "stdout",
     "output_type": "stream",
     "text": [
      "Fichier pas trouvé\n"
     ]
    }
   ],
   "source": [
    "try :\n",
    "    f = open(\"./fichier_qui_n_existe_pas.txt\", \"r\")\n",
    "except FileNotFoundError:\n",
    "    print(\"Fichier pas trouvé\")"
   ]
  },
  {
   "cell_type": "code",
   "execution_count": 14,
   "metadata": {
    "slideshow": {
     "slide_type": "fragment"
    }
   },
   "outputs": [
    {
     "name": "stdout",
     "output_type": "stream",
     "text": [
      "6\r\n",
      "99\r\n",
      "21\r\n",
      "33\r\n"
     ]
    }
   ],
   "source": [
    "!cat ./tmp/fichier_entrees2.txt"
   ]
  },
  {
   "cell_type": "markdown",
   "metadata": {
    "slideshow": {
     "slide_type": "subslide"
    }
   },
   "source": [
    "Le comportement suivant illustre la robustesse de python :\n",
    "- `readline()` ne lève pas d'exception EOF \n",
    "- mais renvoit une chaine vide ;\n",
    "- ce qui n'est pas le cas de nombreux langages qui effectueraient le même traitement (incorrect)"
   ]
  },
  {
   "cell_type": "code",
   "execution_count": 15,
   "metadata": {
    "slideshow": {
     "slide_type": "fragment"
    }
   },
   "outputs": [
    {
     "name": "stdout",
     "output_type": "stream",
     "text": [
      "['6\\n', '99\\n', '21\\n', '33\\n', '', '', '']\n"
     ]
    }
   ],
   "source": [
    "f = open(\"./tmp/fichier_entrees2.txt\", \"r\")\n",
    "\n",
    "x = [0]*7\n",
    "for i in range(7):\n",
    "    x[i] = f.readline()\n",
    "\n",
    "print(x)\n",
    "f.close()"
   ]
  },
  {
   "cell_type": "markdown",
   "metadata": {
    "slideshow": {
     "slide_type": "subslide"
    }
   },
   "source": [
    "Peut quand-même avoir des problèmes :"
   ]
  },
  {
   "cell_type": "code",
   "execution_count": 17,
   "metadata": {
    "slideshow": {
     "slide_type": "fragment"
    }
   },
   "outputs": [
    {
     "name": "stdout",
     "output_type": "stream",
     "text": [
      "Nbre de valeurs à lire : 4\n"
     ]
    },
    {
     "ename": "IndexError",
     "evalue": "index 3 is out of bounds for axis 0 with size 3",
     "output_type": "error",
     "traceback": [
      "\u001b[0;31m---------------------------------------------------------------------------\u001b[0m",
      "\u001b[0;31mIndexError\u001b[0m                                Traceback (most recent call last)",
      "\u001b[0;32m<ipython-input-17-a9ae890f366b>\u001b[0m in \u001b[0;36m<module>\u001b[0;34m\u001b[0m\n\u001b[1;32m      7\u001b[0m \u001b[0;34m\u001b[0m\u001b[0m\n\u001b[1;32m      8\u001b[0m \u001b[0;32mfor\u001b[0m \u001b[0mi\u001b[0m \u001b[0;32min\u001b[0m \u001b[0mrange\u001b[0m\u001b[0;34m(\u001b[0m\u001b[0mn\u001b[0m\u001b[0;34m)\u001b[0m\u001b[0;34m:\u001b[0m\u001b[0;34m\u001b[0m\u001b[0;34m\u001b[0m\u001b[0m\n\u001b[0;32m----> 9\u001b[0;31m     \u001b[0mtab\u001b[0m\u001b[0;34m[\u001b[0m\u001b[0mi\u001b[0m\u001b[0;34m]\u001b[0m \u001b[0;34m=\u001b[0m \u001b[0mf\u001b[0m\u001b[0;34m.\u001b[0m\u001b[0mreadline\u001b[0m\u001b[0;34m(\u001b[0m\u001b[0;34m)\u001b[0m\u001b[0;34m\u001b[0m\u001b[0;34m\u001b[0m\u001b[0m\n\u001b[0m\u001b[1;32m     10\u001b[0m \u001b[0;34m\u001b[0m\u001b[0m\n\u001b[1;32m     11\u001b[0m \u001b[0mprint\u001b[0m\u001b[0;34m(\u001b[0m\u001b[0mtab\u001b[0m\u001b[0;34m)\u001b[0m\u001b[0;34m\u001b[0m\u001b[0;34m\u001b[0m\u001b[0m\n",
      "\u001b[0;31mIndexError\u001b[0m: index 3 is out of bounds for axis 0 with size 3"
     ]
    }
   ],
   "source": [
    "import numpy as np\n",
    "f = open(\"./tmp/fichier_entrees2.txt\", \"r\")\n",
    "\n",
    "tab = np.zeros(3, dtype='int32')\n",
    "\n",
    "n = int(input(\"Nbre de valeurs à lire : \"))\n",
    "\n",
    "for i in range(n):\n",
    "    tab[i] = f.readline()\n",
    "\n",
    "print(tab)\n",
    "f.close()\n"
   ]
  },
  {
   "cell_type": "code",
   "execution_count": 18,
   "metadata": {
    "slideshow": {
     "slide_type": "subslide"
    }
   },
   "outputs": [
    {
     "name": "stdout",
     "output_type": "stream",
     "text": [
      "Nbre de valeurs à lire : 4\n",
      "Tab trop petit : (3,)\n",
      "[ 6 99 21]\n"
     ]
    }
   ],
   "source": [
    "import numpy as np\n",
    "f = open(\"./tmp/fichier_entrees2.txt\", \"r\")\n",
    "\n",
    "tab = np.zeros(3, dtype='int32')\n",
    "\n",
    "n = int(input(\"Nbre de valeurs à lire : \"))\n",
    "\n",
    "for i in range(n):\n",
    "    try:\n",
    "        tab[i] = f.readline()\n",
    "    except IndexError:\n",
    "        print(\"Tab trop petit :\", np.shape(tab))\n",
    "        \n",
    "print(tab)\n",
    "f.close()\n"
   ]
  },
  {
   "cell_type": "markdown",
   "metadata": {
    "slideshow": {
     "slide_type": "slide"
    }
   },
   "source": [
    "## Exceptions définies par l'utilisateur\n",
    "\n",
    "Le développement de modules ou de traitements peut nécessiter de prévoir des cas exceptionnels qui seraient déclenchés par leur utilisation incorrecte.  \n",
    "\n",
    "### Levée d'exception prédéfinie\n",
    "\n",
    "On peut souhaiter _lever une exception prédéfinie_ qui correspond au type d'erreur qu'elle couvre dans le cas général.\n",
    "\n",
    "Il suffit d'exécuter :\n",
    "> `raise telle_exception(\"message d'accompagnement\") `\n",
    "\n",
    "**Exemple**  \n",
    "Un exemple est donné dans le paragraphe suivant avec l'exception `AssertionError` "
   ]
  },
  {
   "cell_type": "code",
   "execution_count": 24,
   "metadata": {},
   "outputs": [
    {
     "name": "stdout",
     "output_type": "stream",
     "text": [
      "Une valeur stp :1\n",
      "Une valeur stp :1\n",
      "Une valeur stp :1\n",
      "Une valeur stp :1\n"
     ]
    },
    {
     "ename": "IndexError",
     "evalue": "('v est de longueur', 3, 'et', 3, '-ième entree.')",
     "output_type": "error",
     "traceback": [
      "\u001b[0;31m---------------------------------------------------------------------------\u001b[0m",
      "\u001b[0;31mIndexError\u001b[0m                                Traceback (most recent call last)",
      "\u001b[0;32m<ipython-input-24-1e49069c3639>\u001b[0m in \u001b[0;36m<module>\u001b[0;34m\u001b[0m\n\u001b[1;32m      7\u001b[0m     \u001b[0mx\u001b[0m \u001b[0;34m=\u001b[0m \u001b[0mfloat\u001b[0m\u001b[0;34m(\u001b[0m\u001b[0minput\u001b[0m\u001b[0;34m(\u001b[0m\u001b[0;34m\"Une valeur stp :\"\u001b[0m\u001b[0;34m)\u001b[0m\u001b[0;34m)\u001b[0m\u001b[0;34m\u001b[0m\u001b[0;34m\u001b[0m\u001b[0m\n\u001b[1;32m      8\u001b[0m     \u001b[0;32mif\u001b[0m \u001b[0mi\u001b[0m \u001b[0;34m>=\u001b[0m \u001b[0mlen\u001b[0m\u001b[0;34m(\u001b[0m\u001b[0mv\u001b[0m\u001b[0;34m)\u001b[0m\u001b[0;34m:\u001b[0m\u001b[0;34m\u001b[0m\u001b[0;34m\u001b[0m\u001b[0m\n\u001b[0;32m----> 9\u001b[0;31m         \u001b[0;32mraise\u001b[0m \u001b[0mIndexError\u001b[0m\u001b[0;34m(\u001b[0m\u001b[0;34m\"v est de longueur\"\u001b[0m\u001b[0;34m,\u001b[0m \u001b[0mlen\u001b[0m\u001b[0;34m(\u001b[0m\u001b[0mv\u001b[0m\u001b[0;34m)\u001b[0m\u001b[0;34m,\u001b[0m \u001b[0;34m\"et\"\u001b[0m\u001b[0;34m,\u001b[0m \u001b[0mi\u001b[0m\u001b[0;34m,\u001b[0m\u001b[0;34m\"-ième entree.\"\u001b[0m\u001b[0;34m)\u001b[0m\u001b[0;34m\u001b[0m\u001b[0;34m\u001b[0m\u001b[0m\n\u001b[0m\u001b[1;32m     10\u001b[0m     \u001b[0mv\u001b[0m\u001b[0;34m[\u001b[0m\u001b[0mi\u001b[0m\u001b[0;34m]\u001b[0m \u001b[0;34m=\u001b[0m \u001b[0mx\u001b[0m\u001b[0;34m\u001b[0m\u001b[0;34m\u001b[0m\u001b[0m\n\u001b[1;32m     11\u001b[0m     \u001b[0mi\u001b[0m \u001b[0;34m=\u001b[0m \u001b[0mi\u001b[0m \u001b[0;34m+\u001b[0m \u001b[0;36m1\u001b[0m\u001b[0;34m\u001b[0m\u001b[0;34m\u001b[0m\u001b[0m\n",
      "\u001b[0;31mIndexError\u001b[0m: ('v est de longueur', 3, 'et', 3, '-ième entree.')"
     ]
    }
   ],
   "source": [
    "'''On récupère des entrées au clavier pour initialiser un vecteur de taille fixée.\n",
    "le traitement de la ligne 10 peut lever l'exception prédéfinie IndexError'''\n",
    "v = [0, 0, 0]\n",
    "cond = True\n",
    "i = 0\n",
    "while cond:      \n",
    "    x = float(input(\"Une valeur stp :\"))\n",
    "    if i >= len(v):\n",
    "        raise IndexError(\"v est de longueur\", len(v), \"et\", i,\"-ième entree.\")\n",
    "    v[i] = x\n",
    "    i = i + 1    \n",
    "\n",
    "    "
   ]
  },
  {
   "cell_type": "markdown",
   "metadata": {
    "slideshow": {
     "slide_type": "subslide"
    }
   },
   "source": [
    "### Définir ses propres exceptions\n",
    "\n",
    "Il faut aussi pouvoir _définir ses propres exceptions_   \n",
    "- adaptées au traitement proposé par notre module   \n",
    "- et qui seront éventuellement traités par le contexte qui utilise notyre module.  \n",
    "\n",
    "En python, la définition des exceptions passe par la définition de _classes_ (et de sous-classes d'exception) intégrées au module développé.  \n",
    "\n",
    "N'ayant pas introduit la notion de classe, nous ne détaillerons donc pas (cette année) comment définir ses propres exceptions.   "
   ]
  },
  {
   "cell_type": "markdown",
   "metadata": {
    "slideshow": {
     "slide_type": "slide"
    }
   },
   "source": [
    "## Précondition\n",
    "\n",
    "Certaines fonctions (ou traitements) sont définies avec des hypothèses sur les arguments effectifs.  \n",
    "- Par exemple, la division `x/y` n'est pas définie pour `y == 0` et ce cas lève l'exception prédéfinie `ZeroDivisionError`.  \n",
    "\n",
    "L'instruction **`assert`** permet de vérifier une précondition.  \n",
    "- Une _précondition_ est une expression à valeur booléenne  \n",
    "    - Exemple : `y != 0` est une précondition pour la division `x/y`  \n",
    "- Si la précondition est satisfaite (True), le traitement continue normalement  \n",
    "- sinon l'exception `AssertionError` est levée.  "
   ]
  },
  {
   "cell_type": "code",
   "execution_count": 19,
   "metadata": {
    "slideshow": {
     "slide_type": "subslide"
    }
   },
   "outputs": [
    {
     "name": "stdout",
     "output_type": "stream",
     "text": [
      "2.0\n"
     ]
    },
    {
     "ename": "AssertionError",
     "evalue": "",
     "output_type": "error",
     "traceback": [
      "\u001b[0;31m---------------------------------------------------------------------------\u001b[0m",
      "\u001b[0;31mAssertionError\u001b[0m                            Traceback (most recent call last)",
      "\u001b[0;32m<ipython-input-19-f71c219602a0>\u001b[0m in \u001b[0;36m<module>\u001b[0;34m\u001b[0m\n\u001b[1;32m      4\u001b[0m \u001b[0;34m\u001b[0m\u001b[0m\n\u001b[1;32m      5\u001b[0m \u001b[0mprint\u001b[0m\u001b[0;34m(\u001b[0m\u001b[0mdiviser\u001b[0m\u001b[0;34m(\u001b[0m\u001b[0;36m4.\u001b[0m\u001b[0;34m,\u001b[0m \u001b[0;36m2.\u001b[0m\u001b[0;34m)\u001b[0m\u001b[0;34m)\u001b[0m\u001b[0;34m\u001b[0m\u001b[0;34m\u001b[0m\u001b[0m\n\u001b[0;32m----> 6\u001b[0;31m \u001b[0mprint\u001b[0m\u001b[0;34m(\u001b[0m\u001b[0mdiviser\u001b[0m\u001b[0;34m(\u001b[0m\u001b[0;36m4.\u001b[0m\u001b[0;34m,\u001b[0m \u001b[0;36m0.\u001b[0m\u001b[0;34m)\u001b[0m\u001b[0;34m)\u001b[0m\u001b[0;34m\u001b[0m\u001b[0;34m\u001b[0m\u001b[0m\n\u001b[0m",
      "\u001b[0;32m<ipython-input-19-f71c219602a0>\u001b[0m in \u001b[0;36mdiviser\u001b[0;34m(x, y)\u001b[0m\n\u001b[1;32m      1\u001b[0m \u001b[0;32mdef\u001b[0m \u001b[0mdiviser\u001b[0m\u001b[0;34m(\u001b[0m\u001b[0mx\u001b[0m\u001b[0;34m,\u001b[0m \u001b[0my\u001b[0m\u001b[0;34m)\u001b[0m\u001b[0;34m:\u001b[0m\u001b[0;34m\u001b[0m\u001b[0;34m\u001b[0m\u001b[0m\n\u001b[0;32m----> 2\u001b[0;31m     \u001b[0;32massert\u001b[0m \u001b[0my\u001b[0m \u001b[0;34m!=\u001b[0m \u001b[0;36m0\u001b[0m\u001b[0;34m\u001b[0m\u001b[0;34m\u001b[0m\u001b[0m\n\u001b[0m\u001b[1;32m      3\u001b[0m     \u001b[0;32mreturn\u001b[0m \u001b[0mx\u001b[0m\u001b[0;34m/\u001b[0m\u001b[0my\u001b[0m\u001b[0;34m\u001b[0m\u001b[0;34m\u001b[0m\u001b[0m\n\u001b[1;32m      4\u001b[0m \u001b[0;34m\u001b[0m\u001b[0m\n\u001b[1;32m      5\u001b[0m \u001b[0mprint\u001b[0m\u001b[0;34m(\u001b[0m\u001b[0mdiviser\u001b[0m\u001b[0;34m(\u001b[0m\u001b[0;36m4.\u001b[0m\u001b[0;34m,\u001b[0m \u001b[0;36m2.\u001b[0m\u001b[0;34m)\u001b[0m\u001b[0;34m)\u001b[0m\u001b[0;34m\u001b[0m\u001b[0;34m\u001b[0m\u001b[0m\n",
      "\u001b[0;31mAssertionError\u001b[0m: "
     ]
    }
   ],
   "source": [
    "def diviser(x, y):\n",
    "    assert y != 0\n",
    "    return x/y\n",
    "\n",
    "print(diviser(4., 2.))\n",
    "print(diviser(4., 0.))"
   ]
  },
  {
   "cell_type": "markdown",
   "metadata": {
    "slideshow": {
     "slide_type": "subslide"
    }
   },
   "source": [
    "L'assertion peut être accompagnée d'un message indicatif comme annoncé plus haut.  "
   ]
  },
  {
   "cell_type": "code",
   "execution_count": 20,
   "metadata": {
    "slideshow": {
     "slide_type": "fragment"
    }
   },
   "outputs": [
    {
     "name": "stdout",
     "output_type": "stream",
     "text": [
      "2.0\n"
     ]
    },
    {
     "ename": "AssertionError",
     "evalue": "mon_diviser : division par 0",
     "output_type": "error",
     "traceback": [
      "\u001b[0;31m---------------------------------------------------------------------------\u001b[0m",
      "\u001b[0;31mAssertionError\u001b[0m                            Traceback (most recent call last)",
      "\u001b[0;32m<ipython-input-20-c2198894506f>\u001b[0m in \u001b[0;36m<module>\u001b[0;34m\u001b[0m\n\u001b[1;32m      4\u001b[0m \u001b[0;34m\u001b[0m\u001b[0m\n\u001b[1;32m      5\u001b[0m \u001b[0mprint\u001b[0m\u001b[0;34m(\u001b[0m\u001b[0mmon_diviser\u001b[0m\u001b[0;34m(\u001b[0m\u001b[0;36m4.\u001b[0m\u001b[0;34m,\u001b[0m \u001b[0;36m2.\u001b[0m\u001b[0;34m)\u001b[0m\u001b[0;34m)\u001b[0m\u001b[0;34m\u001b[0m\u001b[0;34m\u001b[0m\u001b[0m\n\u001b[0;32m----> 6\u001b[0;31m \u001b[0mprint\u001b[0m\u001b[0;34m(\u001b[0m\u001b[0mmon_diviser\u001b[0m\u001b[0;34m(\u001b[0m\u001b[0;36m4.\u001b[0m\u001b[0;34m,\u001b[0m \u001b[0;36m0.\u001b[0m\u001b[0;34m)\u001b[0m\u001b[0;34m)\u001b[0m\u001b[0;34m\u001b[0m\u001b[0;34m\u001b[0m\u001b[0m\n\u001b[0m",
      "\u001b[0;32m<ipython-input-20-c2198894506f>\u001b[0m in \u001b[0;36mmon_diviser\u001b[0;34m(x, y)\u001b[0m\n\u001b[1;32m      1\u001b[0m \u001b[0;32mdef\u001b[0m \u001b[0mmon_diviser\u001b[0m\u001b[0;34m(\u001b[0m\u001b[0mx\u001b[0m\u001b[0;34m,\u001b[0m \u001b[0my\u001b[0m\u001b[0;34m)\u001b[0m\u001b[0;34m:\u001b[0m\u001b[0;34m\u001b[0m\u001b[0;34m\u001b[0m\u001b[0m\n\u001b[0;32m----> 2\u001b[0;31m     \u001b[0;32massert\u001b[0m \u001b[0my\u001b[0m \u001b[0;34m!=\u001b[0m \u001b[0;36m0\u001b[0m\u001b[0;34m,\u001b[0m \u001b[0;34m\"mon_diviser : division par 0\"\u001b[0m\u001b[0;34m\u001b[0m\u001b[0;34m\u001b[0m\u001b[0m\n\u001b[0m\u001b[1;32m      3\u001b[0m     \u001b[0;32mreturn\u001b[0m \u001b[0mx\u001b[0m\u001b[0;34m/\u001b[0m\u001b[0my\u001b[0m\u001b[0;34m\u001b[0m\u001b[0;34m\u001b[0m\u001b[0m\n\u001b[1;32m      4\u001b[0m \u001b[0;34m\u001b[0m\u001b[0m\n\u001b[1;32m      5\u001b[0m \u001b[0mprint\u001b[0m\u001b[0;34m(\u001b[0m\u001b[0mmon_diviser\u001b[0m\u001b[0;34m(\u001b[0m\u001b[0;36m4.\u001b[0m\u001b[0;34m,\u001b[0m \u001b[0;36m2.\u001b[0m\u001b[0;34m)\u001b[0m\u001b[0;34m)\u001b[0m\u001b[0;34m\u001b[0m\u001b[0;34m\u001b[0m\u001b[0m\n",
      "\u001b[0;31mAssertionError\u001b[0m: mon_diviser : division par 0"
     ]
    }
   ],
   "source": [
    "def mon_diviser(x, y):\n",
    "    assert y != 0, \"mon_diviser : division par 0\"\n",
    "    return x/y\n",
    "\n",
    "print(mon_diviser(4., 2.))\n",
    "print(mon_diviser(4., 0.))"
   ]
  },
  {
   "cell_type": "markdown",
   "metadata": {
    "slideshow": {
     "slide_type": "subslide"
    }
   },
   "source": [
    "**Utilisation**\n",
    "- Vérifier les préconditions le plus tôt possible dans le cadre de la fonction pour éviter les modification d'états qui ne seront pas menées correctement jusqu'au bout  \n",
    "- Le traitement est similaire à un `if` associé à la levée de l'exception `AssertionError` mais la lecture d'une clause `assert` est plus informative qu'un `if` (parmi d'autres) sur les conditions d'utilisation du code concerné.  \n",
    "- Utile au debuggage  "
   ]
  },
  {
   "cell_type": "markdown",
   "metadata": {
    "slideshow": {
     "slide_type": "slide"
    }
   },
   "source": [
    "## Synthèse\n",
    "\n",
    "- Les exceptions qualifient des traitements incorrects _exceptionnels_ \n",
    "- Les traites exception permettent de \"récupérer la main\" pour sortir au mieux du c as incorrect\n",
    "- Encadrer les zones à risque de la construction : `try: ... except: ...` \n",
    "- Le mécanisme est \"traitement `except` ou sinon propagation\"  \n",
    "- `raise` pour lever ses exceptions  (prédéfinies ou personnelles) \n",
    "- `assert` pour définir et vérifier des préconditions  \n"
   ]
  }
 ],
 "metadata": {
  "celltoolbar": "Diaporama",
  "kernelspec": {
   "display_name": "Python 3",
   "language": "python",
   "name": "python3"
  },
  "language_info": {
   "codemirror_mode": {
    "name": "ipython",
    "version": 3
   },
   "file_extension": ".py",
   "mimetype": "text/x-python",
   "name": "python",
   "nbconvert_exporter": "python",
   "pygments_lexer": "ipython3",
   "version": "3.9.6"
  },
  "latex_envs": {
   "LaTeX_envs_menu_present": true,
   "autoclose": false,
   "autocomplete": true,
   "bibliofile": "biblio.bib",
   "cite_by": "apalike",
   "current_citInitial": 1,
   "eqLabelWithNumbers": true,
   "eqNumInitial": 1,
   "hotkeys": {
    "equation": "Ctrl-E",
    "itemize": "Ctrl-I"
   },
   "labels_anchors": false,
   "latex_user_defs": false,
   "report_style_numbering": true,
   "user_envs_cfg": false
  },
  "toc": {
   "nav_menu": {},
   "number_sections": true,
   "sideBar": false,
   "skip_h1_title": true,
   "title_cell": "Table des matieres",
   "title_sidebar": "TdM",
   "toc_cell": true,
   "toc_position": {
    "height": "273.34375px",
    "left": "73.984375px",
    "top": "162.671875px",
    "width": "328.328125px"
   },
   "toc_section_display": true,
   "toc_window_display": false
  }
 },
 "nbformat": 4,
 "nbformat_minor": 2
}