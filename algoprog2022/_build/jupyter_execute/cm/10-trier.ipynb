{
 "cells": [
  {
   "cell_type": "markdown",
   "metadata": {
    "slideshow": {
     "slide_type": "slide"
    }
   },
   "source": [
    "# Trier\n",
    "\n",
    "Version 2021 (PhL)"
   ]
  },
  {
   "cell_type": "markdown",
   "metadata": {
    "slideshow": {
     "slide_type": "slide"
    },
    "toc": "true"
   },
   "source": [
    "<h1>Table des matieres<span class=\"tocSkip\"></span></h1>\n",
    "<div class=\"toc\"><ul class=\"toc-item\"><li><span><a href=\"#Introduction\" data-toc-modified-id=\"Introduction-1\"><span class=\"toc-item-num\">1&nbsp;&nbsp;</span>Introduction</a></span><ul class=\"toc-item\"><li><span><a href=\"#Vocabulaire\" data-toc-modified-id=\"Vocabulaire-1.1\"><span class=\"toc-item-num\">1.1&nbsp;&nbsp;</span>Vocabulaire</a></span></li><li><span><a href=\"#Complexités\" data-toc-modified-id=\"Complexités-1.2\"><span class=\"toc-item-num\">1.2&nbsp;&nbsp;</span>Complexités</a></span></li><li><span><a href=\"#Principaux-algorithmes-de-tri\" data-toc-modified-id=\"Principaux-algorithmes-de-tri-1.3\"><span class=\"toc-item-num\">1.3&nbsp;&nbsp;</span>Principaux algorithmes de tri</a></span></li></ul></li><li><span><a href=\"#Tri-insertion\" data-toc-modified-id=\"Tri-insertion-2\"><span class=\"toc-item-num\">2&nbsp;&nbsp;</span>Tri insertion</a></span><ul class=\"toc-item\"><li><span><a href=\"#Principe\" data-toc-modified-id=\"Principe-2.1\"><span class=\"toc-item-num\">2.1&nbsp;&nbsp;</span>Principe</a></span></li><li><span><a href=\"#($\\star$)-Invariant\" data-toc-modified-id=\"($\\star$)-Invariant-2.2\"><span class=\"toc-item-num\">2.2&nbsp;&nbsp;</span>($\\star$) Invariant</a></span></li><li><span><a href=\"#Algorithme\" data-toc-modified-id=\"Algorithme-2.3\"><span class=\"toc-item-num\">2.3&nbsp;&nbsp;</span>Algorithme</a></span></li><li><span><a href=\"#Pire-cas,-meilleur-cas\" data-toc-modified-id=\"Pire-cas,-meilleur-cas-2.4\"><span class=\"toc-item-num\">2.4&nbsp;&nbsp;</span>Pire cas, meilleur cas</a></span><ul class=\"toc-item\"><li><span><a href=\"#Exercices\" data-toc-modified-id=\"Exercices-2.4.1\"><span class=\"toc-item-num\">2.4.1&nbsp;&nbsp;</span>Exercices</a></span></li><li><span><a href=\"#Corrections\" data-toc-modified-id=\"Corrections-2.4.2\"><span class=\"toc-item-num\">2.4.2&nbsp;&nbsp;</span>Corrections</a></span></li></ul></li><li><span><a href=\"#Vers-l'analyse-de-la-complexité\" data-toc-modified-id=\"Vers-l'analyse-de-la-complexité-2.5\"><span class=\"toc-item-num\">2.5&nbsp;&nbsp;</span>Vers l'analyse de la complexité</a></span></li></ul></li><li><span><a href=\"#Tri-rapide-(ou-quicksort)\" data-toc-modified-id=\"Tri-rapide-(ou-quicksort)-3\"><span class=\"toc-item-num\">3&nbsp;&nbsp;</span>Tri rapide (ou <em>quicksort</em>)</a></span><ul class=\"toc-item\"><li><span><a href=\"#Principe\" data-toc-modified-id=\"Principe-3.1\"><span class=\"toc-item-num\">3.1&nbsp;&nbsp;</span>Principe</a></span></li><li><span><a href=\"#Récursion\" data-toc-modified-id=\"Récursion-3.2\"><span class=\"toc-item-num\">3.2&nbsp;&nbsp;</span>Récursion</a></span></li><li><span><a href=\"#Principe-de-mise-en-oeuvre--avec-duplication-du-tableau-t\" data-toc-modified-id=\"Principe-de-mise-en-oeuvre--avec-duplication-du-tableau-t-3.3\"><span class=\"toc-item-num\">3.3&nbsp;&nbsp;</span>Principe de mise en oeuvre  avec duplication du tableau <code>t</code></a></span><ul class=\"toc-item\"><li><span><a href=\"#Exemple\" data-toc-modified-id=\"Exemple-3.3.1\"><span class=\"toc-item-num\">3.3.1&nbsp;&nbsp;</span>Exemple</a></span></li></ul></li><li><span><a href=\"#Mise-en-oeuvre-en-place\" data-toc-modified-id=\"Mise-en-oeuvre-en-place-3.4\"><span class=\"toc-item-num\">3.4&nbsp;&nbsp;</span>Mise en oeuvre en place</a></span></li><li><span><a href=\"#Exercices\" data-toc-modified-id=\"Exercices-3.5\"><span class=\"toc-item-num\">3.5&nbsp;&nbsp;</span>Exercices</a></span></li><li><span><a href=\"#Corrections\" data-toc-modified-id=\"Corrections-3.6\"><span class=\"toc-item-num\">3.6&nbsp;&nbsp;</span>Corrections</a></span></li><li><span><a href=\"#Performances,-pire-cas,-meilleur-cas\" data-toc-modified-id=\"Performances,-pire-cas,-meilleur-cas-3.7\"><span class=\"toc-item-num\">3.7&nbsp;&nbsp;</span>Performances, pire cas, meilleur cas</a></span><ul class=\"toc-item\"><li><span><a href=\"#Exercices\" data-toc-modified-id=\"Exercices-3.7.1\"><span class=\"toc-item-num\">3.7.1&nbsp;&nbsp;</span>Exercices</a></span></li></ul></li><li><span><a href=\"#Vers-l'analyse-de-la-complexité\" data-toc-modified-id=\"Vers-l'analyse-de-la-complexité-3.8\"><span class=\"toc-item-num\">3.8&nbsp;&nbsp;</span>Vers l'analyse de la complexité</a></span></li></ul></li><li><span><a href=\"#Tri-fusion\" data-toc-modified-id=\"Tri-fusion-4\"><span class=\"toc-item-num\">4&nbsp;&nbsp;</span>Tri fusion</a></span><ul class=\"toc-item\"><li><span><a href=\"#Principe\" data-toc-modified-id=\"Principe-4.1\"><span class=\"toc-item-num\">4.1&nbsp;&nbsp;</span>Principe</a></span></li><li><span><a href=\"#Exemple-de-la-fusion-de-2-tableaux-triés\" data-toc-modified-id=\"Exemple-de-la-fusion-de-2-tableaux-triés-4.2\"><span class=\"toc-item-num\">4.2&nbsp;&nbsp;</span>Exemple de la fusion de 2 tableaux triés</a></span></li><li><span><a href=\"#Algorithme-:-analyse-et-(une)-écriture\" data-toc-modified-id=\"Algorithme-:-analyse-et-(une)-écriture-4.3\"><span class=\"toc-item-num\">4.3&nbsp;&nbsp;</span>Algorithme : analyse et (une) écriture</a></span><ul class=\"toc-item\"><li><span><a href=\"#Fusion\" data-toc-modified-id=\"Fusion-4.3.1\"><span class=\"toc-item-num\">4.3.1&nbsp;&nbsp;</span>Fusion</a></span></li><li><span><a href=\"#Analyse-plus-détaillée-de-la-programmation-de-la-fusion\" data-toc-modified-id=\"Analyse-plus-détaillée-de-la-programmation-de-la-fusion-4.3.2\"><span class=\"toc-item-num\">4.3.2&nbsp;&nbsp;</span>Analyse plus détaillée de la programmation de la fusion</a></span><ul class=\"toc-item\"><li><span><a href=\"#Petite-amélioration\" data-toc-modified-id=\"Petite-amélioration-4.3.2.1\"><span class=\"toc-item-num\">4.3.2.1&nbsp;&nbsp;</span>Petite amélioration</a></span></li></ul></li><li><span><a href=\"#Exercice-de-programmation\" data-toc-modified-id=\"Exercice-de-programmation-4.3.3\"><span class=\"toc-item-num\">4.3.3&nbsp;&nbsp;</span>Exercice de programmation</a></span></li></ul></li><li><span><a href=\"#Diviser-pour-régner\" data-toc-modified-id=\"Diviser-pour-régner-4.4\"><span class=\"toc-item-num\">4.4&nbsp;&nbsp;</span>Diviser pour régner</a></span></li><li><span><a href=\"#Performances,-pire-cas,-meilleur-cas\" data-toc-modified-id=\"Performances,-pire-cas,-meilleur-cas-4.5\"><span class=\"toc-item-num\">4.5&nbsp;&nbsp;</span>Performances, pire cas, meilleur cas</a></span></li><li><span><a href=\"#Vers-l'analyse-de-la-complexité\" data-toc-modified-id=\"Vers-l'analyse-de-la-complexité-4.6\"><span class=\"toc-item-num\">4.6&nbsp;&nbsp;</span>Vers l'analyse de la complexité</a></span></li></ul></li><li><span><a href=\"#Complexités-de-ces-algorithmes-de-tri\" data-toc-modified-id=\"Complexités-de-ces-algorithmes-de-tri-5\"><span class=\"toc-item-num\">5&nbsp;&nbsp;</span>Complexités de ces algorithmes de tri</a></span></li><li><span><a href=\"#($\\star$)-Prouver-la-correction-de-ces-algorithmes-de-tri\" data-toc-modified-id=\"($\\star$)-Prouver-la-correction-de-ces-algorithmes-de-tri-6\"><span class=\"toc-item-num\">6&nbsp;&nbsp;</span>($\\star$) Prouver la correction de ces algorithmes de tri</a></span><ul class=\"toc-item\"><li><span><a href=\"#Tri-insertion\" data-toc-modified-id=\"Tri-insertion-6.1\"><span class=\"toc-item-num\">6.1&nbsp;&nbsp;</span>Tri insertion</a></span></li><li><span><a href=\"#Tri-rapide-(quicksort)\" data-toc-modified-id=\"Tri-rapide-(quicksort)-6.2\"><span class=\"toc-item-num\">6.2&nbsp;&nbsp;</span>Tri rapide (<em>quicksort</em>)</a></span></li><li><span><a href=\"#Tri-fusion\" data-toc-modified-id=\"Tri-fusion-6.3\"><span class=\"toc-item-num\">6.3&nbsp;&nbsp;</span>Tri fusion</a></span></li></ul></li><li><span><a href=\"#Conclusion\" data-toc-modified-id=\"Conclusion-7\"><span class=\"toc-item-num\">7&nbsp;&nbsp;</span>Conclusion</a></span></li></ul></div>"
   ]
  },
  {
   "cell_type": "markdown",
   "metadata": {
    "slideshow": {
     "slide_type": "slide"
    }
   },
   "source": [
    "## Introduction"
   ]
  },
  {
   "cell_type": "markdown",
   "metadata": {
    "slideshow": {
     "slide_type": "slide"
    }
   },
   "source": [
    "### Vocabulaire\n",
    "\n",
    "\n",
    "**Trier** : classer, **ordonner** des valeurs, des objets \n",
    "\n",
    "- trier des copies par notes\n",
    "- trier des copies par ordre alphabétique des candidats \n",
    "- trier des livres dans une bibliothèque\n",
    "- trier des containers sur un port\n",
    "\n",
    "**Tier** _To sort_ en anglais\n",
    "\n",
    "- _Sorting algorithms_\n",
    "- `.sort()` : méthode des `list` python\n",
    "\n",
    "**Pourquoi ?**  \n",
    "\n",
    "- recherche efficace : $\\cal{O}(n) \\to \\cal{O}(\\log(n))$\n",
    "- applications multiples : _binpack_, correction orthographique, ...\n",
    "    "
   ]
  },
  {
   "cell_type": "markdown",
   "metadata": {
    "slideshow": {
     "slide_type": "subslide"
    }
   },
   "source": [
    "### Complexités\n",
    "\n",
    "**Tris _en place_**\n",
    "\n",
    "- $\\cal{O}(1)$ : complexité _en espace_ constante _vs._ nombre de valeurs à trier \n",
    "- exemple : trier une main de cartes (tri par insertions)\n",
    "\n",
    "**Complexités en temps**\n",
    "\n",
    "- tris lents $\\to$  tris rapides $\\to$ tris linéaires\n",
    "- $\\cal{O}(n^2) \\to \\cal{O}(n\\log(n)) \\to \\cal{O}(n)$\n",
    "    - pires cas _vs._ meilleurs cas\n",
    "- $\\cal{O}(n\\log(n))$ : complexité _optimale_ des tris par comparaisons "
   ]
  },
  {
   "cell_type": "markdown",
   "metadata": {
    "slideshow": {
     "slide_type": "subslide"
    }
   },
   "source": [
    "**Trier $\\nRightarrow$ comparer !**\n",
    "\n",
    "- Tris par comparaisons _vs._  tris par dénombrements\n",
    "- complexité en temps $\\cal{O}(n)$ : très très efficaces "
   ]
  },
  {
   "cell_type": "markdown",
   "metadata": {
    "slideshow": {
     "slide_type": "subslide"
    }
   },
   "source": [
    "### Principaux algorithmes de tri\n",
    "\n",
    "**Tris par comparaisons : algorithmes lents** \n",
    "\n",
    "- pire cas : $\\cal{O}(n^2)$\n",
    "- tri par sélections, _par insertions_, permutations, \"à bulles\", ...  \n",
    "\n",
    "**Tris par comparaisons : algorithmes rapides** \n",
    "\n",
    "- pire cas ou cas moyen : $\\cal{O}(n\\log(n))$\n",
    "- _tri fusion_, _tri (dit) rapide_ (_quicksort_)\n",
    "\n",
    "**Tris (dits) linéaires : applicabilité spécifique**\n",
    "\n",
    "- exemple de restrictions : _valeurs à trier_ = un ensemble fini d'entiers (ou une bijection vers un tel ensemble)\n",
    "- complexité en temps **et en espace** : $\\cal{O}(n)$\n",
    "- tri par dénombrements, tri par base (ou tri _radix_) "
   ]
  },
  {
   "cell_type": "markdown",
   "metadata": {
    "slideshow": {
     "slide_type": "slide"
    }
   },
   "source": [
    "**Rmq. pour la suite**\n",
    "\n",
    "Sans perte de généralités, les valeurs à trier sont supposées être $n$ entiers stockés dans un tableau 1D (une liste python). "
   ]
  },
  {
   "cell_type": "code",
   "execution_count": 1,
   "metadata": {
    "slideshow": {
     "slide_type": "fragment"
    }
   },
   "outputs": [],
   "source": [
    "from typing import List"
   ]
  },
  {
   "cell_type": "markdown",
   "metadata": {
    "slideshow": {
     "slide_type": "slide"
    }
   },
   "source": [
    "## Tri insertion\n",
    "\n",
    "Un exemple de tri par comparaisons, en place et de complexité au pire quadratique."
   ]
  },
  {
   "cell_type": "markdown",
   "metadata": {
    "slideshow": {
     "slide_type": "subslide"
    }
   },
   "source": [
    "### Principe\n",
    "\n",
    "Analogue au tri d'une main de cartes\n",
    "- je parcours la partie triée de la main de cartes \n",
    "- et j'insère à sa bonne place la carte à classer\n",
    "    - insérer une carte $\\Rightarrow$ en déplacer d'autres  "
   ]
  },
  {
   "cell_type": "markdown",
   "metadata": {
    "slideshow": {
     "slide_type": "subslide"
    }
   },
   "source": [
    "### ($\\star$) Invariant\n",
    "\n",
    "> (P) : Avant l'itération $i$, le sous-tableau t[0, $i$[ est trié.\n",
    "\n",
    "**Exercice**\n",
    "- Expliciter l'initialisation de (P).\n",
    "- Que signifie la terminaison de (P) ?\n",
    "- ($\\star$) Prouver (P)."
   ]
  },
  {
   "cell_type": "markdown",
   "metadata": {
    "slideshow": {
     "slide_type": "slide"
    }
   },
   "source": [
    "### Algorithme"
   ]
  },
  {
   "cell_type": "code",
   "execution_count": 2,
   "metadata": {
    "slideshow": {
     "slide_type": "fragment"
    }
   },
   "outputs": [],
   "source": [
    "def triInsertion(t : List[int], n: int) -> List[int]:\n",
    "    '''tri insertion : version itérative\n",
    "    entrées. t : tableau d entiers de longueur n = len(t)\n",
    "    sortie. t est trié par ordre croissant'''\n",
    "    for i in range(1, len(t)): # pour chaque valeur en partant de la gauche\n",
    "        val = t[i]\n",
    "        j = i\n",
    "        while j > 0 and val < t[j-1]: # en remontant vers la gauche (partie triée)\n",
    "            t[j] = t[j-1]\n",
    "            j = j-1\n",
    "        t[j] = val\n",
    "    # le return n'est pas obligatoire : on a trié t en place (procédure)\n",
    "    return t"
   ]
  },
  {
   "cell_type": "code",
   "execution_count": 3,
   "metadata": {
    "slideshow": {
     "slide_type": "subslide"
    }
   },
   "outputs": [
    {
     "name": "stdout",
     "output_type": "stream",
     "text": [
      "[30, 16, 41, 34, 40]\n",
      "Trions !\n",
      "[16, 30, 34, 40, 41]\n"
     ]
    }
   ],
   "source": [
    "# Premières applications\n",
    "\n",
    "# un tableaux de valeurs aleatoires\n",
    "from random import randint\n",
    "dim = 5\n",
    "a = [randint(0,50) for i in range(dim)]\n",
    "print(a)\n",
    "print(\"Trions !\")\n",
    "b = triInsertion(a, len(a))\n",
    "print(b)\n",
    "#print(\"attention : affecter un tab n'est pas creer un nouveau tab\")\n",
    "#print(a)"
   ]
  },
  {
   "cell_type": "markdown",
   "metadata": {
    "slideshow": {
     "slide_type": "slide"
    }
   },
   "source": [
    "### Pire cas, meilleur cas"
   ]
  },
  {
   "cell_type": "code",
   "execution_count": 4,
   "metadata": {},
   "outputs": [
    {
     "name": "stdout",
     "output_type": "stream",
     "text": [
      "pire cas\n",
      "[4, 3, 2, 1, 0]\n",
      "[0, 1, 2, 3, 4]\n",
      "meilleur cas\n",
      "[0, 1, 2, 3, 4]\n",
      "[0, 1, 2, 3, 4]\n"
     ]
    }
   ],
   "source": [
    "# pire et meilleur cas\n",
    "def pirecasinsertion(n: int) -> List[int]:\n",
    "    a = [x for x in reversed(range(n))]\n",
    "    return a\n",
    "\n",
    "def meilleurcasinsertion(n: int) -> List[int]:\n",
    "    a = [x for x in range(n)]\n",
    "    return a\n",
    "\n",
    "\n",
    "pire = pirecasinsertion(dim)\n",
    "print(\"pire cas\")\n",
    "print(pire)\n",
    "pire = triInsertion(pire, dim)\n",
    "print(pire)\n",
    " \n",
    "    \n",
    "print(\"meilleur cas\")\n",
    "best = meilleurcasinsertion(dim)\n",
    "print(best)\n",
    "best = triInsertion(best, dim)\n",
    "print(best)"
   ]
  },
  {
   "cell_type": "markdown",
   "metadata": {
    "slideshow": {
     "slide_type": "slide"
    }
   },
   "source": [
    "#### Exercices\n",
    "\n",
    "1. Modifier `triInsertion()` pour décompter le nombre de comparaisons. Vérifier que les cas extrêmes exhibés sont bien ceux-là. Expérimenter en mesurant aussi les temps d'exécution.\n",
    "\n",
    "2. (*) Ecrire une version récursive de `triInsertion()`"
   ]
  },
  {
   "cell_type": "markdown",
   "metadata": {
    "slideshow": {
     "slide_type": "slide"
    }
   },
   "source": [
    "#### Corrections"
   ]
  },
  {
   "cell_type": "code",
   "execution_count": 5,
   "metadata": {
    "slideshow": {
     "slide_type": "subslide"
    }
   },
   "outputs": [],
   "source": [
    "from random import randint\n",
    "from numpy import log\n",
    "import matplotlib.pyplot as plt\n",
    "from matplotlib.backends.backend_pdf import PdfPages"
   ]
  },
  {
   "cell_type": "code",
   "execution_count": 6,
   "metadata": {
    "slideshow": {
     "slide_type": "subslide"
    }
   },
   "outputs": [],
   "source": [
    "valmax = 99\n",
    "\n",
    "def triinsertion(t: List[int]) -> List[int]:\n",
    "    '''Même version sans le paramètre n'''\n",
    "    for i in range(1, len(t)):\n",
    "        v = t[i]\n",
    "        j = i\n",
    "        while j > 0 and v < t[j-1]:\n",
    "            t[j] = t[j-1]\n",
    "            j = j-1\n",
    "        t[j] = v\n",
    "    return t\n",
    "\n",
    "\n",
    "def comptriinsertion(t: List[int]) -> List[int]:\n",
    "    \"\"\" version avec decompte du nb comparaisons\"\"\"\n",
    "    c = 0 \n",
    "    for i in range(1, len(t)):\n",
    "        v = t[i]\n",
    "        j = i\n",
    "        c += 1 # au moins une (derniere) comparaison\n",
    "        while j > 0 and v < t[j-1]:\n",
    "            t[j] = t[j-1]\n",
    "            j = j-1\n",
    "            c += 1\n",
    "        t[j] = v\n",
    "        if j == 0:\n",
    "            c = c-1 # sauf si c'est j qui arrete la boucle\n",
    "    return t, c"
   ]
  },
  {
   "cell_type": "code",
   "execution_count": 7,
   "metadata": {
    "slideshow": {
     "slide_type": "subslide"
    }
   },
   "outputs": [],
   "source": [
    "# un tableau de valeurs aléatoires\n",
    "def tabalea(n : int) -> List[int]:\n",
    "    a = [randint(0,valmax) for i in range(n)]\n",
    "    return a\n",
    "\n",
    "def pirecasinsertion(n: int) -> List[int]:\n",
    "    a = [x for x in reversed(range(n))]\n",
    "    return a\n",
    "\n",
    "def meilleurcasinsertion(n: int) -> List[int]:\n",
    "    a = [x for x in range(n)]\n",
    "    return a"
   ]
  },
  {
   "cell_type": "code",
   "execution_count": 8,
   "metadata": {
    "code_folding": [
     0
    ],
    "slideshow": {
     "slide_type": "subslide"
    }
   },
   "outputs": [],
   "source": [
    "def testcomp10():\n",
    "    n = 10\n",
    "    a = tabalea(n)\n",
    "    w = pirecasinsertion(n)\n",
    "    b = meilleurcasinsertion(n)\n",
    "    tabs = [b,w,a]\n",
    "    print(\"Trions !\")\n",
    "    for t in tabs:\n",
    "        print(t)\n",
    "        res, c = comptriinsertion(t)\n",
    "        print(res)\n",
    "        print(c , \"comparaisons pour n = \", n)  "
   ]
  },
  {
   "cell_type": "code",
   "execution_count": 9,
   "metadata": {
    "code_folding": [],
    "slideshow": {
     "slide_type": "subslide"
    }
   },
   "outputs": [],
   "source": [
    "def testcomp():\n",
    "    dims = (10, 50)\n",
    "    #dims = (10, 50, 100, 200, 300, 500, 1000)\n",
    "    nbcompalea = []*len(dims)\n",
    "    nbcompbest = []*len(dims)\n",
    "    nbcompworst = []*len(dims)\n",
    "    for n in dims:\n",
    "        b = meilleurcasinsertion(n)\n",
    "        res, c = comptriinsertion(b)\n",
    "        nbcompbest.append(c)\n",
    "        print(\"Meilleur cas : au plus \", c , \"comparaisons pour n = \", n)\n",
    "        \n",
    "        w = pirecasinsertion(n)\n",
    "        res, c = comptriinsertion(w)\n",
    "        nbcompworst.append(c)\n",
    "        print(\"Pire cas : au moins \", c , \"comparaisons pour n = \", n)\n",
    "              \n",
    "        p = 10\n",
    "        print(\"Moyenne de \", p, \"cas aleatoires :\")\n",
    "        ctot = 0\n",
    "        for t in range(p):\n",
    "            a = tabalea(n)\n",
    "            res, c = comptriinsertion(a)\n",
    "            #print(res)\n",
    "            print(c , \"comparaisons pour n = \", n)\n",
    "            ctot += c\n",
    "        cmoy = int(ctot/p)\n",
    "        nbcompalea.append(cmoy)\n",
    "        print(\"Conclusion : \", cmoy, \"comparaisons en moyenne pour n = \", n, \"(\", p, \"echantillons)\")\n",
    "        print(\"---------\")\n",
    "    return dims, nbcompbest, nbcompworst, nbcompalea\n",
    "\n",
    "\n",
    "def plottestcomp():\n",
    "    '''Pour tracer cette analyse. A effectuer hors notebook.'''\n",
    "    # calculs\n",
    "    n, b, w, m = testcomp()\n",
    "\n",
    "    # traces\n",
    "    fig = plt.figure()\n",
    "    fig.suptitle(\"Complexites du tri insertion\", fontweight='bold')\n",
    "    \n",
    "    # echelle lineaire\n",
    "    #fig1 = fig.add_subplot(1,1,1)\n",
    "    plt.subplot(211)#2lignes, 1 col, fig1\n",
    "    plt.title(\"nombre de comparaisons (vs. n)\")\n",
    "    plt.plot(n, b,'g-v', label=\"meilleur\")\n",
    "    plt.plot(n, w, 'r-^', label=\"pire\")\n",
    "    plt.plot(n, m, 'b-o', label=\"moyen\")\n",
    "    plt.legend(loc=2) # legende en haut a gche\n",
    "    \n",
    "    # echelles log\n",
    "    plt.subplot(212)\n",
    "    plt.title(\"ordre de grandeur des complexites (vs. n)\")\n",
    "    #plt.semilogy()\n",
    "    plt.ylabel(\"log(comp)/log(n)\")\n",
    "    plt.plot(n, log(b)/log(n), 'g-v', label=\"meilleur\")\n",
    "    plt.plot(n, log(w)/log(n), 'r-^', label=\"pire\")\n",
    "    plt.plot(n, log(m)/log(n), 'b-o', label=\"moyen\")\n",
    "    plt.legend(loc=4)\n",
    "\n",
    "    # sortie ecran ou pdf    \n",
    "    plt.show()\n",
    "    #pp = PdfPages('./plt-comp-triinsertion.pdf')\n",
    "    #pp.savefig()\n",
    "    #pp.close()"
   ]
  },
  {
   "cell_type": "code",
   "execution_count": 10,
   "metadata": {
    "slideshow": {
     "slide_type": "subslide"
    }
   },
   "outputs": [
    {
     "name": "stdout",
     "output_type": "stream",
     "text": [
      "Trions !\n",
      "[0, 1, 2, 3, 4, 5, 6, 7, 8, 9]\n",
      "[0, 1, 2, 3, 4, 5, 6, 7, 8, 9]\n",
      "9 comparaisons pour n =  10\n",
      "[9, 8, 7, 6, 5, 4, 3, 2, 1, 0]\n",
      "[0, 1, 2, 3, 4, 5, 6, 7, 8, 9]\n",
      "45 comparaisons pour n =  10\n",
      "[60, 49, 64, 85, 53, 90, 0, 11, 70, 48]\n",
      "[0, 11, 48, 49, 53, 60, 64, 70, 85, 90]\n",
      "32 comparaisons pour n =  10\n"
     ]
    }
   ],
   "source": [
    "testcomp10()"
   ]
  },
  {
   "cell_type": "code",
   "execution_count": 11,
   "metadata": {
    "slideshow": {
     "slide_type": "subslide"
    }
   },
   "outputs": [
    {
     "name": "stdout",
     "output_type": "stream",
     "text": [
      "Meilleur cas : au plus  9 comparaisons pour n =  10\n",
      "Pire cas : au moins  45 comparaisons pour n =  10\n",
      "Moyenne de  10 cas aleatoires :\n",
      "27 comparaisons pour n =  10\n",
      "31 comparaisons pour n =  10\n",
      "30 comparaisons pour n =  10\n",
      "29 comparaisons pour n =  10\n",
      "24 comparaisons pour n =  10\n",
      "27 comparaisons pour n =  10\n",
      "27 comparaisons pour n =  10\n",
      "36 comparaisons pour n =  10\n",
      "28 comparaisons pour n =  10\n",
      "28 comparaisons pour n =  10\n",
      "Conclusion :  28 comparaisons en moyenne pour n =  10 ( 10 echantillons)\n",
      "---------\n",
      "Meilleur cas : au plus  49 comparaisons pour n =  50\n",
      "Pire cas : au moins  1225 comparaisons pour n =  50\n",
      "Moyenne de  10 cas aleatoires :\n",
      "691 comparaisons pour n =  50\n",
      "643 comparaisons pour n =  50\n",
      "726 comparaisons pour n =  50\n",
      "613 comparaisons pour n =  50\n",
      "582 comparaisons pour n =  50\n",
      "686 comparaisons pour n =  50\n",
      "632 comparaisons pour n =  50\n",
      "664 comparaisons pour n =  50\n",
      "678 comparaisons pour n =  50\n",
      "649 comparaisons pour n =  50\n",
      "Conclusion :  656 comparaisons en moyenne pour n =  50 ( 10 echantillons)\n",
      "---------\n"
     ]
    },
    {
     "data": {
      "text/plain": [
       "((10, 50), [9, 49], [45, 1225], [28, 656])"
      ]
     },
     "execution_count": 11,
     "metadata": {},
     "output_type": "execute_result"
    }
   ],
   "source": [
    "testcomp()"
   ]
  },
  {
   "cell_type": "code",
   "execution_count": 12,
   "metadata": {
    "slideshow": {
     "slide_type": "subslide"
    }
   },
   "outputs": [
    {
     "name": "stdout",
     "output_type": "stream",
     "text": [
      "Meilleur cas : au plus  9 comparaisons pour n =  10\n",
      "Pire cas : au moins  45 comparaisons pour n =  10\n",
      "Moyenne de  10 cas aleatoires :\n",
      "35 comparaisons pour n =  10\n",
      "30 comparaisons pour n =  10\n",
      "40 comparaisons pour n =  10\n",
      "33 comparaisons pour n =  10\n",
      "30 comparaisons pour n =  10\n",
      "30 comparaisons pour n =  10\n",
      "30 comparaisons pour n =  10\n",
      "33 comparaisons pour n =  10\n",
      "30 comparaisons pour n =  10\n",
      "21 comparaisons pour n =  10\n",
      "Conclusion :  31 comparaisons en moyenne pour n =  10 ( 10 echantillons)\n",
      "---------\n",
      "Meilleur cas : au plus  49 comparaisons pour n =  50\n",
      "Pire cas : au moins  1225 comparaisons pour n =  50\n",
      "Moyenne de  10 cas aleatoires :\n",
      "685 comparaisons pour n =  50\n",
      "660 comparaisons pour n =  50\n",
      "583 comparaisons pour n =  50\n",
      "772 comparaisons pour n =  50\n",
      "659 comparaisons pour n =  50\n",
      "602 comparaisons pour n =  50\n",
      "652 comparaisons pour n =  50\n",
      "555 comparaisons pour n =  50\n",
      "733 comparaisons pour n =  50\n",
      "689 comparaisons pour n =  50\n",
      "Conclusion :  659 comparaisons en moyenne pour n =  50 ( 10 echantillons)\n",
      "---------\n"
     ]
    },
    {
     "data": {
      "image/png": "[encoded data removed]",
      "text/plain": [
       "<Figure size 432x288 with 2 Axes>"
      ]
     },
     "metadata": {
      "filenames": {
       "image/png": "/Users/langlois/2021/ens/L1-Algo-Prog/algoprog2022/_build/jupyter_execute/cm/10-trier_26_1.png"
      },
      "needs_background": "light"
     },
     "output_type": "display_data"
    }
   ],
   "source": [
    "plottestcomp()"
   ]
  },
  {
   "cell_type": "markdown",
   "metadata": {
    "slideshow": {
     "slide_type": "subslide"
    }
   },
   "source": [
    "### Vers l'analyse de la complexité\n",
    "\n",
    "Le tri insertion se compose de deux boucles imbriquées : `for ` puis `while`\n",
    "\n",
    "\n",
    "- Quel paramètre de la complexité en temps de ce tri ?\n",
    "- Quelle mesure de la complexité en temps de ce tri ?\n",
    "- Que penser de la boucle `while` dans le pire cas ?\n",
    "- Que penser de la boucle `while` dans le meilleur cas ?\n",
    "- Que penser de la boucle `for` dans le pire et dans le meilleur cas ?\n",
    "- En déduire une expression de la complexité :\n",
    "    - dans le pire cas\n",
    "    - dans le meilleur cas\n",
    "- En déduire la complexité asymptotique dans le pire cas.\n"
   ]
  },
  {
   "cell_type": "markdown",
   "metadata": {
    "slideshow": {
     "slide_type": "slide"
    }
   },
   "source": [
    "## Tri rapide (ou _quicksort_)\n",
    "\n",
    "Un premier exemple de tri (par comparaisons) récursif très efficace en pratique"
   ]
  },
  {
   "cell_type": "markdown",
   "metadata": {
    "slideshow": {
     "slide_type": "subslide"
    }
   },
   "source": [
    "### Principe\n",
    "\n",
    "Ranger une valeur à sa place définitive\n",
    "- toutes celles à sa gauche sont plus petites\n",
    "- toutes celles à sa droite sont plus grandes\n",
    "- ces sous-tableaux gauche et droit ne sont pas (encore) triés\n",
    "\n",
    "Dans la figure suivante, la valeur `v` est définitivement bien placée : \n",
    "![Illustration de l'invariant du tri rapide](fig/quicksort-invariant.png)\n",
    "\n",
    "Cette propriété est un _invariant_ du tri rapide. "
   ]
  },
  {
   "cell_type": "markdown",
   "metadata": {
    "slideshow": {
     "slide_type": "subslide"
    }
   },
   "source": [
    "### Récursion\n",
    "\n",
    "1. Hypothèse de départ :\n",
    "    - on suppose une des valeurs du tableau correctement placée, \n",
    "        - en `t[p]` par exemple \n",
    "    - le tableau initial `t[0..n[` est partagé en 2 sous-tableaux :\n",
    "        - `t_gauche[0.. p[` et \n",
    "        - `t_droit[p+1 .. n[`  \n",
    "2. Récursion\n",
    "    - on trie chacun de ces sous-tableaux _en appliquant le même principe_  \n",
    "3. Terminaison : un sous-tableau trié\n",
    "    - le sous-tableau est de taille 1 : \n",
    "    - réduit à 1 élément == pivot == bien placé"
   ]
  },
  {
   "cell_type": "markdown",
   "metadata": {
    "slideshow": {
     "slide_type": "subslide"
    }
   },
   "source": [
    "### Principe de mise en oeuvre  avec duplication du tableau `t`\n",
    "\n",
    "Une première mise en oeuvre \"à vocation pédagogique\" s'appuie sur la duplication du tableau de valeurs à chaque étape de la récursion."
   ]
  },
  {
   "cell_type": "markdown",
   "metadata": {
    "slideshow": {
     "slide_type": "subslide"
    }
   },
   "source": [
    "**Etape 1 :** placer correctement le pivot `v` \n",
    "- parcourir et comparer chaque élément `t[i]` avec `v` \n",
    "- si `t[i] < v`, laisser `t[i]` à gauche de `v`\n",
    "- sinon déplacer `t[i]` à droite de `v` \n",
    "![invariant du tri rapide](fig/quicksort-invariant.png)\n",
    "\n",
    "En pratique, \n",
    "- le choix du pivot est arbitraire :\n",
    "    - `t[0]` par exemple dans la suite\n",
    "- les déplacement peuvent être réalisés avec 2 tableaux (par exemple) :\n",
    "    - tableau source $\\to$ tableau destination\n",
    "    - On remplit le tableau destination par chacun de ses 2 bouts\n",
    "    - et on place `t[0]` à la fin.\n",
    "![avec 2 tableaux](fig/quicksort-parcours.png)"
   ]
  },
  {
   "cell_type": "markdown",
   "metadata": {
    "slideshow": {
     "slide_type": "subslide"
    }
   },
   "source": [
    "**Etape 2 :** récursion sur chacun des deux sous-tableaux gauche et droit\n",
    "\n",
    "Le premier pivot (`t[0]` ici) est correctement placé.\n",
    "![pivot](fig/quicksort-init.png)\n",
    "\n",
    "La récursion sur chacun des deux sous-tableaux gauche et droit permet de placer correctement les 2 nouveaux pivots `t[*]`.  \n",
    "![recursion](fig/quicksort-recursion.png)\n",
    "- `t[*]` peuvent à nouveau être \"les `t[0]`\" de chacun des sous-tableaux."
   ]
  },
  {
   "cell_type": "markdown",
   "metadata": {
    "slideshow": {
     "slide_type": "subslide"
    }
   },
   "source": [
    "#### Exemple\n",
    "\n",
    "On déroule à la main ce tri rapide pour trier le tableau `t= [4,3,5,8,2,6,7]`.\n",
    "\n",
    "![exemple](fig/quicksort-exemple.png)"
   ]
  },
  {
   "cell_type": "markdown",
   "metadata": {
    "slideshow": {
     "slide_type": "subslide"
    }
   },
   "source": [
    "### Mise en oeuvre en place\n",
    "\n",
    "Le principe étant bien compris, on effectue un traitement équivalent _en place_, c-a-d. sans dupliquer le tableau de valeurs.\n",
    "\n",
    "**Rmq:** _Les valeurs entre `[.]` sont les numéros de ligne dans le code de `partition` qui suit.  \n",
    "Hélas les numéros de lignes n'apparaissent pas dans la version html ; \n",
    "le def est en ligne 1, \n",
    "le assert en ligne 10 ... \n",
    "et le return en ligne 23._"
   ]
  },
  {
   "cell_type": "markdown",
   "metadata": {
    "slideshow": {
     "slide_type": "subslide"
    }
   },
   "source": [
    "1. une fonction `partition` organise le sous-tableau `t[g..d[` comme suit.\n",
    "    - _`[11]`_ on choisit  `t[d-1]` comme pivot (autre choix arbitraire)   \n",
    "    - _`[21]`_ à la fin de l'itération, il se retrouvera en `t[m]`   \n",
    "    - l'indice `m` va partitionner le tableau en 2 parties : à gauche, les valeurs  inférieures ou égales au pivot, à droite, à partir de `m+1`, les valeurs strictement supérieures\n",
    "        - _`[13]`_ pour cela, on parcourt `t` de `g` vers `d-1` (`d-1` exclus) \n",
    "        - _`[12]`_ on initialise `m = g`  : si le pivot est la plus petite valeur de `t[g,d[` alors il doit finir en `t[g]`\n",
    "        - _`[15:17]`_ on permute chaque valeur rencontrée plus petite que le pivot avec `t[m]`, et\n",
    "        - _`[18]`_ `m` est incrémenté car le nombre de valeurs inférieures au pivot vient d'être augmenté de 1 \n",
    "            - `m` reste (pour l'instant) l'indice de la première valeur strictement supérieure au pivot : \n",
    "            - ainsi `m` est l'indice qui sépare les 2 partitions gche (valeurs plus petites ou égales que le pivot) et droite (plus grandes) de `t`  \n",
    "        - _`[20]`_ et une fois arrivé en `d-1`, on permute `t[m]` et le pivot :\n",
    "            - le pivot se retrouve en `t[m]`, ce qui conserve la partition \"gauche-droite\" et correspond à l'objectif  \n",
    "    - **remarque** : la fonction retourne la valeur de séparation `m` \n",
    "    - **remarque** : ce traitement s'effectue en place : pas la peine de renvoyer le tableau  "
   ]
  },
  {
   "cell_type": "markdown",
   "metadata": {
    "slideshow": {
     "slide_type": "subslide"
    }
   },
   "source": [
    "2. la récursion `trirapide0( )` appelle (récursivement) `partition()` sur les 2 sous-tableaux délimités _de façon exclusive_  par `m` (cad `t[g,m[` et `t[m+1,d[`), et ce tant que leur longueur est plus grande que 1 ; sinon terminaison  "
   ]
  },
  {
   "cell_type": "markdown",
   "metadata": {
    "slideshow": {
     "slide_type": "subslide"
    }
   },
   "source": [
    "3. la fonction `trirapide()` réalise l'appel principal sur le tableau complet `t[g,d[` :\n",
    "    - soit l'appel pour `g==0` et `d==len(t)`"
   ]
  },
  {
   "cell_type": "code",
   "execution_count": 13,
   "metadata": {
    "slideshow": {
     "slide_type": "subslide"
    }
   },
   "outputs": [],
   "source": [
    "def partition(t: List[int], g: int, d: int) -> int:\n",
    "    \"\"\"partitionne t[g,d[\n",
    "    invariant : avant la boucle i\n",
    "    si g<=k < m, t[k] <= pivot\n",
    "    si m+1<=k <= i-1, t[k]  > pivot\n",
    "    **** choix arbitraire: t[d-1] = pivot. \n",
    "    Cad : t[g,m] <= pivot < t[m+1,d[ (*)\n",
    "    avec pivot = t[m]\n",
    "    et m+1 indice du premier > pivot\"\"\"\n",
    "    assert g < d-1 # t contient au moins 2 éléments\n",
    "    \n",
    "    pivot = t[d-1]\n",
    "    m = g\n",
    "    for i in range(g, d-1): # d-1 non atteint\n",
    "        if t[i] <= pivot: \n",
    "            tmp = t[i] # permuter t[m] et t[i]\n",
    "            t[i] = t[m]\n",
    "            t[m] = tmp\n",
    "            m = m+1 # m attend le prochain <= pivot\n",
    "    # placer pivot a sa place definitive\n",
    "    t[d-1] = t[m] \n",
    "    t[m] = pivot\n",
    "    #print(\"partition :\", t[g:d])\n",
    "    return m"
   ]
  },
  {
   "cell_type": "code",
   "execution_count": 14,
   "metadata": {
    "slideshow": {
     "slide_type": "subslide"
    }
   },
   "outputs": [],
   "source": [
    "def trirapide0(t: List[int], g: int, d: int) -> None:\n",
    "    '''partitionne t[g,d[ \n",
    "    et appels récursifs sur t[g,m[ et t[m+1,d['''\n",
    "    if d - g > 1: #il reste au moins 2 elmnts ds cette sous-partie de t\n",
    "        m = partition(t, g, d)\n",
    "        trirapide0(t, g, m-1) \n",
    "        trirapide0(t, m+1, d)  \n",
    "\n",
    "def trirapide(t: List[int], n: int) -> None:\n",
    "    '''tri rapide de t[0, len(t)['''\n",
    "    trirapide0(t, 0, len(t)) "
   ]
  },
  {
   "cell_type": "code",
   "execution_count": 15,
   "metadata": {
    "slideshow": {
     "slide_type": "subslide"
    }
   },
   "outputs": [
    {
     "name": "stdout",
     "output_type": "stream",
     "text": [
      "avant : [15, 4, 2, 8, 17, 23, 0, 1]\n",
      "après : [0, 1, 2, 4, 8, 15, 17, 23]\n"
     ]
    }
   ],
   "source": [
    "#t = tabalea(10)\n",
    "t = [15,4,2,8,17,23,0,1]\n",
    "print(\"avant :\", t)\n",
    "trirapide(t, len(t))\n",
    "print(\"après :\", t)"
   ]
  },
  {
   "cell_type": "markdown",
   "metadata": {
    "slideshow": {
     "slide_type": "subslide"
    }
   },
   "source": [
    "### Exercices\n",
    "\n",
    "* Ecrire une version (`partition2`) plus simple avec duplication du tableau  \n",
    "* Ecrire une version qui affiche les évolutions successives de `t` après chaque pivot"
   ]
  },
  {
   "cell_type": "markdown",
   "metadata": {
    "slideshow": {
     "slide_type": "subslide"
    }
   },
   "source": [
    "### Corrections\n"
   ]
  },
  {
   "cell_type": "code",
   "execution_count": 16,
   "metadata": {
    "solution2": "shown",
    "solution2_first": true
   },
   "outputs": [],
   "source": [
    "def partition2(t, n, g, d):\n",
    "    '''Quicksort avec duplication tableaux\n",
    "    partitionne t[g, d[ autour du pivot (ici l élément de gauche t[g])\n",
    "    retourne la position finale du pivot'''\n",
    "    assert g < d\n",
    "    # on définit t_cible et on place les indices à ses 2 bouts\n",
    "    i = g\n",
    "    j = d-1\n",
    "    # choix arbitraire du pivot\n",
    "    pivot = t[g]\n",
    "    # on y va\n",
    "    for k in range(g+1, d): \n",
    "        if t[k] <= pivot: \n",
    "            t_cible[i] = t[k] # on remplit t_cible par la gauche \n",
    "            i = i + 1  \n",
    "        else: \n",
    "            t_cible[j] = t[k] # on remplit t_cible par la droite\n",
    "            j = j - 1  \n",
    "    # on peut placer le pivot à la place qui reste\n",
    "    assert i == j\n",
    "    m = i\n",
    "    t_cible[m] = pivot\n",
    "    \n",
    "    # on met à jour t[g,d[ à l aide de t_cible\n",
    "    t[g:d]  = [t_cible[i] for i in range(g,d)]\n",
    "    print(\"partition [g, d[:m -> [\", g, ',' , d,\"[:\", m,  t_cible[g:d], t[g:d])\n",
    "\n",
    "    return m"
   ]
  },
  {
   "cell_type": "code",
   "execution_count": 17,
   "metadata": {},
   "outputs": [],
   "source": [
    "def triRapideRec2(t, g, d):\n",
    "    if d - g > 1: #il reste au moins 2 elmnts ds cette sous-partie de t\n",
    "        m = partition2(t, len(t), g, d)       \n",
    "        triRapideRec2(t, g, m) # m est exclu\n",
    "        triRapideRec2(t, m+1, d)\n",
    "\n",
    "def trirapide2(t):\n",
    "    global t_cible # bien noter le global !!\n",
    "    t_cible = [0 for i in range(len(t))]\n",
    "    print(\"dem :\", t_cible, t)\n",
    "    triRapideRec2(t, 0, len(t))\n",
    "    "
   ]
  },
  {
   "cell_type": "code",
   "execution_count": 18,
   "metadata": {},
   "outputs": [
    {
     "name": "stdout",
     "output_type": "stream",
     "text": [
      "avant : [89, 97, 46, 82, 25, 90, 71]\n",
      "dem : [0, 0, 0, 0, 0, 0, 0] [89, 97, 46, 82, 25, 90, 71]\n",
      "partition [g, d[:m -> [ 0 , 7 [: 4 [46, 82, 25, 71, 89, 90, 97] [46, 82, 25, 71, 89, 90, 97]\n",
      "partition [g, d[:m -> [ 0 , 4 [: 1 [25, 46, 71, 82] [25, 46, 71, 82]\n",
      "partition [g, d[:m -> [ 2 , 4 [: 2 [71, 82] [71, 82]\n",
      "partition [g, d[:m -> [ 5 , 7 [: 5 [90, 97] [90, 97]\n",
      "après : [25, 46, 71, 82, 89, 90, 97]\n"
     ]
    }
   ],
   "source": [
    "t = tabalea(7)\n",
    "print(\"avant :\", t)\n",
    "trirapide2(t)\n",
    "print(\"après :\", t)"
   ]
  },
  {
   "cell_type": "markdown",
   "metadata": {
    "slideshow": {
     "slide_type": "subslide"
    }
   },
   "source": [
    "### Performances, pire cas, meilleur cas"
   ]
  },
  {
   "cell_type": "markdown",
   "metadata": {
    "slideshow": {
     "slide_type": "fragment"
    }
   },
   "source": [
    "S'inspirer de la démarche sur `triInsertion( )` avec les exercices suivants. Bon travail !\n",
    "\n",
    "#### Exercices \n",
    "* Ecrire une version qui compte le nombre de comparaisons  \n",
    "* Générer le pire cas , et le meilleur cas, puis vérifier  \n",
    "\n"
   ]
  },
  {
   "cell_type": "code",
   "execution_count": 19,
   "metadata": {
    "slideshow": {
     "slide_type": "subslide"
    }
   },
   "outputs": [],
   "source": [
    "def partitionCompte(t, g, d):\n",
    "    \"\"\"version avec decompte nbre comp :\"\"\"\n",
    "    global nb \n",
    "    assert g < d-1 # t contient au moins 2 éléments\n",
    "    pivot = t[d-1]\n",
    "    m = g\n",
    "    for i in range(g, d-1): # d-1 non atteint\n",
    "        nb = nb + 1\n",
    "        if t[i] <= pivot: \n",
    "            tmp = t[i] # permuter t[m] et t[i]\n",
    "            t[i] = t[m]\n",
    "            t[m] = tmp\n",
    "            m = m+1 # m attend le prochain <= pivot\n",
    "    # placer pivot a sa place definitive\n",
    "    t[d-1] = t[m] \n",
    "    t[m] = pivot\n",
    "    #print(\"partition :\", t[g:d])\n",
    "    print(\"m:\", m)\n",
    "    return m\n",
    "\n",
    "def trirapide0Compte(t, g, d):\n",
    "    \"\"\"version avec decompte nbre comp :\"\"\"\n",
    "    if d - g > 1: #il reste au moins 2 elmnts ds cette sous-partie de t\n",
    "        m = partitionCompte(t, g, d)\n",
    "        trirapide0Compte(t, g, m-1) \n",
    "        trirapide0Compte(t, m+1, d)\n",
    "\n",
    "def trirapideCompte(t):\n",
    "    '''version avec decompte nbre comp :\n",
    "    tri rapide de t[0, len(t)['''\n",
    "    global nb\n",
    "    nb = 0\n",
    "    trirapide0Compte(t, 0, len(t))\n",
    "    return nb"
   ]
  },
  {
   "cell_type": "code",
   "execution_count": 20,
   "metadata": {
    "slideshow": {
     "slide_type": "subslide"
    }
   },
   "outputs": [
    {
     "name": "stdout",
     "output_type": "stream",
     "text": [
      "avant : [15, 4, 2, 8, 17, 23, 0, 1]\n",
      "m: 1\n",
      "m: 3\n",
      "m: 4\n",
      "m: 6\n",
      "après : [0, 1, 2, 4, 8, 15, 17, 23]\n",
      "nb comparaisons : 17\n",
      "* Pire cas : \n",
      "avant : [1, 2, 3, 4, 5, 6, 7, 0]\n",
      "m: 0\n",
      "m: 1\n",
      "m: 2\n",
      "m: 3\n",
      "m: 4\n",
      "m: 5\n",
      "m: 6\n",
      "après : [0, 1, 2, 3, 4, 5, 6, 7]\n",
      "nb comparaisons : 28\n",
      "* Meilleur cas : \n",
      "avant : [0, 2, 1, 5, 6, 4, 3]\n",
      "m: 3\n",
      "m: 1\n",
      "m: 5\n",
      "après : [0, 2, 1, 3, 4, 5, 6]\n",
      "nb comparaisons : 9\n"
     ]
    }
   ],
   "source": [
    "#t = tabalea(10)\n",
    "t = [15,4,2,8,17,23,0,1]\n",
    "print(\"avant :\", t)\n",
    "nbcomp = trirapideCompte(t)\n",
    "print(\"après :\", t)\n",
    "print(\"nb comparaisons :\", nbcomp)\n",
    "\n",
    "print(\"* Pire cas : \")\n",
    "#t_pire = [i for i in range(7,-1,-1)]\n",
    "t_pire = [1, 2, 3, 4, 5, 6, 7, 0]\n",
    "print(\"avant :\", t_pire)\n",
    "nbcomp = trirapideCompte(t_pire)\n",
    "print(\"après :\", t_pire)\n",
    "print(\"nb comparaisons :\", nbcomp)\n",
    "\n",
    "print(\"* Meilleur cas : \")\n",
    "t_best = [0, 2, 1 , 5, 6,  4, 3]\n",
    "print(\"avant :\", t_best)\n",
    "nbcomp = trirapideCompte(t_best)\n",
    "print(\"après :\", t_best)\n",
    "print(\"nb comparaisons :\", nbcomp)\n",
    "\n"
   ]
  },
  {
   "cell_type": "markdown",
   "metadata": {
    "slideshow": {
     "slide_type": "subslide"
    }
   },
   "source": [
    "### Vers l'analyse de la complexité\n",
    "\n",
    "Le tri rapide :\n",
    "\n",
    "- consiste en des appels récursifs qui effectuent des partitions successives (en 2 sous-tableaux de taille strictement inférieure) jusqu'à terminaison (sous-tableau de taille 1 ou 0). \n",
    "- Chacune de ces partitions permet de placer correctement le pivot associé."
   ]
  },
  {
   "cell_type": "markdown",
   "metadata": {
    "slideshow": {
     "slide_type": "subslide"
    }
   },
   "source": [
    "Les questions suivantes guident l'analyse de la complexité du pire et du meilleur cas de cet algorithme.\n",
    "\n",
    "- Quel paramètre de la complexité en temps de ce tri ?\n",
    "- Quelle mesure de la complexité en temps de ce tri ?\n",
    "- Analyse du pire cas :\n",
    "    - Que penser de la taille des sous-tableaux à chaque appel récursif ?\n",
    "    - Combien d'appels récursifs sont nécessaires au traitement de ce pire cas ?\n",
    "    - Expliciter une relation de récurrence sur $C(n)$ la complexité de la partition d'un tableau de taille $n$ _dans le pire cas_\n",
    "    - Expliciter $C(1)$ la complexité de la partition d'un tableau de taille $1$ \n",
    "    - En déduire $C(n)$ la complexité du tri rapide dans le pire cas ?\n",
    "- Analyse du meilleur cas :\n",
    "    - Que penser de la taille des sous-tableaux à appel récursif ?\n",
    "    - Combien d'appels récursifs au plus (\\*) sont nécessaires au traitement de ce meilleur cas ? (\\*): Il est commode de ramener les tailles des (sous-)tableaux à des puissances de 2. On commence par exemple avec $n = 2^p$ valeurs à trier.\n",
    "    - Expliciter une relation de récurrence sur $C(n)$ la complexité de la partition d'un tableau de taille $n$ _dans le meilleur cas_\n",
    "    - Expliciter $C(1)$ la complexité de la partition d'un tableau de taille $1$ \n",
    "    - En déduire $C(n)$ la complexité du tri rapide dans le meilleur cas ?\n",
    "- A partir de ces deux cas, que penser du tri rapide  ?\n",
    "- En déduire les complexités asymptotiques des meilleurs et pires cas.   "
   ]
  },
  {
   "cell_type": "markdown",
   "metadata": {
    "slideshow": {
     "slide_type": "slide"
    }
   },
   "source": [
    "## Tri fusion\n",
    "\n",
    "Un exemple de tri de complexité optimale (semi-logarithmique : $n\\log(n)$) issu de la stratégie **diviser pour régner**."
   ]
  },
  {
   "cell_type": "markdown",
   "metadata": {
    "slideshow": {
     "slide_type": "subslide"
    }
   },
   "source": [
    "### Principe\n",
    "\n",
    "1. **Fusionner** 2 tableaux _triés_ pour obtenir un tableau unique _trié_ \n",
    "- Facile : il suffit de répéter la comparaison du premier élément de chacun des 2 tableaux.\n",
    "2. Obtenir 2 tableaux triés ? **Récursion**\n",
    "- on divise le tableau `t[0..n[` en 2 sous-tableaux de taille moitié : par exemple\n",
    "    - `t_gauche[0..n//2[` et \n",
    "    - `t_droit[n//2..n[`\n",
    "- on trie chacun de ces sous-tableaux _en appliquant le même principe._\n",
    "3. Terminaison : un sous-tableau trié.\n",
    "- le sous-tableau est de **taille 1** : réduit à 1 élément"
   ]
  },
  {
   "cell_type": "markdown",
   "metadata": {
    "slideshow": {
     "slide_type": "subslide"
    }
   },
   "source": [
    "La figure suivante illustre ce principe.\n",
    "![source openclassroom](fig/tri_fusion.png) (source openclassroom)"
   ]
  },
  {
   "cell_type": "markdown",
   "metadata": {
    "slideshow": {
     "slide_type": "subslide"
    }
   },
   "source": [
    "La forme récursive du tri fusion est issue d'une stratégie \"diviser pour régner\" similaire à celle utilisée pour la recherche dichotomique. En pratique, les appels récursifs définissent les moitiés de tableaux à manipuler. Le \"coeur\" de l'algorithme est donc la phase de fusion que nous détaillons maintenant."
   ]
  },
  {
   "cell_type": "markdown",
   "metadata": {
    "slideshow": {
     "slide_type": "subslide"
    }
   },
   "source": [
    "### Exemple de la fusion de 2 tableaux triés\n",
    "\n",
    "On illustre la fusion de 2 tableaux triés quelconques à l'aide de l'exemple suivant.\n",
    "\n",
    "Fusionnons les 8 valeurs stockées dans les tableaux triés  `t_g =  [1,3,5,8,11]` et `t_d = [2,6,7]`.\n",
    "\n",
    "\n",
    "**Rmq.** La récursion du tri fusion conduirait ici à 2 tableaux triés de taille 4 chacun. \n"
   ]
  },
  {
   "cell_type": "markdown",
   "metadata": {
    "slideshow": {
     "slide_type": "subslide"
    }
   },
   "source": [
    "**Fusion**\n",
    "\n",
    "![Fusionner 2 tableaux triés](./fig/fusion.png)"
   ]
  },
  {
   "cell_type": "markdown",
   "metadata": {
    "jupyter": {
     "source_hidden": true
    },
    "slideshow": {
     "slide_type": "subslide"
    },
    "tags": []
   },
   "source": [
    "### Algorithme : analyse et (une) écriture"
   ]
  },
  {
   "cell_type": "markdown",
   "metadata": {
    "slideshow": {
     "slide_type": "subslide"
    }
   },
   "source": [
    "#### Fusion \n",
    "\n",
    "**Entrées** : 2 tableaux `t1` et `t2`, de longueurs `n1` et `n2`, **triés**  \n",
    "**Sortie** : 1 tableau `t` de taille `n1+n2` qui sera trié\n",
    "\n",
    "Plusieurs cas de figures sont possibles.\n",
    "1. Les entrées `t1` et `t2`  sont des tableaux distincts ou des sous-tableaux d'un unique tableau.\n",
    "    - dans le second cas, il faut connaître l'indice de séparation des valeurs de `t1` et `t2`dans `t`.\n",
    "2. La fusion peut créer et retourner un nouveau tableau `t` \n",
    "    - et oublier `t1` et `t2` après la fusion  \n",
    "    - facile mais coûteux en mémoire :)\n",
    "4. utiliser 2 \"grands tableaux\" passés par l'utilisateur  \n",
    "2. utiliser une copie locale\n",
    "\n",
    "On va d'abord supposer :\n",
    "- Les entrées `t1` et `t2` sont des sous-tableaux d'un unique tableau `a[g, d[` passé en paramètre. \n",
    "    - L'indice de séparation est donné comme paramètre `m`. \n",
    "- La sortie est un second tableau `b` aussi passé en paramètre.  \n",
    "- La fusion est donc une procédure qui modifie `b`. "
   ]
  },
  {
   "cell_type": "code",
   "execution_count": 21,
   "metadata": {
    "slideshow": {
     "slide_type": "subslide"
    }
   },
   "outputs": [],
   "source": [
    "def fusion(a: List[int], b: List[int], g: int, m: int, d: int) -> None:\n",
    "    \"\"\" fusion des 2 moitiés du tableau a en le tableau b.\n",
    "    a et b sont passés en arguments (pas de copie locale, pas de return) : on prend dans a, on range dans b.\n",
    "    entrées. a, b : 2 tableaux (de même taille).\n",
    "    g, m, d : le sous-tab gauche est a[g,m[, celui de droite est a[m,d[\n",
    "    sortie. b[g,d[ trié.\n",
    "    \"\"\"\n",
    "    assert len(a)==len(b) # a[] et b[] sont de la même taille\n",
    "    \n",
    "    i, j = g, m           # i et j parcourent resp. les partie G et D de a[]\n",
    "    for k in range(g, d): # k parcourt b[] de g à d-1\n",
    "        if i < m and (j==d or a[i] < a[j]):\n",
    "            # G n est pas vide\n",
    "            b[k] = a[i]\n",
    "            i = i+1\n",
    "        else:\n",
    "            b[k] = a[j]\n",
    "            j = j+1\n",
    "            \n",
    "    return None "
   ]
  },
  {
   "cell_type": "code",
   "execution_count": 22,
   "metadata": {
    "slideshow": {
     "slide_type": "fragment"
    }
   },
   "outputs": [
    {
     "name": "stdout",
     "output_type": "stream",
     "text": [
      "[0, 2, 4, 6, 8, 1, 3, 5, 7, 9] [0, 0, 0, 0, 0, 0, 0, 0, 0, 0]\n",
      "[0, 2, 4, 6, 8, 1, 3, 5, 7, 9] [0, 1, 2, 3, 4, 5, 6, 7, 8, 9]\n"
     ]
    }
   ],
   "source": [
    "t_in  = [2*i for i in range(5)] + [2*i+1 for i in range(5)]\n",
    "t_out = [0 for i in range(10)]\n",
    "print(t_in, t_out)\n",
    "\n",
    "fusion(t_in, t_out, 0, 5, 10)\n",
    "\n",
    "print(t_in, t_out)"
   ]
  },
  {
   "cell_type": "markdown",
   "metadata": {
    "slideshow": {
     "slide_type": "subslide"
    }
   },
   "source": [
    "<div class=\"alert alert-block alert-info\">\n",
    "En première lecture, sauter la section suivante et aller en section 4.4 _Diviser pour régner._\n",
    "</div>\n",
    "\n",
    "#### Analyse plus détaillée de la programmation de la fusion\n",
    "\n",
    "Affichons les états successifs du tableau fusionné."
   ]
  },
  {
   "cell_type": "code",
   "execution_count": 23,
   "metadata": {
    "slideshow": {
     "slide_type": "subslide"
    }
   },
   "outputs": [],
   "source": [
    "def fusionPrint(a: List[int], b: List[int], g: int, m: int, d: int) -> None:\n",
    "    \"\"\" version avec affichages de :\n",
    "    fusion avec deux tableaux a et b passés en arguments\n",
    "    (pas de copie locale, pas de return) : on prend dans a, on range dans b.\n",
    "    entrées. a, b : 2 tableaux (de même taille).\n",
    "    g, m, d : le sous-tab gauche est a[g,m-1], celui de droite est a[m,d-1]\n",
    "    sortie. b[g,d] trié.\n",
    "    \"\"\"\n",
    "    assert len(a)==len(b) # a[] et b[] sont de la même taille\n",
    "    \n",
    "    i, j = g, m           # i et j parcourent resp. les partie G et D de a[]\n",
    "    for k in range(g, d): # k parcourt b[] de g à d-1\n",
    "        if i < m and (j==d or a[i] < a[j]):\n",
    "            # G n est pas vide\n",
    "            b[k] = a[i]\n",
    "            i = i+1\n",
    "        else:\n",
    "            b[k] = a[j]\n",
    "            j = j+1\n",
    "        print(k, \": \", b)\n",
    "        \n",
    "    return None"
   ]
  },
  {
   "cell_type": "code",
   "execution_count": 24,
   "metadata": {
    "slideshow": {
     "slide_type": "subslide"
    }
   },
   "outputs": [
    {
     "name": "stdout",
     "output_type": "stream",
     "text": [
      "[0, 2, 4, 6, 8, 1, 3, 5, 7, 9]\n",
      "0 :  [0, 0, 0, 0, 0, 0, 0, 0, 0, 0]\n",
      "1 :  [0, 1, 0, 0, 0, 0, 0, 0, 0, 0]\n",
      "2 :  [0, 1, 2, 0, 0, 0, 0, 0, 0, 0]\n",
      "3 :  [0, 1, 2, 3, 0, 0, 0, 0, 0, 0]\n",
      "4 :  [0, 1, 2, 3, 4, 0, 0, 0, 0, 0]\n",
      "5 :  [0, 1, 2, 3, 4, 5, 0, 0, 0, 0]\n",
      "6 :  [0, 1, 2, 3, 4, 5, 6, 0, 0, 0]\n",
      "7 :  [0, 1, 2, 3, 4, 5, 6, 7, 0, 0]\n",
      "8 :  [0, 1, 2, 3, 4, 5, 6, 7, 8, 0]\n",
      "9 :  [0, 1, 2, 3, 4, 5, 6, 7, 8, 9]\n",
      "[0, 1, 2, 3, 4, 5, 6, 7, 8, 9]\n"
     ]
    }
   ],
   "source": [
    "t_in  = [2*i for i in range(5)] + [2*i+1 for i in range(5)]\n",
    "t_out = [0 for i in range(10)]\n",
    "print(t_in)\n",
    "fusionPrint(t_in, t_out, 0, 5, 10)\n",
    "print(t_out)"
   ]
  },
  {
   "cell_type": "markdown",
   "metadata": {
    "slideshow": {
     "slide_type": "subslide"
    }
   },
   "source": [
    "##### Petite amélioration \n",
    "\n",
    "On voit ce qui se passe à chaque itération.\n",
    "Ce qui va permettre de constater qu'on traite inutilement des sous-tableaux vides."
   ]
  },
  {
   "cell_type": "code",
   "execution_count": 25,
   "metadata": {
    "jupyter": {
     "source_hidden": true
    },
    "slideshow": {
     "slide_type": "fragment"
    },
    "tags": []
   },
   "outputs": [
    {
     "name": "stdout",
     "output_type": "stream",
     "text": [
      "[0, 1, 2, 3, 4, 5, 6, 7, 8, 9]\n",
      "0 :  [0, 0, 0, 0, 0, 0, 0, 0, 0, 0]\n",
      "1 :  [0, 1, 0, 0, 0, 0, 0, 0, 0, 0]\n",
      "2 :  [0, 1, 2, 0, 0, 0, 0, 0, 0, 0]\n",
      "3 :  [0, 1, 2, 3, 0, 0, 0, 0, 0, 0]\n",
      "4 :  [0, 1, 2, 3, 4, 0, 0, 0, 0, 0]\n",
      "5 :  [0, 1, 2, 3, 4, 5, 0, 0, 0, 0]\n",
      "6 :  [0, 1, 2, 3, 4, 5, 6, 0, 0, 0]\n",
      "7 :  [0, 1, 2, 3, 4, 5, 6, 7, 0, 0]\n",
      "8 :  [0, 1, 2, 3, 4, 5, 6, 7, 8, 0]\n",
      "9 :  [0, 1, 2, 3, 4, 5, 6, 7, 8, 9]\n"
     ]
    }
   ],
   "source": [
    "t_in  = [i for i in range(10)]\n",
    "print(t_in)\n",
    "t_out = [0 for i in range(10)]\n",
    "fusionPrint(t_in, t_out, 0, 5, 10)"
   ]
  },
  {
   "cell_type": "markdown",
   "metadata": {
    "slideshow": {
     "slide_type": "subslide"
    }
   },
   "source": [
    "Pourquoi ces appels inutiles ?\n",
    "\n",
    "**Exercice :** Proposer un palliatif !"
   ]
  },
  {
   "cell_type": "markdown",
   "metadata": {
    "slideshow": {
     "slide_type": "subslide"
    }
   },
   "source": [
    "**Comment arrêter les parcours des (sous)-tableaux ?**  \n",
    "Objectif : ne pas aller inutilement jusqu'au bout d'un sous-tableau alors que l'autre est vide.  \n",
    "\n",
    "Plusieurs choix aussi :\n",
    "1. en gérant les indices de façon adaptée\n",
    "- à la manière du contrôle `j == d` dans `fusion()` qui indique si le tableau droit est vide\n",
    "2. en introduisant des __sentinelles__ : valeurs choisies pour arrêter les itérations  \n",
    "- exemple : une très grande valeur (un \"infini\") si on trie par ordre croissant"
   ]
  },
  {
   "cell_type": "markdown",
   "metadata": {
    "slideshow": {
     "slide_type": "subslide"
    }
   },
   "source": [
    "####  Exercice de programmation\n",
    "\n",
    "Une seule version avec et sans affichage"
   ]
  },
  {
   "cell_type": "code",
   "execution_count": 26,
   "metadata": {
    "slideshow": {
     "slide_type": "subslide"
    }
   },
   "outputs": [],
   "source": [
    "def fusion(a: List[int], b: List[int], g: int, m: int, d: int, verb=False) -> None:\n",
    "    \"\"\" version avec choix d'affichage de :\n",
    "    fusion avec deux tableaux a et b passés en arguments\n",
    "    (pas de copie locale, pas de return) : on prend dans a, on range dans b.\n",
    "    entrées. a, b : 2 tableaux (de même taille).\n",
    "    g, m, d : le sous-tab gauche est a[g,m-1], celui de droite est a[m,d-1]\n",
    "    sortie. b[g,d] trié.\n",
    "    \"\"\"\n",
    "    assert len(a)==len(b) # a[] et b[] sont de la même taille\n",
    "    \n",
    "    i, j = g, m           # i et j parcourent resp. les partie G et D de a[]\n",
    "    for k in range(g, d): # k parcourt b[] de g à d-1\n",
    "        if i < m and (j==d or a[i] < a[j]):\n",
    "            # G n est pas vide\n",
    "            b[k] = a[i]\n",
    "            i = i+1\n",
    "        else:\n",
    "            b[k] = a[j]\n",
    "            j = j+1\n",
    "        if verb == True:\n",
    "            print(k, \": \", b)\n",
    "        \n",
    "    return None\n",
    "            "
   ]
  },
  {
   "cell_type": "code",
   "execution_count": 27,
   "metadata": {
    "slideshow": {
     "slide_type": "subslide"
    }
   },
   "outputs": [
    {
     "name": "stdout",
     "output_type": "stream",
     "text": [
      "sans affichage [0, 1, 2, 3, 4, 5, 6, 7, 8, 9]\n",
      "avec affichages\n",
      "0 :  [0, 0, 0, 0, 0, 0, 0, 0, 0, 0]\n",
      "1 :  [0, 1, 0, 0, 0, 0, 0, 0, 0, 0]\n",
      "2 :  [0, 1, 2, 0, 0, 0, 0, 0, 0, 0]\n",
      "3 :  [0, 1, 2, 3, 0, 0, 0, 0, 0, 0]\n",
      "4 :  [0, 1, 2, 3, 4, 0, 0, 0, 0, 0]\n",
      "5 :  [0, 1, 2, 3, 4, 5, 0, 0, 0, 0]\n",
      "6 :  [0, 1, 2, 3, 4, 5, 6, 0, 0, 0]\n",
      "7 :  [0, 1, 2, 3, 4, 5, 6, 7, 0, 0]\n",
      "8 :  [0, 1, 2, 3, 4, 5, 6, 7, 8, 0]\n",
      "9 :  [0, 1, 2, 3, 4, 5, 6, 7, 8, 9]\n"
     ]
    }
   ],
   "source": [
    "t = [i for i in range(10)]\n",
    "tt = [0 for i in range (10)]\n",
    "\n",
    "fusion(t, tt, 0, 5, 10)\n",
    "print(\"sans affichage\", tt)\n",
    "tt = [0 for i in range (10)]\n",
    "\n",
    "print(\"avec affichages\")\n",
    "fusion(t, tt, 0, 5, 10, True)"
   ]
  },
  {
   "cell_type": "markdown",
   "metadata": {
    "slideshow": {
     "slide_type": "slide"
    }
   },
   "source": [
    "### Diviser pour régner\n",
    "\n",
    "L'algorithme complet du tri fusion peut maintenant s'écrire à partir de l'analyse \"diviser pour régner\"  appliquée au tableau au tabelau à trier.\n",
    "\n",
    "* Principe récursif de division en 2 parties de taille moitié jusqu'à obtenir un tableau de longueur 0 ou 1  \n",
    "* terminaison : \n",
    "    - tableau vide (longueur 0) : `g >= d`\n",
    "    - tableau de longueur 1 : `g == d-1`"
   ]
  },
  {
   "cell_type": "code",
   "execution_count": 28,
   "metadata": {},
   "outputs": [],
   "source": [
    "def trifusion(a: List[int], dim_a: int) -> None:\n",
    "    \"\"\"tri fusion qui utilise fusion(a,b,g,m,d)\n",
    "    avec une fonction récursive locale pour travailler sur 1 seul tableau\"\"\"\n",
    "    b = a[:] # copie de a\n",
    "    \n",
    "    # fonction recursive locale\n",
    "    def trifusion_rec(g: int, d: int):\n",
    "        if g  >= d-1 : # 0 ou 1 éléments\n",
    "            return        \n",
    "        m = (g+d)//2\n",
    "        trifusion_rec(g, m)\n",
    "        trifusion_rec(m, d)\n",
    "        b[g:d] = a[g:d]\n",
    "        fusion(b, a, g, m, d)\n",
    "        \n",
    "    # appel principal\n",
    "    trifusion_rec(0, len(a))\n",
    "    #\n",
    "    return None"
   ]
  },
  {
   "cell_type": "code",
   "execution_count": 29,
   "metadata": {
    "slideshow": {
     "slide_type": "fragment"
    }
   },
   "outputs": [
    {
     "name": "stdout",
     "output_type": "stream",
     "text": [
      "[0, 2, 4, 6, 1, 3, 5, 7]\n",
      "[0, 1, 2, 3, 4, 5, 6, 7]\n"
     ]
    }
   ],
   "source": [
    "t  = [2*i for i in range(4)] + [2*i+1 for i in range(4)]\n",
    "print(t)\n",
    "trifusion(t, len(t))\n",
    "print(t)\n"
   ]
  },
  {
   "cell_type": "markdown",
   "metadata": {
    "slideshow": {
     "slide_type": "subslide"
    }
   },
   "source": [
    "**A venir :** le même principe \"divise pour régner\" avec des variations d'implémentation."
   ]
  },
  {
   "cell_type": "markdown",
   "metadata": {
    "slideshow": {
     "slide_type": "slide"
    }
   },
   "source": [
    "### Performances, pire cas, meilleur cas"
   ]
  },
  {
   "cell_type": "markdown",
   "metadata": {
    "slideshow": {
     "slide_type": "subslide"
    }
   },
   "source": [
    "S'inspirer des démarches précédentes. Bon travail !"
   ]
  },
  {
   "cell_type": "code",
   "execution_count": 30,
   "metadata": {
    "slideshow": {
     "slide_type": "subslide"
    }
   },
   "outputs": [
    {
     "name": "stdout",
     "output_type": "stream",
     "text": [
      "sans affichage [0, 1, 2, 3, 4, 5, 6, 7, 8, 9]\n",
      "avec affichages\n",
      "0 :  [0, 0, 0, 0, 0, 0, 0, 0, 0, 0]\n",
      "1 :  [0, 1, 0, 0, 0, 0, 0, 0, 0, 0]\n",
      "2 :  [0, 1, 2, 0, 0, 0, 0, 0, 0, 0]\n",
      "3 :  [0, 1, 2, 3, 0, 0, 0, 0, 0, 0]\n",
      "4 :  [0, 1, 2, 3, 4, 0, 0, 0, 0, 0]\n",
      "5 :  [0, 1, 2, 3, 4, 5, 0, 0, 0, 0]\n",
      "6 :  [0, 1, 2, 3, 4, 5, 6, 0, 0, 0]\n",
      "7 :  [0, 1, 2, 3, 4, 5, 6, 7, 0, 0]\n",
      "8 :  [0, 1, 2, 3, 4, 5, 6, 7, 8, 0]\n",
      "9 :  [0, 1, 2, 3, 4, 5, 6, 7, 8, 9]\n"
     ]
    }
   ],
   "source": [
    "def fusionOpt(a, b, g, m, d, verb=False, compteFusion=False):\n",
    "    \"\"\" version avec choix d'affichage et decompte comparaison de :\n",
    "    fusion avec deux tableaux a et b passés en arguments\n",
    "    (pas de copie locale, pas de return) : on prend dans a, on range dans b.\n",
    "    entrées. a, b : 2 tableaux (de même taille).\n",
    "    g, m, d : le sous-tab gauche est a[g,m-1], celui de droite est a[m,d-1]\n",
    "    sortie. b[g,d] trié.\n",
    "    \"\"\"\n",
    "    global nb # pour le decompte des comparaisons\n",
    "    assert len(a)==len(b) # a[] et b[] sont de la même taille\n",
    "    i, j = g, m           # i et j parcourent resp. les partie G et D de a[]\n",
    "    for k in range(g, d): # k parcourt b[] de g à d-1\n",
    "        if compteFusion == True:\n",
    "            nb = nb + 1\n",
    "        if i < m and (j==d or a[i] < a[j]):\n",
    "            # G n est pas vide\n",
    "            b[k] = a[i]\n",
    "            i = i+1\n",
    "        else:\n",
    "            b[k] = a[j]\n",
    "            j = j+1\n",
    "        if verb == True:\n",
    "            print(k, \": \", b)\n",
    "            \n",
    "t = [i for i in range(10)]\n",
    "tt = [0 for i in range (10)]\n",
    "\n",
    "fusionOpt(t, tt, 0, 5, 10)\n",
    "print(\"sans affichage\", tt)\n",
    "tt = [0 for i in range (10)]\n",
    "\n",
    "print(\"avec affichages\")\n",
    "fusionOpt(t, tt, 0, 5, 10, True)"
   ]
  },
  {
   "cell_type": "code",
   "execution_count": 31,
   "metadata": {
    "slideshow": {
     "slide_type": "subslide"
    }
   },
   "outputs": [],
   "source": [
    "def trifusionOpt(a, dim_a, compte=False):\n",
    "    \"\"\"version avec decompte comparaisons de \n",
    "    tri fusion qui utilise fusion(a,b,g,m,d)\n",
    "    avec une fonction récursive locale pour travailler sur 1 seul tableau\"\"\"\n",
    "    if compte == True:\n",
    "        global nb \n",
    "        nb = 0\n",
    "    b = a[:] # copie de a\n",
    "    # fonction recursive locale\n",
    "    def trifusion_rec(g, d):\n",
    "        if g  >= d - 1: # 0 ou 1 éléments\n",
    "            return        \n",
    "        m = (g+d)//2\n",
    "        trifusion_rec(g, m)\n",
    "        trifusion_rec(m, d)\n",
    "        b[g:d] = a[g:d]\n",
    "        fusionOpt(b, a, g, m, d, compteFusion=compte)\n",
    "    # appel principal\n",
    "    trifusion_rec(0, len(a))\n",
    "    #\n",
    "    if compte == True:\n",
    "        return nb\n",
    "\n"
   ]
  },
  {
   "cell_type": "code",
   "execution_count": 32,
   "metadata": {
    "slideshow": {
     "slide_type": "subslide"
    }
   },
   "outputs": [
    {
     "name": "stdout",
     "output_type": "stream",
     "text": [
      "[7, 3, 6, 2, 6, 0, 1, 3] [5, 6, 1, 0, 3, 5, 5, 7]\n",
      "[0, 1, 2, 3, 3, 6, 6, 7]\n",
      "nb comparaisons: 24\n",
      "[0, 1, 3, 5, 5, 5, 6, 7]\n",
      "nb comparaisons: 24\n"
     ]
    }
   ],
   "source": [
    "from random import randint \n",
    "t_best = [randint(0,8) for i in range(8)]\n",
    "t_pire = [randint(0,8) for i in range(8)]\n",
    "print(t_best, t_pire)\n",
    "nbcomp = trifusionOpt(t_best, len(t), True)\n",
    "print(t_best)\n",
    "print(\"nb comparaisons:\", nbcomp)\n",
    "nbcomp = trifusionOpt(t_pire, len(t), True)\n",
    "print(t_pire)\n",
    "print(\"nb comparaisons:\", nbcomp)\n",
    "\n"
   ]
  },
  {
   "cell_type": "markdown",
   "metadata": {
    "slideshow": {
     "slide_type": "subslide"
    }
   },
   "source": [
    "### Vers l'analyse de la complexité\n",
    "\n",
    "Le tri fusion consiste en des appels récursifs qui :\n",
    "- effectuent des _partitions_ successives en 2 sous-tableaux de taille moitié jusqu'à terminaison (sous-tableau de taille 1 ou 0 donc trié),\n",
    "- puis des _fusions_ de sous-tableaux triés en un tableau trié de longueur double.  \n",
    "\n",
    "Ainsi, la dernière fusion construit le tableau complet trié.  "
   ]
  },
  {
   "cell_type": "markdown",
   "metadata": {
    "slideshow": {
     "slide_type": "subslide"
    }
   },
   "source": [
    "Les questions suivantes guident l'analyse de la complexité du pire et du meilleur cas de cet algorithme.\n",
    "\n",
    "- Quel paramètre de la complexité en temps de ce tri ?\n",
    "- Quelle mesure de la complexité en temps de ce tri ?\n",
    "- Analyse pour $n = 2^p$ valeurs à trier.\n",
    "    - Que penser de la taille des sous-tableaux à chaque appel récursif ?\n",
    "    - Combien d'appels récursifs sont nécessaires à la terminaison des appels récursifs ?\n",
    "    - Pour $n$ ainsi fixé, que penser d'un pire cas et d'un meilleur cas ?\n",
    "    - Expliciter une relation de récurrence sur $C(n)$ la complexité du tri fusion d'un tableau de taille $n= 2^p$\n",
    "    - Expliciter $C(1)$ la complexité du tri fusion d'un tableau de taille $2^0=1$ \n",
    "    - En déduire $C(n)$ la complexité du tri fusion ?\n",
    "- Que penser du tri rapide  ?\n",
    "- En déduire le complexité asymptotique du tri fusion.   "
   ]
  },
  {
   "cell_type": "markdown",
   "metadata": {
    "jupyter": {
     "source_hidden": true
    },
    "slideshow": {
     "slide_type": "slide"
    },
    "tags": []
   },
   "source": [
    "## Complexités de ces algorithmes de tri\n",
    "\n",
    "On synthétise les différents résultats de complexité de ces algorithmes de tri.\n",
    "\n",
    "|Complexité |Tri insertion|Tri rapide|Tri fusion|\n",
    "|:--:|:--:|:--:|:--:|\n",
    "| en mémoire | tri en place | tri en place | **NON** |  \n",
    "| en temps : pire cas | quadratique : $\\cal{O}(n^2)$| **quadratique:** $\\cal{O}(n^2)$ | semi-logarithmique: $\\cal{O}(n\\log(n))$ |    \n",
    "| . | double boucle imbriquée `for`-`while` complètes | $$C(n) = n-1 + C(n-1)$$ $$C(1)=0$$ | $$C(n) = C(n/2) + f(n)$$ $$\\text{fusion}: f(n)=n-1$$ | \n",
    "| en temps : meilleur cas | linéaire : $\\cal{O}(n)$| semi-logarithmique: $\\cal{O}(n\\log(n))$ | semi-logarithmique: $\\cal{O}(n\\log(n))$ |       \n",
    "| . | boucle interne `while` vide | $$C(n) = n-1 + 2\\times C(n/2)$$ $$C(1)=0$$ | $$C(n) = C(n/2) + f(n)$$ $$\\text{fusion}: f(n)=n/2$$ | \n",
    "| en temps : cas moyen | quadratique : $\\cal{O}(n^2)$ | **semi-logarithmique:** $\\cal{O}(n\\log(n))$ | semi-logarithmique: $\\cal{O}(n\\log(n))$ |   "
   ]
  },
  {
   "cell_type": "markdown",
   "metadata": {
    "slideshow": {
     "slide_type": "slide"
    }
   },
   "source": [
    "## ($\\star$) Prouver la correction de ces algorithmes de tri\n",
    "\n",
    "On explicite les invariants des algorithmes présentés dans ce chapitre.\n",
    "On laisse en exercice la preuve de ces invariants."
   ]
  },
  {
   "cell_type": "markdown",
   "metadata": {
    "slideshow": {
     "slide_type": "subslide"
    }
   },
   "source": [
    "### Tri insertion\n",
    "\n",
    "> (P) Avant l’itération i, le sous-tableau `t[0, i[` est trié."
   ]
  },
  {
   "cell_type": "markdown",
   "metadata": {
    "slideshow": {
     "slide_type": "subslide"
    }
   },
   "source": [
    "### Tri rapide (_quicksort_)\n",
    "\n",
    "Invariant de `partition(t, g, d)` :\n",
    "\n",
    "> au début de l'itération $i$ : pour tout $k$ dans $[g, d[$, on a :\n",
    ">\n",
    "> - si $g \\le k \\le m$ \talors $t[k] \\le v$,\n",
    "> - si $m+1 \\le k < i$ \talors $t[k] > v$,\n",
    "> - si $g = d-1$ \t\talors $t[k] = v.$\n",
    "\n",
    "Remarque : on ne dit rien sur la tranche $t[i, d-1[$ qui sont a priori quelconques.\n",
    "\n"
   ]
  },
  {
   "cell_type": "markdown",
   "metadata": {
    "slideshow": {
     "slide_type": "subslide"
    }
   },
   "source": [
    "### Tri fusion\n",
    "\n",
    "Invariant de la boucle `for` dans `fusion(t, g, m, d)` :\n",
    "> au début de l'itération $i$ :\n",
    "> - le sous-tableau $t[g, k[$ contient en ordre trié les $(k-g)$ plus petits éléments de $G[0, m-g[$ et $D[0, d-m[$ ;\n",
    "> - $G[i1]$ et $D[i2]$ sont les plus petits éléments respectifs de G et D a ne pas avoir été copiés dans t.\n",
    "\n"
   ]
  },
  {
   "cell_type": "markdown",
   "metadata": {
    "slideshow": {
     "slide_type": "slide"
    }
   },
   "source": [
    "## Conclusion\n",
    "\n",
    "- Trois algorithmes de tris de complexités différentes\n",
    "    - pires cas, meilleurs cas \n",
    "    - cas moyen pour le tri rapide\n",
    "\n",
    "- Mises en oeuvre \"naturelles\" différentes : itératif _vs_ récursif\n",
    "\n",
    "- Exemples d'application du paradigme \"diviser pour régner\"\n",
    "\n",
    "- Exemples d'invariant \n",
    "    - pour prouver la correction de l'algorithme\n",
    "    "
   ]
  },
  {
   "cell_type": "code",
   "execution_count": null,
   "metadata": {},
   "outputs": [],
   "source": []
  }
 ],
 "metadata": {
  "celltoolbar": "Diaporama",
  "kernelspec": {
   "display_name": "Python 3",
   "language": "python",
   "name": "python3"
  },
  "language_info": {
   "codemirror_mode": {
    "name": "ipython",
    "version": 3
   },
   "file_extension": ".py",
   "mimetype": "text/x-python",
   "name": "python",
   "nbconvert_exporter": "python",
   "pygments_lexer": "ipython3",
   "version": "3.9.6"
  },
  "latex_envs": {
   "LaTeX_envs_menu_present": true,
   "autoclose": false,
   "autocomplete": true,
   "bibliofile": "biblio.bib",
   "cite_by": "apalike",
   "current_citInitial": 1,
   "eqLabelWithNumbers": true,
   "eqNumInitial": 1,
   "hotkeys": {
    "equation": "Ctrl-E",
    "itemize": "Ctrl-I"
   },
   "labels_anchors": false,
   "latex_user_defs": false,
   "report_style_numbering": true,
   "user_envs_cfg": false
  },
  "toc": {
   "nav_menu": {
    "height": "153px",
    "width": "252px"
   },
   "number_sections": true,
   "sideBar": false,
   "skip_h1_title": true,
   "title_cell": "Table des matieres",
   "title_sidebar": "TdM",
   "toc_cell": true,
   "toc_position": {
    "height": "323px",
    "left": "2145px",
    "top": "72.0312px",
    "width": "212px"
   },
   "toc_section_display": true,
   "toc_window_display": false
  }
 },
 "nbformat": 4,
 "nbformat_minor": 4
}