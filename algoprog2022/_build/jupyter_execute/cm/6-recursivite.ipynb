{
 "cells": [
  {
   "cell_type": "markdown",
   "metadata": {
    "slideshow": {
     "slide_type": "slide"
    }
   },
   "source": [
    "# Récursivité\n",
    "\n",
    "version 2.021 (PhL)"
   ]
  },
  {
   "cell_type": "markdown",
   "metadata": {
    "slideshow": {
     "slide_type": "slide"
    },
    "toc": "true"
   },
   "source": [
    "<h1>Table of Contents<span class=\"tocSkip\"></span></h1>\n",
    "<div class=\"toc\"><ul class=\"toc-item\"><li><span><a href=\"#Récursivité\" data-toc-modified-id=\"Récursivité-1\"><span class=\"toc-item-num\">1&nbsp;&nbsp;</span>Récursivité</a></span><ul class=\"toc-item\"><li><span><a href=\"#Définitions-et-premiers-exemples\" data-toc-modified-id=\"Définitions-et-premiers-exemples-1.1\"><span class=\"toc-item-num\">1.1&nbsp;&nbsp;</span>Définitions et premiers exemples</a></span><ul class=\"toc-item\"><li><span><a href=\"#Définition\" data-toc-modified-id=\"Définition-1.1.1\"><span class=\"toc-item-num\">1.1.1&nbsp;&nbsp;</span>Définition</a></span></li><li><span><a href=\"#Exemples-de-fonctions-récursives\" data-toc-modified-id=\"Exemples-de-fonctions-récursives-1.1.2\"><span class=\"toc-item-num\">1.1.2&nbsp;&nbsp;</span>Exemples de fonctions récursives</a></span></li><li><span><a href=\"#Exemple-de-géométries-récursives\" data-toc-modified-id=\"Exemple-de-géométries-récursives-1.1.3\"><span class=\"toc-item-num\">1.1.3&nbsp;&nbsp;</span>Exemple de géométries récursives</a></span><ul class=\"toc-item\"><li><span><a href=\"#On-les-trace-avec-turtle-!\" data-toc-modified-id=\"On-les-trace-avec-turtle-!-1.1.3.1\"><span class=\"toc-item-num\">1.1.3.1&nbsp;&nbsp;</span>On les trace avec turtle !</a></span></li></ul></li><li><span><a href=\"#Structures-de-données-récursives\" data-toc-modified-id=\"Structures-de-données-récursives-1.1.4\"><span class=\"toc-item-num\">1.1.4&nbsp;&nbsp;</span>Structures de données récursives</a></span></li></ul></li><li><span><a href=\"#Intérêts-de-la-récursion\" data-toc-modified-id=\"Intérêts-de-la-récursion-1.2\"><span class=\"toc-item-num\">1.2&nbsp;&nbsp;</span>Intérêts de la récursion</a></span><ul class=\"toc-item\"><li><span><a href=\"#Avantage\" data-toc-modified-id=\"Avantage-1.2.1\"><span class=\"toc-item-num\">1.2.1&nbsp;&nbsp;</span>Avantage</a></span></li><li><span><a href=\"#Inconvénient\" data-toc-modified-id=\"Inconvénient-1.2.2\"><span class=\"toc-item-num\">1.2.2&nbsp;&nbsp;</span>Inconvénient</a></span></li><li><span><a href=\"#Paradigme-diviser-pour-régner\" data-toc-modified-id=\"Paradigme-diviser-pour-régner-1.2.3\"><span class=\"toc-item-num\">1.2.3&nbsp;&nbsp;</span>Paradigme <strong>diviser pour régner</strong></a></span></li></ul></li><li><span><a href=\"#Fonctions-numériques-récursives\" data-toc-modified-id=\"Fonctions-numériques-récursives-1.3\"><span class=\"toc-item-num\">1.3&nbsp;&nbsp;</span>Fonctions numériques récursives</a></span><ul class=\"toc-item\"><li><span><a href=\"#Factorielle-:-forme-itérative\" data-toc-modified-id=\"Factorielle-:-forme-itérative-1.3.1\"><span class=\"toc-item-num\">1.3.1&nbsp;&nbsp;</span>Factorielle : forme itérative</a></span><ul class=\"toc-item\"><li><span><a href=\"#Exercice\" data-toc-modified-id=\"Exercice-1.3.1.1\"><span class=\"toc-item-num\">1.3.1.1&nbsp;&nbsp;</span>Exercice</a></span></li></ul></li><li><span><a href=\"#Factorielle-:-forme-récursive\" data-toc-modified-id=\"Factorielle-:-forme-récursive-1.3.2\"><span class=\"toc-item-num\">1.3.2&nbsp;&nbsp;</span>Factorielle : forme récursive</a></span><ul class=\"toc-item\"><li><span><a href=\"#Premier-essai-(qui-plante-:)\" data-toc-modified-id=\"Premier-essai-(qui-plante-:)-1.3.2.1\"><span class=\"toc-item-num\">1.3.2.1&nbsp;&nbsp;</span>Premier essai (qui plante :)</a></span></li><li><span><a href=\"#Terminaison-:-pour-arrêter-les-appels-récursifs-!!!!\" data-toc-modified-id=\"Terminaison-:-pour-arrêter-les-appels-récursifs-!!!!-1.3.2.2\"><span class=\"toc-item-num\">1.3.2.2&nbsp;&nbsp;</span>Terminaison : pour arrêter les appels récursifs !!!!</a></span></li><li><span><a href=\"#Bien-comprendre-les-appels-récursifs-!\" data-toc-modified-id=\"Bien-comprendre-les-appels-récursifs-!-1.3.2.3\"><span class=\"toc-item-num\">1.3.2.3&nbsp;&nbsp;</span>Bien comprendre les appels récursifs !</a></span></li></ul></li></ul></li><li><span><a href=\"#Exponentiation-entière-rapide\" data-toc-modified-id=\"Exponentiation-entière-rapide-1.4\"><span class=\"toc-item-num\">1.4&nbsp;&nbsp;</span>Exponentiation entière rapide</a></span><ul class=\"toc-item\"><li><span><a href=\"#Une-première-récursion\" data-toc-modified-id=\"Une-première-récursion-1.4.1\"><span class=\"toc-item-num\">1.4.1&nbsp;&nbsp;</span>Une première récursion</a></span></li><li><span><a href=\"#Une-seconde-récursion-beaucoup-plus-...-rapide\" data-toc-modified-id=\"Une-seconde-récursion-beaucoup-plus-...-rapide-1.4.2\"><span class=\"toc-item-num\">1.4.2&nbsp;&nbsp;</span>Une seconde récursion beaucoup plus ... rapide</a></span></li></ul></li><li><span><a href=\"#Fibonacci-ou-l'inefficacité-de-la-récursion\" data-toc-modified-id=\"Fibonacci-ou-l'inefficacité-de-la-récursion-1.5\"><span class=\"toc-item-num\">1.5&nbsp;&nbsp;</span>Fibonacci ou l'inefficacité de la récursion</a></span><ul class=\"toc-item\"><li><span><a href=\"#Solution-récursive\" data-toc-modified-id=\"Solution-récursive-1.5.1\"><span class=\"toc-item-num\">1.5.1&nbsp;&nbsp;</span>Solution récursive</a></span></li></ul></li><li><span><a href=\"#Appels-récursifs-:-environnement,--pile-d'exécution,-pile-et-arbre-des-appels\" data-toc-modified-id=\"Appels-récursifs-:-environnement,--pile-d'exécution,-pile-et-arbre-des-appels-1.6\"><span class=\"toc-item-num\">1.6&nbsp;&nbsp;</span>Appels récursifs : environnement,  pile d'exécution, pile et arbre des appels</a></span><ul class=\"toc-item\"><li><span><a href=\"#Environnement\" data-toc-modified-id=\"Environnement-1.6.1\"><span class=\"toc-item-num\">1.6.1&nbsp;&nbsp;</span>Environnement</a></span></li><li><span><a href=\"#Pile-d'exécution\" data-toc-modified-id=\"Pile-d'exécution-1.6.2\"><span class=\"toc-item-num\">1.6.2&nbsp;&nbsp;</span>Pile d'exécution</a></span></li><li><span><a href=\"#Pile-des-appels\" data-toc-modified-id=\"Pile-des-appels-1.6.3\"><span class=\"toc-item-num\">1.6.3&nbsp;&nbsp;</span>Pile des appels</a></span></li><li><span><a href=\"#Arbre-des-appels-récursifs\" data-toc-modified-id=\"Arbre-des-appels-récursifs-1.6.4\"><span class=\"toc-item-num\">1.6.4&nbsp;&nbsp;</span>Arbre des appels récursifs</a></span></li><li><span><a href=\"#Illustration-sur-la-factorielle-récursive\" data-toc-modified-id=\"Illustration-sur-la-factorielle-récursive-1.6.5\"><span class=\"toc-item-num\">1.6.5&nbsp;&nbsp;</span>Illustration sur la factorielle récursive</a></span><ul class=\"toc-item\"><li><span><a href=\"#arbre-des-appels\" data-toc-modified-id=\"arbre-des-appels-1.6.5.1\"><span class=\"toc-item-num\">1.6.5.1&nbsp;&nbsp;</span>arbre des appels</a></span></li><li><span><a href=\"#pile-des-appels\" data-toc-modified-id=\"pile-des-appels-1.6.5.2\"><span class=\"toc-item-num\">1.6.5.2&nbsp;&nbsp;</span>pile des appels</a></span></li><li><span><a href=\"#environnements-succcessifs-pour-factorielle(3)\" data-toc-modified-id=\"environnements-succcessifs-pour-factorielle(3)-1.6.5.3\"><span class=\"toc-item-num\">1.6.5.3&nbsp;&nbsp;</span>environnements succcessifs pour factorielle(3)</a></span></li></ul></li><li><span><a href=\"#Illustration-sur-le-calcul-récursif-de-Fibonacci.\" data-toc-modified-id=\"Illustration-sur-le-calcul-récursif-de-Fibonacci.-1.6.6\"><span class=\"toc-item-num\">1.6.6&nbsp;&nbsp;</span>Illustration sur le calcul récursif de Fibonacci.</a></span><ul class=\"toc-item\"><li><span><a href=\"#arbre-des-appels\" data-toc-modified-id=\"arbre-des-appels-1.6.6.1\"><span class=\"toc-item-num\">1.6.6.1&nbsp;&nbsp;</span>arbre des appels</a></span></li><li><span><a href=\"#pile-des-appels-récursifs\" data-toc-modified-id=\"pile-des-appels-récursifs-1.6.6.2\"><span class=\"toc-item-num\">1.6.6.2&nbsp;&nbsp;</span>pile des appels récursifs</a></span></li></ul></li><li><span><a href=\"#Retour-sur-l'inefficacité-du-calcul-récursif-de-Fibonacci\" data-toc-modified-id=\"Retour-sur-l'inefficacité-du-calcul-récursif-de-Fibonacci-1.6.7\"><span class=\"toc-item-num\">1.6.7&nbsp;&nbsp;</span>Retour sur l'inefficacité du calcul récursif de Fibonacci</a></span><ul class=\"toc-item\"><li><span><a href=\"#environnements-et-pile-d'exécution\" data-toc-modified-id=\"environnements-et-pile-d'exécution-1.6.7.1\"><span class=\"toc-item-num\">1.6.7.1&nbsp;&nbsp;</span>environnements et pile d'exécution</a></span></li></ul></li><li><span><a href=\"#Solution-itérative\" data-toc-modified-id=\"Solution-itérative-1.6.8\"><span class=\"toc-item-num\">1.6.8&nbsp;&nbsp;</span>Solution itérative</a></span></li><li><span><a href=\"#Exercice\" data-toc-modified-id=\"Exercice-1.6.9\"><span class=\"toc-item-num\">1.6.9&nbsp;&nbsp;</span>Exercice</a></span></li></ul></li><li><span><a href=\"#Les-tours-de-Hanoi\" data-toc-modified-id=\"Les-tours-de-Hanoi-1.7\"><span class=\"toc-item-num\">1.7&nbsp;&nbsp;</span>Les tours de Hanoi</a></span><ul class=\"toc-item\"><li><span><a href=\"#Objectif\" data-toc-modified-id=\"Objectif-1.7.1\"><span class=\"toc-item-num\">1.7.1&nbsp;&nbsp;</span>Objectif</a></span></li><li><span><a href=\"#Solution-récursive\" data-toc-modified-id=\"Solution-récursive-1.7.2\"><span class=\"toc-item-num\">1.7.2&nbsp;&nbsp;</span>Solution récursive</a></span><ul class=\"toc-item\"><li><span><a href=\"#Analyse\" data-toc-modified-id=\"Analyse-1.7.2.1\"><span class=\"toc-item-num\">1.7.2.1&nbsp;&nbsp;</span>Analyse</a></span></li><li><span><a href=\"#Codage\" data-toc-modified-id=\"Codage-1.7.2.2\"><span class=\"toc-item-num\">1.7.2.2&nbsp;&nbsp;</span>Codage</a></span></li></ul></li><li><span><a href=\"#Observation-...-inquiétante\" data-toc-modified-id=\"Observation-...-inquiétante-1.7.3\"><span class=\"toc-item-num\">1.7.3&nbsp;&nbsp;</span>Observation ... inquiétante</a></span></li></ul></li><li><span><a href=\"#Compléments\" data-toc-modified-id=\"Compléments-1.8\"><span class=\"toc-item-num\">1.8&nbsp;&nbsp;</span>Compléments</a></span><ul class=\"toc-item\"><li><span><a href=\"#Compléments\" data-toc-modified-id=\"Compléments-1.8.1\"><span class=\"toc-item-num\">1.8.1&nbsp;&nbsp;</span>Compléments</a></span></li><li><span><a href=\"#A-venir\" data-toc-modified-id=\"A-venir-1.8.2\"><span class=\"toc-item-num\">1.8.2&nbsp;&nbsp;</span>A venir</a></span></li></ul></li></ul></li></ul></div>"
   ]
  },
  {
   "cell_type": "markdown",
   "metadata": {
    "slideshow": {
     "slide_type": "slide"
    }
   },
   "source": [
    "## Définitions et premiers exemples\n",
    "\n",
    "### Définition \n",
    "\n",
    "> Une construction est _récursive_ si elle se définit à partir d'elle même"
   ]
  },
  {
   "cell_type": "markdown",
   "metadata": {
    "slideshow": {
     "slide_type": "subslide"
    }
   },
   "source": [
    "  \n",
    "### Exemples de fonctions récursives\n",
    "\n",
    "* factorielle : $n ! = n \\times (n-1)!$\n",
    "* somme des $n$ premiers entiers : $s(n) = n + s(n-1)$\n",
    "* Fibonaci : $f(n+1) = f(n) + f(n-1)$\n",
    "* suites récurrentes : $u_n = f(u_{n-1})$ ou $u_n = f(u_{n-1},u_{n-2},\\dots)$"
   ]
  },
  {
   "cell_type": "markdown",
   "metadata": {
    "slideshow": {
     "slide_type": "subslide"
    }
   },
   "source": [
    "### Exemple de géométries récursives\n",
    "* segment et flocon de von Koch\n",
    "\n",
    "\n",
    "[segments]: fig/cinqsegmentsvk.jpg\n",
    "[flocons]: fig/cinqflocons.jpg\n",
    "\n",
    "![][segments]\n",
    "![][flocons]\n"
   ]
  },
  {
   "cell_type": "markdown",
   "metadata": {
    "slideshow": {
     "slide_type": "slide"
    }
   },
   "source": [
    "#### On les trace avec turtle !\n",
    "\n",
    "Turtle utilise un affichage dans une fenêtre extérieure via tcl-tk.  \n",
    "Il est possible que cet affichage cohabite mal avec le notebook jupyter.  \n",
    "Il est préférable d'exécuter ces séquences de code python hors du notebook (idle, terminal, ...).  "
   ]
  },
  {
   "cell_type": "markdown",
   "metadata": {
    "slideshow": {
     "slide_type": "subslide"
    }
   },
   "source": [
    "```python\n",
    "import turtle as t\n",
    "\"\"\"Turtle : mouvements elementaires\"\"\"\n",
    "\n",
    "# init : taille ecran en pixels, clear ecran, reset des variablesm\n",
    "t.screensize(500,500)\n",
    "t.reset(\n",
    "t.hideturtle() # pour aller plus vite\n",
    "t.degrees() # angles en deg\n",
    "```"
   ]
  },
  {
   "cell_type": "markdown",
   "metadata": {
    "slideshow": {
     "slide_type": "subslide"
    }
   },
   "source": [
    "```python\n",
    "'''Utilise le module turtle \n",
    "Ouvre une fenêtre \n",
    "et trace 3 segments de VK\n",
    "'''\n",
    "import turtle as t\n",
    "\n",
    "def segment(d, n, color=\"black\"):\n",
    "    \"\"\"segment de von Koch\n",
    "    recursion sur n pour decouper le segment de longueur d et\n",
    "    tracer d (longueur du segment) pixels si n==0\"\"\"\n",
    "    t.pencolor(color)        \n",
    "\n",
    "    if n==0:\n",
    "        t.forward(d)\n",
    "    else:\n",
    "        dsur3 = d//3\n",
    "        segment(dsur3, n-1)\n",
    "        t.left(60)\n",
    "        segment(dsur3, n-1)\n",
    "        t.right(120)\n",
    "        segment(dsur3, n-1)\n",
    "        t.left(60)\n",
    "        segment(dsur3, n-1)\n",
    "\n",
    "# init        \n",
    "t.screensize(500,500)\n",
    "t.reset()\n",
    "t.hideturtle() # pour aller plus vite\n",
    "t.degrees() # angles en deg\n",
    "\n",
    "# taille\n",
    "d = 300\n",
    "#nbiter = input(\"nombre d'iterations = \")\n",
    "nbiter = 1\n",
    "h = 150 # espace vertical entre 2 traces\n",
    "\n",
    "# point de depart\n",
    "a = (-200, 400)\n",
    "\n",
    "# trace et changement point de depart\n",
    "for i in range(nbiter):\n",
    "    # deplacement au point de depart\n",
    "    t.up()\n",
    "    t.goto(a)\n",
    "    t.down()\n",
    "\n",
    "    # trace \n",
    "    segment(d, i)\n",
    "    \n",
    "    # maj point de depart\n",
    "    a = (a[0], a[1] - h)\n",
    "\n",
    "# pour attendre avant d'effacer la fenetre turtle\n",
    "v = input(\"OK ?\")\n",
    "t.reset()\n",
    "\n",
    "# pour que le trace reste a l ecran\n",
    "t. mainloop()\n",
    "```"
   ]
  },
  {
   "cell_type": "markdown",
   "metadata": {
    "slideshow": {
     "slide_type": "subslide"
    }
   },
   "source": [
    "```python\n",
    "'''trace (nbiter) flocons de VK'''\n",
    "def flocon(d, n, color=\"black\"):\n",
    "    ''' trace flocon de VK en utilisant segment'''\n",
    "    segment(d, n, color)\n",
    "    t.right(120)\n",
    "    segment(d, n, color)\n",
    "    t.right(120)\n",
    "    segment(d, n, color)\n",
    "    t.right(120)\n",
    "\n",
    "#nbiter = input(\"nombre d'iterations = \")\n",
    "nbiter = 3\n",
    "h = 150 # espace vertical entre 2 traces\n",
    "a = (-200, 200) # point de depart\n",
    "d = 84  # taille\n",
    "\n",
    "# trace et changement point de depart\n",
    "for i in range(nbiter):\n",
    "    # deplacement au point de depart\n",
    "    t.up()\n",
    "    t.goto(a)\n",
    "    t.down()\n",
    "\n",
    "    # trace \n",
    "    flocon(d, i)\n",
    "    \n",
    "    # maj point de depart\n",
    "    a = (a[0], a[1] - h)\n",
    "\n",
    "# pour attendre avant d'effacer la fenetre turtle\n",
    "v = input(\"OK ?\")\n",
    "t.reset()\n",
    " ```  "
   ]
  },
  {
   "cell_type": "markdown",
   "metadata": {
    "slideshow": {
     "slide_type": "slide"
    }
   },
   "source": [
    "Autre figure géométrique récursive\n",
    "\n",
    "* triangle de Sierpinsky\n",
    "\n",
    "![sierpinsky](fig/sierpinsky.png)"
   ]
  },
  {
   "cell_type": "markdown",
   "metadata": {
    "slideshow": {
     "slide_type": "slide"
    }
   },
   "source": [
    "### Structures de données récursives\n",
    "\n",
    "* liste chaînée\n",
    "![liste](fig/listechainee.png)\n",
    "\n",
    "* arbre, arbre binaire\n",
    "![arbrebinaire](fig/arbrebinaire.jpg)"
   ]
  },
  {
   "cell_type": "markdown",
   "metadata": {
    "slideshow": {
     "slide_type": "subslide"
    }
   },
   "source": [
    "* application : arbre du code Morse (point, tiret)\n",
    "  ![codemorse](fig/morse-tree.png)  "
   ]
  },
  {
   "cell_type": "markdown",
   "metadata": {
    "slideshow": {
     "slide_type": "subslide"
    }
   },
   "source": [
    "  \n",
    "* application : représentation d'une expression\n",
    "  ![expression](fig/arbreexpression.jpg)   "
   ]
  },
  {
   "cell_type": "markdown",
   "metadata": {
    "slideshow": {
     "slide_type": "slide"
    }
   },
   "source": [
    "## Intérêts de la récursion\n",
    "\n",
    "### Avantage\n",
    "\n",
    "Une solution _algorithmique récursive_ est souvent plus simple, plus lisible, plus facile à prouver qu'une solution itérative\n",
    "\n",
    "  * exemple caractéristique : les tours de Hanoï (voir exercice de td)\n",
    "    ![](fig/hanoi1.jpg)"
   ]
  },
  {
   "cell_type": "markdown",
   "metadata": {
    "slideshow": {
     "slide_type": "fragment"
    }
   },
   "source": [
    " Animation de résolution :\n",
    " \n",
    " [Tower of Hanoi 4 par André Karwath (wikimediacommons)](https://upload.wikimedia.org/wikipedia/commons/6/60/Tower_of_Hanoi_4.gif)\n",
    "    "
   ]
  },
  {
   "cell_type": "markdown",
   "metadata": {
    "slideshow": {
     "slide_type": "subslide"
    }
   },
   "source": [
    "### Inconvénient\n",
    "\n",
    "L'_exécution_ de la solution récursive est plus compliquée\n",
    " * gestion d'une pile d'appels de fonctions : la pile d'exécution\n",
    "\n",
    "\n",
    "L'exécution de la solution récursive peut provoquer des débordements de la mémoire\n",
    "    "
   ]
  },
  {
   "cell_type": "markdown",
   "metadata": {
    "slideshow": {
     "slide_type": "slide"
    }
   },
   "source": [
    "### Paradigme **diviser pour régner**\n",
    ">  * On divise le problème en des _problèmes similaires_ de taille moindre, \n",
    ">  * et ce récursivement jusqu'à obtenir un problème suffisamment simple (ou petit) pour le résoudre\n",
    "  \n",
    "Approche qui conduit à une solution naturellement ... récursive !  \n",
    "    \n",
    "  * exemples caractéristiques car plus efficaces qu'une solution itérative\n",
    "    * recherche dichotomique dans un ensemble trié\n",
    "    * exponentiation rapide :\n",
    "      $$x^{2p} = (x^p)^2$$ et \n",
    "      $$x^{2p+1} = x \\cdot (x^p)^2$$"
   ]
  },
  {
   "cell_type": "markdown",
   "metadata": {
    "slideshow": {
     "slide_type": "slide"
    }
   },
   "source": [
    "## Fonctions numériques récursives\n",
    "\n",
    "Une définition, deux écritures équivalentes \n",
    "\n",
    "* **forme itérative**\n",
    "$$n ! = 1 \\times 2 \\times \\dots \\times (n-1) \\times n$$\n",
    "\n",
    "* **forme récursive**\n",
    "$$n ! = n \\times (n-1) ! \\text{ avec }  1! = 1$$\n",
    "\n",
    "Remarque : ces définitions ont un sens pour $n>0$. La valeur de $0!$ doit être définie de façon supplémentaire. "
   ]
  },
  {
   "cell_type": "markdown",
   "metadata": {
    "slideshow": {
     "slide_type": "slide"
    }
   },
   "source": [
    "### Factorielle : forme itérative"
   ]
  },
  {
   "cell_type": "code",
   "execution_count": 1,
   "metadata": {
    "slideshow": {
     "slide_type": "fragment"
    }
   },
   "outputs": [
    {
     "name": "stdout",
     "output_type": "stream",
     "text": [
      "3! = 6\n",
      "1! = 1\n"
     ]
    }
   ],
   "source": [
    "def f(n : int) -> int:\n",
    "    \"\"\"Calcul de factorielle n -- version itérative\n",
    "    entrée : n \n",
    "    sortie n!\n",
    "    \"\"\"\n",
    "    res = 1\n",
    "    for i in range(2,n+1):\n",
    "        res = res * i\n",
    "    return res\n",
    "\n",
    "print(\"3! =\", f(3))\n",
    "print(\"1! =\", f(1))\n",
    " "
   ]
  },
  {
   "cell_type": "code",
   "execution_count": 2,
   "metadata": {
    "slideshow": {
     "slide_type": "fragment"
    }
   },
   "outputs": [
    {
     "name": "stdout",
     "output_type": "stream",
     "text": [
      "0! = 1\n",
      "-3! = 1\n"
     ]
    }
   ],
   "source": [
    "# bien que non défini a priori\n",
    "print(\"0! =\", f(0))\n",
    "# et même n'importe quoi !\n",
    "print(\"-3! =\", f(-3))"
   ]
  },
  {
   "cell_type": "markdown",
   "metadata": {
    "slideshow": {
     "slide_type": "fragment"
    }
   },
   "source": [
    "<div class=\"alert alert-danger\">\n",
    "ATTENTION : il faudrait **vérifier la validité du paramètre effectif**\n",
    "</div>"
   ]
  },
  {
   "cell_type": "markdown",
   "metadata": {
    "slideshow": {
     "slide_type": "subslide"
    }
   },
   "source": [
    "#### Exercice\n",
    "* pourquoi ?\n",
    "* comment ?"
   ]
  },
  {
   "cell_type": "markdown",
   "metadata": {
    "slideshow": {
     "slide_type": "slide"
    }
   },
   "source": [
    "### Factorielle : forme récursive\n",
    "\n",
    "On applique la définition récursive :\n",
    "$n ! = n \\times (n-1) !$\n",
    "\n",
    "Oui, oui ! On a oublié de définir $0 !$.\n",
    "\n",
    "On l'écrit quand même ..."
   ]
  },
  {
   "cell_type": "markdown",
   "metadata": {
    "slideshow": {
     "slide_type": "subslide"
    }
   },
   "source": [
    "#### Premier essai (qui plante :)"
   ]
  },
  {
   "cell_type": "code",
   "execution_count": 3,
   "metadata": {
    "slideshow": {
     "slide_type": "fragment"
    }
   },
   "outputs": [
    {
     "ename": "RecursionError",
     "evalue": "maximum recursion depth exceeded",
     "output_type": "error",
     "traceback": [
      "\u001b[0;31m---------------------------------------------------------------------------\u001b[0m",
      "\u001b[0;31mRecursionError\u001b[0m                            Traceback (most recent call last)",
      "Input \u001b[0;32mIn [3]\u001b[0m, in \u001b[0;36m<module>\u001b[0;34m\u001b[0m\n\u001b[1;32m      2\u001b[0m     \u001b[38;5;124;03m\"\"\"Calcul de factorielle n -- version récursive\u001b[39;00m\n\u001b[1;32m      3\u001b[0m \u001b[38;5;124;03m    entrée : n \u001b[39;00m\n\u001b[1;32m      4\u001b[0m \u001b[38;5;124;03m    sortie n!\u001b[39;00m\n\u001b[1;32m      5\u001b[0m \u001b[38;5;124;03m    \"\"\"\u001b[39;00m\n\u001b[1;32m      6\u001b[0m     \u001b[38;5;28;01mreturn\u001b[39;00m n \u001b[38;5;241m*\u001b[39m f(n\u001b[38;5;241m-\u001b[39m\u001b[38;5;241m1\u001b[39m) \u001b[38;5;66;03m# récursion\u001b[39;00m\n\u001b[0;32m----> 8\u001b[0m \u001b[38;5;28mprint\u001b[39m(\u001b[38;5;124m\"\u001b[39m\u001b[38;5;124m1! =\u001b[39m\u001b[38;5;124m\"\u001b[39m, \u001b[43mf\u001b[49m\u001b[43m(\u001b[49m\u001b[38;5;241;43m1\u001b[39;49m\u001b[43m)\u001b[49m)\n",
      "Input \u001b[0;32mIn [3]\u001b[0m, in \u001b[0;36mf\u001b[0;34m(n)\u001b[0m\n\u001b[1;32m      1\u001b[0m \u001b[38;5;28;01mdef\u001b[39;00m \u001b[38;5;21mf\u001b[39m(n : \u001b[38;5;28mint\u001b[39m) \u001b[38;5;241m-\u001b[39m\u001b[38;5;241m>\u001b[39m \u001b[38;5;28mint\u001b[39m:\n\u001b[1;32m      2\u001b[0m     \u001b[38;5;124;03m\"\"\"Calcul de factorielle n -- version récursive\u001b[39;00m\n\u001b[1;32m      3\u001b[0m \u001b[38;5;124;03m    entrée : n \u001b[39;00m\n\u001b[1;32m      4\u001b[0m \u001b[38;5;124;03m    sortie n!\u001b[39;00m\n\u001b[1;32m      5\u001b[0m \u001b[38;5;124;03m    \"\"\"\u001b[39;00m\n\u001b[0;32m----> 6\u001b[0m     \u001b[38;5;28;01mreturn\u001b[39;00m n \u001b[38;5;241m*\u001b[39m \u001b[43mf\u001b[49m\u001b[43m(\u001b[49m\u001b[43mn\u001b[49m\u001b[38;5;241;43m-\u001b[39;49m\u001b[38;5;241;43m1\u001b[39;49m\u001b[43m)\u001b[49m\n",
      "Input \u001b[0;32mIn [3]\u001b[0m, in \u001b[0;36mf\u001b[0;34m(n)\u001b[0m\n\u001b[1;32m      1\u001b[0m \u001b[38;5;28;01mdef\u001b[39;00m \u001b[38;5;21mf\u001b[39m(n : \u001b[38;5;28mint\u001b[39m) \u001b[38;5;241m-\u001b[39m\u001b[38;5;241m>\u001b[39m \u001b[38;5;28mint\u001b[39m:\n\u001b[1;32m      2\u001b[0m     \u001b[38;5;124;03m\"\"\"Calcul de factorielle n -- version récursive\u001b[39;00m\n\u001b[1;32m      3\u001b[0m \u001b[38;5;124;03m    entrée : n \u001b[39;00m\n\u001b[1;32m      4\u001b[0m \u001b[38;5;124;03m    sortie n!\u001b[39;00m\n\u001b[1;32m      5\u001b[0m \u001b[38;5;124;03m    \"\"\"\u001b[39;00m\n\u001b[0;32m----> 6\u001b[0m     \u001b[38;5;28;01mreturn\u001b[39;00m n \u001b[38;5;241m*\u001b[39m \u001b[43mf\u001b[49m\u001b[43m(\u001b[49m\u001b[43mn\u001b[49m\u001b[38;5;241;43m-\u001b[39;49m\u001b[38;5;241;43m1\u001b[39;49m\u001b[43m)\u001b[49m\n",
      "    \u001b[0;31m[... skipping similar frames: f at line 6 (2970 times)]\u001b[0m\n",
      "Input \u001b[0;32mIn [3]\u001b[0m, in \u001b[0;36mf\u001b[0;34m(n)\u001b[0m\n\u001b[1;32m      1\u001b[0m \u001b[38;5;28;01mdef\u001b[39;00m \u001b[38;5;21mf\u001b[39m(n : \u001b[38;5;28mint\u001b[39m) \u001b[38;5;241m-\u001b[39m\u001b[38;5;241m>\u001b[39m \u001b[38;5;28mint\u001b[39m:\n\u001b[1;32m      2\u001b[0m     \u001b[38;5;124;03m\"\"\"Calcul de factorielle n -- version récursive\u001b[39;00m\n\u001b[1;32m      3\u001b[0m \u001b[38;5;124;03m    entrée : n \u001b[39;00m\n\u001b[1;32m      4\u001b[0m \u001b[38;5;124;03m    sortie n!\u001b[39;00m\n\u001b[1;32m      5\u001b[0m \u001b[38;5;124;03m    \"\"\"\u001b[39;00m\n\u001b[0;32m----> 6\u001b[0m     \u001b[38;5;28;01mreturn\u001b[39;00m n \u001b[38;5;241m*\u001b[39m \u001b[43mf\u001b[49m\u001b[43m(\u001b[49m\u001b[43mn\u001b[49m\u001b[38;5;241;43m-\u001b[39;49m\u001b[38;5;241;43m1\u001b[39;49m\u001b[43m)\u001b[49m\n",
      "\u001b[0;31mRecursionError\u001b[0m: maximum recursion depth exceeded"
     ]
    }
   ],
   "source": [
    "def f(n : int) -> int:\n",
    "    \"\"\"Calcul de factorielle n -- version récursive\n",
    "    entrée : n \n",
    "    sortie n!\n",
    "    \"\"\"\n",
    "    return n * f(n-1) # récursion\n",
    "\n",
    "print(\"1! =\", f(1))\n"
   ]
  },
  {
   "cell_type": "markdown",
   "metadata": {
    "slideshow": {
     "slide_type": "subslide"
    }
   },
   "source": [
    "<div class=\"alert alert-warning\"> \n",
    "INFO: python limite à 1000 le nombre  d'appels récursifs \n",
    "</div>\n",
    "\n",
    " Heureusement ... ce qui nous sauve ici ! "
   ]
  },
  {
   "cell_type": "markdown",
   "metadata": {
    "slideshow": {
     "slide_type": "subslide"
    }
   },
   "source": [
    "#### Terminaison : pour arrêter les appels récursifs !!!!"
   ]
  },
  {
   "cell_type": "code",
   "execution_count": null,
   "metadata": {
    "slideshow": {
     "slide_type": "fragment"
    }
   },
   "outputs": [],
   "source": [
    "def f(n : int) -> int:\n",
    "    \"\"\"Calcul de factorielle n -- version récursive\n",
    "    entrée : n \n",
    "    sortie n!\n",
    "    \"\"\"\n",
    "    if n == 1:          # terminaison\n",
    "        return 1\n",
    "    else:\n",
    "        return n * f(n-1) # récursion\n",
    "\n",
    "print(\"3! =\", f(3))\n",
    "print(\"1! =\", f(1))\n",
    "#print(f(0))"
   ]
  },
  {
   "cell_type": "markdown",
   "metadata": {
    "slideshow": {
     "slide_type": "fragment"
    }
   },
   "source": [
    "<div class=\"alert alert-warning\">\n",
    "ATTENTION : pourquoi ne pas demander de calculer `f(0)`?\n",
    "</div>"
   ]
  },
  {
   "cell_type": "markdown",
   "metadata": {
    "slideshow": {
     "slide_type": "subslide"
    }
   },
   "source": [
    "2 instructions `return` :\n",
    "* la première retourne une valeur terminale\n",
    "* la seconde provoque un appel récursif (à elle-même) avant d'effectuer un quelconque calcul !  \n",
    "  . en effet le second opérande de la multiplication n'est pas encore connu ...\n",
    "\n",
    "Autre écriture avec 1 seul `return` :"
   ]
  },
  {
   "cell_type": "code",
   "execution_count": null,
   "metadata": {
    "slideshow": {
     "slide_type": "subslide"
    }
   },
   "outputs": [],
   "source": [
    "def f(n : int) -> int:\n",
    "    \"\"\"Calcul de factorielle n -- version récursive avec un seul return\n",
    "    entrée : n \n",
    "    sortie n!\n",
    "    \"\"\"\n",
    "    if n == 1:          # terminaison\n",
    "        res = 1\n",
    "    else:\n",
    "        res = n * f(n-1) # récursion\n",
    "    return res\n",
    "\n",
    "print(\"3! =\", f(3))\n",
    "print(\"10! =\", f(10))  "
   ]
  },
  {
   "cell_type": "markdown",
   "metadata": {
    "collapsed": true,
    "slideshow": {
     "slide_type": "slide"
    }
   },
   "source": [
    "#### Bien comprendre les appels récursifs !\n",
    "\n",
    "Deux solutions :\n",
    "\n",
    "1. Facile : utilisons http://pythontutor.com/live.html#mode=edit pour calculer $5 !$\n",
    "\n",
    "2. Plus lourd : on va, de **façon exceptionnelle**, mettre des affichages dans le corps de la fonctions récursive pour bien comprendre.\n",
    "Pour cela, on décortique bien la fonction."
   ]
  },
  {
   "cell_type": "code",
   "execution_count": null,
   "metadata": {
    "slideshow": {
     "slide_type": "subslide"
    }
   },
   "outputs": [],
   "source": [
    "def f(n: int) -> int:\n",
    "    \"\"\"Calcul de factorielle n -- version récursive\n",
    "    entrée : n \n",
    "    sortie n!\n",
    "    \"\"\"\n",
    "    # pour voir les imbrications des appels\n",
    "    global nb\n",
    "    # on met a jour indent avant chaque return\n",
    "    \n",
    "    nb = nb + 1 # on ajoute .... à chaque appel\n",
    "    indent = nb * \"....\"\n",
    "    print(indent, \"entrée dans f(\", n, \")\")\n",
    "    \n",
    "    if n == 1:     \n",
    "        print(indent, \"terminaison : on renvoit 1 pour n = \", n)\n",
    "        nb = nb - 1 # on enleve .. avant un return\n",
    "        return 1\n",
    "    \n",
    "    else:\n",
    "        print(indent, n,\"* f(\", n-1,\") = ?\")\n",
    "    \n",
    "        print(indent, \"appel de f(\", n-1,\")\")\n",
    "        r = f(n-1)\n",
    "        print(indent, \"on a calculé f(\", n-1, \")\")\n",
    "\n",
    "        p = n * r\n",
    "        print(indent, \"on a fait le produit \", n,\"* f(\", n-1,\")\")\n",
    "        print(indent, \"Retour de la valeur\", p)\n",
    "\n",
    "        nb = nb - 1 # on enleve .. avant un return\n",
    "        return p # récursion\n",
    "\n",
    "nb = 0\n",
    "f(4)\n",
    "print(nb)"
   ]
  },
  {
   "cell_type": "markdown",
   "metadata": {
    "slideshow": {
     "slide_type": "fragment"
    }
   },
   "source": [
    "<div class=\"alert alert-warning\">\n",
    "\n",
    "CONSEIL : bien regarder le moment où on effectue la **première** multiplication\n",
    "\n",
    "</div>"
   ]
  },
  {
   "cell_type": "markdown",
   "metadata": {
    "slideshow": {
     "slide_type": "subslide"
    }
   },
   "source": [
    "Exercice :\n",
    "\n",
    "* Combien de variables _locales_ `r` et `p` ont été utilisées ?\n"
   ]
  },
  {
   "cell_type": "markdown",
   "metadata": {
    "slideshow": {
     "slide_type": "fragment"
    }
   },
   "source": [
    "Réponse :\n",
    "\n",
    "* Chaque appel à `f()` introduit une nouvelle paire `r` et `p`\n",
    "* Ces variables sont _locales_ à l'appel concerné :\n",
    "    - elles sont introduites et évaluées dans l'_environnement_ (le contexte) de l'appel concerné \n",
    "\n",
    "Ces notions seront approfondies plus loin."
   ]
  },
  {
   "cell_type": "markdown",
   "metadata": {
    "slideshow": {
     "slide_type": "slide"
    }
   },
   "source": [
    "## Exponentiation entière rapide\n",
    "\n",
    "\n",
    "Objectif : calculer $x^n$ où $x$ est un réel et $n$ un entier positif.\n",
    "\n",
    "### Une première récursion\n",
    "\n",
    "Elle est basée sur la relation récursive : $x^n = x \\times x^{n-1}$ et $x^0 = 1$, pour $n > 0$."
   ]
  },
  {
   "cell_type": "code",
   "execution_count": null,
   "metadata": {
    "slideshow": {
     "slide_type": "fragment"
    }
   },
   "outputs": [],
   "source": [
    "def expo(x: float, n: int) ->float:\n",
    "    '''calcule x**n : version récursive naturelle \n",
    "    entrées : x (float), n (int)'''\n",
    "    if n == 0:\n",
    "        return 1\n",
    "    else:\n",
    "        return x * expo(x, n-1)\n",
    "    \n",
    "expo(2,1000)"
   ]
  },
  {
   "cell_type": "markdown",
   "metadata": {
    "slideshow": {
     "slide_type": "subslide"
    }
   },
   "source": [
    "**Exercice :**\n",
    "\n",
    "* Ecrire une autre  version avec 1 seul `return`\n",
    "* Ecrire une version itérative "
   ]
  },
  {
   "cell_type": "markdown",
   "metadata": {
    "slideshow": {
     "slide_type": "slide"
    }
   },
   "source": [
    "### Une seconde récursion beaucoup plus ... rapide\n",
    "\n",
    "\n",
    "Autre écriture de $x^n$ avec des airs de dichotomie :) \n",
    "* $x^{2p} = (x^p)^2$ -- c'est simple et récursif, non ?\n",
    "* $x^{2p+1} = x \\times (x^p)^2$ --  c'est simple et aussi récursif, non ?"
   ]
  },
  {
   "cell_type": "code",
   "execution_count": null,
   "metadata": {
    "code_folding": [],
    "slideshow": {
     "slide_type": "fragment"
    }
   },
   "outputs": [],
   "source": [
    "def expo_rapide0(x: float, n: integer):\n",
    "    '''calcule x**n : version récursive rapide \n",
    "    entrées : x (float), n (int)'''\n",
    "    if n == 0:\n",
    "        return 1\n",
    "    else:\n",
    "        r =  expo_rapide(x, n//2)\n",
    "        if (n % 2 == 0): # n est pair\n",
    "            res = r * r\n",
    "        else:            # n est impair\n",
    "            res = x * r * r\n",
    "        return res\n",
    "    \n",
    "expo_rapide(2,1000)  "
   ]
  },
  {
   "cell_type": "code",
   "execution_count": null,
   "metadata": {
    "code_folding": [],
    "slideshow": {
     "slide_type": "fragment"
    }
   },
   "outputs": [],
   "source": [
    "def expo_rapide(x: float,n: integer):\n",
    "    '''calcule x**n : version récursive rapide \n",
    "    entrées : x (float), n (int)'''\n",
    "    if n == 0:\n",
    "        print(\"terminaison\")\n",
    "        return 1\n",
    "    else:\n",
    "        print(\"appel pour n =\", n)\n",
    "        r =  expo_rapide(x, n//2)\n",
    "        print(\"retour de n//2 :\", r )\n",
    "        if (n % 2 == 0): # n est pair\n",
    "            res = r * r\n",
    "            print(\"cas pair et res =\", res)\n",
    "        else:            # n est impair\n",
    "            res = x * r * r\n",
    "            print(\"cas impair et res =\", res)\n",
    "        return res\n",
    "    \n",
    "expo_rapide(2,5)  "
   ]
  },
  {
   "cell_type": "markdown",
   "metadata": {
    "slideshow": {
     "slide_type": "subslide"
    }
   },
   "source": [
    "**Exercice**\n",
    "\n",
    "Exhibons que `expo_rapide()`est effectivement plus rapide que `expo`  \n",
    "\n",
    "* python permet de mesurer facilement le temps d'exécution d'un script  \n",
    "* ipython le permet avec des \"magic functions\" : elles commencent avec un %"
   ]
  },
  {
   "cell_type": "code",
   "execution_count": null,
   "metadata": {
    "slideshow": {
     "slide_type": "fragment"
    }
   },
   "outputs": [],
   "source": [
    "# %time mesure le temps d'exécution d'une script\n",
    "%time expo(2,200)\n",
    "%time expo_rapide(2,200)"
   ]
  },
  {
   "cell_type": "markdown",
   "metadata": {
    "slideshow": {
     "slide_type": "subslide"
    }
   },
   "source": [
    "Mesurer _de façon fiable_ des temps d'exécution  est plus difficile qu'il parait : l'ordinateur est rusé ...\n",
    "\n",
    "On utilise `timeit` \n",
    "* on répéter dans une boucle la partie qu'on veut mesurer (si elle prend très peu de temps) --> option `-n`\n",
    "* on peut répéter les mesures et les analyser : garder la meilleure, regarder la moyenne ... --> option `r`\n"
   ]
  },
  {
   "cell_type": "code",
   "execution_count": null,
   "metadata": {
    "slideshow": {
     "slide_type": "fragment"
    }
   },
   "outputs": [],
   "source": [
    "# timeit plus fiable : répète plusieurs mesures\n",
    "%timeit expo(3,20)\n",
    "%timeit expo_rapide(3,20)\n",
    "print()\n",
    "\n",
    "%timeit -n 100 expo(3,20)\n",
    "%timeit -n 100 expo_rapide(3,20)\n",
    "print()\n",
    "\n",
    "\n",
    "%timeit -r 5 expo(3,20)\n",
    "%timeit -r 5 expo_rapide(3,20)"
   ]
  },
  {
   "cell_type": "markdown",
   "metadata": {
    "slideshow": {
     "slide_type": "slide"
    }
   },
   "source": [
    "## Fibonacci ou l'inefficacité de la récursion\n",
    "\n",
    "La suite de Fibonaci est définie par une récurrence _d'ordre 2_ :\n",
    "\n",
    "$$F(n+1) = F(n) + F(n-1);$$\n",
    "\n",
    "ce qui nécessite de connaître 2 valeurs de départ :\n",
    "$$F(0) = F(1) = 1.$$"
   ]
  },
  {
   "cell_type": "markdown",
   "metadata": {
    "slideshow": {
     "slide_type": "subslide"
    }
   },
   "source": [
    "### Solution récursive\n",
    "\n",
    "L'expression est naturellement récursive donc ..."
   ]
  },
  {
   "cell_type": "code",
   "execution_count": null,
   "metadata": {
    "slideshow": {
     "slide_type": "fragment"
    }
   },
   "outputs": [],
   "source": [
    "def fibo(n):\n",
    "    '''Fibonacci : solution récursive classique '''\n",
    "    if n == 0 or n == 1:\n",
    "        return 1\n",
    "    else:\n",
    "        return fibo(n-1) + fibo(n-2)\n",
    "    \n",
    "for i in range(10):\n",
    "    print(i,\":\", fibo(i))\n"
   ]
  },
  {
   "cell_type": "markdown",
   "metadata": {
    "slideshow": {
     "slide_type": "subslide"
    }
   },
   "source": [
    "<div class=\"alert alert-warning\">\n",
    "La suite va nous permettre de mieux voir l'inefficacité de cette solution récursive !\n",
    "</div>"
   ]
  },
  {
   "cell_type": "markdown",
   "metadata": {
    "slideshow": {
     "slide_type": "slide"
    }
   },
   "source": [
    "## Appels récursifs : environnement,  pile d'exécution, pile et arbre des appels\n",
    "\n",
    "On présente maintenant des notions liées _à la mise en oeuvre_ des appels de fonction dans le cadre récursif.  \n",
    "On en restera surtout aux principes, aux _abstractions algorithmiques_.  \n",
    "Les aspects plus détaillés de la mise en oeuvre (implantation du mécanisme d'appel de fonction) sont étudiés en deuxième année.  "
   ]
  },
  {
   "cell_type": "markdown",
   "metadata": {
    "slideshow": {
     "slide_type": "slide"
    }
   },
   "source": [
    "### Environnement\n",
    "\n",
    "Chaque appel récursif nécessite de construire **dynamiquement** un nouvel **environnement** :\n",
    "* où retourner le résultat de l'appel : une adresse de retour (ou des adresses)\n",
    "* les paramètres effectifs de l'appel\n",
    "* les variables locales nécessaire au traitement demandé\n",
    "\n",
    "En pratique, on ne connaît pas le nombre de fois où une/des fonctions sont appelées.  \n",
    "Toutes ces informations sont donc  stockées dans une  _pile d'exécution_ ou _pile des appels_.  \n",
    "Une pile est une structure de donnée adaptée au stockage et à une certain type de traitements : empiler et dépiler."
   ]
  },
  {
   "cell_type": "markdown",
   "metadata": {
    "slideshow": {
     "slide_type": "slide"
    }
   },
   "source": [
    "### Pile d'exécution\n",
    "\n",
    "La **pile d'exécution** est la mémoire associée nécessaire au stockage des paramètres d'appel, des adresses de retour, des variables locales\n",
    "- gérée par le langage de programmation : une pile LIFO de taille préfixée\n",
    "- mais risque de débordement mémoire si appels imbriqués (sans libération de la place occupée) trop nombreux\n",
    "\n",
    "En python : 1000 appels au maximum ou trop volumineux\n",
    "\n",
    "* Imaginons un paramètre tableau de grande taille réduit récursivement de 1 élément par 1 élément ...  \n",
    "exemple : sommer récursivement les n valeurs d'un tableau  \n",
    "qui plus est si la récursion est multiple comme la suite de Fibonacci : $f(n+1) = f(n) + f(n-1)$"
   ]
  },
  {
   "cell_type": "markdown",
   "metadata": {
    "slideshow": {
     "slide_type": "fragment"
    }
   },
   "source": [
    "<DIV class=\"alert alert-danger\">\n",
    "\n",
    "En pratique : `stack overflow !` est le message classique quand ... ça ne va pas : \n",
    "\n",
    "</DIV>"
   ]
  },
  {
   "cell_type": "markdown",
   "metadata": {
    "slideshow": {
     "slide_type": "slide"
    }
   },
   "source": [
    "### Pile des appels\n",
    "\n",
    "La **pile des appels** est une _abstraction algorithmique_ qui représente la logique de la pile d'exécution **en se limitant à l'identifiant de chaque appel**.  \n",
    "On ne détaille pas l'environnement de chaque appel."
   ]
  },
  {
   "cell_type": "markdown",
   "metadata": {
    "slideshow": {
     "slide_type": "subslide"
    }
   },
   "source": [
    "### Arbre des appels récursifs\n",
    "\n",
    "L'**arbre des appels récursifs** est une autre _abstraction algorithmique_ de l'ensemble des appels d'un traitement récursif.  \n",
    "Le parcours des noeuds d'un arbre se représente aussi avec une pile ... d'où la connexion entre ces deux abstractions du traitement de la récursion.  "
   ]
  },
  {
   "cell_type": "markdown",
   "metadata": {
    "slideshow": {
     "slide_type": "slide"
    }
   },
   "source": [
    "### Illustration sur la factorielle récursive\n",
    "\n",
    "Calcul de `fact(4)` \n",
    "\n",
    "![factorielle(4)](./fig/fact4.jpg)"
   ]
  },
  {
   "cell_type": "markdown",
   "metadata": {
    "slideshow": {
     "slide_type": "slide"
    }
   },
   "source": [
    "**Rmq.** \n",
    "On a régulièrement besoin de dessiner des graphes. Il existe de nombreux outils à cet effet.\n",
    "Nous montrons par exemple comment utiliser depuis des petits codes python, le langage `dot`et le module `graphviz` -- tous les deux très classiques en la matière.\n",
    "\n",
    "Bien sûr, **ces aspects sont hors du programme de ce chapitre.**"
   ]
  },
  {
   "cell_type": "code",
   "execution_count": 6,
   "metadata": {
    "slideshow": {
     "slide_type": "notes"
    }
   },
   "outputs": [],
   "source": [
    "''' arbre des appels du calcul de fact(4) : construction simple'''\n",
    "import graphviz as gvz\n",
    "import functools\n",
    "fact4 = gvz.Digraph(format='jpg')\n",
    "fact4.node('f4', label='fact(4)')\n",
    "fact4.node('f3', label='fact(3)')\n",
    "fact4.node('f2', label='fact(2)')\n",
    "fact4.node('f1', label='fact(1)', color='red')\n",
    "fact4.edge('f4', 'f3')\n",
    "fact4.edge('f3', 'f2')\n",
    "fact4.edge('f2', 'f1')\n",
    "\n",
    "file_out = fact4.render('fig/fact4_dot')"
   ]
  },
  {
   "cell_type": "code",
   "execution_count": 9,
   "metadata": {
    "slideshow": {
     "slide_type": "notes"
    }
   },
   "outputs": [
    {
     "name": "stdout",
     "output_type": "stream",
     "text": [
      "Affichage arbre construit avec le code précédent\n"
     ]
    }
   ],
   "source": [
    "'''Affichage arbre construit avec le code précédent'''\n",
    "from IPython.display import display, Image\n",
    "print(__doc__)\n",
    "#display(Image('fig/fact4_dot.jpg'), width=30)\n",
    "#display(Image('fig/fact4_dot.jpg'))"
   ]
  },
  {
   "cell_type": "markdown",
   "metadata": {
    "slideshow": {
     "slide_type": "subslide"
    }
   },
   "source": [
    "#### arbre des appels\n",
    "\n",
    "La représentation suivante exhibe l'_arbre des appels_ récursif de `f`\n",
    "\n",
    "![](./fig/fact4_dot.jpg)"
   ]
  },
  {
   "cell_type": "code",
   "execution_count": 10,
   "metadata": {
    "slideshow": {
     "slide_type": "notes"
    }
   },
   "outputs": [],
   "source": [
    "''' arbre des appels du calcul de fact(4) : construction plus complète'''\n",
    "import graphviz as gvz\n",
    "import functools\n",
    "\n",
    "digraph = functools.partial(gvz.Digraph, format='jpg')\n",
    "\n",
    "def add_nodes(graph, nodes):\n",
    "    for n in nodes:\n",
    "        if isinstance(n, tuple):\n",
    "            graph.node(n[0], **n[1])\n",
    "        else:\n",
    "            graph.node(n)\n",
    "    return graph\n",
    "\n",
    "def add_edges(graph, edges):\n",
    "    for e in edges:\n",
    "        if isinstance(e[0], tuple):\n",
    "            graph.edge(*e[0], **e[1])\n",
    "        else:\n",
    "            graph.edge(*e)\n",
    "    return graph\n",
    "\n",
    "''' arbre complet de l'évaluation fact(4)'''\n",
    "fact4_complet = add_edges(\n",
    "    add_nodes(digraph(), [\n",
    "        ('4'), ('3'), ('2'),\n",
    "        ('f4', {'label': 'fact(4)'}),\n",
    "        ('f3', {'label': 'fact(3)'}),\n",
    "        ('f2', {'label': 'fact(2)'}),\n",
    "        ('f1', {'label': 'fact(1)', 'color':'red'}),\n",
    "    ]),\n",
    "    [\n",
    "        ('f4', '4'),\n",
    "        ('f3', '3'),\n",
    "        ('f2', '2'),\n",
    "        ('f4', 'f3'),\n",
    "        ('f3', 'f2'),\n",
    "        ('f2', 'f1')\n",
    "    ]\n",
    ").render('fig/fact4_complet')"
   ]
  },
  {
   "cell_type": "code",
   "execution_count": 11,
   "metadata": {
    "slideshow": {
     "slide_type": "notes"
    }
   },
   "outputs": [
    {
     "name": "stdout",
     "output_type": "stream",
     "text": [
      "Affichage arbre\n"
     ]
    }
   ],
   "source": [
    "'''Affichage arbre'''\n",
    "from IPython.display import display, Image\n",
    "print(__doc__)\n",
    "#display(Image('fig/fact4_complet.jpg'))"
   ]
  },
  {
   "cell_type": "markdown",
   "metadata": {
    "slideshow": {
     "slide_type": "subslide"
    }
   },
   "source": [
    "Ici, les calculs intermédiaires sont simples (1 multiplication) et on peut compléter cet arbre des appels en exhibant les opérandes de ces calculs. \n",
    "\n",
    "![](./fig/fact4_complet.jpg)"
   ]
  },
  {
   "cell_type": "markdown",
   "metadata": {
    "slideshow": {
     "slide_type": "slide"
    }
   },
   "source": [
    "#### pile des appels\n",
    "\n",
    "L'évolution de la pile des appels lors du calcule de $4!$ s'obtient en parcourant l'arbre des appels \"en profondeur d'abord\".  \n",
    "On note `fact( )` par `f( )`.  \n",
    "\n",
    "On représente **l'évolution de la pile des appels sur un axe _horizontal_ qui décrit le temps** (de la gauche vers la droite).  \n",
    "La pile est représentée à chacun de ces changements d'_état_ :  \n",
    "- la pile est  vide avant l'appel récursif principal  \n",
    "- chaque appel récursif _empile_ son contexte : on le note par l'appel lui-même \n",
    "    - exemple : `f(4)` est l'appel principal du calcul de $4!$ et dénote aussi l'environnement de cet appel  \n",
    "- chaque retour de valeur à l'appelant a pour effet de _dépiler_ l'environnement de l'appelé  \n",
    "Ainsi la pile redevient vide après le traitement complet de l'appel principal.\n",
    "\n",
    "Dans les affichages successifs, chaque colonne (verticale) représente l'état de la pile à un instant donné de l'exécution récursive -- comme une suite de photographies de cette pile.  La bas de la pile est le bas de la colonne.  "
   ]
  },
  {
   "cell_type": "markdown",
   "metadata": {
    "slideshow": {
     "slide_type": "slide"
    }
   },
   "source": [
    "**Construction de la pile des appels du calcul de $4!$ :**\n",
    "\n",
    "- avant l'appel principal :  la pile est vide  \n",
    "        . \n",
    "  "
   ]
  },
  {
   "cell_type": "markdown",
   "metadata": {
    "slideshow": {
     "slide_type": "fragment"
    }
   },
   "source": [
    "- l'appel principal : on empile f(4)  \n",
    "        . f(4)  "
   ]
  },
  {
   "cell_type": "markdown",
   "metadata": {
    "slideshow": {
     "slide_type": "fragment"
    }
   },
   "source": [
    "- dans f(4), l'appel de f(3) : on empile f(3)  \n",
    "               f(3) \n",
    "        . f(4) f(4)   "
   ]
  },
  {
   "cell_type": "markdown",
   "metadata": {
    "slideshow": {
     "slide_type": "fragment"
    }
   },
   "source": [
    "- dans f(3), l'appel de f(2) : on empile f(2)  \n",
    "                  f(2) \n",
    "             f(3) f(3) \n",
    "      . f(4) f(4) f(4)   "
   ]
  },
  {
   "cell_type": "markdown",
   "metadata": {
    "slideshow": {
     "slide_type": "fragment"
    }
   },
   "source": [
    "- dans f(2), l'appel de f(1) : on empile f(1) \n",
    "                       f(1)\n",
    "                  f(2) f(2) \n",
    "             f(3) f(3) f(3) \n",
    "      . f(4) f(4) f(4) f(4)   "
   ]
  },
  {
   "cell_type": "markdown",
   "metadata": {
    "slideshow": {
     "slide_type": "fragment"
    }
   },
   "source": [
    "- f(1) est terminal (cet appel renvoie une valeur (1)) : on dépile f(1)\n",
    "                       f(1)\n",
    "                  f(2) f(2) f(2)\n",
    "             f(3) f(3) f(3) f(3)\n",
    "      . f(4) f(4) f(4) f(4) f(4)  \n",
    "  "
   ]
  },
  {
   "cell_type": "markdown",
   "metadata": {
    "slideshow": {
     "slide_type": "fragment"
    }
   },
   "source": [
    "- f(2) est calculé et cet appel renvoie la valeur 1x2 : on dépile f(2)\n",
    "                       f(1)\n",
    "                  f(2) f(2) f(2)\n",
    "             f(3) f(3) f(3) f(3) f(3)\n",
    "      . f(4) f(4) f(4) f(4) f(4) f(4)  \n",
    "  "
   ]
  },
  {
   "cell_type": "markdown",
   "metadata": {
    "slideshow": {
     "slide_type": "fragment"
    }
   },
   "source": [
    "- f(3) est calculé et cet appel renvoit la valeur 1x2x3 : on dépile f(3)\n",
    "                       f(1)\n",
    "                  f(2) f(2) f(2)\n",
    "             f(3) f(3) f(3) f(3) f(3)\n",
    "      . f(4) f(4) f(4) f(4) f(4) f(4) f(4)  \n",
    "  "
   ]
  },
  {
   "cell_type": "markdown",
   "metadata": {
    "slideshow": {
     "slide_type": "fragment"
    }
   },
   "source": [
    "- f(4) est calculé et cet appel renvoie la valeur 1x2x3x4 : on dépile f(4)\n",
    "                       f(1)\n",
    "                  f(2) f(2) f(2)\n",
    "             f(3) f(3) f(3) f(3) f(3)\n",
    "      . f(4) f(4) f(4) f(4) f(4) f(4) f(4)  \n",
    "   "
   ]
  },
  {
   "cell_type": "markdown",
   "metadata": {
    "slideshow": {
     "slide_type": "fragment"
    }
   },
   "source": [
    "- la pile est vide et on a bien obtenu le résultat attendu (24)\n",
    "                       f(1)\n",
    "                  f(2) f(2) f(2)\n",
    "             f(3) f(3) f(3) f(3) f(3)\n",
    "      . f(4) f(4) f(4) f(4) f(4) f(4) f(4) .   "
   ]
  },
  {
   "cell_type": "markdown",
   "metadata": {
    "slideshow": {
     "slide_type": "slide"
    }
   },
   "source": [
    "####  environnements successifs pour factorielle(3) \n",
    "\n",
    "On peut le détailler un peu plus dans ce cas simple.\n",
    "\n",
    "appel = f(3)\n",
    "\n",
    "```python\n",
    "def f(n):\n",
    "    \"\"\"Calcul de factorielle n -- version récursive\n",
    "    entrée : n \n",
    "    sortie n!\n",
    "    \"\"\"\n",
    "    if n == 1:     \n",
    "        return 1   \n",
    "    else:\n",
    "        r = f(n-1)\n",
    "        p = n * r\n",
    "        return p # récursion\n",
    "\n",
    "```"
   ]
  },
  {
   "cell_type": "markdown",
   "metadata": {
    "slideshow": {
     "slide_type": "fragment"
    }
   },
   "source": [
    "L'environnement de chaque appel est décrit par une colonne du tableau suivant.\n",
    "\n",
    "   . |   0   |  1    |  2    |   3        \n",
    "-----|-------|-------|-------|--------  \n",
    "1    | r=f(3)| n=3   |       |          \n",
    "2    |       | r=f(2)| n=2   |          \n",
    "3    |       |       | r=f(1)| n=1      \n",
    "4    |       |       |       | return 1  \n",
    "5    |       |       | p=2\\*1 |  \n",
    "6    |       |       | return 2|   \n",
    "7    |       | p=3\\*2|       |  \n",
    "8    |       | return 6|     |  \n",
    "9    | r = 6 |       |       | \n",
    "  \n",
    "    "
   ]
  },
  {
   "cell_type": "markdown",
   "metadata": {
    "slideshow": {
     "slide_type": "slide"
    }
   },
   "source": [
    "### Illustration sur le calcul récursif de Fibonacci.\n",
    "\n",
    "#### arbre des appels\n",
    "\n",
    "* Le calcul de `fibo(4)` correspond à un parcours \"en profondeur d'abord\" de l'**arbre des appels** suivant.\n",
    "\n",
    "![arbre appels fibo(4)](./fig/arbre-fibo4.jpg)"
   ]
  },
  {
   "cell_type": "markdown",
   "metadata": {
    "slideshow": {
     "slide_type": "subslide"
    }
   },
   "source": [
    "#### pile des appels récursifs\n",
    "\n",
    "On note `fibo()` par `f()`  \n",
    "Les appels récursifs sont empilés (avec leur environnement) dans une _pile d'appels_  \n",
    "Les appels avec terminaison permettent de dépiler l'appelant  \n",
    "L'appel principal est exécuté une fois la pile vidée\n",
    "\n",
    "\n",
    "                   f(1) f(0)\n",
    "              f(2) f(2) f(2) f(2)      f(1)                f(1) f(0)\n",
    "         f(3) f(3) f(3) f(3) f(3) f(3) f(3) f(3)      f(2) f(2) f(2) f(2)\n",
    "    f(4) f(4) f(4) f(4) f(4) f(4) f(4) f(4) f(4) f(4) f(4) f(4) f(4) f(4) f(4)\n"
   ]
  },
  {
   "cell_type": "markdown",
   "metadata": {
    "slideshow": {
     "slide_type": "slide"
    }
   },
   "source": [
    "### Retour sur l'inefficacité du calcul récursif de Fibonacci\n",
    "\n",
    "Exercice : comptons le nombre d'appels à `fibo()` dans l'évaluation de `fibo(4)`.\n",
    "\n",
    " fibo(4) | #appels \n",
    "---------|:-------:\n",
    " fibo(0) |  2\n",
    " fibo(1) |  3\n",
    " fibo(2) |  2\n",
    " fibo(3) |  1 \n",
    " _total_ |  _8_\n",
    " \n",
    " Ces évaluations intermédiaires répétées engendrent des _sur-coûts_ en mémoire et en calcul qui dégradent l'efficacité de l'évaluation récursive de `fibo( )`.  "
   ]
  },
  {
   "cell_type": "markdown",
   "metadata": {
    "slideshow": {
     "slide_type": "subslide"
    }
   },
   "source": [
    "\n",
    "#### environnements et pile d'exécution \n",
    "\n",
    "Profitons du python tutor pour visualiser l'enchaînement des appels et l'évolution de l'environnement :\n",
    "\n",
    "https://goo.gl/mHi50H"
   ]
  },
  {
   "cell_type": "markdown",
   "metadata": {
    "slideshow": {
     "slide_type": "slide"
    }
   },
   "source": [
    "### Solution itérative\n",
    "\n",
    "Analyse : \n",
    "\n",
    "* pour calculer $F(n)$, il faut avoir calculé les 2 précédents : $F(n-1)$ et $F(n-2)$\n",
    "* et ainsi de suite ... \n",
    "* donc on part de $F(0)$ et $F(1)$ \n",
    "* et on avance dans l'itération en stockant\n",
    "    * les 2 dernières valeurs calculées\n",
    "    * toutes les valeurs déjà calculées\n",
    "\n",
    "La solution itérative est plus efficace car elle évite de re-calculer les termes déjà calculés.  \n"
   ]
  },
  {
   "cell_type": "markdown",
   "metadata": {
    "collapsed": true,
    "slideshow": {
     "slide_type": "subslide"
    }
   },
   "source": [
    "### Exercice\n",
    "\n",
    "Reprendre ça sous http://pythontutor.com/live.html#mode=edit"
   ]
  },
  {
   "cell_type": "markdown",
   "metadata": {
    "slideshow": {
     "slide_type": "slide"
    }
   },
   "source": [
    "## Les tours de Hanoï\n",
    "\n",
    "### Objectif\n",
    "\n",
    "Déplacer l'empilement de disques du piquet gauche au piquet droit en respectant les règles suivantes :  \n",
    "* déplacer un seul disque à la fois\n",
    "* un disque ne peut être posé que sur un disque de diamètre supérieur\n",
    "On doit utiliser le piquet du milieu.\n",
    "\n",
    "début -> fin \n",
    "![hanoi_debut](fig/hanoi1.jpg) ![hanoi_fin](fig/hanoi2.jpg)\n"
   ]
  },
  {
   "cell_type": "markdown",
   "metadata": {
    "slideshow": {
     "slide_type": "slide"
    }
   },
   "source": [
    "### Solution récursive\n",
    "\n",
    "#### Analyse\n",
    "* On  note les piquets A, B, C de la gauche vers la droite.  Départ = A, objectif = C\n",
    "* On note $n$ le nombre de disques à déplacer ; ici $n=4$\n",
    "* On veut donc **résoudre le problème des tours de Hoanoi de taille 4 en allant de A vers C grâce à l'utilisation de B**\n",
    "    - notons la résolution de ce problème `Hanoi(4, A, C, B)` \n",
    "    - plus généralement : **Hanoi(n, départ, arrivée, intermédiaire)**\n",
    "    "
   ]
  },
  {
   "cell_type": "markdown",
   "metadata": {
    "slideshow": {
     "slide_type": "subslide"
    }
   },
   "source": [
    "**Récursion**  \n",
    "Si on déplace _l'empilement complet avec les 3 disques supérieurs_ de A vers B en utilisant C (dur), ensuite on déplace le dernier (plus grand) disque de A vers C (facile), il ne reste qu'à déplacer l'empilement complet de 3 disques de B vers C en utilisant A (moins dur vu qu'on pu le faire à l'étape 1)\n",
    "* déplacer un empilement complet de 3 disques de A vers B (en utilisant C) = `Hanoi(3, A, B, C)`\n",
    "* déplacer le disque qui reste sur A vers C = `Hanoi(1, A, C, B)` ... oui: B ne sert à rien\n",
    "* déplacer un empilement complet de 3 disques de B vers C (en utilisant A) = `Hanoi(3, B, C, A)`\n",
    "\n",
    "\n",
    "<div class=\"alert alert-success\">\n",
    "    \n",
    "On tient la récursion ! 3 appels à `Hanoi` pour calculer `Hanoi` !!\n",
    "\n",
    "</div>"
   ]
  },
  {
   "cell_type": "markdown",
   "metadata": {
    "slideshow": {
     "slide_type": "subslide"
    }
   },
   "source": [
    "**Avec un graphique**\n",
    "\n",
    "* On part de là : avec un empilement de 4 disques sur A à déplacer vers C\n",
    "![hanoi_rec0](fig/resized/hanoi_rec0.png)"
   ]
  },
  {
   "cell_type": "markdown",
   "metadata": {
    "slideshow": {
     "slide_type": "subslide"
    }
   },
   "source": [
    "* On identifie un empilement de taille inférieure : 3 disques regroupés en rose\n",
    "![hanoi_rec1](fig/resized/hanoi_rec1.png)"
   ]
  },
  {
   "cell_type": "markdown",
   "metadata": {
    "slideshow": {
     "slide_type": "subslide"
    }
   },
   "source": [
    "* On suppose qu'on est capable de déplacer _correctement_ l'empilement rose de A vers B (en utilisant C)\n",
    "![hanoi_rec2](fig/resized/hanoi_rec2.png)"
   ]
  },
  {
   "cell_type": "markdown",
   "metadata": {
    "slideshow": {
     "slide_type": "subslide"
    }
   },
   "source": [
    "* On déplace le dernier disque restant sur A vers C : il est à sa bonne place\n",
    "![hanoi_rec3](fig/resized/hanoi_rec3.png)"
   ]
  },
  {
   "cell_type": "markdown",
   "metadata": {
    "slideshow": {
     "slide_type": "subslide"
    }
   },
   "source": [
    "* Comme deux étapes avant, on suppose qu'on est capable de déplacer _correctement_ l'empilement rose de B vers C (en utilisant A). L'empilement rose est bien placé maintenant\n",
    "![hanoi_rec4](fig/resized/hanoi_rec4.png)"
   ]
  },
  {
   "cell_type": "markdown",
   "metadata": {
    "slideshow": {
     "slide_type": "subslide"
    }
   },
   "source": [
    "* et le problème initial est bien résolu !\n",
    "![hanoi_rec5](fig/resized/hanoi_rec5.png)"
   ]
  },
  {
   "cell_type": "markdown",
   "metadata": {
    "slideshow": {
     "slide_type": "subslide"
    }
   },
   "source": [
    "**Terminaison pour la récursion**\n",
    "* on termine quand on sait résoudre le problème car il est suffisamment simple :\n",
    "    - on déplace **un disque** \n",
    "    - c'est `Hanoi(1, ...)`\n",
    "\n",
    "    \n",
    "_Remarque :_ pour une solution itérative, une terminaison naturelle serait \"quand tous les disques ont été déplacés\", i.e. quand le piquet de départ est vide\n",
    "\n",
    "**Déplacer $(n-1)$ disques : étape dure ?**  \n",
    "* NON : on \"retombe\" sur la résolution de Hanoi pour un nombre de disque diminué de 1 ...  \n",
    "* ce qui devrait à un moment ne plus laisser aucun disque à déplacer :)\n",
    "On formalisera plus tard cette analyse de la _terminaison_ de la solution récursive. "
   ]
  },
  {
   "cell_type": "markdown",
   "metadata": {
    "slideshow": {
     "slide_type": "subslide"
    }
   },
   "source": [
    "#### Codage \n",
    "\n",
    "Yapluka !\n",
    "\n",
    "On commence avec `hanoi0` pour exhiber un détail technique"
   ]
  },
  {
   "cell_type": "code",
   "execution_count": null,
   "metadata": {
    "slideshow": {
     "slide_type": "fragment"
    }
   },
   "outputs": [],
   "source": [
    "def hanoi0(n, depart, arrivee, interm):\n",
    "    '''tours de hanoi :  déplacer n disques de \n",
    "    depart vers arrivee en utilisant interm \n",
    "    (et en respectant les règles de déplacement du pb des tours de Hanoi)\n",
    "    '''\n",
    "    if n > 0:\n",
    "        hanoi0(n-1, depart, interm, arrivee)\n",
    "        hanoi0(1, depart, arrivee, interm)\n",
    "        hanoi0(n-1, interm, arrivee, depart)        \n",
    "        "
   ]
  },
  {
   "cell_type": "code",
   "execution_count": null,
   "metadata": {
    "slideshow": {
     "slide_type": "fragment"
    }
   },
   "outputs": [],
   "source": [
    "''' resolution : appel '''\n",
    "hanoi0(4, A, C, B)"
   ]
  },
  {
   "cell_type": "markdown",
   "metadata": {
    "slideshow": {
     "slide_type": "subslide"
    }
   },
   "source": [
    "Les piquets `A, B, C' n'existent pas en tant qu'objet (variable) python.\n",
    "\n",
    "Pour rendre effectif un traitement, \n",
    "* les piquets sont les _caractères_ : `'A'`, `'B'`, `'C'`  \n",
    "* il suffit alors d'indiquer le déplacement `(Hanoi(1, ...)` par un `print`:\n",
    "    -  `hanoi(1, depart, arrivee, interm)` devient  `print(depart -> arrivee)`\n",
    "    - ce qui montre bien qu'interm est inutile quand le nb de disques égal 1\n",
    "    \n",
    "L'exécution de l'algo va donner tous les déplacements _d'1 disque_ à appliquer au pb pour le résoudre  "
   ]
  },
  {
   "cell_type": "code",
   "execution_count": null,
   "metadata": {
    "slideshow": {
     "slide_type": "subslide"
    }
   },
   "outputs": [],
   "source": [
    "def hanoi(n, depart, arrivee, interm):\n",
    "    '''affiche les déplacements pour déplacer n disques de \n",
    "    depart vers arrivee en utilisant interm \n",
    "    (et en respectant les règles de déplacement du pb des tours de Hanoi)\n",
    "    '''\n",
    "    if n > 0:\n",
    "        hanoi(n-1, depart, interm, arrivee)\n",
    "        print(depart, '-->', arrivee)\n",
    "        hanoi(n-1, interm, arrivee, depart)        \n",
    "        \n",
    "'''appel'''\n",
    "hanoi(4, 'A', 'C', 'B')"
   ]
  },
  {
   "cell_type": "markdown",
   "metadata": {
    "slideshow": {
     "slide_type": "subslide"
    }
   },
   "source": [
    "<div class=\"alert alert-danger\">\n",
    "\n",
    "ATTENTION : il y a 0 `return` et 1 `print` ... et pourtant l'algorithme termine et (semble) donner les déplacements qui résolvent le pb ... C'est un biais pédagogique introduit par la _modélisation_ des piquets par des caractères (difficile de faire autre chose que des `print` sur des caractères). Vous reprendrez cette résolution lorsque vous saurez représenter les empilements de disques par ... des piles.\n",
    "\n",
    "</div>"
   ]
  },
  {
   "cell_type": "code",
   "execution_count": null,
   "metadata": {
    "slideshow": {
     "slide_type": "subslide"
    }
   },
   "outputs": [],
   "source": [
    "''' appels simples pour se convaincre que ça marche et ...'''\n",
    "#hanoi(1, 'A', 'C', 'B')\n",
    "print(\"---------\")\n",
    "hanoi(2, 'A', 'C', 'B')\n",
    "print(\"---------\")\n",
    "hanoi(3, 'A', 'C', 'B')"
   ]
  },
  {
   "cell_type": "markdown",
   "metadata": {
    "slideshow": {
     "slide_type": "subslide"
    }
   },
   "source": [
    "**Exercice**  \n",
    "Exécuter \"à la main\" les déplacements de `hanoi(3)`et `hanoi(4)` en numérotant les disques (1,2,3,...) et les piquets (A,B,C)  \n",
    "et vérifier que les problèmes sont effectivement résolus !"
   ]
  },
  {
   "cell_type": "markdown",
   "metadata": {
    "slideshow": {
     "slide_type": "slide"
    }
   },
   "source": [
    "### Observation ... inquiétante\n",
    "\n",
    "\\# disques | \\# déplacements\n",
    ":----------:|:--------------:\n",
    "2 | 3\n",
    "3 | 7\n",
    "4 | 15\n",
    "\n",
    "Normal ?\n",
    "* $n=1$ : OK pour hanoi(1) = 1 seul déplacement\n",
    "* $n=2$ : 3 appels à hanoi(1) donc $3\\times1 = 3$ \n",
    "* $n=3$ : 2 hanoi(2) + 1 hanoi(1) = $2\\times 3 + 1 \\times 1 = 7$\n",
    "* $n=4$ : 2 hanoi(3) + 1 hanoi(1) = $2\\times 7 + 1 \\times 1 = 15$\n",
    "\n",
    "et ainsi de suite ... \n",
    "* ca augmente assez vite \n",
    "* on formalisera cette analyse de _complexité_ dans un prochain chapitre.\n",
    "\n",
    "**Exercices**\n",
    "* Coder un algo qui calcule le nombre de déplacements pour $n = 2, 3, \\dots, 12$ et pour plus ensuite \n",
    "* Modifier `hanoi()` pour compter le nombre de déplacements total \n",
    "\n",
    "\n"
   ]
  },
  {
   "cell_type": "code",
   "execution_count": null,
   "metadata": {
    "scrolled": true,
    "slideshow": {
     "slide_type": "subslide"
    }
   },
   "outputs": [],
   "source": [
    "a = 1\n",
    "for i in range(1, 13):\n",
    "    c = 2*a + 1\n",
    "    print(i+1, 'disques  -> ', c, 'déplacements')\n",
    "    a = c\n",
    "print(\"Ca vous fait penser à quelque chose :) ?\")"
   ]
  },
  {
   "cell_type": "markdown",
   "metadata": {
    "slideshow": {
     "slide_type": "slide"
    }
   },
   "source": [
    "## Compléments\n",
    "\n",
    "### Compléments \n",
    "\n",
    "Des ressources utiles :\n",
    "\n",
    "*  sur interstices.info : [hanoi_interstices](https://interstices.info/jcms/p_82121/les-tours-de-hanoi-un-probleme-classique-de-recursion)\n",
    "* un mooc sur la récursivité (UPMC)\n",
    "* ..."
   ]
  },
  {
   "cell_type": "markdown",
   "metadata": {
    "slideshow": {
     "slide_type": "subslide"
    }
   },
   "source": [
    "### A venir\n",
    "\n",
    "1. Autres algorithmes récursifs importants\n",
    "    - recherche séquentielle et dichotomique : voir chapitre \"Rechercher\"    \n",
    "    - trier : tri fusion, tri rapide : voir chapitre \"Trier\"  \n",
    "2. Etablir la complexité d'algos récursifs\n",
    "    - La fonction de complexité est une suite récursive : la complexité de la résolution récursive d'un problème de taille n est fonction de la complexité de la résolution (récursive) du problème de taille réduite.\n",
    "    - exemple : $C(n) = 2 \\times C(n/2) + 1$ et $C(1) = 1$\n",
    "    - autre exemple : $C(n) = p \\times C(n/p) + f(p)$ et $C(1) = 1$\n",
    "    - ...\n",
    "    - est traité en dernière partie du chapitre \"Complexités\"  \n",
    "3. Prouver la terminaison et la correction de ces algos récursifs\n",
    "    - est traité dans le chapitre \"Prouver\"  \n",
    "4. Dé-récursifier : récursif -> itératif (quand on peut)\n",
    "    - voir les slides du cours de 2016 : http://perso.univ-perp.fr/langlois/images/pdf/ens/L1/s7-sl4.pdf "
   ]
  },
  {
   "cell_type": "raw",
   "metadata": {
    "collapsed": true,
    "slideshow": {
     "slide_type": "skip"
    }
   },
   "source": [
    "jupyter nbconvert --to html_embed --template toc2 6-recursivite.ipynb"
   ]
  },
  {
   "cell_type": "raw",
   "metadata": {
    "slideshow": {
     "slide_type": "skip"
    }
   },
   "source": [
    "jupyter nbconvert 6-recursivite.ipynb --to slides --SlidesExporter.reveal_scroll=True --SlidesExporter.reveal_transition=none --SlidesExporter.reveal_theme=solarized"
   ]
  },
  {
   "cell_type": "code",
   "execution_count": null,
   "metadata": {},
   "outputs": [],
   "source": []
  }
 ],
 "metadata": {
  "celltoolbar": "Diaporama",
  "kernelspec": {
   "display_name": "Python 3",
   "language": "python",
   "name": "python3"
  },
  "language_info": {
   "codemirror_mode": {
    "name": "ipython",
    "version": 3
   },
   "file_extension": ".py",
   "mimetype": "text/x-python",
   "name": "python",
   "nbconvert_exporter": "python",
   "pygments_lexer": "ipython3",
   "version": "3.9.6"
  },
  "latex_envs": {
   "LaTeX_envs_menu_present": true,
   "autoclose": false,
   "autocomplete": true,
   "bibliofile": "biblio.bib",
   "cite_by": "apalike",
   "current_citInitial": 1,
   "eqLabelWithNumbers": true,
   "eqNumInitial": 1,
   "hotkeys": {
    "equation": "Ctrl-E",
    "itemize": "Ctrl-I"
   },
   "labels_anchors": false,
   "latex_user_defs": false,
   "report_style_numbering": false,
   "user_envs_cfg": false
  },
  "toc": {
   "nav_menu": {
    "height": "503px",
    "width": "521px"
   },
   "number_sections": true,
   "sideBar": false,
   "skip_h1_title": false,
   "title_cell": "Table of Contents",
   "title_sidebar": "Contents",
   "toc_cell": true,
   "toc_position": {
    "height": "49.3125px",
    "left": "1215px",
    "right": "20px",
    "top": "47.458343505859375px",
    "width": "593px"
   },
   "toc_section_display": false,
   "toc_window_display": true
  }
 },
 "nbformat": 4,
 "nbformat_minor": 2
}