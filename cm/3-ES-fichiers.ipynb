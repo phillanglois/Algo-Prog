{
 "cells": [
  {
   "cell_type": "markdown",
   "metadata": {
    "slideshow": {
     "slide_type": "slide"
    }
   },
   "source": [
    "# Les entrées-sorties avec des fichiers\n",
    "\n",
    "**Partie Programmation**    \n",
    "version 2021, v2. PhL."
   ]
  },
  {
   "cell_type": "markdown",
   "metadata": {
    "slideshow": {
     "slide_type": "slide"
    }
   },
   "source": [
    "Chapitre où on étudie comment manipuler les fichiers pour effectuer des entrées-sorties (E/S).\n",
    "\n",
    "Jusqu'à présent les entrées-sorties ont été générées à grands coups de `print()` et d'` input()` pour interagir avec l'écran ou le clavier.\n",
    "Les entrées-sorties ne sont pas limitées au couple écran-clavier.\n",
    "Bien au contraire, ces derniers ne sont que des cas particuliers d'une notion plus générale : celle de _fichier_.   \n"
   ]
  },
  {
   "cell_type": "markdown",
   "metadata": {
    "slideshow": {
     "slide_type": "slide"
    },
    "toc": true
   },
   "source": [
    "<h1>Table of Contents<span class=\"tocSkip\"></span></h1>\n",
    "<div class=\"toc\"><ul class=\"toc-item\"><li><span><a href=\"#Les-entrées-sorties-avec-des-fichiers\" data-toc-modified-id=\"Les-entrées-sorties-avec-des-fichiers-1\"><span class=\"toc-item-num\">1&nbsp;&nbsp;</span>Les entrées-sorties avec des fichiers</a></span><ul class=\"toc-item\"><li><span><a href=\"#Les-fichiers\" data-toc-modified-id=\"Les-fichiers-1.1\"><span class=\"toc-item-num\">1.1&nbsp;&nbsp;</span>Les fichiers</a></span><ul class=\"toc-item\"><li><span><a href=\"#Programmer-avec-des-fichier-:-principes\" data-toc-modified-id=\"Programmer-avec-des-fichier-:-principes-1.1.1\"><span class=\"toc-item-num\">1.1.1&nbsp;&nbsp;</span>Programmer avec des fichier : principes</a></span></li></ul></li><li><span><a href=\"#Allons-y-en-python-!\" data-toc-modified-id=\"Allons-y-en-python-!-1.2\"><span class=\"toc-item-num\">1.2&nbsp;&nbsp;</span>Allons-y en python !</a></span><ul class=\"toc-item\"><li><span><a href=\"#Les-fonctions-et-les-méthodes\" data-toc-modified-id=\"Les-fonctions-et-les-méthodes-1.2.1\"><span class=\"toc-item-num\">1.2.1&nbsp;&nbsp;</span>Les fonctions et les méthodes</a></span></li><li><span><a href=\"#La-plus-simple-des-lectures-:-read()\" data-toc-modified-id=\"La-plus-simple-des-lectures-:-read()-1.2.2\"><span class=\"toc-item-num\">1.2.2&nbsp;&nbsp;</span>La plus simple des lectures : <code>read()</code></a></span></li><li><span><a href=\"#Une-autre-lecture-simple-:-readlines()\" data-toc-modified-id=\"Une-autre-lecture-simple-:-readlines()-1.2.3\"><span class=\"toc-item-num\">1.2.3&nbsp;&nbsp;</span>Une autre lecture simple : <code>readlines()</code></a></span></li><li><span><a href=\"#Une-lecture-ligne-à-ligne-avec-readline()et-avec-conversion-de-type\" data-toc-modified-id=\"Une-lecture-ligne-à-ligne-avec-readline()et-avec-conversion-de-type-1.2.4\"><span class=\"toc-item-num\">1.2.4&nbsp;&nbsp;</span>Une lecture ligne à ligne avec <code>readline()</code>et avec conversion de type</a></span></li><li><span><a href=\"#Une-lecture-et-une-écriture-(ou-deux)\" data-toc-modified-id=\"Une-lecture-et-une-écriture-(ou-deux)-1.2.5\"><span class=\"toc-item-num\">1.2.5&nbsp;&nbsp;</span>Une lecture et une écriture (ou deux)</a></span></li><li><span><a href=\"#La-syntaxe-classique-avec-with\" data-toc-modified-id=\"La-syntaxe-classique-avec-with-1.2.6\"><span class=\"toc-item-num\">1.2.6&nbsp;&nbsp;</span>La syntaxe classique avec <code>with</code></a></span></li><li><span><a href=\"#$(\\star)$-Approfondissements\" data-toc-modified-id=\"$(\\star)$-Approfondissements-1.2.7\"><span class=\"toc-item-num\">1.2.7&nbsp;&nbsp;</span>$(\\star)$ Approfondissements</a></span><ul class=\"toc-item\"><li><span><a href=\"#Origine-des-problèmes-classiques\" data-toc-modified-id=\"Origine-des-problèmes-classiques-1.2.7.1\"><span class=\"toc-item-num\">1.2.7.1&nbsp;&nbsp;</span>Origine des problèmes classiques</a></span></li><li><span><a href=\"#Bien-contrôler-ses-print()\" data-toc-modified-id=\"Bien-contrôler-ses-print()-1.2.7.2\"><span class=\"toc-item-num\">1.2.7.2&nbsp;&nbsp;</span>Bien contrôler ses <code>print()</code></a></span></li><li><span><a href=\"#Retour-sur-le-.read()\" data-toc-modified-id=\"Retour-sur-le-.read()-1.2.7.3\"><span class=\"toc-item-num\">1.2.7.3&nbsp;&nbsp;</span>Retour sur le <code>.read()</code></a></span></li><li><span><a href=\"#read()-vs.-readline()-(sans-s)\" data-toc-modified-id=\"read()-vs.-readline()-(sans-s)-1.2.7.4\"><span class=\"toc-item-num\">1.2.7.4&nbsp;&nbsp;</span><code>read()</code> <em>vs.</em> <code>readline()</code> (sans s)</a></span></li></ul></li></ul></li><li><span><a href=\"#Pour-finir-en-pratique\" data-toc-modified-id=\"Pour-finir-en-pratique-1.3\"><span class=\"toc-item-num\">1.3&nbsp;&nbsp;</span>Pour finir en pratique</a></span><ul class=\"toc-item\"><li><span><a href=\"#Le-cas-simple-de-la-lecture-d'un-fichier-que-l'on-(a)-écrit\" data-toc-modified-id=\"Le-cas-simple-de-la-lecture-d'un-fichier-que-l'on-(a)-écrit-1.3.1\"><span class=\"toc-item-num\">1.3.1&nbsp;&nbsp;</span>Le cas simple de la lecture d'un fichier que l'on (a) écrit</a></span></li><li><span><a href=\"#Une-simplification-&quot;pythonique&quot;\" data-toc-modified-id=\"Une-simplification-&quot;pythonique&quot;-1.3.2\"><span class=\"toc-item-num\">1.3.2&nbsp;&nbsp;</span>Une simplification \"pythonique\"</a></span></li><li><span><a href=\"#Un-dernier-conseil\" data-toc-modified-id=\"Un-dernier-conseil-1.3.3\"><span class=\"toc-item-num\">1.3.3&nbsp;&nbsp;</span>Un dernier conseil</a></span></li></ul></li><li><span><a href=\"#Synthèse\" data-toc-modified-id=\"Synthèse-1.4\"><span class=\"toc-item-num\">1.4&nbsp;&nbsp;</span>Synthèse</a></span><ul class=\"toc-item\"><li><span><a href=\"#Avoir-les-idées-claires\" data-toc-modified-id=\"Avoir-les-idées-claires-1.4.1\"><span class=\"toc-item-num\">1.4.1&nbsp;&nbsp;</span>Avoir les idées claires</a></span></li><li><span><a href=\"#Savoir-faire\" data-toc-modified-id=\"Savoir-faire-1.4.2\"><span class=\"toc-item-num\">1.4.2&nbsp;&nbsp;</span>Savoir-faire</a></span></li><li><span><a href=\"#Ce-qu'il-restera-à-voir\" data-toc-modified-id=\"Ce-qu'il-restera-à-voir-1.4.3\"><span class=\"toc-item-num\">1.4.3&nbsp;&nbsp;</span>Ce qu'il restera à voir</a></span></li></ul></li></ul></li></ul></div>"
   ]
  },
  {
   "cell_type": "markdown",
   "metadata": {
    "slideshow": {
     "slide_type": "slide"
    }
   },
   "source": [
    "## Les fichiers\n",
    "\n",
    "A la différence de la mémoire (vive) de l'ordinateur qui contient bien sûr l'information traitée, le fichier (_file_ en anglais) permet de conserver cette information sur des supports matériels (disques, clés, bandes magnétiques, ...) et de la retrouver même si l'alimentation électrique de l'ordinateur a été interrompue.\n",
    "Cette information peut être des données de tout type (nombres, sons, images,...), des programmes, des bibliothèques de composants du logiciel, ...\n",
    "\n",
    "On distingue les _fichiers_ dits _texte_ (ou fichiers textuels) des _fichiers_ (dits)  _binaires._ \n",
    "\n",
    "- Les fichiers texte  contiennent de l'information exploitable par l'humain \n",
    "- Les fichiers binaire contiennent de l'information uniquement exploitable par l'ordinateur : , ...\n",
    "\n",
    "Bien sûr, ces deux types de fichiers sont au final une suite de bits 0 et de 1 stockés sur un support physique.   \n",
    "Dans ce chapitre, l'accent sera surtout mis sur les fichiers de texte utiles pour nos développements de taille modeste."
   ]
  },
  {
   "cell_type": "markdown",
   "metadata": {
    "slideshow": {
     "slide_type": "slide"
    }
   },
   "source": [
    "### Programmer avec des fichier : principes\n",
    "\n",
    "La plupart des langages de programmation distinguent les fichiers (dits) logiques des fichiers (dits) physiques.\n",
    "\n",
    "- Les __fichiers logiques__ sont des variables manipulées par le programme  \n",
    "    - Ce sont des variables d'un nouveau type : le type _fichier_\n",
    "- Les __fichiers physiques__ sont les supports effectifs du stockage de l'information (en mémoire, sur disque, sur clé, ...). \n",
    "    - Ils sont identifiés par le \"chemin\" système de leur localisation (le _path_)(`/home/mon_user_id/work/le_fichier.txt`)   \n",
    "    - Ils ne sont manipulés qu'une seule fois : lors de l'association fichier logique $\\to$ fichier physique"
   ]
  },
  {
   "cell_type": "markdown",
   "metadata": {
    "slideshow": {
     "slide_type": "subslide"
    }
   },
   "source": [
    "__Utiliser un fichier__ (en lecture, écriture ou lecture-écriture) consiste en les 4 étapes suivantes.\n",
    "1. __associer le fichier logique__ à __un fichier physique__\n",
    "2. __ouvrir__ le fichier logique  \n",
    "3. effectuer les __traitements__ désirés sur le fichier logique  \n",
    "4. __fermer__ le fichier logique  \n",
    "\n",
    "L'étape d'ouverture du fichier précise le __type des traitements__ qui seront effectués en distinguant :\n",
    "- la lecture : _read_\n",
    "- l'écriture : _write_\n",
    "- la lecture + l'écriture : _readwrite_  "
   ]
  },
  {
   "cell_type": "markdown",
   "metadata": {
    "slideshow": {
     "slide_type": "subslide"
    }
   },
   "source": [
    "__Organisation :__ un fichier est décomposé en lignes et se termine par un symbole de fin de fichier : _EOF (end of file)_     \n",
    "Une ligne est une suite de caractères et se termine par un symbole de fin de ligne : _EOL (end of line)_  \n",
    "Les traitements correspondent à un _accès séquentiel_ du fichier, en commençant à ligne 1.   "
   ]
  },
  {
   "cell_type": "markdown",
   "metadata": {
    "slideshow": {
     "slide_type": "subslide"
    }
   },
   "source": [
    "__Accès direct _vs._ accès séquentiel.__ \n",
    "\n",
    "On distingue :\n",
    "-  les fichiers qui permettent d'accéder _directement_ à une ligne (et l'enregistrement) quelconque de leur contenu,   \n",
    "- les fichiers qui nécessitent un parcours systématique et _séquentiel_ à partir de la dernière ligne accédée (et donc depuis le début du fichier lors de la première opération).\n",
    "\n",
    "Ces différents comportements sont essentiellement dues à des aspects matériels.\n",
    "Historiquement, les fichiers stockés sur des bandes magnétiques (!) étaient à accès séquentiel.\n",
    "\n",
    "La plupart des fichiers utilisables aujourd'hui sont à accès direct -- ce qui sera le cas dans ce qui suit."
   ]
  },
  {
   "cell_type": "markdown",
   "metadata": {
    "slideshow": {
     "slide_type": "subslide"
    }
   },
   "source": [
    "<div class=\"alert alert-info\">\n",
    "\n",
    "Objectif 10 : On se limite à des manipulations simples (lecture ou écriture) de fichier de texte.\n",
    "    \n",
    "</div>"
   ]
  },
  {
   "cell_type": "markdown",
   "metadata": {
    "slideshow": {
     "slide_type": "slide"
    }
   },
   "source": [
    "## Allons-y en python !\n",
    "\n",
    "Les fonctions de chacune des 4 étapes _association/ouverture/lectures-écritures/fermeture_ sont en python :\n",
    "\n",
    "- 1 et 2 : `open(), `  \n",
    "- 3 :`.read()`, `.write()`, `.readlines()`,`.writelines()`, `.readline()`...  \n",
    "- 4 :`.close()` "
   ]
  },
  {
   "cell_type": "markdown",
   "metadata": {
    "slideshow": {
     "slide_type": "subslide"
    }
   },
   "source": [
    "### Les fonctions et les méthodes\n",
    "* Ouverture et fermeture : `open()` et `close()`\n",
    "\n",
    "* Lecture complète  \n",
    "    - `.read()`: lit tout le fichier et retourne un `str`  \n",
    "    - `.readlines()`: lit tout le fichier et retourne une `lst` de `str`  \n",
    "    \n",
    "* Lecture partielle  \n",
    "    - `.read(oct)`: lit `oct` octets dans le fichier et retourne un `str`\n",
    "    - `.readline()`: lit une ligne, caractère `\\n` compris si il est présent, et retourne un `str`\n",
    "\n",
    "* Ecriture.\n",
    "    - `.write()`: écrit une `str` ou une valeur dans le fichier "
   ]
  },
  {
   "cell_type": "markdown",
   "metadata": {
    "slideshow": {
     "slide_type": "subslide"
    }
   },
   "source": [
    "**Rmq.** Les fichiers _physiques_ doivent exister pour être ouverts, lus, modifiés, fermés.  "
   ]
  },
  {
   "cell_type": "code",
   "execution_count": 1,
   "metadata": {
    "slideshow": {
     "slide_type": "slide"
    }
   },
   "outputs": [
    {
     "name": "stdout",
     "output_type": "stream",
     "text": [
      "total 48\n",
      "-rw-r--r--  1 langlois  staff  203  9 mar 11:27 exemple.txt\n",
      "-rw-r--r--  1 langlois  staff   21  7 mar 18:43 fichier_entrees.txt\n",
      "-rw-r--r--@ 1 langlois  staff   21 16 mar  2020 fichier_entrees.txt.~1~\n",
      "-rw-r--r--  1 langlois  staff   21  7 mar 18:34 fichier_entrees.txt.~2~\n",
      "-rw-r--r--  1 langlois  staff   11 30 mar  2020 fichier_entrees2.txt\n",
      "-rw-r--r--  1 langlois  staff    0  9 mar 11:27 fichier_sortie.txt\n",
      "-rw-r--r--  1 langlois  staff    0  9 mar 11:27 fichier_travail\n",
      "-rw-r--r--  1 langlois  staff   81  8 mar 12:03 format1.txt\n",
      "./tmp/fichier_entrees.txt: ASCII text\n",
      "6\n",
      "99\n",
      "21\n",
      "33\n",
      "44\n",
      "33\n",
      "188\n"
     ]
    }
   ],
   "source": [
    "!ls -l ./tmp\n",
    "!file ./tmp/fichier_entrees.txt\n",
    "!cat ./tmp/fichier_entrees.txt"
   ]
  },
  {
   "cell_type": "markdown",
   "metadata": {
    "slideshow": {
     "slide_type": "subslide"
    }
   },
   "source": [
    "### La plus simple des lectures : `read()`"
   ]
  },
  {
   "cell_type": "code",
   "execution_count": 2,
   "metadata": {
    "slideshow": {
     "slide_type": "fragment"
    }
   },
   "outputs": [
    {
     "name": "stdout",
     "output_type": "stream",
     "text": [
      "6\n",
      "99\n",
      "21\n",
      "33\n",
      "44\n",
      "33\n",
      "188\n",
      "\n",
      "<class 'str'>\n",
      "<class '_io.TextIOWrapper'>\n"
     ]
    }
   ],
   "source": [
    "# on associe et on ouvre \n",
    "f = open(\"./tmp/fichier_entrees.txt\", \"r\", encoding=\"utf8\") \n",
    "\n",
    "# le contenu du fichier est lu et stocké dans une chaîne \n",
    "st_f = f.read()\n",
    "\n",
    "# on regarde\n",
    "print(st_f)\n",
    "print(type(st_f))\n",
    "print(type(f))\n",
    "\n",
    "# on ferme\n",
    "f.close()"
   ]
  },
  {
   "cell_type": "markdown",
   "metadata": {
    "slideshow": {
     "slide_type": "subslide"
    }
   },
   "source": [
    "On aurait pu fermer le fichier juste après la lecture et travailler avec la chaîne de caractères qui contient le contenu du fichier. "
   ]
  },
  {
   "cell_type": "code",
   "execution_count": 3,
   "metadata": {
    "slideshow": {
     "slide_type": "fragment"
    }
   },
   "outputs": [
    {
     "name": "stdout",
     "output_type": "stream",
     "text": [
      "6\n",
      "99\n",
      "21\n",
      "33\n",
      "44\n",
      "33\n",
      "188\n",
      "\n",
      "<class 'str'>\n",
      "21\n"
     ]
    }
   ],
   "source": [
    "# on associe et on ouvre \n",
    "f = open(\"./tmp/fichier_entrees.txt\", \"r\", encoding=\"utf8\") \n",
    "\n",
    "# on lit et on stocke dans une chaîne \n",
    "st_f = f.read()\n",
    "\n",
    "# on ferme le fichier d'entrée\n",
    "f.close()\n",
    "\n",
    "# on travaille avec l'\"image\" du contenu du fichier\n",
    "print(st_f)\n",
    "print(type(st_f))\n",
    "print(len(st_f))"
   ]
  },
  {
   "cell_type": "markdown",
   "metadata": {
    "slideshow": {
     "slide_type": "slide"
    }
   },
   "source": [
    "**Première mauvaise (fausse) surprise.** On y reviendra bien sûr ! "
   ]
  },
  {
   "cell_type": "code",
   "execution_count": 4,
   "metadata": {
    "slideshow": {
     "slide_type": "fragment"
    }
   },
   "outputs": [
    {
     "name": "stdout",
     "output_type": "stream",
     "text": [
      "6\n",
      "\n",
      "\n",
      "9\n",
      "9\n",
      "\n",
      "\n",
      "2\n",
      "1\n",
      "\n",
      "\n",
      "3\n",
      "3\n",
      "\n",
      "\n",
      "4\n",
      "4\n",
      "\n",
      "\n",
      "3\n",
      "3\n",
      "\n",
      "\n",
      "1\n",
      "8\n",
      "8\n",
      "\n",
      "\n"
     ]
    }
   ],
   "source": [
    "# on parcours et affiche la chaine de _caractères_ resultat du read()\n",
    "for i in range(len(st_f)):\n",
    "    print(st_f[i])"
   ]
  },
  {
   "cell_type": "markdown",
   "metadata": {
    "slideshow": {
     "slide_type": "subslide"
    }
   },
   "source": [
    "### Une autre lecture simple : `readlines()`"
   ]
  },
  {
   "cell_type": "code",
   "execution_count": 5,
   "metadata": {
    "slideshow": {
     "slide_type": "fragment"
    }
   },
   "outputs": [
    {
     "name": "stdout",
     "output_type": "stream",
     "text": [
      "['6\\n', '99\\n', '21\\n', '33\\n', '44\\n', '33\\n', '188\\n']\n",
      "<class 'list'> <class 'str'>\n",
      "<class '_io.TextIOWrapper'>\n"
     ]
    }
   ],
   "source": [
    "# on associe et on ouvre \n",
    "f = open(\"./tmp/fichier_entrees.txt\", \"r\", encoding=\"utf8\") \n",
    "\n",
    "# le contenu du fichier est lu et stocké dans une liste de chaînes \n",
    "st_f = f.readlines()\n",
    "\n",
    "# on regarde\n",
    "print(st_f)\n",
    "print(type(st_f), type(st_f[0]))\n",
    "print(type(f))\n",
    "\n",
    "# on ferme\n",
    "f.close()"
   ]
  },
  {
   "cell_type": "markdown",
   "metadata": {
    "slideshow": {
     "slide_type": "subslide"
    }
   },
   "source": [
    "**Pause.**\n",
    "\n",
    "- Remarquons que ces (deux) lectures de _fichier texte_ retournent des valeurs de type _chaîne de caractères (`str`) uniquement_.\n",
    "    - C'était donc bien une mauvaise _fausse_ surprise.\n",
    "- En pratique, on aura donc souvent besoin de compléter la lecture par une conversion au type souhaité pour chaque valeur lue -- sauf si la valeur souhaitée est de type `str`. \n",
    "    - Cette conversion dépend de ce qui a été lue : `str` _vs._ `lst` de `str`.\n",
    "    - On se facilite le travail en _adaptant la lecture_ au mieux. \n",
    "- ($\\star$) La lecture de fichier binaire impose en général de résoudre la question du type de la valeur lue lors de sa lecture : la représentation binaire de l'entier 123 est différente de celle du nombre flottant 123. .  "
   ]
  },
  {
   "cell_type": "markdown",
   "metadata": {
    "slideshow": {
     "slide_type": "subslide"
    }
   },
   "source": [
    "### Une lecture ligne à ligne avec `readline()`et avec conversion de type"
   ]
  },
  {
   "cell_type": "code",
   "execution_count": 6,
   "metadata": {
    "slideshow": {
     "slide_type": "fragment"
    }
   },
   "outputs": [
    {
     "name": "stdout",
     "output_type": "stream",
     "text": [
      "6 <class 'int'>\n",
      "[99, 21, 33, 44, 33, 188] <class 'list'> <class 'int'>\n",
      "max: 188 <class 'int'>\n"
     ]
    }
   ],
   "source": [
    "# Association et ouverture \n",
    "f_in = open(\"./tmp/fichier_entrees.txt\", \"r\", encoding=\"utf8\") \n",
    "\n",
    "# Entrée : lire les entrées dans f_in\n",
    "\n",
    "# ligne 1 : nb de valeurs à lire ensuite dans le fichier f_in\n",
    "n = int(f_in.readline()) # noter la conversion de type\n",
    "\n",
    "# un tableau d'entiers pour contenir les n valeurs à lire \n",
    "vals = [0 for i in range(n)] \n",
    "\n",
    "# lectures ligne à ligne des n valeurs et conversions en entier\n",
    "for i in range(n):\n",
    "    vals[i] = int(f_in.readline()) \n",
    "    \n",
    "# affichages et petits traitements (par exemple)\n",
    "print(n, type(n))\n",
    "print(vals, type(vals), type(vals[0]))\n",
    "m = max(vals)  # fonction prédéfinie max \n",
    "print(\"max:\", m, type(m))\n",
    "\n",
    "# On ferme ce qu'on a ouvert\n",
    "f_in.close()"
   ]
  },
  {
   "cell_type": "code",
   "execution_count": 7,
   "metadata": {
    "slideshow": {
     "slide_type": "fragment"
    }
   },
   "outputs": [
    {
     "name": "stdout",
     "output_type": "stream",
     "text": [
      "6\r\n",
      "99\r\n",
      "21\r\n",
      "33\r\n",
      "44\r\n",
      "33\r\n",
      "188\r\n"
     ]
    }
   ],
   "source": [
    "!cat ./tmp/fichier_entrees.txt"
   ]
  },
  {
   "cell_type": "markdown",
   "metadata": {
    "slideshow": {
     "slide_type": "subslide"
    }
   },
   "source": [
    "### Une lecture et une écriture (ou deux) "
   ]
  },
  {
   "cell_type": "markdown",
   "metadata": {
    "slideshow": {
     "slide_type": "subslide"
    }
   },
   "source": [
    "Je reviens (si besoin) dans l'état initial des fichiers de sortie et de travail avec la suite de commandes système."
   ]
  },
  {
   "cell_type": "code",
   "execution_count": 8,
   "metadata": {
    "slideshow": {
     "slide_type": "fragment"
    }
   },
   "outputs": [
    {
     "name": "stdout",
     "output_type": "stream",
     "text": [
      "total 48\r\n",
      "-rw-r--r--  1 langlois  staff  203  9 mar 11:27 exemple.txt\r\n",
      "-rw-r--r--  1 langlois  staff   21  7 mar 18:43 fichier_entrees.txt\r\n",
      "-rw-r--r--@ 1 langlois  staff   21 16 mar  2020 fichier_entrees.txt.~1~\r\n",
      "-rw-r--r--  1 langlois  staff   21  7 mar 18:34 fichier_entrees.txt.~2~\r\n",
      "-rw-r--r--  1 langlois  staff   11 30 mar  2020 fichier_entrees2.txt\r\n",
      "-rw-r--r--  1 langlois  staff    0  9 mar 12:16 fichier_sortie.txt\r\n",
      "-rw-r--r--  1 langlois  staff    0  9 mar 12:16 fichier_travail\r\n",
      "-rw-r--r--  1 langlois  staff   81  8 mar 12:03 format1.txt\r\n"
     ]
    }
   ],
   "source": [
    "!cat /dev/null > ./tmp/fichier_sortie.txt\n",
    "!cat /dev/null > ./tmp/fichier_travail\n",
    "!ls -l ./tmp/"
   ]
  },
  {
   "cell_type": "code",
   "execution_count": 9,
   "metadata": {
    "slideshow": {
     "slide_type": "slide"
    }
   },
   "outputs": [
    {
     "name": "stdout",
     "output_type": "stream",
     "text": [
      "./tmp/fichier_sortie.txt: empty\n",
      "./tmp/fichier_travail: empty\n"
     ]
    }
   ],
   "source": [
    "!file ./tmp/fichier_sortie.txt\n",
    "!file ./tmp/fichier_travail"
   ]
  },
  {
   "cell_type": "code",
   "execution_count": 10,
   "metadata": {
    "slideshow": {
     "slide_type": "fragment"
    }
   },
   "outputs": [
    {
     "name": "stdout",
     "output_type": "stream",
     "text": [
      "s= 418\n"
     ]
    }
   ],
   "source": [
    "# on associe et on ouvre \n",
    "f_in = open(\"./tmp/fichier_entrees.txt\",\"r\", encoding=\"utf8\")\n",
    "f_out = open(\"./tmp/fichier_sortie.txt\",\"w\", encoding=\"utf8\")\n",
    "#f_tmp = open(\"./tmp/fichier_travail\",\"ab\")  # a : _append_ , b : _binary_\n",
    "\n",
    "# ligne 1 \n",
    "n = int(f_in.readline()) \n",
    "\n",
    "# pour les n valeurs\n",
    "vals = [0 for i in range(n)] \n",
    "\n",
    "# lecture des n valeurs ligne à ligne\n",
    "for i in range(n):\n",
    "    vals[i] = int(f_in.readline()) \n",
    "      \n",
    "# traitements \n",
    "# et stockages au format binaire dans un fichier temporaire f_tmp  \n",
    "s = 0\n",
    "for i in range(n):\n",
    "    s = s + vals[i]\n",
    "    #f_tmp.write(s.to_bytes(4, byteorder='little', signed=True))\n",
    "\n",
    "# Sorties dans f_out\n",
    "f_out.write(str(s))\n",
    "f_out.write('\\n') # pas nécessaire mais commode\n",
    "\n",
    "# On ferme ce qu'on a ouvert\n",
    "f_in.close()\n",
    "f_out.close()\n",
    "#f_tmp.close()\n",
    "\n",
    "print(\"s=\", s)"
   ]
  },
  {
   "cell_type": "code",
   "execution_count": 11,
   "metadata": {
    "slideshow": {
     "slide_type": "subslide"
    }
   },
   "outputs": [
    {
     "name": "stdout",
     "output_type": "stream",
     "text": [
      "total 56\n",
      "-rw-r--r--  1 langlois  staff  203  9 mar 11:27 exemple.txt\n",
      "-rw-r--r--  1 langlois  staff   21  7 mar 18:43 fichier_entrees.txt\n",
      "-rw-r--r--@ 1 langlois  staff   21 16 mar  2020 fichier_entrees.txt.~1~\n",
      "-rw-r--r--  1 langlois  staff   21  7 mar 18:34 fichier_entrees.txt.~2~\n",
      "-rw-r--r--  1 langlois  staff   11 30 mar  2020 fichier_entrees2.txt\n",
      "-rw-r--r--  1 langlois  staff    4  9 mar 12:16 fichier_sortie.txt\n",
      "-rw-r--r--  1 langlois  staff    0  9 mar 12:16 fichier_travail\n",
      "-rw-r--r--  1 langlois  staff   81  8 mar 12:03 format1.txt\n",
      "418\n",
      "./tmp/fichier_sortie.txt: ASCII text\n",
      "./tmp/fichier_travail: empty\n"
     ]
    }
   ],
   "source": [
    "!ls -l ./tmp\n",
    "!cat ./tmp/fichier_sortie.txt\n",
    "!file ./tmp/fichier_sortie.txt\n",
    "!file ./tmp/fichier_travail"
   ]
  },
  {
   "cell_type": "markdown",
   "metadata": {
    "slideshow": {
     "slide_type": "fragment"
    }
   },
   "source": [
    "**Utilisation du fichier binaire de travail** \n",
    "\n",
    "- Dé-commenter les 3 lignes où apparait le fichier temporaire `f_tmp`\n",
    "- Revenir à l'état initial des fichiers\n",
    "- Relancer le traitement"
   ]
  },
  {
   "cell_type": "markdown",
   "metadata": {
    "slideshow": {
     "slide_type": "subslide"
    }
   },
   "source": [
    "**ATTENTION au `read()` !**  \n",
    "\n",
    "Comme le dit le manuel (7.2.1):  \n",
    "> it’s your problem if the file is twice as large as your machine’s memory."
   ]
  },
  {
   "cell_type": "markdown",
   "metadata": {
    "slideshow": {
     "slide_type": "subslide"
    }
   },
   "source": [
    "La suite de commandes suivantes pour revenir dans l'état initial.  "
   ]
  },
  {
   "cell_type": "code",
   "execution_count": 12,
   "metadata": {
    "slideshow": {
     "slide_type": "fragment"
    }
   },
   "outputs": [
    {
     "name": "stdout",
     "output_type": "stream",
     "text": [
      "total 48\r\n",
      "-rw-r--r--  1 langlois  staff  203  9 mar 11:27 exemple.txt\r\n",
      "-rw-r--r--  1 langlois  staff   21  7 mar 18:43 fichier_entrees.txt\r\n",
      "-rw-r--r--@ 1 langlois  staff   21 16 mar  2020 fichier_entrees.txt.~1~\r\n",
      "-rw-r--r--  1 langlois  staff   21  7 mar 18:34 fichier_entrees.txt.~2~\r\n",
      "-rw-r--r--  1 langlois  staff   11 30 mar  2020 fichier_entrees2.txt\r\n",
      "-rw-r--r--  1 langlois  staff    0  9 mar 12:16 fichier_sortie.txt\r\n",
      "-rw-r--r--  1 langlois  staff    0  9 mar 12:16 fichier_travail\r\n",
      "-rw-r--r--  1 langlois  staff   81  8 mar 12:03 format1.txt\r\n"
     ]
    }
   ],
   "source": [
    "!cat /dev/null > ./tmp/fichier_sortie.txt\n",
    "!cat /dev/null > ./tmp/fichier_travail\n",
    "!ls -l ./tmp/"
   ]
  },
  {
   "cell_type": "markdown",
   "metadata": {
    "slideshow": {
     "slide_type": "slide"
    }
   },
   "source": [
    "### La syntaxe classique avec `with` \n",
    "\n",
    "L'écriture suivante avec une clause de contexte `with` est utile en pratique.\n",
    "\n",
    "Exemples \n",
    "- d'abord avec les lectures complètes `read()` puis `readlines()`, \n",
    "- ensuite avec une répétition de lectures partielles avec `readline()`(sans s),\n",
    "- avant d'approfondir certains points importants."
   ]
  },
  {
   "cell_type": "code",
   "execution_count": 13,
   "metadata": {
    "slideshow": {
     "slide_type": "fragment"
    }
   },
   "outputs": [
    {
     "name": "stdout",
     "output_type": "stream",
     "text": [
      "6\n",
      "99\n",
      "21\n",
      "33\n",
      "44\n",
      "33\n",
      "188\n",
      "\n"
     ]
    }
   ],
   "source": [
    "with open(\"./tmp/fichier_entrees.txt\", \"r\", encoding=\"utf8\") as f:\n",
    "    #on lit tout f et on stocke dans une str\n",
    "    st = f.read()\n",
    "            \n",
    "    # on n a plus besoin du fichier d'entrees\n",
    "    f.close() \n",
    "\n",
    "#voilà ce qu'on a lu\n",
    "print(st)\n",
    "\n",
    "#for caractere in st: #st est une chaine de caracteres\n",
    "#    print(caractere)"
   ]
  },
  {
   "cell_type": "code",
   "execution_count": 14,
   "metadata": {
    "slideshow": {
     "slide_type": "fragment"
    }
   },
   "outputs": [
    {
     "name": "stdout",
     "output_type": "stream",
     "text": [
      "['6\\n', '99\\n', '21\\n', '33\\n', '44\\n', '33\\n', '188\\n']\n",
      "<class 'list'>\n",
      "6\n",
      "\n",
      "99\n",
      "\n",
      "21\n",
      "\n",
      "33\n",
      "\n",
      "44\n",
      "\n",
      "33\n",
      "\n",
      "188\n",
      "\n",
      "Remarquer les sauts de ligne au dessus.\n"
     ]
    }
   ],
   "source": [
    "with open(\"./tmp/fichier_entrees.txt\", \"r\", encoding=\"utf8\") as f:\n",
    "    #on lit tout f d'un seul coup comme une liste de str+\\n\n",
    "    entrees = f.readlines() # avec un 's' à la fin \n",
    "             \n",
    "    # on n a plus besoin du fichier d'entrees\n",
    "    f.close() \n",
    "        \n",
    "#voilà ce qu'on a lu\n",
    "print(entrees)\n",
    "print(type(entrees))\n",
    "      \n",
    "for v in entrees: #entrees est une liste\n",
    "    print(v)\n",
    "      \n",
    "print(\"Remarquer les sauts de ligne au dessus.\")    "
   ]
  },
  {
   "cell_type": "markdown",
   "metadata": {
    "slideshow": {
     "slide_type": "subslide"
    }
   },
   "source": [
    "**Lecture partielle.**\n",
    "\n",
    "On remarquera :\n",
    "- la conversion au type entier de chaque ligne lue\n",
    "- la définition du tableau `vals` _après_ avoir lu sa taille dans le fichier. ($\\star$) Une telle construction cache des choses.   \n"
   ]
  },
  {
   "cell_type": "code",
   "execution_count": 15,
   "metadata": {
    "slideshow": {
     "slide_type": "fragment"
    }
   },
   "outputs": [
    {
     "name": "stdout",
     "output_type": "stream",
     "text": [
      "6 <class 'int'>\n",
      "[99, 21, 33, 44, 33, 188]\n",
      "<class 'list'> <class 'int'>\n",
      "max: 188 <class 'int'>\n"
     ]
    }
   ],
   "source": [
    "with open(\"./tmp/fichier_entrees.txt\", \"r\", encoding=\"utf8\") as f_in:\n",
    "\n",
    "    # ligne 1 : nb de valeurs à lire ensuite dans le fichier f_in\n",
    "    n = int(f_in.readline()) # noter la conversion de type\n",
    "\n",
    "    # un tableau d'entiers pour contenir les n valeurs à lire \n",
    "    vals = [0 for i in range(n)] \n",
    "\n",
    "    # lectures ligne à ligne des n valeurs et conversions en entier\n",
    "    for i in range(n):\n",
    "        vals[i] = int(f_in.readline()) \n",
    "\n",
    "    # On ferme ce qu'on a ouvert\n",
    "    f_in.close()\n",
    "\n",
    "# affichages et petits traitements (par exemple)\n",
    "print(n, type(n))\n",
    "print(vals)\n",
    "print(type(vals), type(vals[0]))\n",
    "m = max(vals)  # fonction prédéfinie max \n",
    "print(\"max:\", m, type(m))"
   ]
  },
  {
   "cell_type": "markdown",
   "metadata": {
    "slideshow": {
     "slide_type": "subslide"
    }
   },
   "source": [
    "**Rmq.** Ne pas oublier les **conversions** des valeurs numériques (ou de tout autre type non `str`)."
   ]
  },
  {
   "cell_type": "code",
   "execution_count": 16,
   "metadata": {
    "slideshow": {
     "slide_type": "subslide"
    }
   },
   "outputs": [
    {
     "name": "stdout",
     "output_type": "stream",
     "text": [
      "7\n",
      "['6\\n', '99\\n', '21\\n', '33\\n', '44\\n', '33\\n', '188\\n']\n",
      "[6, 99, 21, 33, 44, 33, 188]\n"
     ]
    }
   ],
   "source": [
    "with open(\"./tmp/fichier_entrees.txt\", \"r\", encoding=\"utf8\") as f:\n",
    "    #on lit tout f d'un seul coup comme une liste de str+\\n\n",
    "    entrees = f.readlines() # avec un 's' à la fin \n",
    "             \n",
    "    # on n a plus besoin du fichier d'entrees\n",
    "    f.close() \n",
    "\n",
    "n = len(entrees)\n",
    "print(n)\n",
    "\n",
    "# ce qu'on a lu\n",
    "print(entrees)\n",
    "\n",
    "# conversion en int\n",
    "v = [0 for i in range(n)]\n",
    "for i in range(n): #entrees est une liste\n",
    "    v[i] = int(entrees[i])\n",
    "print(v)\n"
   ]
  },
  {
   "cell_type": "code",
   "execution_count": 17,
   "metadata": {
    "slideshow": {
     "slide_type": "fragment"
    }
   },
   "outputs": [
    {
     "name": "stdout",
     "output_type": "stream",
     "text": [
      "6\n",
      "99\n",
      "21\n",
      "33\n",
      "44\n",
      "33\n",
      "188\n",
      "On a fini d'afficher le fichier\n"
     ]
    }
   ],
   "source": [
    "!cat ./tmp/fichier_entrees.txt\n",
    "!echo \"On a fini d'afficher le fichier\""
   ]
  },
  {
   "cell_type": "markdown",
   "metadata": {
    "slideshow": {
     "slide_type": "subslide"
    }
   },
   "source": [
    "### $(\\star)$ Approfondissements\n",
    "\n",
    "ou \n",
    "\n",
    "_petites subtilités souvent à l'origine de problèmes de lecture/écriture de fichiers \n",
    "qui font perdre beaucoup de temps :)_   \n",
    "\n",
    "<div class=\"alert alert-warning\">\n",
    "\n",
    "Objectif 20 \n",
    "    \n",
    "</div>"
   ]
  },
  {
   "cell_type": "markdown",
   "metadata": {
    "slideshow": {
     "slide_type": "subslide"
    }
   },
   "source": [
    "#### Origine des problèmes classiques\n",
    "\n",
    "La gestion des caractères spéciaux, `\\n` entre autres.\n",
    "\n",
    "- `f.read()`peut (lire et) retourner le caractère `\\n` ou  la chaîne vide `''`, ce qui est différent :\n",
    "    - `\\n` = une ligne vide ... de caractères \"classiques\" : elle est réduite au caractère spécial qui désigne `newline`\n",
    "    - `''` = pas de ligne : on a atteint la fin du fichier (EOF)  \n",
    "Dans l'exemple suivant, remarquer que `f.read() == ''` permet de finir correctement la lecture du fichier.\n",
    "- `f.readline()` ou `f.readlines()` lit une ligne complète, caractère spécial (`\\n`) compris.\n",
    "    - il retourne donc _aussi_ ce `\\n` de \"passage à une nouvelle ligne\", \n",
    "    - sauf dans le cas de la dernière ligne -- si celle-ci n'en comporte pas ! "
   ]
  },
  {
   "cell_type": "markdown",
   "metadata": {
    "slideshow": {
     "slide_type": "subslide"
    }
   },
   "source": [
    "#### Bien contrôler ses `print()`\n",
    "\n",
    "Deux exemples pour :\n",
    "1. rappeler comment utiliser `sep` et `end` \n",
    "2. expliciter l'effet du caractère spécial `\\n` (nouvelle ligne) dans l'affichage d'une chaîne de caractères avec `print()`."
   ]
  },
  {
   "cell_type": "code",
   "execution_count": 18,
   "metadata": {
    "slideshow": {
     "slide_type": "fragment"
    }
   },
   "outputs": [
    {
     "name": "stdout",
     "output_type": "stream",
     "text": [
      "azertyuiop*azertyuiop*azertyuiop--@@\n",
      "azertyuiop\n",
      "*azertyuiop\n",
      "*azertyuiop\n",
      "--"
     ]
    }
   ],
   "source": [
    "#rappel : sep, end\n",
    "s = \"azertyuiop\"\n",
    "print(s, s, s, sep=\"*\", end=\"--\")\n",
    "print(\"@@\") # par defaut : end='\\n'\n",
    "\n",
    "s = \"azertyuiop\\n\"\n",
    "print(s, s, s, sep=\"*\", end=\"--\")\n"
   ]
  },
  {
   "cell_type": "code",
   "execution_count": 19,
   "metadata": {
    "slideshow": {
     "slide_type": "fragment"
    }
   },
   "outputs": [
    {
     "name": "stdout",
     "output_type": "stream",
     "text": [
      "azer\n",
      "tyuiop\n",
      "azer\n",
      "tyuiop\n",
      "azer\n",
      "tyuiop--"
     ]
    }
   ],
   "source": [
    "# s est _une_ chaine de caractères\n",
    "s = \"azer\\ntyuiop\"\n",
    "print(s)\n",
    "print(s, sep=\"*\")\n",
    "print(s, end=\"--\")"
   ]
  },
  {
   "cell_type": "markdown",
   "metadata": {
    "slideshow": {
     "slide_type": "subslide"
    }
   },
   "source": [
    "Nous reviendrons sur les caractères spéciaux dans le chapitre sur les chaînes de caratères. "
   ]
  },
  {
   "cell_type": "markdown",
   "metadata": {
    "slideshow": {
     "slide_type": "subslide"
    }
   },
   "source": [
    "#### Retour sur le `.read()`\n",
    "\n",
    "Rappel. Retourne la totalité du contenu comme une chaîne de caractères."
   ]
  },
  {
   "cell_type": "code",
   "execution_count": 20,
   "metadata": {
    "slideshow": {
     "slide_type": "fragment"
    }
   },
   "outputs": [
    {
     "name": "stdout",
     "output_type": "stream",
     "text": [
      "6\n",
      "99\n",
      "21\n",
      "33\n",
      "44\n",
      "33\n",
      "188\n",
      "\n",
      "6\n",
      "99\n",
      "21\n",
      "33\n",
      "44\n",
      "33\n",
      "188\n",
      "--remarquer len(st_f)= 21  !? Explication ?\n"
     ]
    }
   ],
   "source": [
    "# on associe et on ouvre \n",
    "f = open(\"./tmp/fichier_entrees.txt\", \"r\", encoding=\"utf8\") \n",
    "\n",
    "# le contenu du fichier est lu et stocké dans une chaîne \n",
    "st_f = f.read()\n",
    "\n",
    "# on regarde\n",
    "print(st_f)\n",
    "\n",
    "# on regarde mieux\n",
    "print(st_f, sep = \"*\", end=\"--\")\n",
    "\n",
    "print(\"remarquer len(st_f)=\", len(st_f), \" !? Explication ?\")\n",
    "\n",
    "# on ferme\n",
    "f.close()"
   ]
  },
  {
   "cell_type": "markdown",
   "metadata": {
    "slideshow": {
     "slide_type": "subslide"
    }
   },
   "source": [
    "**Explication** avec `readlines()` "
   ]
  },
  {
   "cell_type": "code",
   "execution_count": 21,
   "metadata": {
    "slideshow": {
     "slide_type": "fragment"
    }
   },
   "outputs": [
    {
     "name": "stdout",
     "output_type": "stream",
     "text": [
      "['6\\n', '99\\n', '21\\n', '33\\n', '44\\n', '33\\n', '188\\n']\n",
      "7\n",
      "21\n"
     ]
    }
   ],
   "source": [
    "# on associe et on ouvre \n",
    "f = open(\"./tmp/fichier_entrees.txt\", \"r\", encoding=\"utf8\") \n",
    "\n",
    "# le contenu du fichier est lu et stocké dans une liste de chaînes \n",
    "st_f = f.readlines()\n",
    "\n",
    "# on regarde\n",
    "print(st_f)\n",
    "print(len(st_f))\n",
    "#print(type(st_f), type(st_f[0]))\n",
    "#print(type(f))\n",
    "\n",
    "# on vérifie en comptant le nbre total de caractères \n",
    "nb = 0\n",
    "for i in range(len(st_f)):\n",
    "    nb = nb + len(st_f[i])\n",
    "print(nb)\n",
    "\n",
    "# on ferme\n",
    "f.close()"
   ]
  },
  {
   "cell_type": "markdown",
   "metadata": {
    "slideshow": {
     "slide_type": "subslide"
    }
   },
   "source": [
    "#### `read()` _vs._ `readline()` (sans s) "
   ]
  },
  {
   "cell_type": "code",
   "execution_count": 22,
   "metadata": {
    "slideshow": {
     "slide_type": "fragment"
    }
   },
   "outputs": [
    {
     "name": "stdout",
     "output_type": "stream",
     "text": [
      "6\r\n",
      "99\r\n",
      "21\r\n",
      "33\r\n",
      "44\r\n",
      "33\r\n",
      "188\r\n"
     ]
    }
   ],
   "source": [
    "!cat ./tmp/fichier_entrees.txt"
   ]
  },
  {
   "cell_type": "code",
   "execution_count": 23,
   "metadata": {
    "slideshow": {
     "slide_type": "fragment"
    }
   },
   "outputs": [
    {
     "name": "stdout",
     "output_type": "stream",
     "text": [
      "Pour bien noter la différence entre readline() et read() : \n",
      "--> bien identifier l('effet d)es sauts de ligne '\\n' du  readline():\n",
      "readline numero:*0*on a lu u:*6\n",
      "...readline numero:*1*on a lu u:*99\n",
      "---readline numero:*2*on a lu u:*21\n",
      "---readline numero:*3*on a lu u:*33\n",
      "---readline numero:*4*on a lu u:*44\n",
      "---readline numero:*5*on a lu u:*33\n",
      "---readline numero:*6*on a lu u:*188\n",
      "---readline numero:*7*on a lu u:*---@@@\n",
      "--> comprendre la dernière lecture effectuée par readline()\n",
      "\n",
      "--> des read() maintenant ... mais peu en fait : \n",
      "read numero: *0*on a lu v =*6\n",
      "99\n",
      "21\n",
      "33\n",
      "44\n",
      "33\n",
      "188\n",
      "---read numero:*1*on a lu v=*---Fini!\n",
      "dernière lecture de readline:  \n",
      "dernière lecture de read:  \n"
     ]
    }
   ],
   "source": [
    "print(\"Pour bien noter la différence entre readline() et read() : \")\n",
    "print(\"--> bien identifier l('effet d)es sauts de ligne '\\\\n' du  readline():\")\n",
    "\n",
    "with open(\"./tmp/fichier_entrees.txt\",\"r\", encoding=\"utf8\") as f:\n",
    "    i = 0\n",
    "    u = f.readline() # sans 's' à la fin : laisse le `\\n` de saut de ligne sauf ''\n",
    "    print(\"readline numero:\", i, \"on a lu u:\", u, sep=\"*\", end=\"...\")\n",
    "    while (u != ''): # arrêt si la dernière ligne est vide\n",
    "        i = i + 1\n",
    "        u = f.readline() \n",
    "        print(\"readline numero:\", i, \"on a lu u:\", u, sep=\"*\", end=\"---\")\n",
    "    print(\"@@@\")\n",
    "print(\"--> comprendre la dernière lecture effectuée par readline()\")\n",
    "\n",
    "print()    \n",
    "print(\"--> des read() maintenant ... mais peu en fait : \")  \n",
    "with open(\"./tmp/fichier_entrees.txt\",\"r\", encoding=\"utf8\") as f:\n",
    "    i = 0\n",
    "    v = f.read() # lit tout f comme une str\n",
    "    #print(\"@@@\",v[-1],\"@@@\") # pour le quizz\n",
    "    print(\"read numero: \", i, \"on a lu v =\", v, sep=\"*\", end=\"---\")\n",
    "    while (v != ''): # arrêt si la dernière ligne est vide ... attention ! \\n n'est pas une ligne vide :)\n",
    "        i = i + 1\n",
    "        v = f.read() # lit tout comme une str\n",
    "        #v = f.read(4) # lit 8 octets et ne rajoute rien à v  \n",
    "        print(\"read numero:\", i, \"on a lu v=\", v, sep=\"*\", end=\"---\")   \n",
    "    print(\"Fini!\")\n",
    "    \n",
    "    f.close()\n",
    "\n",
    "print(\"dernière lecture de readline: \", u)\n",
    "print(\"dernière lecture de read: \", v)\n",
    "\n"
   ]
  },
  {
   "cell_type": "markdown",
   "metadata": {
    "slideshow": {
     "slide_type": "subslide"
    }
   },
   "source": [
    "\n",
    "**Quizzz**  \n",
    "\n",
    "Quelle est la dernière ligne du fichier `./tmp/fichier_entrees.txt` ?\n",
    "1. 188\n",
    "2. 188\\n\n",
    "3. \\n\n",
    "4. '' (ligne vide) \n",
    "\n",
    "Réponse. Enlever le commentaire de l'instruction ad-hoc du code au dessus."
   ]
  },
  {
   "cell_type": "markdown",
   "metadata": {
    "slideshow": {
     "slide_type": "subslide"
    }
   },
   "source": [
    "En pratique, on retiendra :\n",
    "- que les sauts de lignes \"visibles\" sont aussi lues par `read`, `readlines`, ...  \n",
    "- que la dernière ligne d'un fichier peut être source de problème,\n",
    "- entre autres car les éditeurs de texte (et les systèmes d'exploitation) peuvent ajouter certains caractères non entérs par l'utilisateur lors de l'enregistrement et de la fermeture du fichier."
   ]
  },
  {
   "cell_type": "markdown",
   "metadata": {
    "slideshow": {
     "slide_type": "slide"
    }
   },
   "source": [
    "## Pour finir en pratique\n",
    "\n",
    "\n",
    "### Le cas simple de la lecture d'un fichier que l'on (a) écrit\n",
    "\n",
    "Deux cas de figures classiques.\n",
    "\n",
    "1. j'écris le traitement qui _lit_ un fichier dont la _structure_ est _décrite par ailleurs_\n",
    "2. j'écris le traitement qui _lit_ un fichier et _je connais le traitement qui l'a créé et \"rempli\"_.\n",
    "\n",
    "La démarche du second cas est simple : la logique de lecture est identique à celle de l'écriture. Elle s'obtient \"inversant\" le traitement d'écriture : ouverture en lecture `\"r\"` _vs._ écriture `\"w\"`, instructions de lecture `read()` ou `readlines()` ou `readline()` _vs._  instructions d'écriture `write()`, conversion inverse de `str` au type d'origine, ..."
   ]
  },
  {
   "cell_type": "markdown",
   "metadata": {},
   "source": [
    "**Exemple**. On commence par écrire la création du fichier et son écriture. \n",
    "\n",
    "Par souci pédagogique, l'exemple suivant inclut la création de la valeur aux traitements nécessaires à son écriture (comme une `str`) dans le fichier (en général les valeurs à stocker existent avant ce traitement).  "
   ]
  },
  {
   "cell_type": "code",
   "execution_count": 24,
   "metadata": {
    "slideshow": {
     "slide_type": "subslide"
    }
   },
   "outputs": [],
   "source": [
    "import random\n",
    "# on créé et on écrit dans un fichier \n",
    "with open(\"./tmp/exemple.txt\", \"w\", encoding=\"utf8\") as f:\n",
    "    for i in range(20): # 20 dates\n",
    "        # génération des dates\n",
    "        m = random.randint(1, 12) # un mois au hasard\n",
    "        if m == 2:\n",
    "            nb_jours = 28\n",
    "        elif m % 2 == 1:\n",
    "            nb_jours = 31\n",
    "        else:\n",
    "            nb_jours = 30       \n",
    "        q = random.randint(1, nb_jours) # un quantieme au hasard\n",
    "        \n",
    "        # traitement pour stockage\n",
    "        s = str(q) + \".\" + str(m) + \".2021\" + \"\\n\" # represention \"formatee\" de la date en une chaine \n",
    "        \n",
    "        # stockage\n",
    "        f.write(s)\n",
    "    f. close()"
   ]
  },
  {
   "cell_type": "code",
   "execution_count": 25,
   "metadata": {
    "slideshow": {
     "slide_type": "subslide"
    }
   },
   "outputs": [
    {
     "name": "stdout",
     "output_type": "stream",
     "text": [
      "26.8.2021\r\n",
      "25.4.2021\r\n",
      "7.9.2021\r\n",
      "23.6.2021\r\n",
      "9.1.2021\r\n",
      "20.11.2021\r\n",
      "23.12.2021\r\n",
      "21.8.2021\r\n",
      "9.7.2021\r\n",
      "19.3.2021\r\n",
      "10.8.2021\r\n",
      "17.10.2021\r\n",
      "30.11.2021\r\n",
      "18.3.2021\r\n",
      "20.8.2021\r\n",
      "28.7.2021\r\n",
      "24.7.2021\r\n",
      "14.9.2021\r\n",
      "15.3.2021\r\n",
      "25.1.2021\r\n"
     ]
    }
   ],
   "source": [
    "!cat ./tmp/exemple.txt "
   ]
  },
  {
   "cell_type": "markdown",
   "metadata": {
    "slideshow": {
     "slide_type": "subslide"
    }
   },
   "source": [
    "On recopie le code de création-écriture et on \"inverse\" le traitement."
   ]
  },
  {
   "cell_type": "code",
   "execution_count": 26,
   "metadata": {
    "slideshow": {
     "slide_type": "subslide"
    }
   },
   "outputs": [
    {
     "name": "stdout",
     "output_type": "stream",
     "text": [
      "26.8.2021\n",
      "\n",
      "['26', '8', '2021\\n']\n",
      "25.4.2021\n",
      "\n",
      "['25', '4', '2021\\n']\n",
      "7.9.2021\n",
      "\n",
      "['7', '9', '2021\\n']\n",
      "23.6.2021\n",
      "\n",
      "['23', '6', '2021\\n']\n",
      "9.1.2021\n",
      "\n",
      "['9', '1', '2021\\n']\n",
      "20.11.2021\n",
      "\n",
      "['20', '11', '2021\\n']\n",
      "23.12.2021\n",
      "\n",
      "['23', '12', '2021\\n']\n",
      "21.8.2021\n",
      "\n",
      "['21', '8', '2021\\n']\n",
      "9.7.2021\n",
      "\n",
      "['9', '7', '2021\\n']\n",
      "19.3.2021\n",
      "\n",
      "['19', '3', '2021\\n']\n",
      "10.8.2021\n",
      "\n",
      "['10', '8', '2021\\n']\n",
      "17.10.2021\n",
      "\n",
      "['17', '10', '2021\\n']\n",
      "30.11.2021\n",
      "\n",
      "['30', '11', '2021\\n']\n",
      "18.3.2021\n",
      "\n",
      "['18', '3', '2021\\n']\n",
      "20.8.2021\n",
      "\n",
      "['20', '8', '2021\\n']\n",
      "28.7.2021\n",
      "\n",
      "['28', '7', '2021\\n']\n",
      "24.7.2021\n",
      "\n",
      "['24', '7', '2021\\n']\n",
      "14.9.2021\n",
      "\n",
      "['14', '9', '2021\\n']\n",
      "15.3.2021\n",
      "\n",
      "['15', '3', '2021\\n']\n",
      "25.1.2021\n",
      "\n",
      "['25', '1', '2021\\n']\n",
      "[[26, 8, 2021], [25, 4, 2021], [7, 9, 2021], [23, 6, 2021], [9, 1, 2021], [20, 11, 2021], [23, 12, 2021], [21, 8, 2021], [9, 7, 2021], [19, 3, 2021], [10, 8, 2021], [17, 10, 2021], [30, 11, 2021], [18, 3, 2021], [20, 8, 2021], [28, 7, 2021], [24, 7, 2021], [14, 9, 2021], [15, 3, 2021], [25, 1, 2021]]\n"
     ]
    }
   ],
   "source": [
    "# on va utiliser 20 dates\n",
    "dates = [[0 for j in range(3)] for i in range(20)] # les 20 dates\n",
    "\n",
    "# on lit le fichier d'entree -- noter le mode \"r\" maintenant \n",
    "with open(\"./tmp/exemple.txt\", \"r\", encoding=\"utf8\") as f:\n",
    "    for i in range(20):         # parcours ligne à ligne  \n",
    "        s = f.readline()        # lecture ligne\n",
    "        print(s)                # pour info\n",
    "        l = s.split(sep=\".\")    # transforme s en une liste l de ses champs identifés par 'sep'\n",
    "        print(l)                # pour info\n",
    "        dates[i][0] = int(l[0]) # conversion et stockage quantieme \n",
    "        dates[i][1] = int(l[1]) # idem mois\n",
    "        dates[i][2] = int(l[2]) # idem annee\n",
    "\n",
    "f. close()\n",
    "\n",
    "print(dates)"
   ]
  },
  {
   "cell_type": "markdown",
   "metadata": {
    "slideshow": {
     "slide_type": "subslide"
    }
   },
   "source": [
    "### Une simplification \"pythonique\"\n",
    "\n",
    "La construction python suivante est à la fois très spécifique et très utile en pratique : simple et efficace.\n",
    "Bien garder en tête que les traitements précédents n'ont pas disparu mais sont écrits de façon plus synthétique avec ce parcours typiquement \"pythonique\".\n",
    "\n",
    "On reprend l'exemple précédent."
   ]
  },
  {
   "cell_type": "code",
   "execution_count": 28,
   "metadata": {
    "slideshow": {
     "slide_type": "subslide"
    }
   },
   "outputs": [
    {
     "name": "stdout",
     "output_type": "stream",
     "text": [
      "[[26, 8, 2021], [25, 4, 2021], [7, 9, 2021], [23, 6, 2021], [9, 1, 2021], [20, 11, 2021], [23, 12, 2021], [21, 8, 2021], [9, 7, 2021], [19, 3, 2021], [10, 8, 2021], [17, 10, 2021], [30, 11, 2021], [18, 3, 2021], [20, 8, 2021], [28, 7, 2021], [24, 7, 2021], [14, 9, 2021], [15, 3, 2021], [25, 1, 2021]]\n"
     ]
    }
   ],
   "source": [
    "# on lit le fichier d'entree -- noter le mode \"r\" maintenant \n",
    "f = open(\"./tmp/exemple.txt\", \"r\", encoding=\"utf8\")\n",
    "\n",
    "d = 0\n",
    "for date in f: # parcours et lit f ligne à ligne  \n",
    "    #print(date) # pour info si besoin\n",
    "    \n",
    "    l_date = date.split(sep=\".\") \n",
    "    #print(l) # pour info si besoin\n",
    "    \n",
    "    dates[d][0] = int(l_date[0]) \n",
    "    dates[d][1] = int(l_date[1])\n",
    "    dates[d][2] = int(l_date[2]) \n",
    "    d = d+1 # il faut gérer le remplissage du tableau maintenant\n",
    "    \n",
    "f. close()\n",
    "\n",
    "print(dates)"
   ]
  },
  {
   "cell_type": "markdown",
   "metadata": {
    "slideshow": {
     "slide_type": "subslide"
    }
   },
   "source": [
    "### Un dernier conseil\n",
    "\n",
    "- Le risque d'erreur lors de la mise au point du traitement d'ES sur fichiers est  important.  \n",
    "- Il n'est pas rare de perdre tout ou partie d'un fichier à lire.\n",
    "- On ne peut donc que conseiller :\n",
    "1. de **commencer par** effectuer une copie de sauvegarde des fichiers originaux avant tout développement de code d'ES\n",
    "2. de vérifier pas à pas la mise au point de ces traitement avec des `print()` bien choisis -- qui seront bien sûr commentés une fois le traitement validé."
   ]
  },
  {
   "cell_type": "markdown",
   "metadata": {
    "slideshow": {
     "slide_type": "slide"
    }
   },
   "source": [
    "## Synthèse "
   ]
  },
  {
   "cell_type": "markdown",
   "metadata": {
    "slideshow": {
     "slide_type": "subslide"
    }
   },
   "source": [
    "### Avoir les idées claires\n",
    "\n",
    "- Distinguer fichier logique _vs._ physique, texte _vs._ binaire, mode lecture _vs._ écriture (_vs._ lecture-écriture) \n",
    "- Connaître les étapes de manipulation d'un fichier : association/ouverture/lecture-écriture/fermeture\n",
    "- Distinguer valeur (numérique) et sa représentation textuelle \n"
   ]
  },
  {
   "cell_type": "markdown",
   "metadata": {
    "slideshow": {
     "slide_type": "fragment"
    }
   },
   "source": [
    "### Savoir-faire\n",
    "\n",
    "- Savoir écrire les lectures-écritures simples de fichier texte avec les instructions python adaptées  \n",
    "- Comprendre et gérer l'effet des caractères spéciaux \n"
   ]
  },
  {
   "cell_type": "markdown",
   "metadata": {
    "slideshow": {
     "slide_type": "slide"
    }
   },
   "source": [
    "### Ce qu'il restera à voir\n",
    "\n",
    "\n",
    "Le chapitre \"ES avancées\" complète celui-ci en présentant comment _formater_ les données lues ou écrites dans les fichiers.\n",
    "\n",
    "On peut se déplacer dans un fichier pour accéder à un enregistrement quelconque. Ce type de traitement nécessite de caractériser comment la position de ces enregistrements  est définie -- par le langage de programmation et en général en nombre d'octets depuis le début du fichier. Le lecteur intéressé se reportera à la documentation (de python) pour ces manipulations un peu techniques. \n",
    "\n",
    "Les traitements précédents permettent de créer et d'exploiter des fichiers, et ce indépendamment de leur stockage dans le _système de fichiers_ de l'environnement utiisé (Linux, w\\*\\*\\* ou m\\*\\*\\*).\n",
    "Il est utile de compléter ces traitements par de la _manipulation_ de fichiers de façon similaire à celle vue en cours de Système au semestre 1. Pour cela, python propose les modules suivants :  \n",
    "- `os` qui permet de se déplacer dans l'arborescence du système de fichiers  \n",
    "- `os.path`, sous-module du précédent, qui permet de lister des fichiers, des répertoires et certaines de leurs caractéristiques  \n",
    "- `shutil` qui permet de copier, déplacer et supprimer des fichiers ou des parties d'arborescence.  \n"
   ]
  },
  {
   "cell_type": "raw",
   "metadata": {
    "slideshow": {
     "slide_type": "skip"
    }
   },
   "source": [
    "jupyter nbconvert --to html_embed --template toc2 3-ES-fichiers"
   ]
  },
  {
   "cell_type": "raw",
   "metadata": {
    "slideshow": {
     "slide_type": "skip"
    }
   },
   "source": [
    "jupyter nbconvert 3-ES-fichiers.ipynb --to slides --SlidesExporter.reveal_scroll=True --SlidesExporter.reveal_transition=none --SlidesExporter.reveal_theme=solarized"
   ]
  }
 ],
 "metadata": {
  "celltoolbar": "Diaporama",
  "kernelspec": {
   "display_name": "Python 3",
   "language": "python",
   "name": "python3"
  },
  "language_info": {
   "codemirror_mode": {
    "name": "ipython",
    "version": 3
   },
   "file_extension": ".py",
   "mimetype": "text/x-python",
   "name": "python",
   "nbconvert_exporter": "python",
   "pygments_lexer": "ipython3",
   "version": "3.7.7"
  },
  "latex_envs": {
   "LaTeX_envs_menu_present": true,
   "autoclose": false,
   "autocomplete": true,
   "bibliofile": "biblio.bib",
   "cite_by": "apalike",
   "current_citInitial": 1,
   "eqLabelWithNumbers": true,
   "eqNumInitial": 1,
   "hotkeys": {
    "equation": "Ctrl-E",
    "itemize": "Ctrl-I"
   },
   "labels_anchors": false,
   "latex_user_defs": false,
   "report_style_numbering": true,
   "user_envs_cfg": false
  },
  "toc": {
   "nav_menu": {},
   "number_sections": true,
   "sideBar": true,
   "skip_h1_title": false,
   "title_cell": "Table of Contents",
   "title_sidebar": "Contents",
   "toc_cell": true,
   "toc_position": {},
   "toc_section_display": true,
   "toc_window_display": false
  },
  "toc-autonumbering": true,
  "toc-showmarkdowntxt": false,
  "toc-showtags": true
 },
 "nbformat": 4,
 "nbformat_minor": 4
}
