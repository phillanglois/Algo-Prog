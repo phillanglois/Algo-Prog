{
 "cells": [
  {
   "cell_type": "markdown",
   "metadata": {
    "slideshow": {
     "slide_type": "slide"
    }
   },
   "source": [
    "# Sous-programmes : fonctions et procédures\n",
    "\n",
    "version 2021, PhL. (v2)"
   ]
  },
  {
   "cell_type": "markdown",
   "metadata": {
    "slideshow": {
     "slide_type": "slide"
    }
   },
   "source": [
    "Dans ce premier chapitre, nous abordons la notion importante de __sous-programme__, souvent aussi appelée __fonction__ -- bien que nous verrons que les 2 notions diffèrent. \n",
    "Le cadre de ce chapitre est très générique, c'est-à-dire que les différentes notions introduites et le vocabulaire associé sont présents dans la très grande majorité des _langages de programmation impérative_. \n",
    "Nous utilisons bien sûr la syntaxe python3 en conservant une indépendance maximale par rapport aux spécificités de python afin de mettre en valeur ces notions de la façon la plus générique possible.\n",
    "\n",
    "Le chapitre suivant complétera l'apprentissage de la notion de sous-programme avec des aspects plus techniques et leurs traitements en python. "
   ]
  },
  {
   "cell_type": "markdown",
   "metadata": {
    "slideshow": {
     "slide_type": "slide"
    },
    "toc": "true"
   },
   "source": [
    "<h1>Table des matières<span class=\"tocSkip\"></span></h1>\n",
    "<div class=\"toc\"><ul class=\"toc-item\"><li><span><a href=\"#Objectifs\" data-toc-modified-id=\"Objectifs-1\"><span class=\"toc-item-num\">1&nbsp;&nbsp;</span>Objectifs</a></span><ul class=\"toc-item\"><li><span><a href=\"#Ce-qu'il-faut-savoir\" data-toc-modified-id=\"Ce-qu'il-faut-savoir-1.1\"><span class=\"toc-item-num\">1.1&nbsp;&nbsp;</span>Ce qu'il faut savoir</a></span></li><li><span><a href=\"#Ce-qu'il-faut-savoir-faire\" data-toc-modified-id=\"Ce-qu'il-faut-savoir-faire-1.2\"><span class=\"toc-item-num\">1.2&nbsp;&nbsp;</span>Ce qu'il faut savoir faire</a></span></li><li><span><a href=\"#Pré-requis-technique\" data-toc-modified-id=\"Pré-requis-technique-1.3\"><span class=\"toc-item-num\">1.3&nbsp;&nbsp;</span>Pré-requis technique</a></span></li></ul></li><li><span><a href=\"#Vocabulaire-et-généralités\" data-toc-modified-id=\"Vocabulaire-et-généralités-2\"><span class=\"toc-item-num\">2&nbsp;&nbsp;</span>Vocabulaire et généralités</a></span></li><li><span><a href=\"#Introduction-avec-des-exemples\" data-toc-modified-id=\"Introduction-avec-des-exemples-3\"><span class=\"toc-item-num\">3&nbsp;&nbsp;</span>Introduction avec des exemples</a></span><ul class=\"toc-item\"><li><span><a href=\"#Les-fonctions-numériques-du-collège-lycée.\" data-toc-modified-id=\"Les-fonctions-numériques-du-collège-lycée.-3.1\"><span class=\"toc-item-num\">3.1&nbsp;&nbsp;</span>Les fonctions numériques du collège-lycée.</a></span><ul class=\"toc-item\"><li><span><a href=\"#Ecriture-mathématique-habituelle\" data-toc-modified-id=\"Ecriture-mathématique-habituelle-3.1.1\"><span class=\"toc-item-num\">3.1.1&nbsp;&nbsp;</span>Ecriture mathématique habituelle</a></span></li><li><span><a href=\"#En-python\" data-toc-modified-id=\"En-python-3.1.2\"><span class=\"toc-item-num\">3.1.2&nbsp;&nbsp;</span>En python</a></span></li><li><span><a href=\"#Premiers-commentaires-et-vocabulaire-important\" data-toc-modified-id=\"Premiers-commentaires-et-vocabulaire-important-3.1.3\"><span class=\"toc-item-num\">3.1.3&nbsp;&nbsp;</span>Premiers commentaires et vocabulaire important</a></span></li></ul></li><li><span><a href=\"#Les-fonctions-mathématiques-prédéfinies\" data-toc-modified-id=\"Les-fonctions-mathématiques-prédéfinies-3.2\"><span class=\"toc-item-num\">3.2&nbsp;&nbsp;</span>Les fonctions mathématiques prédéfinies</a></span><ul class=\"toc-item\"><li><span><a href=\"#Appel-:-utilisation-de-fonction-prédéfinie-existante\" data-toc-modified-id=\"Appel-:-utilisation-de-fonction-prédéfinie-existante-3.2.1\"><span class=\"toc-item-num\">3.2.1&nbsp;&nbsp;</span>Appel : utilisation de fonction prédéfinie existante</a></span></li><li><span><a href=\"#Vocabulaire-(suite)\" data-toc-modified-id=\"Vocabulaire-(suite)-3.2.2\"><span class=\"toc-item-num\">3.2.2&nbsp;&nbsp;</span>Vocabulaire (suite)</a></span></li></ul></li><li><span><a href=\"#Distinguer-le-Quoi-du-Comment\" data-toc-modified-id=\"Distinguer-le-Quoi-du-Comment-3.3\"><span class=\"toc-item-num\">3.3&nbsp;&nbsp;</span>Distinguer le <em>Quoi</em> du <em>Comment</em></a></span></li><li><span><a href=\"#Pourquoi-des-sous-programmes-?-(des-fonctions-?)\" data-toc-modified-id=\"Pourquoi-des-sous-programmes-?-(des-fonctions-?)-3.4\"><span class=\"toc-item-num\">3.4&nbsp;&nbsp;</span>Pourquoi des sous-programmes ? (des fonctions ?)</a></span></li></ul></li><li><span><a href=\"#Les-grands-principes-:-définition,-signature,-corps-et-appels-de-fonction\" data-toc-modified-id=\"Les-grands-principes-:-définition,-signature,-corps-et-appels-de-fonction-4\"><span class=\"toc-item-num\">4&nbsp;&nbsp;</span>Les grands principes : définition, signature, corps et appels de fonction</a></span><ul class=\"toc-item\"><li><span><a href=\"#Définition-d'une-fonction\" data-toc-modified-id=\"Définition-d'une-fonction-4.1\"><span class=\"toc-item-num\">4.1&nbsp;&nbsp;</span>Définition d'une fonction</a></span><ul class=\"toc-item\"><li><span><a href=\"#Syntaxe(s)-python-de-la-définition-de-fonction\" data-toc-modified-id=\"Syntaxe(s)-python-de-la-définition-de-fonction-4.1.1\"><span class=\"toc-item-num\">4.1.1&nbsp;&nbsp;</span>Syntaxe(s) python de la définition de fonction</a></span></li></ul></li><li><span><a href=\"#La-signature-d'une-fonction\" data-toc-modified-id=\"La-signature-d'une-fonction-4.2\"><span class=\"toc-item-num\">4.2&nbsp;&nbsp;</span>La signature d'une fonction</a></span></li><li><span><a href=\"#L'appel-d'une-fonction\" data-toc-modified-id=\"L'appel-d'une-fonction-4.3\"><span class=\"toc-item-num\">4.3&nbsp;&nbsp;</span>L'appel d'une fonction</a></span><ul class=\"toc-item\"><li><span><a href=\"#Effet-d'un-appel-sur-le-séquencement-des-instructions-exécutées\" data-toc-modified-id=\"Effet-d'un-appel-sur-le-séquencement-des-instructions-exécutées-4.3.1\"><span class=\"toc-item-num\">4.3.1&nbsp;&nbsp;</span>Effet d'un appel sur le séquencement des instructions exécutées</a></span></li></ul></li><li><span><a href=\"#Le-corps-et-le-retour-de-valeur\" data-toc-modified-id=\"Le-corps-et-le-retour-de-valeur-4.4\"><span class=\"toc-item-num\">4.4&nbsp;&nbsp;</span>Le corps et le retour de valeur</a></span><ul class=\"toc-item\"><li><span><a href=\"#return\" data-toc-modified-id=\"return-4.4.1\"><span class=\"toc-item-num\">4.4.1&nbsp;&nbsp;</span><code>return</code></a></span></li><li><span><a href=\"#return-=-terminaison-de-la-fonction\" data-toc-modified-id=\"return-=-terminaison-de-la-fonction-4.4.2\"><span class=\"toc-item-num\">4.4.2&nbsp;&nbsp;</span><code>return</code> = terminaison de la fonction</a></span></li></ul></li><li><span><a href=\"#Exercice\" data-toc-modified-id=\"Exercice-4.5\"><span class=\"toc-item-num\">4.5&nbsp;&nbsp;</span>Exercice</a></span></li></ul></li><li><span><a href=\"#Appel-:-appelant--&gt;-appelé-;-return-:-appelé--&gt;-appelant\" data-toc-modified-id=\"Appel-:-appelant-->-appelé-;-return-:-appelé-->-appelant-5\"><span class=\"toc-item-num\">5&nbsp;&nbsp;</span>Appel : appelant -&gt; appelé ; return : appelé -&gt; appelant</a></span><ul class=\"toc-item\"><li><span><a href=\"#Exercice\" data-toc-modified-id=\"Exercice-5.1\"><span class=\"toc-item-num\">5.1&nbsp;&nbsp;</span>Exercice</a></span></li></ul></li><li><span><a href=\"#Variable-locale-vs.-variable-globale,-portée-des-variables\" data-toc-modified-id=\"Variable-locale-vs.-variable-globale,-portée-des-variables-6\"><span class=\"toc-item-num\">6&nbsp;&nbsp;</span>Variable locale <em>vs.</em> variable globale, portée des variables</a></span><ul class=\"toc-item\"><li><span><a href=\"#Exercice\" data-toc-modified-id=\"Exercice-6.1\"><span class=\"toc-item-num\">6.1&nbsp;&nbsp;</span>Exercice</a></span></li></ul></li><li><span><a href=\"#Compléments\" data-toc-modified-id=\"Compléments-7\"><span class=\"toc-item-num\">7&nbsp;&nbsp;</span>Compléments</a></span><ul class=\"toc-item\"><li><span><a href=\"#Erreur-fréquente\" data-toc-modified-id=\"Erreur-fréquente-7.1\"><span class=\"toc-item-num\">7.1&nbsp;&nbsp;</span>Erreur fréquente</a></span></li><li><span><a href=\"#Méthodologie-d'écriture-des-fonctions\" data-toc-modified-id=\"Méthodologie-d'écriture-des-fonctions-7.2\"><span class=\"toc-item-num\">7.2&nbsp;&nbsp;</span>Méthodologie d'écriture des fonctions</a></span></li><li><span><a href=\"#De-l'intérêt-de-distinguer-fonction-et-procédure\" data-toc-modified-id=\"De-l'intérêt-de-distinguer-fonction-et-procédure-7.3\"><span class=\"toc-item-num\">7.3&nbsp;&nbsp;</span>De l'intérêt de distinguer <em>fonction</em> et <em>procédure</em></a></span></li><li><span><a href=\"#help()-et-docstring\" data-toc-modified-id=\"help()-et-docstring-7.4\"><span class=\"toc-item-num\">7.4&nbsp;&nbsp;</span><code>help()</code> et <em>docstring</em></a></span></li><li><span><a href=\"#Plusieurs-paramètres\" data-toc-modified-id=\"Plusieurs-paramètres-7.5\"><span class=\"toc-item-num\">7.5&nbsp;&nbsp;</span>Plusieurs paramètres</a></span></li><li><span><a href=\"#Plusieurs-return-(rappel)\" data-toc-modified-id=\"Plusieurs-return-(rappel)-7.6\"><span class=\"toc-item-num\">7.6&nbsp;&nbsp;</span>Plusieurs <code>return</code> (rappel)</a></span></li><li><span><a href=\"#Fonction-sans-paramètre\" data-toc-modified-id=\"Fonction-sans-paramètre-7.7\"><span class=\"toc-item-num\">7.7&nbsp;&nbsp;</span>Fonction sans paramètre</a></span></li><li><span><a href=\"#Fonction-locale\" data-toc-modified-id=\"Fonction-locale-7.8\"><span class=\"toc-item-num\">7.8&nbsp;&nbsp;</span>Fonction locale</a></span></li><li><span><a href=\"#Exercice\" data-toc-modified-id=\"Exercice-7.9\"><span class=\"toc-item-num\">7.9&nbsp;&nbsp;</span>Exercice</a></span></li></ul></li><li><span><a href=\"#Synthèse\" data-toc-modified-id=\"Synthèse-8\"><span class=\"toc-item-num\">8&nbsp;&nbsp;</span>Synthèse</a></span><ul class=\"toc-item\"><li><span><a href=\"#Retenir\" data-toc-modified-id=\"Retenir-8.1\"><span class=\"toc-item-num\">8.1&nbsp;&nbsp;</span>Retenir</a></span></li><li><span><a href=\"#Ne-pas-confondre\" data-toc-modified-id=\"Ne-pas-confondre-8.2\"><span class=\"toc-item-num\">8.2&nbsp;&nbsp;</span>Ne pas confondre</a></span></li><li><span><a href=\"#A-venir\" data-toc-modified-id=\"A-venir-8.3\"><span class=\"toc-item-num\">8.3&nbsp;&nbsp;</span>A venir</a></span></li></ul></li><li><span><a href=\"#Exercices-en-démonstration\" data-toc-modified-id=\"Exercices-en-démonstration-9\"><span class=\"toc-item-num\">9&nbsp;&nbsp;</span>Exercices en démonstration</a></span><ul class=\"toc-item\"><li><span><a href=\"#Lister-les-notions-vues-jusqu'ici\" data-toc-modified-id=\"Lister-les-notions-vues-jusqu'ici-9.1\"><span class=\"toc-item-num\">9.1&nbsp;&nbsp;</span>Lister les notions vues jusqu'ici</a></span></li><li><span><a href=\"#Différentes-écritures-de-fonctions-min\" data-toc-modified-id=\"Différentes-écritures-de-fonctions-min-9.2\"><span class=\"toc-item-num\">9.2&nbsp;&nbsp;</span>Différentes écritures de fonctions min</a></span></li><li><span><a href=\"#Une-procédure-d'affichage-(E/S)\" data-toc-modified-id=\"Une-procédure-d'affichage-(E/S)-9.3\"><span class=\"toc-item-num\">9.3&nbsp;&nbsp;</span>Une procédure d'affichage (E/S)</a></span></li></ul></li></ul></div>"
   ]
  },
  {
   "cell_type": "markdown",
   "metadata": {
    "slideshow": {
     "slide_type": "slide"
    }
   },
   "source": [
    "## Objectifs "
   ]
  },
  {
   "cell_type": "markdown",
   "metadata": {
    "slideshow": {
     "slide_type": "subslide"
    }
   },
   "source": [
    "### Ce qu'il faut savoir\n",
    "\n",
    "- définition et paramètres formels vs. appel et paramètres effectifs\n",
    "- spécification, en-tête, signature : spécifier pour utiliser, pour vérifier  vs. corps : implémentation du traitement  \n",
    "- appel = changement de contexte : trace de l'exécution vs. séquentialité des instructions écrites \n",
    "    - dynamique vs. statique  \n",
    "- appelant vs. appelé : le rôle de l'appel, le rôle du `retur``\n",
    "- portée des variables : variables locales vs. variables plus globales  \n",
    "- l'effet de bord est indésirable  "
   ]
  },
  {
   "cell_type": "markdown",
   "metadata": {
    "slideshow": {
     "slide_type": "subslide"
    }
   },
   "source": [
    "### Ce qu'il faut savoir faire \n",
    "\n",
    "**Cadre** : en/pour python \n",
    "\n",
    "- définir et écrire la spécification d'une fonction qui réalise un traitement décrit en français, ou qui résoud un problème (simple) décrit en français  \n",
    "- définir et écrire des appels simples (tests unitaires) \n",
    "- définir et écrire l'implémentation d'une fonction associée à une spécification "
   ]
  },
  {
   "cell_type": "markdown",
   "metadata": {
    "slideshow": {
     "slide_type": "subslide"
    }
   },
   "source": [
    "### Pré-requis technique\n",
    "\n",
    "Dans/avec un notebook jupyter :\n",
    "- savoir mettre en oeuvre de la programmation simple en python (niveau semestre 1) dans un notebook jupyter \n",
    "- savoir documenter cette programmation (énoncés, descriptions, ...) avec markdown"
   ]
  },
  {
   "cell_type": "markdown",
   "metadata": {
    "slideshow": {
     "slide_type": "slide"
    }
   },
   "source": [
    "## Vocabulaire et généralités\n",
    "\n",
    "Le terme **sous-programme** est un (sous-)ensemble de lignes de code, souvent paramétrable, que l'on désigne d'un nom pour ré-utiliser \"directement\" ces lignes de codes à l'aide de ce nom. On _appelle_ ce nom pour exécuter ces lignes de codes. Cet appel contient aussi la valeur des paramètres à traiter par l'exécution.\n",
    "\n",
    "De façon imagée, un sous-programme peut-être vue comme une boîte opaque qui \"prends des choses\" en entrée (les paramètres), effectue des traitements et fourni un \"résultat\" en sortie -- dans le cas d'une fonction. \n",
    "La boîte porte le nom du sous-programme.\n",
    "Elle est opaque : je peux m'en servir, je connais **ce qu'elle fait**, je n'ai pas besoin de savoir **comment** elle le fait.\n",
    "\n",
    "Une analogie facile : je peux me servir d'une voiture sans savoir comment la mécanique ou l'électronique fonctionnent.\n",
    "\n",
    "Une **fonction** est un sous-programme qui **calcule et renvoie** une (ou des) valeur(s).  \n",
    "- exemple : _je_ calcule le double d'une valeur donnée en entrée et _je_ retourne (ou renvoie) ce résultat comme sortie.\n",
    "\n",
    "Une **procédure** est un sous-programme qui**réalise une action** -- sans sans renvoyer quoi que ce soit.\n",
    "- exemple : _j_'affiche l'heure du moment. \n",
    "Oui : \"afficher\" n'est pas \"renvoyer\".  \n",
    "\n",
    "Différencier fonction et procédure aide à la compréhension de ce qu'est exactement le sous-programme en question."
   ]
  },
  {
   "cell_type": "markdown",
   "metadata": {
    "slideshow": {
     "slide_type": "slide"
    }
   },
   "source": [
    "<div class=\"alert alert-block alert-info\">\n",
    "    \n",
    "**Spécificité python** : il n'y a que des fonctions (pas de procédure).  \n",
    "\n",
    "</div>\n",
    "\n",
    "Donc par la suite, on utilisera surtout le terme _fonction_ mais on ne manquera pas d'indiquer lorsqu'une fonction python est une procédure au sens défini ci-dessus."
   ]
  },
  {
   "cell_type": "markdown",
   "metadata": {
    "slideshow": {
     "slide_type": "slide"
    }
   },
   "source": [
    "## Introduction avec des exemples"
   ]
  },
  {
   "cell_type": "markdown",
   "metadata": {
    "slideshow": {
     "slide_type": "slide"
    }
   },
   "source": [
    "### Les fonctions numériques du collège-lycée.\n",
    "\n",
    "#### Ecriture mathématique habituelle\n",
    "\n",
    "Un exemple : la fonction affine $f(x) = 2x + 1$ \n",
    "\n",
    "- vous savez calculer (de tête) $f(0)$, $f(1)$, $f(-1)$, ... \n",
    "- vous connaissez sa représentation graphique : une droite de pente 2 et d'ordonnée à l'origine 1."
   ]
  },
  {
   "cell_type": "markdown",
   "metadata": {
    "slideshow": {
     "slide_type": "subslide"
    }
   },
   "source": [
    "#### En python\n",
    "\n",
    "On commence par _définir_ `f` et ses paramètres, ici une seul paramètre `x` de type `float`.\n",
    "La fonction `f` _retourne_ une valeur de type `float`.\n",
    "La partie indentée par rapport à `def` définit le traitement -- on reconnait le calcul de $f(x)$ -- et la valeur retournée par la fonction -- ici la valeur de la variable _locale à la fonction_ `res`.  "
   ]
  },
  {
   "cell_type": "code",
   "execution_count": null,
   "metadata": {
    "slideshow": {
     "slide_type": "subslide"
    }
   },
   "outputs": [],
   "source": [
    "def f(x : float) -> float:\n",
    "    res = 2 * x + 1\n",
    "    return res"
   ]
  },
  {
   "cell_type": "markdown",
   "metadata": {
    "slideshow": {
     "slide_type": "subslide"
    }
   },
   "source": [
    "On utilise `f` : on _appelle_ `f` pour différentes valeurs de son paramètre `x`.  \n",
    "Ces valeurs sont appelées des _arguments_ de l'appel. \n",
    "Il peuvent être des valeurs numériques, des variables, des expressions, des appels à des fonctions ... \n",
    "Bref tout ce qui peut être _évalué_ (_ie._, calculé) et qui _le sera **avant**_ l'exécution de l'appel de la fonction."
   ]
  },
  {
   "cell_type": "code",
   "execution_count": null,
   "metadata": {},
   "outputs": [],
   "source": [
    "# 3 appels pour des valeurs numériques\n",
    "a = f(0)\n",
    "b = f(1)\n",
    "c = f(-1)\n",
    "d = f(3)\n",
    "\n",
    "print(a, b, c, d)"
   ]
  },
  {
   "cell_type": "code",
   "execution_count": 3,
   "metadata": {
    "slideshow": {
     "slide_type": "fragment"
    }
   },
   "outputs": [
    {
     "name": "stdout",
     "output_type": "stream",
     "text": [
      "0 1 3\n"
     ]
    }
   ],
   "source": [
    "# 2 appels pour des variables\n",
    "zero = 0\n",
    "un = f(zero)\n",
    "trois = f(un)\n",
    "\n",
    "print(zero, un, trois)"
   ]
  },
  {
   "cell_type": "code",
   "execution_count": 4,
   "metadata": {
    "slideshow": {
     "slide_type": "fragment"
    }
   },
   "outputs": [
    {
     "name": "stdout",
     "output_type": "stream",
     "text": [
      "4 7\n"
     ]
    }
   ],
   "source": [
    "# 2 appels dans une expression \n",
    "combien = f(zero) + f(un) \n",
    "\n",
    "# 2 appels : 1 d'une expression et 1 dans un argument qui est une expression \n",
    "et_celui_la = f(zero + f(un)) \n",
    "\n",
    "print(combien, et_celui_la)"
   ]
  },
  {
   "cell_type": "code",
   "execution_count": 5,
   "metadata": {
    "slideshow": {
     "slide_type": "fragment"
    }
   },
   "outputs": [
    {
     "data": {
      "text/plain": [
       "Text(0.5, 1.0, 'f(x)=2x+1')"
      ]
     },
     "execution_count": 5,
     "metadata": {},
     "output_type": "execute_result"
    },
    {
     "data": {
      "image/png": "[encoded data removed]",
      "text/plain": [
       "<Figure size 432x288 with 1 Axes>"
      ]
     },
     "metadata": {
      "needs_background": "light"
     },
     "output_type": "display_data"
    }
   ],
   "source": [
    "# un joli tracé vaut mieux qu'un long discours\n",
    "import matplotlib.pyplot as plt\n",
    "\n",
    "x = [i for i in range(-5,5)] # une liste de 10 arguments\n",
    "y = [f(i) for i in x] # la liste des 10 valeurs de la fonction correspondante\n",
    "\n",
    "plt.plot(x, y)\n",
    "plt.title(\"f(x)=2x+1\")\n",
    "#plt.close()\n"
   ]
  },
  {
   "cell_type": "markdown",
   "metadata": {
    "slideshow": {
     "slide_type": "slide"
    }
   },
   "source": [
    "#### Premiers commentaires et vocabulaire important\n",
    "\n",
    "1. \n",
    "    - On a **défini** (`def`) la fonction $f$ une fois, au début. \n",
    "    - Puis on l'a utilisée, i.e. **appelée**, plusieurs fois : \n",
    "        - pour calculer des valeurs ponctuelles :\n",
    "            - de valeurs numériques,\n",
    "            - de l'évaluation d'expressions,\n",
    "            - de l'évaluation de (l'appel) de fonction,\n",
    "        - effectuer des tracés, ...\n",
    "2. \n",
    "    - La définition a une forme très semblable à l'expression mathématique avec un  (ou des) **paramètre**  ou aussi **paramètre _formel_** $x$, et **des parenthèses** : f(x). \n",
    "    - Elle contient (au moins) un `return` qui correspond à un résultat fourni par la fonction. \n",
    "    - On dit ainsi que ce résultat est **retourné** par la fonction.   \n",
    "3.\n",
    "    - Les appels, comme en math, correspondent à \"remplacer\" `x` par une valeur numérique donnée\n",
    "    - cette valeur d'appel est appelée **argument** ou aussi **paramètre _effectif_** (de l'appel).    \n",
    "4. \n",
    "    - **Important.** \n",
    "        - Les **seuls** `print` de ces exemples s'appliquent à des _valeurs retournées_ par la fonction f\n",
    "        - **Aucun `print` dans la définition de f**."
   ]
  },
  {
   "cell_type": "markdown",
   "metadata": {
    "slideshow": {
     "slide_type": "slide"
    }
   },
   "source": [
    "### Les fonctions mathématiques prédéfinies\n",
    "\n",
    "Les fonctions mathématiques connues comme les fonctions trigonométriques, logarithmes, exponentielles, puissances ... sont \"fournies avec le langage de programmation\" mais sous la forme de _bibliothèques_ de fonctions aussi appelées _modules_ en python.  \n",
    "  \n",
    "#### Appel : utilisation de fonction prédéfinie existante"
   ]
  },
  {
   "cell_type": "code",
   "execution_count": 6,
   "metadata": {
    "scrolled": true,
    "slideshow": {
     "slide_type": "fragment"
    }
   },
   "outputs": [
    {
     "name": "stdout",
     "output_type": "stream",
     "text": [
      "0.5000000000000001\n"
     ]
    }
   ],
   "source": [
    "from math import cos, pi\n",
    "# pour utiliser la fonction cos et la valeur pi définis dans le module math\n",
    "\n",
    "c = cos(pi/3)\n",
    "# calcul qui utilise cos et pi, puis affectation du résultat dans la variable c\n",
    "\n",
    "print(c)\n",
    "# affichage de la valeur de la variable c"
   ]
  },
  {
   "cell_type": "markdown",
   "metadata": {
    "slideshow": {
     "slide_type": "subslide"
    }
   },
   "source": [
    "#### Vocabulaire (suite)\n",
    "\n",
    "Cet exemple contient uniquement des _appels de fonction_ ; aucune définition des fonctions utilisées.\n",
    "\n",
    "L'appel est caractérisé par :\n",
    "\n",
    "* le **nom** de la fonction :  ici `cos(...)`\n",
    "* ses **arguments d'entrée** : ici la valeur $\\pi$/3\n",
    "* une valeur de **retour** (résultat, destination) : \n",
    "    - ici une variable résultat : `c`, \n",
    "    - ou aussi un terme d'une expression : `cos(pi/3)**2 + sin(pi/3)**2`\n",
    "* vocabulaire : _argument_ ou _paramètre effectif_\n",
    "\n",
    "**Appeler une fonction :** \n",
    "\n",
    "* ici, on _utilise_ le nom `cos` de la fonction trigonométrique _cosinus_ pour obtenir la valeur de cette fonction pour l'argument d'entrée fourni.    \n",
    "* on voit bien que cet appel ne nécessite pas de connaitre _comment_ cette fonction calcule le résultat qu'elle renvoie (ou retourne).  Cette fonction est bien vue comme une boîte opaque (une _boîte noire_).\n",
    "\n",
    "Cet exemple permet d'introduire deux notions complémentaires (et différentes) :\n",
    "\n",
    "* **la spécification**  = ce que ça fait : OK = le QUOI \n",
    "* **une implémentation** = comment ça le fait : ? = le COMMENT  "
   ]
  },
  {
   "cell_type": "markdown",
   "metadata": {
    "slideshow": {
     "slide_type": "fragment"
    }
   },
   "source": [
    "**Commentaires**  \n",
    "\n",
    "* Ligne 1 : fonction `cos` et valeur `pi` sont disponibles   \n",
    "\n",
    "* Ligne 2 : _à droite_ de l'affectation (=) : _appel_ de la fonction `cos(...)` pour l'_argument_ `pi/3`.  \n",
    "\n",
    "* Ligne 2 : _à gauche_ de l'affectation  : valeur-résultat affectée dans la variable `c`\n",
    "\n",
    "* Ligne 3 : affichage de la valeur _retournée_  \n",
    "\n",
    "\n",
    "<div class=\"alert alert-block alert-info\">\n",
    "    \n",
    "**A retenir** : Les **parenthèses (...)** : c'est à ça qu'on reconnait une fonction !  \n",
    "\n",
    "</div>\n",
    "\n",
    "\n",
    "<div class=\"alert alert-block alert-info\">\n",
    "\n",
    "**A retenir** : la construction `from module import fonction1, fonction2` permet d'utiliser les `fonctions` (1, 2, ...) définies dans la bibliothèque `module`\n",
    "\n",
    "</div>"
   ]
  },
  {
   "cell_type": "markdown",
   "metadata": {
    "slideshow": {
     "slide_type": "slide"
    }
   },
   "source": [
    "**Digression** pour les curieuses et les curieux : précision numérique ? \n",
    "\n",
    "On se rassure :"
   ]
  },
  {
   "cell_type": "code",
   "execution_count": 7,
   "metadata": {
    "slideshow": {
     "slide_type": "fragment"
    }
   },
   "outputs": [
    {
     "data": {
      "text/plain": [
       "-1.0"
      ]
     },
     "execution_count": 7,
     "metadata": {},
     "output_type": "execute_result"
    }
   ],
   "source": [
    "cos(pi)"
   ]
  },
  {
   "cell_type": "code",
   "execution_count": 8,
   "metadata": {
    "slideshow": {
     "slide_type": "fragment"
    }
   },
   "outputs": [
    {
     "name": "stdout",
     "output_type": "stream",
     "text": [
      "cos, sin, cos*cos + sin*sin =  0.5000000000000001 0.8660254037844386 1.0\n"
     ]
    }
   ],
   "source": [
    "from math import *\n",
    "# on importe \"tout\" math\n",
    "\n",
    "c = cos(pi/3.0)\n",
    "s = sin(pi/3)\n",
    "\n",
    "un = c*c + s*s\n",
    "\n",
    "print(\"cos, sin, cos*cos + sin*sin = \", c, s, un)"
   ]
  },
  {
   "cell_type": "markdown",
   "metadata": {
    "slideshow": {
     "slide_type": "slide"
    }
   },
   "source": [
    "### Distinguer le _Quoi_ du _Comment_ \n",
    "\n",
    "Nous savons _ce que calculent_ ces fonctions : le **quoi**.\n",
    "Et pourtant la plupart d'entre nous ne savent pas **comment** elles sont calculées. \n",
    "\n",
    "Dans l'exemple de la fonction affine, l'expression $f(x) = 2x + 1$ mélange le _quoi_ et le _comment_.  \n"
   ]
  },
  {
   "cell_type": "markdown",
   "metadata": {
    "slideshow": {
     "slide_type": "subslide"
    }
   },
   "source": [
    "**Question** : Quelles sont les 4 notions définies par le paragraphe précédent ?\n",
    "\n",
    "**Question** : Y-a-t'il d'autres façon de calculer la fonction $f$ précédente ? Qu'en déduire ?\n"
   ]
  },
  {
   "cell_type": "markdown",
   "metadata": {
    "slideshow": {
     "slide_type": "slide"
    }
   },
   "source": [
    "### Pourquoi des sous-programmes ? (des fonctions ?)\n",
    "\n",
    "* Eviter de ré-écrire, de dupliquer, du code --- souvent le code qui correspond au _comment_ du traitement.      \n",
    "* Simplifier la lecture donc la compréhension : le _quoi_ suffit pour celà. \n",
    "* Ré-utiliser l'existant\n",
    "\n",
    "Les fonctions sont une nouvelle _structure_ en programmation et en algorithmique. \n",
    "Une fonction permet d'écrire les algorithmes/codes de façon plus _modulaire_.\n",
    "* _Modularité_ : découper un traitement compliqué en une suite d'étapes plus simples\n",
    "* Ce découpage peut être appliqué _récursivement_ : _cad_ appliqué au sein de chaque étape, et ce de façon répétée, jusqu'à que le traitement de l'étape soit assez simple pour être écrit !"
   ]
  },
  {
   "cell_type": "markdown",
   "metadata": {
    "slideshow": {
     "slide_type": "slide"
    }
   },
   "source": [
    "## Les grands principes : définition, signature, corps et appels de fonction  \n",
    "\n",
    "\n",
    "<div class='alert alert-block alert-danger'>\n",
    "    \n",
    "NE PAS CONFONDRE :  **LA** définition  vs. **LES** appels    \n",
    "\n",
    "</div>\n",
    "\n",
    "<div class=\"alert alert-success\">\n",
    "\n",
    "La définition d'une fonction est constituée de sa _signature_ et de son _corps_.\n",
    "\n",
    "</div>\n",
    "\n",
    "<div class=\"alert alert-success\">\n",
    "\n",
    "La signature \"ne fait rien\". Elle _décrit_ les paramètres formels_, cad. comment utiliser la fonction (par l'appel) et ce qu'elle fait.\n",
    "\n",
    "</div>\n",
    "\n",
    "<div class=\"alert alert-success\">\n",
    "\n",
    "Le corps est _le traitement qui sera exécuté par l'appel_ de la fonction.\n",
    "\n",
    "</div>\n",
    "\n",
    "<div class=\"alert alert-success\">\n",
    "\n",
    "L'appel définit les _arguments_ (ou _paramètres effectifs_) et _réalise le traitement_ (l'exécution) du corps de la fonction pour ces arguments .\n",
    "\n",
    "</div>"
   ]
  },
  {
   "cell_type": "markdown",
   "metadata": {
    "slideshow": {
     "slide_type": "slide"
    }
   },
   "source": [
    "### Définition d'une fonction\n",
    "\n",
    "De façon générale, la définition d'une fonction contient :\n",
    "\n",
    "* le _nom_ de la fonction\n",
    "* les **paramètres formels** des _entrées_ : leurs nombres, leurs types, l'identificateur de chacun  \n",
    "* les _sorties_ : leurs nombres, leurs types, l'identificateur de chacune    \n",
    "* le _traitement_ défini avec ces paramètres formels (d'entrée et de sortie) et, souvent, des _variables locales_ (à la fonction)\n",
    "\n",
    "signature _vs._ corps pour distinguer le _quoi_ du _comment_ :\n",
    "\n",
    "- Le traitement correspond au _comment_. Il est défini dans le _corps_ (ou l'implémentation) de la fonction  \n",
    "- Le _quoi_ est décrit par la signature de la fonction\n"
   ]
  },
  {
   "cell_type": "markdown",
   "metadata": {
    "slideshow": {
     "slide_type": "subslide"
    }
   },
   "source": [
    "#### Syntaxe(s) python de la définition de fonction\n",
    "\n",
    "\n",
    "<div class='alert alert-block alert-info'>\n",
    "\n",
    "RETENIR : Le mot clé `def`, les `()` et le `:`\n",
    "    \n",
    "</div>    \n",
    "\n",
    "Syntaxe Python simple :   \n",
    "```python\n",
    "def nom(liste de paramètres formels séparés par des virgules):\n",
    "    ... # le corps de la fonction : ce qu'elle fait \n",
    "    return 'sortie'\n",
    "```"
   ]
  },
  {
   "cell_type": "markdown",
   "metadata": {
    "slideshow": {
     "slide_type": "fragment"
    }
   },
   "source": [
    "Soyons plus précis en explicitant le _type_ des arguments d'entrée et de sortie.\n",
    "\n",
    "https://fr.wikiversity.org/wiki/Python/Les_types_de_base\n"
   ]
  },
  {
   "cell_type": "markdown",
   "metadata": {
    "slideshow": {
     "slide_type": "slide"
    }
   },
   "source": [
    "Syntaxe Python **améliorée** et **A UTILISER SYSTEMATIQUEMENT** :   \n",
    "```python\n",
    "def nom('1er paramètre formel': son type, '2ème paramètre formel': son type, ...) -> type du retour:\n",
    "    ... # le corps de la fonction : ce qu'elle fait \n",
    "    return 'sortie'\n",
    "```"
   ]
  },
  {
   "cell_type": "markdown",
   "metadata": {
    "slideshow": {
     "slide_type": "fragment"
    }
   },
   "source": [
    "Exemples de définition complète (signature et corps) : "
   ]
  },
  {
   "cell_type": "code",
   "execution_count": 2,
   "metadata": {
    "slideshow": {
     "slide_type": "fragment"
    }
   },
   "outputs": [
    {
     "name": "stdout",
     "output_type": "stream",
     "text": [
      "Help on function f in module __main__:\n",
      "\n",
      "f(x: float) -> float\n",
      "    Une fonction affine déjà rencontrée\n",
      "\n"
     ]
    }
   ],
   "source": [
    "def f(x : float) -> float:\n",
    "    '''Une fonction affine déjà rencontrée'''\n",
    "    y = 2 * x + 1\n",
    "    return y\n",
    "\n",
    "def qui_suis_je(n : int) -> int:\n",
    "    '''?'''\n",
    "    res = 1\n",
    "    for i in range(1, n+1):\n",
    "        res = res * i\n",
    "    return res"
   ]
  },
  {
   "cell_type": "markdown",
   "metadata": {
    "slideshow": {
     "slide_type": "slide"
    }
   },
   "source": [
    "### La signature d'une fonction\n",
    "\n",
    "La _signature_ d'une fonction permet de connaître le minimum nécessaire et suffisant pour utiliser (appeler) cette fonction, ie. le _quoi_ (que fait la fonction et de quoi a-t-elle besoin pour ça ?)\n",
    "\n",
    "On ne garde que le nécessaire de la syntaxe améliorée :"
   ]
  },
  {
   "cell_type": "code",
   "execution_count": 10,
   "metadata": {
    "slideshow": {
     "slide_type": "fragment"
    }
   },
   "outputs": [],
   "source": [
    "def f(x : float) -> float:\n",
    "    '''Fonction affine de coeff directeur 2 et d'ordonnée à l'origine 1'''\n",
    "\n",
    "def qui_suis_je(n : int) -> int:\n",
    "    '''Calcule et retourne la factorielle de l'entier positif n''' "
   ]
  },
  {
   "cell_type": "markdown",
   "metadata": {
    "slideshow": {
     "slide_type": "fragment"
    }
   },
   "source": [
    "<div class='alert alert-block alert-warning'>\n",
    "\n",
    "Vocabulaire -- selon les langages de programmation : \n",
    "<ul>\n",
    "    <li> signature = spécification = en-tête = prototype  </li>\n",
    "    <li> corps = implémentation  </li>\n",
    "</ul>\n",
    "    \n",
    "</div>    "
   ]
  },
  {
   "cell_type": "markdown",
   "metadata": {
    "slideshow": {
     "slide_type": "fragment"
    }
   },
   "source": [
    "<div class='alert alert-block alert-danger'>\n",
    "\n",
    "ATTENTION  : une telle signature n'est pas reconnue telle quelle par python\n",
    "  \n",
    "EN PRATIQUE : il faudra compléter la signature par le corps pour que la fonction soit correctement définie et reconnue (à suivre) \n",
    "\n",
    "</div>"
   ]
  },
  {
   "cell_type": "markdown",
   "metadata": {
    "slideshow": {
     "slide_type": "fragment"
    }
   },
   "source": [
    "**$\\star$ Rmq : statique _vs._ dynamique.** \n",
    "Selon les langages de programmation, la signature peut-être séparée et compilée indépendamment de l'implémentation de la fonction. Ainsi (re)connue du compilateur, cette signature peut lui servir pour _vérifier automatiquement la correction_ de l'implémentation de la fonction et aussi des appels à cette fonction : nombre de paramètres effectifs, type de ces paramètres, type du résultat retourné, ... Ces vérifications sont possibles lors de la _compilation_ , cad. avant toute exécution du programme. Ce type de vérification diminue le risque d'erreur lors de l'exécution. \n",
    "\n",
    "On parle d'analyse _statique_ (ou de vérification statique) pour ces _traitements effectués lors de la compilation_. Oui : un compilateur est un programme qui s'exécute ! Il \"prend en entrée\" un code (dit) source et produit en sortie un code (dit) exécutable. Ce traitement comporte plusieurs étapes dont celle de vérification mentionnée qui s'effectue lors de l'étape (dite) d'analyse syntaxique -- ne pas confondre les termes \"syntaxique\" et \"statique\".\n",
    "\n",
    "De façon complémentaire, on parle d'analyse _dynamique_ (ou de vérification dynamique) pour les traitements effectués lors de l'exécution du programme.\n"
   ]
  },
  {
   "cell_type": "markdown",
   "metadata": {
    "slideshow": {
     "slide_type": "slide"
    }
   },
   "source": [
    "### L'appel d'une fonction\n",
    "\n",
    "L'appel de la fonction consiste à exécuter la fonction pour des valeurs fixées des arguments d'entrée.  \n",
    "\n",
    "Syntaxiquement : \n",
    "* le _nom_ de la fonction (sans le `def` mais avec les `( )`)\n",
    "* les **paramètres effectifs** : les _valeurs_ des arguments d'entrée\n",
    "* les _identifiants_ des variables de sortie"
   ]
  },
  {
   "cell_type": "code",
   "execution_count": 11,
   "metadata": {
    "slideshow": {
     "slide_type": "fragment"
    }
   },
   "outputs": [
    {
     "name": "stdout",
     "output_type": "stream",
     "text": [
      "None\n"
     ]
    }
   ],
   "source": [
    "# appel de f pour la valeur 0\n",
    "ordonnee_a_l_origine =  f(0) \n",
    " \n",
    "print(ordonnee_a_l_origine)  "
   ]
  },
  {
   "cell_type": "code",
   "execution_count": 12,
   "metadata": {
    "slideshow": {
     "slide_type": "fragment"
    }
   },
   "outputs": [
    {
     "name": "stdout",
     "output_type": "stream",
     "text": [
      "None\n"
     ]
    }
   ],
   "source": [
    "t = 1\n",
    "r = f(t)\n",
    "print(r)"
   ]
  },
  {
   "cell_type": "code",
   "execution_count": 13,
   "metadata": {
    "slideshow": {
     "slide_type": "fragment"
    }
   },
   "outputs": [
    {
     "name": "stdout",
     "output_type": "stream",
     "text": [
      "n, f(n), n!\n",
      "0 None None\n",
      "1 None None\n",
      "2 None None\n"
     ]
    }
   ],
   "source": [
    "print(\"n, f(n), n!\")\n",
    "# plusieurs appels de f et de qui_suis_je\n",
    "for  val in range(3):\n",
    "    print(val, f(val), qui_suis_je(val))"
   ]
  },
  {
   "cell_type": "markdown",
   "metadata": {
    "slideshow": {
     "slide_type": "fragment"
    }
   },
   "source": [
    "On a vu en début de présentation que les paramètres effectifs peuvent être plus généralement la valeur d'une variable, d'une expression (évaluée), d'une fonction (appelée).    "
   ]
  },
  {
   "cell_type": "markdown",
   "metadata": {
    "slideshow": {
     "slide_type": "slide"
    }
   },
   "source": [
    "####  Effet d'un appel sur le séquencement des instructions exécutées  \n",
    "\n",
    "Distinguer _appelant_ et _appelé_ :\n",
    "\n",
    "- Le cadre (la zone logique de code) où l'appel est effectué est appelé _l'appelant_.  \n",
    "- La définition de la fonction est (le cadre de) _l'appelé_.  \n",
    "\n",
    "**L'appel provoque une rupture de l'exécution séquentielle de l'appelant** : un débranchement de l'appelant vers l'appelé.\n",
    "\n",
    "- L'appel \"passe la main\" à l'appelé en même temps qu'il transmet les paramètres effectifs et une information pour que l'appelé puisse, plus tard, revenir dans l'appelant (fournir le résultat, ie. retourner le résultat).  \n",
    "- L'exécution revient dans la zone de l'appelant une fois achevée l'exécution de l'appelé  -- en pratique, après l'exécution d'un `return`.\n",
    "- Ce `return` déclanche le retour dans l'appelant à l'instruction de l'appel -- car c'est souvent une affectation si l'appelé est une (vraie) fonction -- ou à l'instruction suivante -- si c'est une procédure qui ne renvoie aucun résultat, cad. un appel sans affectation. "
   ]
  },
  {
   "cell_type": "markdown",
   "metadata": {
    "slideshow": {
     "slide_type": "slide"
    }
   },
   "source": [
    "<div class='alert alert-block alert-warning'>\n",
    "\n",
    "NE PAS CONFONDRE :  **paramètre formel** _vs._ **paramètre effectif** (ou argument)\n",
    "\n",
    "</div>    \n",
    "\n",
    "<div class='alert alert-block alert-danger'>\n",
    "    \n",
    "CONSIGNE PEDAGOGIQUE : il est interdit d'utiliser l'identifiant de du paramètre formel comme paramètre effectif d'un appel.     \n",
    "</div>"
   ]
  },
  {
   "cell_type": "code",
   "execution_count": 14,
   "metadata": {
    "slideshow": {
     "slide_type": "fragment"
    }
   },
   "outputs": [],
   "source": [
    "x = 3\n",
    "# L'appel suivant est interdit pour la fonction affine f(x) définie précédemment\n",
    "y = f(x)\n",
    "\n",
    "y = f(3) # ok\n",
    "\n",
    "\n",
    "val = 3\n",
    "y = f(val) # ok"
   ]
  },
  {
   "cell_type": "markdown",
   "metadata": {
    "slideshow": {
     "slide_type": "subslide"
    }
   },
   "source": [
    "<div class=\"alert alert-block alert-info\">\n",
    "\n",
    "**A retenir :** l'appel est situé _après_ la définition  \n",
    "\n",
    "</div>  \n",
    "\n",
    "- logique : il faut connaitre la fonction pour l'utiliser ! \n",
    "- `python` : se souvenir que `from module import f` permet de connaitre, donc d'utiliser, `f` qui a été définie (par moi ou par une autre) dans la bibliothèque `module`\n",
    "   \n",
    "    "
   ]
  },
  {
   "cell_type": "markdown",
   "metadata": {
    "slideshow": {
     "slide_type": "slide"
    }
   },
   "source": [
    "### Le corps et le retour de valeur\n",
    "\n",
    "Le corps définit le traitement de la fonction.  \n",
    "Il complète la signature.\n",
    "Ce traitement manipule les paramètres formels et des variables locales (à la fonction).  \n",
    "A l'issue du traitement, la fonction renvoie (ou retourne) une valeur de sortie.\n",
    "\n",
    "* Python : le corps est _indenté_ d'un niveau par rapport à celui du `def` (qui finit par un `:`)."
   ]
  },
  {
   "cell_type": "markdown",
   "metadata": {
    "slideshow": {
     "slide_type": "subslide"
    }
   },
   "source": [
    "#### `return` \n",
    "\n",
    "* Python : mot-clé `return`\n",
    " * `return` une valeur, une variable, une expression\n",
    " * `return None` : ne retourne rien ... mais le dit !  \n",
    "     * spécificité python : comme il n'y a que des fonctions en python, une procédure sera écrite comme une fonction qui retourne `None` \n",
    "\n",
    "* **Termine l'_exécution_ du corps de la fonction**\n",
    " * à la fin de l'écriture du corps, en général ...\n",
    " * mais pas toujours : le `return` n'est pas nécessairement unique (cf. paragraphe suivant)  "
   ]
  },
  {
   "cell_type": "code",
   "execution_count": 15,
   "metadata": {
    "slideshow": {
     "slide_type": "fragment"
    }
   },
   "outputs": [
    {
     "name": "stdout",
     "output_type": "stream",
     "text": [
      "4 6\n"
     ]
    }
   ],
   "source": [
    "# définition de 3 fonctions\n",
    "def doubler(u : int) -> int:\n",
    "    \"\"\" retourne le double de u \"\"\"\n",
    "    return 2 * u\n",
    "\n",
    "def tripler(u : int) -> int:\n",
    "    \"\"\" retourne le triple de u    \"\"\"\n",
    "    v = 3 * u\n",
    "    return v\n",
    "\n",
    "# des appels\n",
    "\n",
    "d = doubler(2)\n",
    "t = tripler(2)\n",
    "\n",
    "print(d, t)"
   ]
  },
  {
   "cell_type": "code",
   "execution_count": 16,
   "metadata": {
    "slideshow": {
     "slide_type": "fragment"
    }
   },
   "outputs": [
    {
     "data": {
      "text/plain": [
       "11.0"
      ]
     },
     "execution_count": 16,
     "metadata": {},
     "output_type": "execute_result"
    }
   ],
   "source": [
    "# un appel -- qui passe en python mais qui \"gratte un peu\" d'après l'en-tête de doubler ...\n",
    "doubler(5.5)"
   ]
  },
  {
   "cell_type": "markdown",
   "metadata": {
    "slideshow": {
     "slide_type": "slide"
    }
   },
   "source": [
    "#### `return` = terminaison de la fonction  \n",
    "\n",
    "L'exécution d'un `return`, quel qu'il soit, _termine l'exécution de la fonction_ et provoque le retour dans le cadre appelant.\n",
    "\n",
    "Plusieurs instructions `return` sont possibles dans une même fonction. \n",
    "Donc pas uniquement comme dernière instruction du corps de la fonction. \n",
    "Le premier `return` exécuté arrête l'exécution : les instructions suivantes du corps de la fonction ne sont pas traitées -- comme dans une branche conditionnelle non prise, _eg._ dans une structure `if: ... elif: ... else: ...`. \n",
    "\n",
    "Nous verrons que les fonctions récursives sont friandes de `return` très tôt écrit dans le corps. "
   ]
  },
  {
   "cell_type": "code",
   "execution_count": 17,
   "metadata": {
    "code_folding": [],
    "slideshow": {
     "slide_type": "fragment"
    }
   },
   "outputs": [],
   "source": [
    "def a(u : float) -> float:\n",
    "    '''calcule la valeur absolue de u'''\n",
    "    if u > 0:\n",
    "        res = u\n",
    "    else:\n",
    "        res = -u\n",
    "    return res"
   ]
  },
  {
   "cell_type": "markdown",
   "metadata": {
    "slideshow": {
     "slide_type": "fragment"
    }
   },
   "source": [
    "**Rmq**.\n",
    "Nous expliquerons bientôt que `res` est une _variable locale_ à la fonction qui est définie pour retourner le résultat du traitement de la fonction. "
   ]
  },
  {
   "cell_type": "code",
   "execution_count": 18,
   "metadata": {
    "code_folding": [],
    "slideshow": {
     "slide_type": "slide"
    }
   },
   "outputs": [],
   "source": [
    "def aa(u : float) -> float:\n",
    "    '''La même avec 2 return '''\n",
    "    if u > 0:\n",
    "        res = u\n",
    "        return res\n",
    "    else:\n",
    "        res = -u\n",
    "        return res\n",
    "    \n",
    "def aaa(u : float) -> float:\n",
    "    '''La même avec 2 return sans variable locale'''\n",
    "    if u > 0:\n",
    "        return u\n",
    "    else:\n",
    "        return -u"
   ]
  },
  {
   "cell_type": "code",
   "execution_count": 19,
   "metadata": {
    "code_folding": [],
    "slideshow": {
     "slide_type": "fragment"
    }
   },
   "outputs": [
    {
     "name": "stdout",
     "output_type": "stream",
     "text": [
      "2 5\n",
      "Help on function a in module __main__:\n",
      "\n",
      "a(u: float) -> float\n",
      "    calcule la valeur absolue de u\n",
      "\n",
      "Help on function aa in module __main__:\n",
      "\n",
      "aa(u: float) -> float\n",
      "    La même avec 2 return\n",
      "\n"
     ]
    }
   ],
   "source": [
    "# 2 appels\n",
    "a_x = a(2)\n",
    "a_y = a(-5)\n",
    "\n",
    "# affichage\n",
    "print(a_x, a_y)\n",
    "#print(a(3))\n",
    "\n",
    "# intérêt du doc-string\n",
    "help(a)\n",
    "help(aa)"
   ]
  },
  {
   "cell_type": "markdown",
   "metadata": {
    "slideshow": {
     "slide_type": "slide"
    }
   },
   "source": [
    "### Exercice\n",
    "\n",
    "* Reprendre les fonctions `a`, `aa` et `aaa` précédentes et identifier leurs signatures, leurs paramètres formels, leurs types, les corps de ces fonctions. Et dans les appels les `return` exécutés, le séquencement des instructions exécutées dans l'appelant et l'appelé.  "
   ]
  },
  {
   "cell_type": "markdown",
   "metadata": {
    "slideshow": {
     "slide_type": "slide"
    }
   },
   "source": [
    "## Appel : appelant -> appelé ; return : appelé -> appelant \n",
    "\n",
    "Nous illustrons avec [pythontutor](http://pythontutor.com/visualize.html#mode=edit) l'exécution d'un appel de fonction. \n",
    "\n",
    "Cad. :\n",
    "\n",
    "- l'appel de fonction provoque une rupture de l'exécution séquentielle, un débranchement de l'appelant vers l'appelé ;\n",
    "- le `return` provoque le retour au cadre appelant pour continuer l'exécution séquentielle.\n",
    "- Plusieurs `return` ? Oui mais 1 seul exécuté par appel."
   ]
  },
  {
   "cell_type": "markdown",
   "metadata": {
    "slideshow": {
     "slide_type": "fragment"
    }
   },
   "source": [
    "- Fonction affine :\n",
    "[visualisation pythontutor](http://pythontutor.com/visualize.html#code=def%20f%28x%20%3A%20float%29%20-%3E%20float%3A%0A%20%20%20%20'''Une%20fonction%20affine%20d%C3%A9j%C3%A0%20rencontr%C3%A9e'''%0A%20%20%20%20y%20%3D%202%20*%20x%20%2B%201%0A%20%20%20%20return%20y%0A%20%20%20%20%0Aordonnee_a_l_origine%20%3D%20f%280%29%0A%0Aprint%28ordonnee_a_l_origine%29%0A%0Aprint%28%22n,%20f%28n%29%22%29%0A%23%20plusieurs%20appels%20de%20f%0Afor%20val%20in%20range%283%29%3A%0A%20%20%20%20print%28val,%20f%28val%29%29&cumulative=false&curInstr=0&heapPrimitives=nevernest&mode=display&origin=opt-frontend.js&py=3&rawInputLstJSON=%5B%5D&textReferences=false)\n"
   ]
  },
  {
   "cell_type": "markdown",
   "metadata": {
    "slideshow": {
     "slide_type": "fragment"
    }
   },
   "source": [
    "- Plusieurs return, 1 seul exécuté par appel :\n",
    "[visualisation pythontutor](http://pythontutor.com/visualize.html#code=def%20aa%28u%20%3A%20float%29%20-%3E%20float%3A%0A%20%20%20%20'''La%20m%C3%AAme%20avec%202%20return%20'''%0A%20%20%20%20if%20u%20%3E%200%3A%0A%20%20%20%20%20%20%20%20res1%20%3D%20u%0A%20%20%20%20%20%20%20%20return%20res1%0A%20%20%20%20else%3A%0A%20%20%20%20%20%20%20%20res2%20%3D%20-u%0A%20%20%20%20%20%20%20%20return%20res2%0A%20%20%20%20%20%20%20%20%0Aun%20%3D%20aa%281.0%29%0Aencore_un%20%3D%20aa%28-1.0%29%0A%0A%23%20Profitons-en%20pour%20montrer%20un%20%60assert%60%20%0Aassert%20un%20%3D%3D%20encore_un&cumulative=false&curInstr=14&heapPrimitives=nevernest&mode=display&origin=opt-frontend.js&py=3&rawInputLstJSON=%5B%5D&textReferences=false)\n"
   ]
  },
  {
   "cell_type": "markdown",
   "metadata": {
    "slideshow": {
     "slide_type": "subslide"
    }
   },
   "source": [
    "### Exercice\n",
    "\n",
    "* Reprendre les fonctions `a`, `aa` et `aaa` précédentes et bien identifier le séquencement des instructions exécutées dans l'appelant et l'appelé.  "
   ]
  },
  {
   "cell_type": "markdown",
   "metadata": {
    "slideshow": {
     "slide_type": "slide"
    }
   },
   "source": [
    "## Variable locale _vs._ variable globale, portée des variables\n",
    "\n",
    "Les notions de variable locale (à une fonction) ou de variable globale sont classiques en programmation.  \n",
    "\n",
    "> **Variable locale** à une fonction : variable définie dans le _corps_ de la fonction pour permettre le traitement réalisé par la fonction.  \n",
    "\n",
    "Par extension, les **paramètres formels de la fonction sont aussi des variables locales**.  "
   ]
  },
  {
   "cell_type": "markdown",
   "metadata": {
    "slideshow": {
     "slide_type": "fragment"
    }
   },
   "source": [
    "> Une **variable** est dite  **globale** par rapport à une fonction si elle est définie à l'extérieur de la fonction, et plus particulièrement dans l'appelant de la fonction.  \n",
    "\n",
    "Il faut donc introduire la notion de portée d'une variable.  "
   ]
  },
  {
   "cell_type": "markdown",
   "metadata": {
    "slideshow": {
     "slide_type": "fragment"
    }
   },
   "source": [
    "> **Portée** : zone où une variable est _accessible_, ou autrement dit : zone où une variable est (re)connue à l'aide de son identifiant.  \n",
    "\n",
    "**La portée d'une variable locale est** ... locale, cad. **limitée au corps de la fonction** qui contient sa définition.  \n",
    "Une variable locale _n'existe pas à l'extérieur_ de la définition ou du traitement de la fonction.  "
   ]
  },
  {
   "cell_type": "markdown",
   "metadata": {
    "slideshow": {
     "slide_type": "fragment"
    }
   },
   "source": [
    "**Exemple.**\n",
    "\n",
    "- Reprendre le pythontutor précédent et observer comment `res1` ou `res2` naissent, vivent et meurent."
   ]
  },
  {
   "cell_type": "markdown",
   "metadata": {
    "slideshow": {
     "slide_type": "subslide"
    }
   },
   "source": [
    "Une variable globale est définie dans le cadre _appelant_.  \n",
    "Une fois définie, sa portée est globale à ce cadre : cette variable est accessible sur l'ensemble de la zone qui contient sa définition et à partir de cette dernière. \n",
    "\n",
    "Ainsi :\n",
    "- la portée d'une variable globale inclut les fonctions, (et leurs corps) définies dans cette zone  \n",
    "- les portées d'une variable globale et d'une variable locale (à une fonction) se recouvrent (dans cette fonction); \n",
    "- ce qui nécessitera de clarifier la situation dans le cas où _ces 2 variables ont le même identifiant_.\n",
    "\n",
    "Ces trois dernières remarques justifient à l'interdit (à vocation pédagogique) suivant. "
   ]
  },
  {
   "cell_type": "markdown",
   "metadata": {
    "slideshow": {
     "slide_type": "subslide"
    }
   },
   "source": [
    "<div class=\"alert alert-block alert-danger\">\n",
    "    \n",
    "CONTRAINTE PEDAGOGIQUE :  Dans la définition d'une fonction, il est interdit d'introduire ou d'utiliser des variables globales, excepté si ce sont des **constantes**.\n",
    "       \n",
    "</div>\n",
    "\n",
    "Ainsi, vous ne devez limiter le corps de fonction au traitement de ses paramètres formels et de variables locales.\n",
    "\n",
    "<div class=\"alert alert-block alert-info\">\n",
    "\n",
    "CONVENTION PYTHON : les identifiants de constantes s'écrivent en MAJUSCULES   \n",
    "    \n",
    "`ANNEE_EN_COURS = 2020`\n",
    "\n",
    "</div>"
   ]
  },
  {
   "cell_type": "markdown",
   "metadata": {
    "slideshow": {
     "slide_type": "fragment"
    }
   },
   "source": [
    "Au delà de certaines spécificités de python qui la rendent assez délicate, l'utilisation de variables globale  est à l'origine de la notion _d'effet de bord_ souvent à l'origine de longues phases de debugging. Nous reviendrons sur cet aspect au chapitre suivant.\n",
    "\n",
    "Le besoin d'utiliser des variables globales dans des fonctions internes peut être satisfait en ajoutant ces variables comme paramètres de ces fonctions.  \n"
   ]
  },
  {
   "cell_type": "markdown",
   "metadata": {
    "slideshow": {
     "slide_type": "subslide"
    }
   },
   "source": [
    "### Exercice\n",
    "\n",
    "* Reprendre les fonctions `a`, `aa` et `aaa` précédentes et identifier leurs variables locales et leur portée, dans la définition, dans les appels, dans les appelants.   "
   ]
  },
  {
   "cell_type": "markdown",
   "metadata": {
    "slideshow": {
     "slide_type": "slide"
    }
   },
   "source": [
    "## Compléments"
   ]
  },
  {
   "cell_type": "markdown",
   "metadata": {
    "slideshow": {
     "slide_type": "subslide"
    }
   },
   "source": [
    "### Erreur fréquente\n",
    "\n",
    "<div class=\"alert alert-danger\">\n",
    "\n",
    "NE PAS CONFONDRE :  `return` _vs._ `print`\n",
    "\n",
    "</div>\n",
    "\n",
    "<div class=\"alert alert-info\">\n",
    "\n",
    "CONSEIL DÉJÀ SOUVENT RAPPELÉ : séparer les E/S des traitements\n",
    "\n",
    "</div>\n",
    "\n",
    "En pratique, les E/S (`print` et `input`) doivent être limitées :\n",
    "- aux programme principal (le `main`) \n",
    "- aux sous-programmes d'entrées-sorties spécifiques à votre application, si il y en a.  \n",
    "    - Voir `afficher_pref_dpt()` en fin de chapitre."
   ]
  },
  {
   "cell_type": "markdown",
   "metadata": {
    "slideshow": {
     "slide_type": "subslide"
    }
   },
   "source": [
    "### Méthodologie d'écriture des fonctions  \n",
    "\n",
    "En pratique, vous introduirez des fonctions en respectant **l'ordre d'écriture** suivant :\n",
    "\n",
    "1. écriture de la signature de la fonction  \n",
    "2. écriture d'appels simples : notion de _test unitaire_\n",
    "    - appels simples = appels sur des valeurs de tests, cad. dont on connait le résultat attendu de la fonction  \n",
    "3. écriture du corps\n",
    "4. exécution des test unitaires (et correction de l'étape précédente si besoin) \n",
    "5. écriture des appels voulus  \n",
    "6. exécution des appels voulus\n",
    "\n",
    "\n",
    "<div class='alert alert-block alert-danger'>\n",
    "\n",
    "CONSIGNE PEDAGOGIQUE : L'écriture de l'appel (simple) est effectuée avant celle du corps, _ie._ en se basant uniquement sur la signature.\n",
    "</div>\n",
    "\n",
    "Ainsi, il n'est pas possible d'exécuter cet appel avant d'avoir fini l'étape suivante (écriture du corps)."
   ]
  },
  {
   "cell_type": "markdown",
   "metadata": {
    "slideshow": {
     "slide_type": "subslide"
    }
   },
   "source": [
    "### De l'intérêt de distinguer _fonction_ et _procédure_\n",
    "\n",
    "<div class=\"alert alert-block alert-warning\">\n",
    "\n",
    "CONSEIL : Distinguer les fonctions des procédures oblige à se poser la question du besoin de modifier ou non les arguments du sous-programme.  \n",
    "\n",
    "</div>\n",
    "\n",
    "Une **fonction** :\n",
    "- calcule et retourne un résultat\n",
    "- à partir de la __valeur__ de ses paramètres effectifs.  \n",
    "- Ce résultat est connu de l'appelant par une affectation (au retour de l'appel).  \n",
    "- L'appel de la fonction ne modifie pas les paramètres effectifs. \n",
    "\n",
    "Une **procédure** :\n",
    "- effectue une action ou des traitements (dont des lectures et des écritures)\n",
    "- avec ses paramètres effectifs\n",
    "- et ne retourne pas de résultat.\n",
    "- L'appel d'une procédure peut modifier ses paramètres effectifs.\n",
    "\n",
    "**Rmq.**\n",
    "Ainsi l'appel d'une procédure ne nécessite pas d'affectation dans l'appelant.\n",
    "\n",
    "> A la différence d'autres langages, python n'introduit qu'un type de sous-programme : la fonction.  \n",
    "> Rappellons qu'une fonction python retourne _toujours_ une valeur, même si cette dernière est `None`.  \n",
    "\n",
    "**Exercice.**  Donner un exemple de fonction python (utilisée depuis le début de l'année) qui est en fait une procédure."
   ]
  },
  {
   "cell_type": "markdown",
   "metadata": {
    "slideshow": {
     "slide_type": "subslide"
    }
   },
   "source": [
    "### `help()` et _docstring_\n",
    "\n",
    "`help()` est une fonction python prédéfinie qui affiche l'en-tête (la signature) complet de la fonction passée en paramètre.  \n",
    "\n",
    "Elle fournit les informations nécessaires à l'utilisation correcte de la fonction, ainsi que des détails sur son objet et son implémentation -- si le ces aspects ont été décrits par le programmeur dans le `docstring` : la zone de commentaires entre ` ``` ``` ` et indentée sous le `def`.\n",
    "\n",
    "Cette fonction est similaire à l'option de commande `--help` sous Unix."
   ]
  },
  {
   "cell_type": "code",
   "execution_count": 20,
   "metadata": {
    "slideshow": {
     "slide_type": "fragment"
    }
   },
   "outputs": [
    {
     "name": "stdout",
     "output_type": "stream",
     "text": [
      "Help on function doubler in module __main__:\n",
      "\n",
      "doubler(u: int) -> int\n",
      "    retourne le double de u\n",
      "\n"
     ]
    }
   ],
   "source": [
    "help(doubler)"
   ]
  },
  {
   "cell_type": "code",
   "execution_count": 21,
   "metadata": {
    "slideshow": {
     "slide_type": "fragment"
    }
   },
   "outputs": [
    {
     "name": "stdout",
     "output_type": "stream",
     "text": [
      "Help on function f in module __main__:\n",
      "\n",
      "f(x: float) -> float\n",
      "    Fonction affine de coeff directeur 2 et d'ordonnée à l'origine 1\n",
      "\n"
     ]
    }
   ],
   "source": [
    "help(f)"
   ]
  },
  {
   "cell_type": "markdown",
   "metadata": {
    "slideshow": {
     "slide_type": "fragment"
    }
   },
   "source": [
    "**Exercice**. A quoi reconnait-on que `help` est une fonction ?"
   ]
  },
  {
   "cell_type": "markdown",
   "metadata": {
    "slideshow": {
     "slide_type": "subslide"
    }
   },
   "source": [
    "### Plusieurs paramètres"
   ]
  },
  {
   "cell_type": "code",
   "execution_count": 22,
   "metadata": {
    "code_folding": [
     9
    ],
    "slideshow": {
     "slide_type": "fragment"
    }
   },
   "outputs": [
    {
     "name": "stdout",
     "output_type": "stream",
     "text": [
      "mille = 1000.0\n",
      "True\n"
     ]
    }
   ],
   "source": [
    "def puissance(x : float, n : int) -> float:\n",
    "    '''calcule x**n de façon itérative pour'''\n",
    "    # (un) corps de la fonction puissance\n",
    "    r = 1.0\n",
    "    for i in range(1, n+1):\n",
    "        r = r * x\n",
    "    return r\n",
    "\n",
    "# appels avec des valeurs  \n",
    "mille = puissance(10.0, 3)\n",
    "print(\"mille =\", mille)\n",
    "\n",
    "vrai_ou_faux = (puissance(3.1,2) == 3.1 * 3.1)\n",
    "print(vrai_ou_faux)"
   ]
  },
  {
   "cell_type": "code",
   "execution_count": 23,
   "metadata": {
    "code_folding": [],
    "slideshow": {
     "slide_type": "fragment"
    }
   },
   "outputs": [
    {
     "name": "stdout",
     "output_type": "stream",
     "text": [
      "n premières puissances de 2.0 pour n = 5\n",
      "2 ** 0 = 1.0\n",
      "2 ** 1 = 2.0\n",
      "2 ** 2 = 4.0\n",
      "2 ** 3 = 8.0\n",
      "2 ** 4 = 16.0\n",
      "2 ** 5 = 32.0\n",
      "cas particulier\n",
      "1.0\n",
      "n premières puissances de p pour p = 3\n",
      "et n = 4\n",
      "1.0\n",
      "3.0\n",
      "9.0\n",
      "27.0\n",
      "81.0\n"
     ]
    }
   ],
   "source": [
    "# appels avec une variable\n",
    "n = int(input(\"n premières puissances de 2.0 pour n = \"))\n",
    "for i in range(n+1):\n",
    "    print(\"2 **\", i, \"=\", puissance(2, i))\n",
    "\n",
    "print(\"cas particulier\")\n",
    "print(puissance(2.0, 0))\n",
    "\n",
    "# appels avec des variables\n",
    "p = float(input(\"n premières puissances de p pour p = \"))\n",
    "n = int(input(\"et n = \"))\n",
    "\n",
    "for i in range(n+1):\n",
    "    print(puissance(p,i))"
   ]
  },
  {
   "cell_type": "markdown",
   "metadata": {
    "slideshow": {
     "slide_type": "subslide"
    }
   },
   "source": [
    "### Plusieurs `return` (rappel)  \n",
    "\n",
    "1. Une fonction qui calcule et renvoie (retourne) la valeur absolue d'un entier\n",
    "    * Vue plus haut\n",
    "2. Une fonction `puissance` qui calcule et renvoie $x^n$ pour $n>0$ et $x$ entier\n",
    "    * $x^n = x \\times x \\times x \\times x \\times \\dots \\times x$ avec $n-1$ multiplications\n",
    "    * $x^0 = 1$ pour $x \\neq 0$\n",
    "    * pas la peine de perdre trop de temps pour calculer $0^n = 0$ \n",
    "    * faire attention si $n < 0$ : ne rien calculer pour l'instant   \n",
    "\n"
   ]
  },
  {
   "cell_type": "code",
   "execution_count": 24,
   "metadata": {
    "slideshow": {
     "slide_type": "fragment"
    }
   },
   "outputs": [
    {
     "name": "stdout",
     "output_type": "stream",
     "text": [
      "10.0 ** 0 = 1\n",
      "10.0 ** 1 = 10.0\n",
      "on est dans la boucle\n",
      "10.0 ** 2 = 100.0\n",
      "on est dans la boucle\n",
      "on est dans la boucle\n",
      "10.0 ** 3 = 1000.0\n"
     ]
    }
   ],
   "source": [
    "def puissance2(x : float, n : int) -> float:\n",
    "    '''calcule x**n de façon itérative : autre version'''\n",
    "    if x == 0.0:\n",
    "        return 0.0\n",
    "    if n == 0:\n",
    "        return 1\n",
    "    else:\n",
    "        r = x\n",
    "        for i in range(2, n+1):\n",
    "            print('on est dans la boucle')\n",
    "            r = r * x\n",
    "        return r\n",
    "\n",
    "\n",
    "# appels avec des valeurs \n",
    "xx = 10.0\n",
    "for n in range(0,4):\n",
    "    val = puissance2(xx, n)\n",
    "    print(xx, \"**\", n, \"=\", val)\n",
    "\n",
    "#vrai_ou_faux = (puissance(3.1,2) == 3.1 * 3.1)\n",
    "#print(vrai_ou_faux)"
   ]
  },
  {
   "cell_type": "markdown",
   "metadata": {
    "slideshow": {
     "slide_type": "fragment"
    }
   },
   "source": [
    "**Exercice**\n",
    "\n",
    "- Simplifier la branche `else` de `puissance2()`."
   ]
  },
  {
   "cell_type": "markdown",
   "metadata": {
    "slideshow": {
     "slide_type": "subslide"
    }
   },
   "source": [
    "### Fonction sans paramètre \n",
    "\n",
    "Une fonction peut ne pas avoir de paramètre formel. Et donc être appelée sans argument (sans paramètre effectif)."
   ]
  },
  {
   "cell_type": "code",
   "execution_count": 25,
   "metadata": {
    "slideshow": {
     "slide_type": "fragment"
    }
   },
   "outputs": [
    {
     "name": "stdout",
     "output_type": "stream",
     "text": [
      "res =  1\n",
      "appel tetu 1\n",
      "appel tetu 1\n",
      "appel tetu 1\n",
      "appel tetu 1\n",
      "appel tetu 1\n"
     ]
    },
    {
     "data": {
      "text/plain": [
       "1"
      ]
     },
     "execution_count": 25,
     "metadata": {},
     "output_type": "execute_result"
    }
   ],
   "source": [
    "def tetu() :\n",
    "    return 1\n",
    "\n",
    "res = tetu() # appel et affectation du résultat\n",
    "print('res = ', res)   # affichage\n",
    "\n",
    "# boucle d'appels à tetu() dans un print()  \n",
    "for i in range(5):\n",
    "    print('appel tetu', tetu())\n",
    "        \n",
    "# appel sans affectation, ni print. \n",
    "# L'interpréteur python affiche sa valeur en Out[..] \n",
    "#doubler(1)\n",
    "\n",
    "tetu()"
   ]
  },
  {
   "cell_type": "markdown",
   "metadata": {
    "slideshow": {
     "slide_type": "subslide"
    }
   },
   "source": [
    "### Fonction locale\n",
    "\n",
    "A la manière d'une variable locale, une _fonction locale_ (à une fonction) est :\n",
    "\n",
    "- définie dans le corps d'une fonction,\n",
    "- puis utilisable par cette fonction (englobante)\n",
    "- mais _uniquement par elle_ : elle est inconnue de l'extérieur de la fonction englobante,\n",
    "- et ce récursivement.\n"
   ]
  },
  {
   "cell_type": "code",
   "execution_count": 26,
   "metadata": {
    "slideshow": {
     "slide_type": "fragment"
    }
   },
   "outputs": [
    {
     "name": "stdout",
     "output_type": "stream",
     "text": [
      "4 4 4 4 4 4\n"
     ]
    }
   ],
   "source": [
    "def max3(x : int, y : int, z : int) -> int:\n",
    "    '''\n",
    "    autre version (1 return) sans fonction locale\n",
    "    role : calcule et retourne le max de 3 valeurs\n",
    "    '''\n",
    "    if x < y:\n",
    "        if y < z:\n",
    "            res = z\n",
    "        else:\n",
    "            res = y\n",
    "    else:\n",
    "        if x < z:\n",
    "            res = z\n",
    "        else:\n",
    "            res = x\n",
    "    return res\n",
    "\n",
    "\n",
    "# test exhaustif pour 3 valeurs différentes    \n",
    "print(max3(1, 4, 2), max3(1, 2, 4), max3(2, 1, 4), max3(2, 4, 1), max3(4, 1, 2), max3(4, 2, 1))"
   ]
  },
  {
   "cell_type": "code",
   "execution_count": 27,
   "metadata": {
    "code_folding": [],
    "slideshow": {
     "slide_type": "fragment"
    }
   },
   "outputs": [],
   "source": [
    "def max3_f_loc(x : int, y : int, z : int) -> int:\n",
    "    '''\n",
    "    role : calcule et retourne le max de 3 valeurs\n",
    "    avec fonction locale\n",
    "    '''\n",
    "    def max2(u, v : int) -> int:\n",
    "        '''\n",
    "        fontion locale : \n",
    "        calcule et retourne le max de 2 valeurs'''\n",
    "        if u > v:\n",
    "            res = u\n",
    "        else: \n",
    "            res = v\n",
    "        return res\n",
    "    \n",
    "    if x < y:\n",
    "        res = max2(y, z)\n",
    "    else:\n",
    "        res = max2(x, z)    \n",
    "    return res"
   ]
  },
  {
   "cell_type": "code",
   "execution_count": 28,
   "metadata": {
    "code_folding": [],
    "slideshow": {
     "slide_type": "fragment"
    }
   },
   "outputs": [
    {
     "name": "stdout",
     "output_type": "stream",
     "text": [
      "True\n"
     ]
    }
   ],
   "source": [
    "m1 = max3(1, 4, 2)\n",
    "m2 = max3_f_loc(1, 4, 2)\n",
    "\n",
    "print(m1 == m2)"
   ]
  },
  {
   "cell_type": "markdown",
   "metadata": {
    "slideshow": {
     "slide_type": "subslide"
    }
   },
   "source": [
    "### Exercice\n",
    "\n",
    "- Compléter le test unitaire de `max3`.\n",
    "- ($\\star$) Ecrire une version de `max3` sans variable locale, ni fonction locale.    \n",
    "- ($\\star$) Ecrire une version de `max3` avec une fonction locale et réduite à _une seule ligne d'instruction_ (pour le traitement de `max3`). "
   ]
  },
  {
   "cell_type": "markdown",
   "metadata": {
    "slideshow": {
     "slide_type": "notes"
    }
   },
   "source": [
    "**Solution**"
   ]
  },
  {
   "cell_type": "code",
   "execution_count": 29,
   "metadata": {
    "slideshow": {
     "slide_type": "notes"
    }
   },
   "outputs": [],
   "source": [
    "def max3_v2(x : int, y : int, z : int) -> int:\n",
    "    '''\n",
    "    role : calcule et retourne le max de 3 valeurs\n",
    "    version 4 return : sans variable, ni fonction locale \n",
    "    '''\n",
    "    if x < y:\n",
    "        if y < z:\n",
    "            return z\n",
    "        else:\n",
    "            return y\n",
    "    if x < z:\n",
    "        return z\n",
    "    else:\n",
    "        return x\n",
    "    \n"
   ]
  },
  {
   "cell_type": "code",
   "execution_count": 30,
   "metadata": {
    "code_folding": [],
    "jupyter": {
     "outputs_hidden": true
    },
    "slideshow": {
     "slide_type": "notes"
    }
   },
   "outputs": [
    {
     "name": "stdout",
     "output_type": "stream",
     "text": [
      "4\n"
     ]
    }
   ],
   "source": [
    "def max3_fonctionnelle(x : int, y : int, z : int) -> int:\n",
    "    '''\n",
    "    role : calcule et retourne le max de 3 valeurs\n",
    "    '''\n",
    "    def max2(u, v : int) -> int:\n",
    "        '''\n",
    "        fonction locale : \n",
    "        calcule et retourne le max de 2 valeurs'''\n",
    "        if u > v:\n",
    "            res = u\n",
    "        else: \n",
    "            res = v\n",
    "        return res\n",
    "    \n",
    "    return max2(x, max2(y, z))\n",
    "\n",
    "m = max3_fonctionnelle(1, 4, 2)\n",
    "print(m)"
   ]
  },
  {
   "cell_type": "markdown",
   "metadata": {
    "slideshow": {
     "slide_type": "slide"
    }
   },
   "source": [
    "## Synthèse\n",
    "\n",
    "### Retenir \n",
    "\n",
    "- __Modularité__ : fonction pour factoriser le traitement, structurer le déroulement d'un algo, faciliter la compréhension du traitement et la maintenance des codes\n",
    "    - Tests unitaires de fonction, `assert`  \n",
    "- Une fonction se reconnait à :\n",
    "    - `def` dans sa définition,\n",
    "    - ses parenthèses dans les appels.  \n",
    "- Sa _définition_ \n",
    "    - commence par `def`, suivi de près par un `:`, et contient au moins un `return`;\n",
    "    - contient entre les parenthèses qui suivent son nom :\n",
    "        - la définition des paramètres formels, \n",
    "        - et leur type : annotations `:` et `->`;\n",
    "    - contient une _documentation_ entre ` ''' ` qui détaille son rôle (`docstring`). \n",
    "- La _signature_ (ou l'_en-tête_) de la fonction est l'ensemble de ces éléments, `return` excepté.  \n",
    "    - `help(nom_de_la_fonction)` affiche la signature de la fonction, cad sa définition, paramètres compris et le `docstring`. \n",
    "- Le _corps_ d'une fonction est la zone indentée par rapport au `def` qui contient le traitement effectué par la fonction, et au moins un `return`.   "
   ]
  },
  {
   "cell_type": "markdown",
   "metadata": {
    "slideshow": {
     "slide_type": "subslide"
    }
   },
   "source": [
    "Se souvenir que :\n",
    "\n",
    "- l'appel à une fonction génère un _débranchement_ de la séquence d'instructions de l'_appelant_ pour exécuter les instructions de _l'appelé_\n",
    "- que le premier `return` exécuté dans l'appelé permet de _revenir_ à l'appelant pour continuer à exécuter la séquence d'instructions qui suit l'appel (dans l'appelant) -- souvent une affectation du résultat de l'appel. "
   ]
  },
  {
   "cell_type": "markdown",
   "metadata": {
    "slideshow": {
     "slide_type": "subslide"
    }
   },
   "source": [
    "### Ne pas confondre \n",
    "\n",
    "> * __définition__ _vs._ __appel__  \n",
    "> * __signature__ _vs._ __corps__  \n",
    "> * paramètre __formel__ _vs._ argument ou paramètre __effectif__  \n",
    "> * appelé _vs._ appelant  \n",
    "> * __return__ _vs._ __print__  "
   ]
  },
  {
   "cell_type": "markdown",
   "metadata": {
    "slideshow": {
     "slide_type": "subslide"
    }
   },
   "source": [
    "### A venir\n",
    "\n",
    "Un point important a été passé sous silence dans ce chapitre : \n",
    "- comment s'effectue le passage de paramètres lors de l'appel ?  \n",
    "\n",
    "Autrement dit : \n",
    "- comment les paramètres formels de la définition d'une fonction \"deviennent\" des paramètres effectifs, cad. des valeurs effectivement traités (ou des objets effectivement manipulés) par les instructions du corps de la fonction ? \n",
    "\n",
    "Cette importante question sera traitée dans le chapitre suivant car les réponses diffèrent selon les langages de programmation -- car plus techniques qu'algorithmiques.    "
   ]
  },
  {
   "cell_type": "markdown",
   "metadata": {
    "slideshow": {
     "slide_type": "slide"
    }
   },
   "source": [
    "## Exercices en démonstration"
   ]
  },
  {
   "cell_type": "markdown",
   "metadata": {
    "slideshow": {
     "slide_type": "subslide"
    }
   },
   "source": [
    "### Lister les notions vues jusqu'ici\n",
    "\n",
    "- définition, paramètres formels, sortie  \n",
    "- appel, paramètres effectifs  \n",
    "- spécification (ce que ça fait) vs. implémentation (comment ça le fait)  \n",
    "- `def`, `()`, `return`,  \n",
    "- variables locales  \n",
    "- fonction, procédure  "
   ]
  },
  {
   "cell_type": "markdown",
   "metadata": {
    "slideshow": {
     "slide_type": "subslide"
    }
   },
   "source": [
    "### Différentes écritures de fonctions min\n",
    "\n",
    "- Ecrire la fonction min(a,b) : signature, appels, puis corps ; test unitaires.\n",
    "- Proposer plusieurs écritures du corps : avec un seul return, avec deux, ...\n",
    "- S'en servir pour écrire la fonction min(x, y, z) : signature, appels, puis corps\n",
    "- Proposer plusieurs écritures du corps"
   ]
  },
  {
   "cell_type": "code",
   "execution_count": 31,
   "metadata": {
    "slideshow": {
     "slide_type": "subslide"
    }
   },
   "outputs": [],
   "source": [
    "def min(a : int, b : int) -> int:\n",
    "    '''retourne min(a,b)\n",
    "    -> version un seul return\n",
    "    '''\n",
    "    if a < b:\n",
    "        m = a\n",
    "    else:\n",
    "        m = b\n",
    "    return m"
   ]
  },
  {
   "cell_type": "code",
   "execution_count": 32,
   "metadata": {
    "slideshow": {
     "slide_type": "fragment"
    }
   },
   "outputs": [],
   "source": [
    "def min2(a : int, b : int) -> int:\n",
    "    '''retourne min(a,b)\n",
    "    -> version deux return\n",
    "    '''\n",
    "    if a < b:\n",
    "        return a\n",
    "    else:\n",
    "        return b"
   ]
  },
  {
   "cell_type": "code",
   "execution_count": 33,
   "metadata": {
    "slideshow": {
     "slide_type": "fragment"
    }
   },
   "outputs": [],
   "source": [
    "def min3a(a : int, b : int, c : int) -> int:\n",
    "    '''retourne min(a,b,c)\n",
    "    -> version 1 return, 2 appels à min(a,b)\n",
    "    '''\n",
    "    if min(a, b) < c:\n",
    "        m = min(a, b)\n",
    "    else:\n",
    "        m = c\n",
    "    return m"
   ]
  },
  {
   "cell_type": "code",
   "execution_count": 34,
   "metadata": {
    "slideshow": {
     "slide_type": "fragment"
    }
   },
   "outputs": [],
   "source": [
    "def min3b(a : int, b : int, c : int) -> int :\n",
    "    '''retourne min(a,b,c)\n",
    "    -> version 1 return, 1 appel à min(a,b)\n",
    "    '''\n",
    "    m_ab = min(a, b)\n",
    "    if m_ab < c:\n",
    "        m = m_ab\n",
    "    else:\n",
    "        m = c\n",
    "    return m"
   ]
  },
  {
   "cell_type": "code",
   "execution_count": 35,
   "metadata": {
    "slideshow": {
     "slide_type": "fragment"
    }
   },
   "outputs": [],
   "source": [
    "def min3(a : int, b : int, c : int) -> int:\n",
    "    '''retourne min(a,b,c)\n",
    "    -> version fonctionnelle : 2 appels imbriqués \n",
    "    '''\n",
    "    return min(min(a, b), c)"
   ]
  },
  {
   "cell_type": "code",
   "execution_count": 36,
   "metadata": {
    "slideshow": {
     "slide_type": "subslide"
    }
   },
   "outputs": [
    {
     "name": "stdout",
     "output_type": "stream",
     "text": [
      "23\n",
      "23\n",
      "23\n"
     ]
    }
   ],
   "source": [
    "# des appels\n",
    "x = 23\n",
    "y = 44\n",
    "z = 27\n",
    "m_xyz = min3a(x, y, z)\n",
    "print(m_xyz)\n",
    "m_xyz = min3b(x, y, z)\n",
    "print(m_xyz)\n",
    "m_xyz = min3(x, y, z)\n",
    "print(m_xyz)"
   ]
  },
  {
   "cell_type": "markdown",
   "metadata": {
    "slideshow": {
     "slide_type": "slide"
    }
   },
   "source": [
    "### Une procédure d'affichage (E/S) \n",
    "\n",
    "Ecrire une fonction qui réalise efficacement l'affichage suivant :\n",
    "\n",
    "```\n",
    "Carcassonne est la préfecture du département 11\n",
    "------------------------------------------------\n",
    "Perpignan est la préfecture du département 66\n",
    "------------------------------------------------\n",
    "Montpellier est la préfecture du département 34\n",
    "------------------------------------------------\n",
    "Foix est la préfecture du département 09\n",
    "------------------------------------------------  \n",
    "```"
   ]
  },
  {
   "cell_type": "code",
   "execution_count": 37,
   "metadata": {
    "slideshow": {
     "slide_type": "fragment"
    }
   },
   "outputs": [
    {
     "name": "stdout",
     "output_type": "stream",
     "text": [
      "Carcassonne est la préfecture du département 11\n",
      "------------------------------------------------\n",
      "Perpignan est la préfecture du département 66\n",
      "------------------------------------------------\n",
      "Montpellier est la préfecture du département 34\n",
      "------------------------------------------------\n",
      "Foix est la préfecture du département 09\n",
      "------------------------------------------------\n"
     ]
    }
   ],
   "source": [
    "# Bourrin et pas satisfaisant\n",
    "print(\"Carcassonne est la préfecture du département 11\")\n",
    "print(\"------------------------------------------------\")\n",
    "print(\"Perpignan est la préfecture du département 66\")\n",
    "print(\"------------------------------------------------\")\n",
    "print(\"Montpellier est la préfecture du département 34\")\n",
    "print(\"------------------------------------------------\")\n",
    "print(\"Foix est la préfecture du département 09\")\n",
    "print(\"------------------------------------------------\")\n",
    "\n",
    "# On pourrait bien sûr mettre tout dans un seul print (avec des `\\n`)\n",
    "# ce qui n'est pas satisfaisant non plus ...\n"
   ]
  },
  {
   "cell_type": "code",
   "execution_count": 38,
   "metadata": {
    "slideshow": {
     "slide_type": "subslide"
    }
   },
   "outputs": [
    {
     "name": "stdout",
     "output_type": "stream",
     "text": [
      "Carca est la préfecture du département 11\n",
      "------------------------------------------------\n",
      "Perpi est la préfecture du département 66\n",
      "------------------------------------------------\n",
      "Montpel est la préfecture du département 34\n",
      "------------------------------------------------\n",
      "Foix est la préfecture du département 09\n",
      "------------------------------------------------\n"
     ]
    }
   ],
   "source": [
    "# Synthétique mais un peu pythonesque : une boucle sur des \"couples\" (tuple) \n",
    "for v,d in (\"Carca\", \"11\"), (\"Perpi\",\"66\"), (\"Montpel\", \"34\"), (\"Foix\", \"09\"):\n",
    "    print(v, \"est la préfecture du département\", d)\n",
    "    print(\"------------------------------------------------\")"
   ]
  },
  {
   "cell_type": "markdown",
   "metadata": {
    "slideshow": {
     "slide_type": "fragment"
    }
   },
   "source": [
    "- Le couple entre parenthèses `(\"Carca\", \"11\")` est un **tuple** python, notion sur laquelle nous reviendrons très vite  \n",
    "- En attendant, considérer ce tuple comme une constante composée de 2 valeurs de type string"
   ]
  },
  {
   "cell_type": "code",
   "execution_count": 39,
   "metadata": {
    "scrolled": true,
    "slideshow": {
     "slide_type": "subslide"
    }
   },
   "outputs": [
    {
     "name": "stdout",
     "output_type": "stream",
     "text": [
      "Carca est la préfecture du département 11\n",
      "------------------------------------------------\n",
      "Perpi est la préfecture du département 66\n",
      "------------------------------------------------\n",
      "Montpell est la préfecture du département 34\n",
      "------------------------------------------------\n",
      "Foix est la préfecture du département 09\n",
      "------------------------------------------------\n",
      "\n",
      "Carca est la préfecture du département 11\n",
      "------------------------------------------------\n",
      "Perpi est la préfecture du département 66\n",
      "------------------------------------------------\n",
      "Montpell est la préfecture du département 34\n",
      "------------------------------------------------\n",
      "Foix est la préfecture du département 09\n",
      "------------------------------------------------\n"
     ]
    }
   ],
   "source": [
    "# définition d'une fonction qui affiche ce qu'on veut comme on veut\n",
    "def afficher_pref_dpt(ville : str, num_dpt : str):\n",
    "    print(ville, \"est la préfecture du département\", num_dpt)\n",
    "    print(\"------------------------------------------------\")\n",
    "\n",
    "\n",
    " # 4 appels de cette fonction\n",
    "afficher_pref_dpt(\"Carca\", \"11\")\n",
    "afficher_pref_dpt(\"Perpi\", \"66\")\n",
    "afficher_pref_dpt(\"Montpell\", \"34\")\n",
    "afficher_pref_dpt(\"Foix\", \"09\")\n",
    "\n",
    "print()\n",
    "\n",
    "# 4 appels synthétiques de façon pythonesque  \n",
    "for (v,d) in (\"Carca\", \"11\"), (\"Perpi\",\"66\"), (\"Montpell\", \"34\"), (\"Foix\", \"09\"):\n",
    "    afficher_pref_dpt(v,d)\n",
    "\n"
   ]
  },
  {
   "cell_type": "markdown",
   "metadata": {
    "slideshow": {
     "slide_type": "fragment"
    }
   },
   "source": [
    "**Rmq.** \n",
    "\n",
    "- Pourquoi `afficher_pref_dept()` n'est pas une fonction excepté pour python ?\n"
   ]
  },
  {
   "cell_type": "raw",
   "metadata": {
    "slideshow": {
     "slide_type": "notes"
    }
   },
   "source": [
    "html généré avec :\n",
    "\n",
    "jupyter nbconvert --to html_embed --template toc2  1-fonctions.ipynb\n"
   ]
  },
  {
   "cell_type": "raw",
   "metadata": {
    "slideshow": {
     "slide_type": "notes"
    }
   },
   "source": [
    "slides générés avec :\n",
    "    \n",
    "jupyter nbconvert --to slides --SlidesExporter.reveal_scroll=True --SlidesExporter.reveal_transition=none --SlidesExporter.reveal_theme=white  1-fonctions.ipynb\n",
    "\n"
   ]
  }
 ],
 "metadata": {
  "celltoolbar": "Diaporama",
  "kernelspec": {
   "display_name": "Python 3",
   "language": "python",
   "name": "python3"
  },
  "language_info": {
   "codemirror_mode": {
    "name": "ipython",
    "version": 3
   },
   "file_extension": ".py",
   "mimetype": "text/x-python",
   "name": "python",
   "nbconvert_exporter": "python",
   "pygments_lexer": "ipython3",
   "version": "3.7.7"
  },
  "latex_envs": {
   "LaTeX_envs_menu_present": true,
   "autoclose": false,
   "autocomplete": true,
   "bibliofile": "biblio.bib",
   "cite_by": "apalike",
   "current_citInitial": 1,
   "eqLabelWithNumbers": true,
   "eqNumInitial": 1,
   "hotkeys": {
    "equation": "Ctrl-E",
    "itemize": "Ctrl-I"
   },
   "labels_anchors": false,
   "latex_user_defs": false,
   "report_style_numbering": true,
   "user_envs_cfg": false
  },
  "toc": {
   "nav_menu": {
    "height": "341px",
    "width": "341px"
   },
   "number_sections": true,
   "sideBar": false,
   "skip_h1_title": true,
   "title_cell": "Table des matières",
   "title_sidebar": "Plan",
   "toc_cell": true,
   "toc_position": {
    "height": "100px",
    "left": "2653px",
    "right": "20px",
    "top": "26px",
    "width": "165px"
   },
   "toc_section_display": true,
   "toc_window_display": false
  }
 },
 "nbformat": 4,
 "nbformat_minor": 4
}
